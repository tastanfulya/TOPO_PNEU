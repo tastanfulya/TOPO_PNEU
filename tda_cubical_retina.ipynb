{
 "cells": [
  {
   "cell_type": "code",
   "execution_count": 309,
   "id": "dc050273-3854-415d-b031-f9506096bb86",
   "metadata": {},
   "outputs": [
    {
     "name": "stderr",
     "output_type": "stream",
     "text": [
      "python(97590) MallocStackLogging: can't turn off malloc stack logging because it was not enabled.\n"
     ]
    },
    {
     "name": "stdout",
     "output_type": "stream",
     "text": [
      "Requirement already satisfied: medmnist in /opt/anaconda3/lib/python3.11/site-packages (3.0.2)\n",
      "Requirement already satisfied: giotto-tda in /opt/anaconda3/lib/python3.11/site-packages (0.6.2)\n",
      "Requirement already satisfied: scikit-learn in /opt/anaconda3/lib/python3.11/site-packages (1.3.2)\n",
      "Requirement already satisfied: matplotlib in /opt/anaconda3/lib/python3.11/site-packages (3.8.0)\n",
      "Requirement already satisfied: seaborn in /opt/anaconda3/lib/python3.11/site-packages (0.12.2)\n",
      "Requirement already satisfied: gudhi in /opt/anaconda3/lib/python3.11/site-packages (3.11.0)\n",
      "Requirement already satisfied: numpy in /opt/anaconda3/lib/python3.11/site-packages (from medmnist) (1.26.4)\n",
      "Requirement already satisfied: pandas in /opt/anaconda3/lib/python3.11/site-packages (from medmnist) (2.1.4)\n",
      "Requirement already satisfied: scikit-image in /opt/anaconda3/lib/python3.11/site-packages (from medmnist) (0.22.0)\n",
      "Requirement already satisfied: tqdm in /opt/anaconda3/lib/python3.11/site-packages (from medmnist) (4.65.0)\n",
      "Requirement already satisfied: Pillow in /opt/anaconda3/lib/python3.11/site-packages (from medmnist) (10.2.0)\n",
      "Requirement already satisfied: fire in /opt/anaconda3/lib/python3.11/site-packages (from medmnist) (0.7.0)\n",
      "Requirement already satisfied: torch in /opt/anaconda3/lib/python3.11/site-packages (from medmnist) (2.6.0)\n",
      "Requirement already satisfied: torchvision in /opt/anaconda3/lib/python3.11/site-packages (from medmnist) (0.21.0)\n",
      "Requirement already satisfied: scipy>=1.5.0 in /opt/anaconda3/lib/python3.11/site-packages (from giotto-tda) (1.11.4)\n",
      "Requirement already satisfied: joblib>=0.16.0 in /opt/anaconda3/lib/python3.11/site-packages (from giotto-tda) (1.2.0)\n",
      "Requirement already satisfied: giotto-ph>=0.2.1 in /opt/anaconda3/lib/python3.11/site-packages (from giotto-tda) (0.2.4)\n",
      "Requirement already satisfied: pyflagser>=0.4.3 in /opt/anaconda3/lib/python3.11/site-packages (from giotto-tda) (0.4.7)\n",
      "Requirement already satisfied: igraph>=0.9.8 in /opt/anaconda3/lib/python3.11/site-packages (from giotto-tda) (0.11.9)\n",
      "Requirement already satisfied: plotly>=4.8.2 in /opt/anaconda3/lib/python3.11/site-packages (from giotto-tda) (5.9.0)\n",
      "Requirement already satisfied: ipywidgets>=7.5.1 in /opt/anaconda3/lib/python3.11/site-packages (from giotto-tda) (7.6.5)\n",
      "Requirement already satisfied: threadpoolctl>=2.0.0 in /opt/anaconda3/lib/python3.11/site-packages (from scikit-learn) (2.2.0)\n",
      "Requirement already satisfied: contourpy>=1.0.1 in /opt/anaconda3/lib/python3.11/site-packages (from matplotlib) (1.2.0)\n",
      "Requirement already satisfied: cycler>=0.10 in /opt/anaconda3/lib/python3.11/site-packages (from matplotlib) (0.11.0)\n",
      "Requirement already satisfied: fonttools>=4.22.0 in /opt/anaconda3/lib/python3.11/site-packages (from matplotlib) (4.25.0)\n",
      "Requirement already satisfied: kiwisolver>=1.0.1 in /opt/anaconda3/lib/python3.11/site-packages (from matplotlib) (1.4.4)\n",
      "Requirement already satisfied: packaging>=20.0 in /opt/anaconda3/lib/python3.11/site-packages (from matplotlib) (23.1)\n",
      "Requirement already satisfied: pyparsing>=2.3.1 in /opt/anaconda3/lib/python3.11/site-packages (from matplotlib) (3.0.9)\n",
      "Requirement already satisfied: python-dateutil>=2.7 in /opt/anaconda3/lib/python3.11/site-packages (from matplotlib) (2.8.2)\n",
      "Requirement already satisfied: texttable>=1.6.2 in /opt/anaconda3/lib/python3.11/site-packages (from igraph>=0.9.8->giotto-tda) (1.7.0)\n",
      "Requirement already satisfied: ipykernel>=4.5.1 in /opt/anaconda3/lib/python3.11/site-packages (from ipywidgets>=7.5.1->giotto-tda) (6.28.0)\n",
      "Requirement already satisfied: ipython-genutils~=0.2.0 in /opt/anaconda3/lib/python3.11/site-packages (from ipywidgets>=7.5.1->giotto-tda) (0.2.0)\n",
      "Requirement already satisfied: traitlets>=4.3.1 in /opt/anaconda3/lib/python3.11/site-packages (from ipywidgets>=7.5.1->giotto-tda) (5.7.1)\n",
      "Requirement already satisfied: nbformat>=4.2.0 in /opt/anaconda3/lib/python3.11/site-packages (from ipywidgets>=7.5.1->giotto-tda) (5.9.2)\n",
      "Requirement already satisfied: widgetsnbextension~=3.5.0 in /opt/anaconda3/lib/python3.11/site-packages (from ipywidgets>=7.5.1->giotto-tda) (3.5.2)\n",
      "Requirement already satisfied: ipython>=4.0.0 in /opt/anaconda3/lib/python3.11/site-packages (from ipywidgets>=7.5.1->giotto-tda) (8.20.0)\n",
      "Requirement already satisfied: jupyterlab-widgets>=1.0.0 in /opt/anaconda3/lib/python3.11/site-packages (from ipywidgets>=7.5.1->giotto-tda) (3.0.9)\n",
      "Requirement already satisfied: pytz>=2020.1 in /opt/anaconda3/lib/python3.11/site-packages (from pandas->medmnist) (2023.3.post1)\n",
      "Requirement already satisfied: tzdata>=2022.1 in /opt/anaconda3/lib/python3.11/site-packages (from pandas->medmnist) (2023.3)\n",
      "Requirement already satisfied: tenacity>=6.2.0 in /opt/anaconda3/lib/python3.11/site-packages (from plotly>=4.8.2->giotto-tda) (8.2.2)\n",
      "Requirement already satisfied: six>=1.5 in /opt/anaconda3/lib/python3.11/site-packages (from python-dateutil>=2.7->matplotlib) (1.16.0)\n",
      "Requirement already satisfied: termcolor in /opt/anaconda3/lib/python3.11/site-packages (from fire->medmnist) (3.1.0)\n",
      "Requirement already satisfied: networkx>=2.8 in /opt/anaconda3/lib/python3.11/site-packages (from scikit-image->medmnist) (3.1)\n",
      "Requirement already satisfied: imageio>=2.27 in /opt/anaconda3/lib/python3.11/site-packages (from scikit-image->medmnist) (2.33.1)\n",
      "Requirement already satisfied: tifffile>=2022.8.12 in /opt/anaconda3/lib/python3.11/site-packages (from scikit-image->medmnist) (2023.4.12)\n",
      "Requirement already satisfied: lazy_loader>=0.3 in /opt/anaconda3/lib/python3.11/site-packages (from scikit-image->medmnist) (0.3)\n",
      "Requirement already satisfied: filelock in /opt/anaconda3/lib/python3.11/site-packages (from torch->medmnist) (3.13.1)\n",
      "Requirement already satisfied: typing-extensions>=4.10.0 in /opt/anaconda3/lib/python3.11/site-packages (from torch->medmnist) (4.12.2)\n",
      "Requirement already satisfied: jinja2 in /opt/anaconda3/lib/python3.11/site-packages (from torch->medmnist) (3.1.3)\n",
      "Requirement already satisfied: fsspec in /opt/anaconda3/lib/python3.11/site-packages (from torch->medmnist) (2023.10.0)\n",
      "Requirement already satisfied: sympy==1.13.1 in /opt/anaconda3/lib/python3.11/site-packages (from torch->medmnist) (1.13.1)\n",
      "Requirement already satisfied: mpmath<1.4,>=1.1.0 in /opt/anaconda3/lib/python3.11/site-packages (from sympy==1.13.1->torch->medmnist) (1.3.0)\n",
      "Requirement already satisfied: appnope in /opt/anaconda3/lib/python3.11/site-packages (from ipykernel>=4.5.1->ipywidgets>=7.5.1->giotto-tda) (0.1.2)\n",
      "Requirement already satisfied: comm>=0.1.1 in /opt/anaconda3/lib/python3.11/site-packages (from ipykernel>=4.5.1->ipywidgets>=7.5.1->giotto-tda) (0.1.2)\n",
      "Requirement already satisfied: debugpy>=1.6.5 in /opt/anaconda3/lib/python3.11/site-packages (from ipykernel>=4.5.1->ipywidgets>=7.5.1->giotto-tda) (1.6.7)\n",
      "Requirement already satisfied: jupyter-client>=6.1.12 in /opt/anaconda3/lib/python3.11/site-packages (from ipykernel>=4.5.1->ipywidgets>=7.5.1->giotto-tda) (8.6.0)\n",
      "Requirement already satisfied: jupyter-core!=5.0.*,>=4.12 in /opt/anaconda3/lib/python3.11/site-packages (from ipykernel>=4.5.1->ipywidgets>=7.5.1->giotto-tda) (5.5.0)\n",
      "Requirement already satisfied: matplotlib-inline>=0.1 in /opt/anaconda3/lib/python3.11/site-packages (from ipykernel>=4.5.1->ipywidgets>=7.5.1->giotto-tda) (0.1.6)\n",
      "Requirement already satisfied: nest-asyncio in /opt/anaconda3/lib/python3.11/site-packages (from ipykernel>=4.5.1->ipywidgets>=7.5.1->giotto-tda) (1.6.0)\n",
      "Requirement already satisfied: psutil in /opt/anaconda3/lib/python3.11/site-packages (from ipykernel>=4.5.1->ipywidgets>=7.5.1->giotto-tda) (5.9.0)\n",
      "Requirement already satisfied: pyzmq>=24 in /opt/anaconda3/lib/python3.11/site-packages (from ipykernel>=4.5.1->ipywidgets>=7.5.1->giotto-tda) (25.1.2)\n",
      "Requirement already satisfied: tornado>=6.1 in /opt/anaconda3/lib/python3.11/site-packages (from ipykernel>=4.5.1->ipywidgets>=7.5.1->giotto-tda) (6.3.3)\n",
      "Requirement already satisfied: decorator in /opt/anaconda3/lib/python3.11/site-packages (from ipython>=4.0.0->ipywidgets>=7.5.1->giotto-tda) (5.1.1)\n",
      "Requirement already satisfied: jedi>=0.16 in /opt/anaconda3/lib/python3.11/site-packages (from ipython>=4.0.0->ipywidgets>=7.5.1->giotto-tda) (0.18.1)\n",
      "Requirement already satisfied: prompt-toolkit<3.1.0,>=3.0.41 in /opt/anaconda3/lib/python3.11/site-packages (from ipython>=4.0.0->ipywidgets>=7.5.1->giotto-tda) (3.0.43)\n",
      "Requirement already satisfied: pygments>=2.4.0 in /opt/anaconda3/lib/python3.11/site-packages (from ipython>=4.0.0->ipywidgets>=7.5.1->giotto-tda) (2.15.1)\n",
      "Requirement already satisfied: stack-data in /opt/anaconda3/lib/python3.11/site-packages (from ipython>=4.0.0->ipywidgets>=7.5.1->giotto-tda) (0.2.0)\n",
      "Requirement already satisfied: pexpect>4.3 in /opt/anaconda3/lib/python3.11/site-packages (from ipython>=4.0.0->ipywidgets>=7.5.1->giotto-tda) (4.8.0)\n",
      "Requirement already satisfied: fastjsonschema in /opt/anaconda3/lib/python3.11/site-packages (from nbformat>=4.2.0->ipywidgets>=7.5.1->giotto-tda) (2.16.2)\n",
      "Requirement already satisfied: jsonschema>=2.6 in /opt/anaconda3/lib/python3.11/site-packages (from nbformat>=4.2.0->ipywidgets>=7.5.1->giotto-tda) (4.19.2)\n",
      "Requirement already satisfied: notebook>=4.4.1 in /opt/anaconda3/lib/python3.11/site-packages (from widgetsnbextension~=3.5.0->ipywidgets>=7.5.1->giotto-tda) (7.0.8)\n",
      "Requirement already satisfied: MarkupSafe>=2.0 in /opt/anaconda3/lib/python3.11/site-packages (from jinja2->torch->medmnist) (2.1.3)\n",
      "Requirement already satisfied: parso<0.9.0,>=0.8.0 in /opt/anaconda3/lib/python3.11/site-packages (from jedi>=0.16->ipython>=4.0.0->ipywidgets>=7.5.1->giotto-tda) (0.8.3)\n",
      "Requirement already satisfied: attrs>=22.2.0 in /opt/anaconda3/lib/python3.11/site-packages (from jsonschema>=2.6->nbformat>=4.2.0->ipywidgets>=7.5.1->giotto-tda) (23.1.0)\n",
      "Requirement already satisfied: jsonschema-specifications>=2023.03.6 in /opt/anaconda3/lib/python3.11/site-packages (from jsonschema>=2.6->nbformat>=4.2.0->ipywidgets>=7.5.1->giotto-tda) (2023.7.1)\n",
      "Requirement already satisfied: referencing>=0.28.4 in /opt/anaconda3/lib/python3.11/site-packages (from jsonschema>=2.6->nbformat>=4.2.0->ipywidgets>=7.5.1->giotto-tda) (0.30.2)\n",
      "Requirement already satisfied: rpds-py>=0.7.1 in /opt/anaconda3/lib/python3.11/site-packages (from jsonschema>=2.6->nbformat>=4.2.0->ipywidgets>=7.5.1->giotto-tda) (0.10.6)\n",
      "Requirement already satisfied: platformdirs>=2.5 in /opt/anaconda3/lib/python3.11/site-packages (from jupyter-core!=5.0.*,>=4.12->ipykernel>=4.5.1->ipywidgets>=7.5.1->giotto-tda) (3.10.0)\n",
      "Requirement already satisfied: jupyter-server<3,>=2.4.0 in /opt/anaconda3/lib/python3.11/site-packages (from notebook>=4.4.1->widgetsnbextension~=3.5.0->ipywidgets>=7.5.1->giotto-tda) (2.10.0)\n",
      "Requirement already satisfied: jupyterlab-server<3,>=2.22.1 in /opt/anaconda3/lib/python3.11/site-packages (from notebook>=4.4.1->widgetsnbextension~=3.5.0->ipywidgets>=7.5.1->giotto-tda) (2.25.1)\n",
      "Requirement already satisfied: jupyterlab<4.1,>=4.0.2 in /opt/anaconda3/lib/python3.11/site-packages (from notebook>=4.4.1->widgetsnbextension~=3.5.0->ipywidgets>=7.5.1->giotto-tda) (4.0.11)\n",
      "Requirement already satisfied: notebook-shim<0.3,>=0.2 in /opt/anaconda3/lib/python3.11/site-packages (from notebook>=4.4.1->widgetsnbextension~=3.5.0->ipywidgets>=7.5.1->giotto-tda) (0.2.3)\n",
      "Requirement already satisfied: ptyprocess>=0.5 in /opt/anaconda3/lib/python3.11/site-packages (from pexpect>4.3->ipython>=4.0.0->ipywidgets>=7.5.1->giotto-tda) (0.7.0)\n",
      "Requirement already satisfied: wcwidth in /opt/anaconda3/lib/python3.11/site-packages (from prompt-toolkit<3.1.0,>=3.0.41->ipython>=4.0.0->ipywidgets>=7.5.1->giotto-tda) (0.2.5)\n",
      "Requirement already satisfied: executing in /opt/anaconda3/lib/python3.11/site-packages (from stack-data->ipython>=4.0.0->ipywidgets>=7.5.1->giotto-tda) (0.8.3)\n",
      "Requirement already satisfied: asttokens in /opt/anaconda3/lib/python3.11/site-packages (from stack-data->ipython>=4.0.0->ipywidgets>=7.5.1->giotto-tda) (2.0.5)\n",
      "Requirement already satisfied: pure-eval in /opt/anaconda3/lib/python3.11/site-packages (from stack-data->ipython>=4.0.0->ipywidgets>=7.5.1->giotto-tda) (0.2.2)\n",
      "Requirement already satisfied: anyio>=3.1.0 in /opt/anaconda3/lib/python3.11/site-packages (from jupyter-server<3,>=2.4.0->notebook>=4.4.1->widgetsnbextension~=3.5.0->ipywidgets>=7.5.1->giotto-tda) (4.2.0)\n",
      "Requirement already satisfied: argon2-cffi in /opt/anaconda3/lib/python3.11/site-packages (from jupyter-server<3,>=2.4.0->notebook>=4.4.1->widgetsnbextension~=3.5.0->ipywidgets>=7.5.1->giotto-tda) (21.3.0)\n",
      "Requirement already satisfied: jupyter-events>=0.6.0 in /opt/anaconda3/lib/python3.11/site-packages (from jupyter-server<3,>=2.4.0->notebook>=4.4.1->widgetsnbextension~=3.5.0->ipywidgets>=7.5.1->giotto-tda) (0.8.0)\n",
      "Requirement already satisfied: jupyter-server-terminals in /opt/anaconda3/lib/python3.11/site-packages (from jupyter-server<3,>=2.4.0->notebook>=4.4.1->widgetsnbextension~=3.5.0->ipywidgets>=7.5.1->giotto-tda) (0.4.4)\n",
      "Requirement already satisfied: nbconvert>=6.4.4 in /opt/anaconda3/lib/python3.11/site-packages (from jupyter-server<3,>=2.4.0->notebook>=4.4.1->widgetsnbextension~=3.5.0->ipywidgets>=7.5.1->giotto-tda) (7.10.0)\n",
      "Requirement already satisfied: overrides in /opt/anaconda3/lib/python3.11/site-packages (from jupyter-server<3,>=2.4.0->notebook>=4.4.1->widgetsnbextension~=3.5.0->ipywidgets>=7.5.1->giotto-tda) (7.4.0)\n",
      "Requirement already satisfied: prometheus-client in /opt/anaconda3/lib/python3.11/site-packages (from jupyter-server<3,>=2.4.0->notebook>=4.4.1->widgetsnbextension~=3.5.0->ipywidgets>=7.5.1->giotto-tda) (0.14.1)\n",
      "Requirement already satisfied: send2trash>=1.8.2 in /opt/anaconda3/lib/python3.11/site-packages (from jupyter-server<3,>=2.4.0->notebook>=4.4.1->widgetsnbextension~=3.5.0->ipywidgets>=7.5.1->giotto-tda) (1.8.2)\n",
      "Requirement already satisfied: terminado>=0.8.3 in /opt/anaconda3/lib/python3.11/site-packages (from jupyter-server<3,>=2.4.0->notebook>=4.4.1->widgetsnbextension~=3.5.0->ipywidgets>=7.5.1->giotto-tda) (0.17.1)\n",
      "Requirement already satisfied: websocket-client in /opt/anaconda3/lib/python3.11/site-packages (from jupyter-server<3,>=2.4.0->notebook>=4.4.1->widgetsnbextension~=3.5.0->ipywidgets>=7.5.1->giotto-tda) (0.58.0)\n",
      "Requirement already satisfied: async-lru>=1.0.0 in /opt/anaconda3/lib/python3.11/site-packages (from jupyterlab<4.1,>=4.0.2->notebook>=4.4.1->widgetsnbextension~=3.5.0->ipywidgets>=7.5.1->giotto-tda) (2.0.4)\n",
      "Requirement already satisfied: jupyter-lsp>=2.0.0 in /opt/anaconda3/lib/python3.11/site-packages (from jupyterlab<4.1,>=4.0.2->notebook>=4.4.1->widgetsnbextension~=3.5.0->ipywidgets>=7.5.1->giotto-tda) (2.2.0)\n",
      "Requirement already satisfied: babel>=2.10 in /opt/anaconda3/lib/python3.11/site-packages (from jupyterlab-server<3,>=2.22.1->notebook>=4.4.1->widgetsnbextension~=3.5.0->ipywidgets>=7.5.1->giotto-tda) (2.11.0)\n",
      "Requirement already satisfied: json5>=0.9.0 in /opt/anaconda3/lib/python3.11/site-packages (from jupyterlab-server<3,>=2.22.1->notebook>=4.4.1->widgetsnbextension~=3.5.0->ipywidgets>=7.5.1->giotto-tda) (0.9.6)\n",
      "Requirement already satisfied: requests>=2.31 in /opt/anaconda3/lib/python3.11/site-packages (from jupyterlab-server<3,>=2.22.1->notebook>=4.4.1->widgetsnbextension~=3.5.0->ipywidgets>=7.5.1->giotto-tda) (2.31.0)\n",
      "Requirement already satisfied: idna>=2.8 in /opt/anaconda3/lib/python3.11/site-packages (from anyio>=3.1.0->jupyter-server<3,>=2.4.0->notebook>=4.4.1->widgetsnbextension~=3.5.0->ipywidgets>=7.5.1->giotto-tda) (3.4)\n",
      "Requirement already satisfied: sniffio>=1.1 in /opt/anaconda3/lib/python3.11/site-packages (from anyio>=3.1.0->jupyter-server<3,>=2.4.0->notebook>=4.4.1->widgetsnbextension~=3.5.0->ipywidgets>=7.5.1->giotto-tda) (1.3.0)\n",
      "Requirement already satisfied: python-json-logger>=2.0.4 in /opt/anaconda3/lib/python3.11/site-packages (from jupyter-events>=0.6.0->jupyter-server<3,>=2.4.0->notebook>=4.4.1->widgetsnbextension~=3.5.0->ipywidgets>=7.5.1->giotto-tda) (2.0.7)\n",
      "Requirement already satisfied: pyyaml>=5.3 in /opt/anaconda3/lib/python3.11/site-packages (from jupyter-events>=0.6.0->jupyter-server<3,>=2.4.0->notebook>=4.4.1->widgetsnbextension~=3.5.0->ipywidgets>=7.5.1->giotto-tda) (6.0.1)\n",
      "Requirement already satisfied: rfc3339-validator in /opt/anaconda3/lib/python3.11/site-packages (from jupyter-events>=0.6.0->jupyter-server<3,>=2.4.0->notebook>=4.4.1->widgetsnbextension~=3.5.0->ipywidgets>=7.5.1->giotto-tda) (0.1.4)\n",
      "Requirement already satisfied: rfc3986-validator>=0.1.1 in /opt/anaconda3/lib/python3.11/site-packages (from jupyter-events>=0.6.0->jupyter-server<3,>=2.4.0->notebook>=4.4.1->widgetsnbextension~=3.5.0->ipywidgets>=7.5.1->giotto-tda) (0.1.1)\n",
      "Requirement already satisfied: beautifulsoup4 in /opt/anaconda3/lib/python3.11/site-packages (from nbconvert>=6.4.4->jupyter-server<3,>=2.4.0->notebook>=4.4.1->widgetsnbextension~=3.5.0->ipywidgets>=7.5.1->giotto-tda) (4.12.2)\n",
      "Requirement already satisfied: bleach!=5.0.0 in /opt/anaconda3/lib/python3.11/site-packages (from nbconvert>=6.4.4->jupyter-server<3,>=2.4.0->notebook>=4.4.1->widgetsnbextension~=3.5.0->ipywidgets>=7.5.1->giotto-tda) (4.1.0)\n",
      "Requirement already satisfied: defusedxml in /opt/anaconda3/lib/python3.11/site-packages (from nbconvert>=6.4.4->jupyter-server<3,>=2.4.0->notebook>=4.4.1->widgetsnbextension~=3.5.0->ipywidgets>=7.5.1->giotto-tda) (0.7.1)\n",
      "Requirement already satisfied: jupyterlab-pygments in /opt/anaconda3/lib/python3.11/site-packages (from nbconvert>=6.4.4->jupyter-server<3,>=2.4.0->notebook>=4.4.1->widgetsnbextension~=3.5.0->ipywidgets>=7.5.1->giotto-tda) (0.1.2)\n",
      "Requirement already satisfied: mistune<4,>=2.0.3 in /opt/anaconda3/lib/python3.11/site-packages (from nbconvert>=6.4.4->jupyter-server<3,>=2.4.0->notebook>=4.4.1->widgetsnbextension~=3.5.0->ipywidgets>=7.5.1->giotto-tda) (2.0.4)\n",
      "Requirement already satisfied: nbclient>=0.5.0 in /opt/anaconda3/lib/python3.11/site-packages (from nbconvert>=6.4.4->jupyter-server<3,>=2.4.0->notebook>=4.4.1->widgetsnbextension~=3.5.0->ipywidgets>=7.5.1->giotto-tda) (0.8.0)\n",
      "Requirement already satisfied: pandocfilters>=1.4.1 in /opt/anaconda3/lib/python3.11/site-packages (from nbconvert>=6.4.4->jupyter-server<3,>=2.4.0->notebook>=4.4.1->widgetsnbextension~=3.5.0->ipywidgets>=7.5.1->giotto-tda) (1.5.0)\n",
      "Requirement already satisfied: tinycss2 in /opt/anaconda3/lib/python3.11/site-packages (from nbconvert>=6.4.4->jupyter-server<3,>=2.4.0->notebook>=4.4.1->widgetsnbextension~=3.5.0->ipywidgets>=7.5.1->giotto-tda) (1.2.1)\n",
      "Requirement already satisfied: charset-normalizer<4,>=2 in /opt/anaconda3/lib/python3.11/site-packages (from requests>=2.31->jupyterlab-server<3,>=2.22.1->notebook>=4.4.1->widgetsnbextension~=3.5.0->ipywidgets>=7.5.1->giotto-tda) (2.0.4)\n",
      "Requirement already satisfied: urllib3<3,>=1.21.1 in /opt/anaconda3/lib/python3.11/site-packages (from requests>=2.31->jupyterlab-server<3,>=2.22.1->notebook>=4.4.1->widgetsnbextension~=3.5.0->ipywidgets>=7.5.1->giotto-tda) (2.0.7)\n",
      "Requirement already satisfied: certifi>=2017.4.17 in /opt/anaconda3/lib/python3.11/site-packages (from requests>=2.31->jupyterlab-server<3,>=2.22.1->notebook>=4.4.1->widgetsnbextension~=3.5.0->ipywidgets>=7.5.1->giotto-tda) (2024.2.2)\n",
      "Requirement already satisfied: argon2-cffi-bindings in /opt/anaconda3/lib/python3.11/site-packages (from argon2-cffi->jupyter-server<3,>=2.4.0->notebook>=4.4.1->widgetsnbextension~=3.5.0->ipywidgets>=7.5.1->giotto-tda) (21.2.0)\n",
      "Requirement already satisfied: webencodings in /opt/anaconda3/lib/python3.11/site-packages (from bleach!=5.0.0->nbconvert>=6.4.4->jupyter-server<3,>=2.4.0->notebook>=4.4.1->widgetsnbextension~=3.5.0->ipywidgets>=7.5.1->giotto-tda) (0.5.1)\n",
      "Requirement already satisfied: fqdn in /opt/anaconda3/lib/python3.11/site-packages (from jsonschema[format-nongpl]>=4.18.0->jupyter-events>=0.6.0->jupyter-server<3,>=2.4.0->notebook>=4.4.1->widgetsnbextension~=3.5.0->ipywidgets>=7.5.1->giotto-tda) (1.5.1)\n",
      "Requirement already satisfied: isoduration in /opt/anaconda3/lib/python3.11/site-packages (from jsonschema[format-nongpl]>=4.18.0->jupyter-events>=0.6.0->jupyter-server<3,>=2.4.0->notebook>=4.4.1->widgetsnbextension~=3.5.0->ipywidgets>=7.5.1->giotto-tda) (20.11.0)\n",
      "Requirement already satisfied: jsonpointer>1.13 in /opt/anaconda3/lib/python3.11/site-packages (from jsonschema[format-nongpl]>=4.18.0->jupyter-events>=0.6.0->jupyter-server<3,>=2.4.0->notebook>=4.4.1->widgetsnbextension~=3.5.0->ipywidgets>=7.5.1->giotto-tda) (2.1)\n",
      "Requirement already satisfied: uri-template in /opt/anaconda3/lib/python3.11/site-packages (from jsonschema[format-nongpl]>=4.18.0->jupyter-events>=0.6.0->jupyter-server<3,>=2.4.0->notebook>=4.4.1->widgetsnbextension~=3.5.0->ipywidgets>=7.5.1->giotto-tda) (1.3.0)\n",
      "Requirement already satisfied: webcolors>=1.11 in /opt/anaconda3/lib/python3.11/site-packages (from jsonschema[format-nongpl]>=4.18.0->jupyter-events>=0.6.0->jupyter-server<3,>=2.4.0->notebook>=4.4.1->widgetsnbextension~=3.5.0->ipywidgets>=7.5.1->giotto-tda) (24.11.1)\n",
      "Requirement already satisfied: cffi>=1.0.1 in /opt/anaconda3/lib/python3.11/site-packages (from argon2-cffi-bindings->argon2-cffi->jupyter-server<3,>=2.4.0->notebook>=4.4.1->widgetsnbextension~=3.5.0->ipywidgets>=7.5.1->giotto-tda) (1.16.0)\n",
      "Requirement already satisfied: soupsieve>1.2 in /opt/anaconda3/lib/python3.11/site-packages (from beautifulsoup4->nbconvert>=6.4.4->jupyter-server<3,>=2.4.0->notebook>=4.4.1->widgetsnbextension~=3.5.0->ipywidgets>=7.5.1->giotto-tda) (2.5)\n",
      "Requirement already satisfied: pycparser in /opt/anaconda3/lib/python3.11/site-packages (from cffi>=1.0.1->argon2-cffi-bindings->argon2-cffi->jupyter-server<3,>=2.4.0->notebook>=4.4.1->widgetsnbextension~=3.5.0->ipywidgets>=7.5.1->giotto-tda) (2.21)\n",
      "Requirement already satisfied: arrow>=0.15.0 in /opt/anaconda3/lib/python3.11/site-packages (from isoduration->jsonschema[format-nongpl]>=4.18.0->jupyter-events>=0.6.0->jupyter-server<3,>=2.4.0->notebook>=4.4.1->widgetsnbextension~=3.5.0->ipywidgets>=7.5.1->giotto-tda) (1.2.3)\n"
     ]
    }
   ],
   "source": [
    "!pip install medmnist giotto-tda scikit-learn matplotlib seaborn gudhi"
   ]
  },
  {
   "cell_type": "code",
   "execution_count": 310,
   "id": "30bf59d8-1e07-419f-9d8a-6661bd319ad7",
   "metadata": {},
   "outputs": [],
   "source": [
    "# Libraries\n",
    "import numpy as np\n",
    "import matplotlib.pyplot as plt\n",
    "import medmnist\n",
    "import cv2\n",
    "import skimage\n",
    "import shap\n",
    "import pandas as pd\n",
    "import xgboost as xgb\n",
    "\n",
    "import gudhi as gd\n",
    "import seaborn as sns\n",
    "\n",
    "from sklearn.utils.class_weight import compute_class_weight\n",
    "from sklearn.feature_selection import SelectFromModel\n",
    "from sklearn.ensemble import RandomForestClassifier\n",
    "from sklearn.linear_model import LogisticRegression\n",
    "from sklearn.model_selection import train_test_split\n",
    "from xgboost import XGBClassifier\n",
    "from xgboost import plot_importance\n",
    "from sklearn.metrics import classification_report, roc_auc_score, ConfusionMatrixDisplay, accuracy_score, f1_score\n",
    "from sklearn.model_selection import train_test_split\n",
    "\n",
    "\n",
    "\n",
    "from gtda.homology import CubicalPersistence\n",
    "from gtda.diagrams import PersistenceImage\n",
    "from gtda.diagrams import BettiCurve\n",
    "from gtda.plotting import plot_diagram\n",
    "from medmnist import RetinaMNIST\n",
    "\n",
    "from skimage import feature\n",
    "import skimage.transform as tf\n",
    "\n",
    "# Set random seed\n",
    "#np.random.seed(42)"
   ]
  },
  {
   "cell_type": "code",
   "execution_count": 311,
   "id": "0f05b6aa-049a-4d15-b3f0-5052c5424c97",
   "metadata": {},
   "outputs": [
    {
     "name": "stdout",
     "output_type": "stream",
     "text": [
      "Train: (864, 64, 64, 3) Test: (216, 64, 64, 3)\n",
      "Train Red: (864, 64, 64) Test Red: (216, 64, 64)\n",
      "Train Green: (864, 64, 64) Test Green: (216, 64, 64)\n",
      "Train Blue: (864, 64, 64) Test Blue: (216, 64, 64)\n",
      "Train Gray: (864, 64, 64) Test Gray: (216, 64, 64)\n"
     ]
    }
   ],
   "source": [
    "# Load RetinaMNIST dataset (2D colored retina images)\n",
    "\n",
    "data = RetinaMNIST(split='train', download=True, size=64)\n",
    "x_train, y_train = data.imgs, data.labels\n",
    "\n",
    "\n",
    "# First split only once on full RGB images\n",
    "X_train, X_test, y_train, y_test = train_test_split(\n",
    "    x_train, y_train, test_size=0.2, random_state=42, stratify=y_train\n",
    ")\n",
    "\n",
    "print(\"Train:\", X_train.shape, \"Test:\", X_test.shape)\n",
    "\n",
    "# Then extract color channels from the split datasets\n",
    "X_R_train, X_R_test = X_train[..., 0], X_test[..., 0]\n",
    "X_G_train, X_G_test = X_train[..., 1], X_test[..., 1]\n",
    "X_B_train, X_B_test = X_train[..., 2], X_test[..., 2]\n",
    "X_gray_train, X_gray_test = X_train.mean(axis=-1), X_test.mean(axis=-1)\n",
    "\n",
    "print(\"Train Red:\", X_R_train.shape, \"Test Red:\", X_R_test.shape)\n",
    "print(\"Train Green:\", X_G_train.shape, \"Test Green:\", X_G_test.shape)\n",
    "print(\"Train Blue:\", X_B_train.shape, \"Test Blue:\", X_B_test.shape)\n",
    "print(\"Train Gray:\", X_gray_train.shape, \"Test Gray:\", X_gray_test.shape)"
   ]
  },
  {
   "cell_type": "code",
   "execution_count": 312,
   "id": "1c8f2055-e425-4d9e-ba0c-8ef1d9fb53a5",
   "metadata": {},
   "outputs": [
    {
     "data": {
      "image/png": "[encoded data removed]",
      "text/plain": [
       "<Figure size 640x480 with 1 Axes>"
      ]
     },
     "metadata": {},
     "output_type": "display_data"
    },
    {
     "data": {
      "image/png": "[encoded data removed]",
      "text/plain": [
       "<Figure size 640x480 with 1 Axes>"
      ]
     },
     "metadata": {},
     "output_type": "display_data"
    },
    {
     "data": {
      "image/png": "[encoded data removed]",
      "text/plain": [
       "<Figure size 640x480 with 1 Axes>"
      ]
     },
     "metadata": {},
     "output_type": "display_data"
    },
    {
     "data": {
      "image/png": "[encoded data removed]",
      "text/plain": [
       "<Figure size 640x480 with 1 Axes>"
      ]
     },
     "metadata": {},
     "output_type": "display_data"
    },
    {
     "data": {
      "image/png": "[encoded data removed]",
      "text/plain": [
       "<Figure size 640x480 with 1 Axes>"
      ]
     },
     "metadata": {},
     "output_type": "display_data"
    },
    {
     "data": {
      "image/png": "[encoded data removed]",
      "text/plain": [
       "<Figure size 1000x400 with 9 Axes>"
      ]
     },
     "metadata": {},
     "output_type": "display_data"
    }
   ],
   "source": [
    "# Choose a single ultrasound image sample from the train set\n",
    "sample = X_train[0]\n",
    "sample_R = X_R_train[0]\n",
    "sample_G = X_G_train[0]\n",
    "sample_B = X_B_train[0]\n",
    "sample_gray = X_gray_train[0]\n",
    "\n",
    "#Plot the sample images\n",
    "\n",
    "plt.imshow(sample)\n",
    "plt.title(f\"Label: {y_train[0][0]}\")\n",
    "plt.axis('off')\n",
    "plt.show()\n",
    "\n",
    "plt.imshow(sample_R, cmap=\"Reds\")\n",
    "plt.title(f\"Label: {y_train[0][0]}\")\n",
    "plt.axis('off')\n",
    "plt.show()\n",
    "\n",
    "plt.imshow(sample_G, cmap=\"Greens\")\n",
    "plt.title(f\"Label: {y_train[0][0]}\")\n",
    "plt.axis('off')\n",
    "plt.show()\n",
    "\n",
    "plt.imshow(sample_B, cmap=\"Blues\")\n",
    "plt.title(f\"Label: {y_train[0][0]}\")\n",
    "plt.axis('off')\n",
    "plt.show()\n",
    "\n",
    "plt.imshow(sample_gray, cmap='gray')\n",
    "plt.title(f\"Label: {y_train[0][0]}\")\n",
    "plt.axis('off')\n",
    "plt.show()\n",
    "#Plot more samples from the train set\n",
    "\n",
    "plt.figure(figsize=(10, 4))\n",
    "for i in range(9):\n",
    "    plt.subplot(3, 3, i + 1)\n",
    "    plt.imshow(X_train[i])\n",
    "    plt.title(f\"Label: {y_train[i][0]}\")\n",
    "    plt.axis('off')\n",
    "plt.suptitle(\"RetinaMNIST Images\", fontsize=14)\n",
    "plt.tight_layout()\n",
    "plt.show()"
   ]
  },
  {
   "cell_type": "code",
   "execution_count": 313,
   "id": "6c88ebac-ed2f-48af-b97e-f242d42e79a7",
   "metadata": {},
   "outputs": [],
   "source": [
    "# Store Cubical Persistence\n",
    "\n",
    "cp = CubicalPersistence(homology_dimensions=[0, 1], coeff=3, n_jobs=-1)\n",
    "cp0 = CubicalPersistence(homology_dimensions=[0], coeff=3, n_jobs=-1)\n",
    "cp1 = CubicalPersistence(homology_dimensions=[1], coeff=3, n_jobs=-1)"
   ]
  },
  {
   "cell_type": "code",
   "execution_count": 314,
   "id": "72cd4a3e-50b9-4844-b959-50ee6a06bfc0",
   "metadata": {},
   "outputs": [
    {
     "name": "stderr",
     "output_type": "stream",
     "text": [
      "python(97598) MallocStackLogging: can't turn off malloc stack logging because it was not enabled.\n",
      "python(97599) MallocStackLogging: can't turn off malloc stack logging because it was not enabled.\n",
      "python(97600) MallocStackLogging: can't turn off malloc stack logging because it was not enabled.\n",
      "python(97601) MallocStackLogging: can't turn off malloc stack logging because it was not enabled.\n",
      "python(97602) MallocStackLogging: can't turn off malloc stack logging because it was not enabled.\n",
      "python(97603) MallocStackLogging: can't turn off malloc stack logging because it was not enabled.\n",
      "python(97604) MallocStackLogging: can't turn off malloc stack logging because it was not enabled.\n",
      "python(97605) MallocStackLogging: can't turn off malloc stack logging because it was not enabled.\n"
     ]
    }
   ],
   "source": [
    "# Persistent Diagrams\n",
    "diagrams_R = cp.fit_transform(X_R_train)\n",
    "diagrams_test_R = cp.fit_transform(X_R_test)\n",
    "\n",
    "diagrams_G = cp.fit_transform(X_G_train)\n",
    "diagrams_test_G = cp.fit_transform(X_G_test)\n",
    "\n",
    "diagrams_B = cp.fit_transform(X_B_train)\n",
    "diagrams_test_B = cp.fit_transform(X_B_test)\n",
    "\n",
    "diagrams_gray = cp.fit_transform(X_gray_train)\n",
    "diagrams_test_gray = cp.fit_transform(X_gray_test)\n",
    "\n",
    "diagrams_RGB = cp.fit_transform(X_train)\n",
    "diagrams_test_RGB = cp.fit_transform(X_test)\n",
    "\n",
    "diagram_sample = cp.fit_transform(sample[None, :, :])"
   ]
  },
  {
   "cell_type": "code",
   "execution_count": 315,
   "id": "2cc89be4-3755-44eb-aec7-5aab6b5400b2",
   "metadata": {},
   "outputs": [
    {
     "data": {
      "application/vnd.plotly.v1+json": {
       "config": {
        "plotlyServerURL": "https://plot.ly"
       },
       "data": [
        {
         "hoverinfo": "none",
         "line": {
          "color": "black",
          "dash": "dash",
          "width": 1
         },
         "mode": "lines",
         "showlegend": false,
         "type": "scatter",
         "x": [
          -2.1,
          107.1
         ],
         "y": [
          -2.1,
          107.1
         ]
        },
        {
         "hoverinfo": "text",
         "hovertext": [
          "(9.0, 13.0)",
          "(42.0, 43.0)",
          "(9.0, 10.0), multiplicity: 2",
          "(9.0, 10.0), multiplicity: 2",
          "(10.0, 11.0)",
          "(43.0, 44.0), multiplicity: 2",
          "(17.0, 18.0)",
          "(43.0, 44.0), multiplicity: 2",
          "(14.0, 15.0)",
          "(12.0, 13.0)",
          "(34.0, 35.0)"
         ],
         "mode": "markers",
         "name": "H0",
         "type": "scatter",
         "x": [
          9,
          42,
          9,
          9,
          10,
          43,
          17,
          43,
          14,
          12,
          34
         ],
         "y": [
          13,
          43,
          10,
          10,
          11,
          44,
          18,
          44,
          15,
          13,
          35
         ]
        },
        {
         "hoverinfo": "text",
         "hovertext": [
          "(0.0, 105.0)",
          "(43.0, 50.0)",
          "(47.0, 51.0)",
          "(46.0, 48.0), multiplicity: 2",
          "(46.0, 48.0), multiplicity: 2",
          "(44.0, 46.0)",
          "(43.0, 45.0)",
          "(34.0, 36.0)",
          "(31.0, 33.0)",
          "(16.0, 18.0), multiplicity: 2",
          "(16.0, 18.0), multiplicity: 2",
          "(11.0, 13.0), multiplicity: 2",
          "(11.0, 13.0), multiplicity: 2",
          "(16.0, 17.0), multiplicity: 5",
          "(12.0, 13.0), multiplicity: 5",
          "(12.0, 13.0), multiplicity: 5",
          "(12.0, 13.0), multiplicity: 5",
          "(12.0, 13.0), multiplicity: 5",
          "(1.0, 2.0), multiplicity: 2",
          "(12.0, 13.0), multiplicity: 5",
          "(11.0, 12.0), multiplicity: 3",
          "(13.0, 14.0), multiplicity: 4",
          "(13.0, 14.0), multiplicity: 4",
          "(13.0, 14.0), multiplicity: 4",
          "(13.0, 14.0), multiplicity: 4",
          "(1.0, 2.0), multiplicity: 2",
          "(15.0, 16.0)",
          "(16.0, 17.0), multiplicity: 5",
          "(16.0, 17.0), multiplicity: 5",
          "(16.0, 17.0), multiplicity: 5",
          "(16.0, 17.0), multiplicity: 5",
          "(2.0, 3.0)",
          "(5.0, 6.0)",
          "(11.0, 12.0), multiplicity: 3",
          "(17.0, 18.0), multiplicity: 3",
          "(17.0, 18.0), multiplicity: 3",
          "(17.0, 18.0), multiplicity: 3",
          "(11.0, 12.0), multiplicity: 3",
          "(20.0, 21.0)",
          "(27.0, 28.0)",
          "(29.0, 30.0)",
          "(10.0, 11.0)",
          "(8.0, 9.0)",
          "(46.0, 47.0)",
          "(36.0, 37.0)",
          "(40.0, 41.0)",
          "(43.0, 44.0), multiplicity: 3",
          "(42.0, 43.0), multiplicity: 2",
          "(42.0, 43.0), multiplicity: 2",
          "(43.0, 44.0), multiplicity: 3",
          "(43.0, 44.0), multiplicity: 3"
         ],
         "mode": "markers",
         "name": "H1",
         "type": "scatter",
         "x": [
          0,
          43,
          47,
          46,
          46,
          44,
          43,
          34,
          31,
          16,
          16,
          11,
          11,
          16,
          12,
          12,
          12,
          12,
          1,
          12,
          11,
          13,
          13,
          13,
          13,
          1,
          15,
          16,
          16,
          16,
          16,
          2,
          5,
          11,
          17,
          17,
          17,
          11,
          20,
          27,
          29,
          10,
          8,
          46,
          36,
          40,
          43,
          42,
          42,
          43,
          43
         ],
         "y": [
          105,
          50,
          51,
          48,
          48,
          46,
          45,
          36,
          33,
          18,
          18,
          13,
          13,
          17,
          13,
          13,
          13,
          13,
          2,
          13,
          12,
          14,
          14,
          14,
          14,
          2,
          16,
          17,
          17,
          17,
          17,
          3,
          6,
          12,
          18,
          18,
          18,
          12,
          21,
          28,
          30,
          11,
          9,
          47,
          37,
          41,
          44,
          43,
          43,
          44,
          44
         ]
        }
       ],
       "layout": {
        "height": 500,
        "plot_bgcolor": "white",
        "template": {
         "data": {
          "bar": [
           {
            "error_x": {
             "color": "#2a3f5f"
            },
            "error_y": {
             "color": "#2a3f5f"
            },
            "marker": {
             "line": {
              "color": "#E5ECF6",
              "width": 0.5
             },
             "pattern": {
              "fillmode": "overlay",
              "size": 10,
              "solidity": 0.2
             }
            },
            "type": "bar"
           }
          ],
          "barpolar": [
           {
            "marker": {
             "line": {
              "color": "#E5ECF6",
              "width": 0.5
             },
             "pattern": {
              "fillmode": "overlay",
              "size": 10,
              "solidity": 0.2
             }
            },
            "type": "barpolar"
           }
          ],
          "carpet": [
           {
            "aaxis": {
             "endlinecolor": "#2a3f5f",
             "gridcolor": "white",
             "linecolor": "white",
             "minorgridcolor": "white",
             "startlinecolor": "#2a3f5f"
            },
            "baxis": {
             "endlinecolor": "#2a3f5f",
             "gridcolor": "white",
             "linecolor": "white",
             "minorgridcolor": "white",
             "startlinecolor": "#2a3f5f"
            },
            "type": "carpet"
           }
          ],
          "choropleth": [
           {
            "colorbar": {
             "outlinewidth": 0,
             "ticks": ""
            },
            "type": "choropleth"
           }
          ],
          "contour": [
           {
            "colorbar": {
             "outlinewidth": 0,
             "ticks": ""
            },
            "colorscale": [
             [
              0,
              "#0d0887"
             ],
             [
              0.1111111111111111,
              "#46039f"
             ],
             [
              0.2222222222222222,
              "#7201a8"
             ],
             [
              0.3333333333333333,
              "#9c179e"
             ],
             [
              0.4444444444444444,
              "#bd3786"
             ],
             [
              0.5555555555555556,
              "#d8576b"
             ],
             [
              0.6666666666666666,
              "#ed7953"
             ],
             [
              0.7777777777777778,
              "#fb9f3a"
             ],
             [
              0.8888888888888888,
              "#fdca26"
             ],
             [
              1,
              "#f0f921"
             ]
            ],
            "type": "contour"
           }
          ],
          "contourcarpet": [
           {
            "colorbar": {
             "outlinewidth": 0,
             "ticks": ""
            },
            "type": "contourcarpet"
           }
          ],
          "heatmap": [
           {
            "colorbar": {
             "outlinewidth": 0,
             "ticks": ""
            },
            "colorscale": [
             [
              0,
              "#0d0887"
             ],
             [
              0.1111111111111111,
              "#46039f"
             ],
             [
              0.2222222222222222,
              "#7201a8"
             ],
             [
              0.3333333333333333,
              "#9c179e"
             ],
             [
              0.4444444444444444,
              "#bd3786"
             ],
             [
              0.5555555555555556,
              "#d8576b"
             ],
             [
              0.6666666666666666,
              "#ed7953"
             ],
             [
              0.7777777777777778,
              "#fb9f3a"
             ],
             [
              0.8888888888888888,
              "#fdca26"
             ],
             [
              1,
              "#f0f921"
             ]
            ],
            "type": "heatmap"
           }
          ],
          "heatmapgl": [
           {
            "colorbar": {
             "outlinewidth": 0,
             "ticks": ""
            },
            "colorscale": [
             [
              0,
              "#0d0887"
             ],
             [
              0.1111111111111111,
              "#46039f"
             ],
             [
              0.2222222222222222,
              "#7201a8"
             ],
             [
              0.3333333333333333,
              "#9c179e"
             ],
             [
              0.4444444444444444,
              "#bd3786"
             ],
             [
              0.5555555555555556,
              "#d8576b"
             ],
             [
              0.6666666666666666,
              "#ed7953"
             ],
             [
              0.7777777777777778,
              "#fb9f3a"
             ],
             [
              0.8888888888888888,
              "#fdca26"
             ],
             [
              1,
              "#f0f921"
             ]
            ],
            "type": "heatmapgl"
           }
          ],
          "histogram": [
           {
            "marker": {
             "pattern": {
              "fillmode": "overlay",
              "size": 10,
              "solidity": 0.2
             }
            },
            "type": "histogram"
           }
          ],
          "histogram2d": [
           {
            "colorbar": {
             "outlinewidth": 0,
             "ticks": ""
            },
            "colorscale": [
             [
              0,
              "#0d0887"
             ],
             [
              0.1111111111111111,
              "#46039f"
             ],
             [
              0.2222222222222222,
              "#7201a8"
             ],
             [
              0.3333333333333333,
              "#9c179e"
             ],
             [
              0.4444444444444444,
              "#bd3786"
             ],
             [
              0.5555555555555556,
              "#d8576b"
             ],
             [
              0.6666666666666666,
              "#ed7953"
             ],
             [
              0.7777777777777778,
              "#fb9f3a"
             ],
             [
              0.8888888888888888,
              "#fdca26"
             ],
             [
              1,
              "#f0f921"
             ]
            ],
            "type": "histogram2d"
           }
          ],
          "histogram2dcontour": [
           {
            "colorbar": {
             "outlinewidth": 0,
             "ticks": ""
            },
            "colorscale": [
             [
              0,
              "#0d0887"
             ],
             [
              0.1111111111111111,
              "#46039f"
             ],
             [
              0.2222222222222222,
              "#7201a8"
             ],
             [
              0.3333333333333333,
              "#9c179e"
             ],
             [
              0.4444444444444444,
              "#bd3786"
             ],
             [
              0.5555555555555556,
              "#d8576b"
             ],
             [
              0.6666666666666666,
              "#ed7953"
             ],
             [
              0.7777777777777778,
              "#fb9f3a"
             ],
             [
              0.8888888888888888,
              "#fdca26"
             ],
             [
              1,
              "#f0f921"
             ]
            ],
            "type": "histogram2dcontour"
           }
          ],
          "mesh3d": [
           {
            "colorbar": {
             "outlinewidth": 0,
             "ticks": ""
            },
            "type": "mesh3d"
           }
          ],
          "parcoords": [
           {
            "line": {
             "colorbar": {
              "outlinewidth": 0,
              "ticks": ""
             }
            },
            "type": "parcoords"
           }
          ],
          "pie": [
           {
            "automargin": true,
            "type": "pie"
           }
          ],
          "scatter": [
           {
            "fillpattern": {
             "fillmode": "overlay",
             "size": 10,
             "solidity": 0.2
            },
            "type": "scatter"
           }
          ],
          "scatter3d": [
           {
            "line": {
             "colorbar": {
              "outlinewidth": 0,
              "ticks": ""
             }
            },
            "marker": {
             "colorbar": {
              "outlinewidth": 0,
              "ticks": ""
             }
            },
            "type": "scatter3d"
           }
          ],
          "scattercarpet": [
           {
            "marker": {
             "colorbar": {
              "outlinewidth": 0,
              "ticks": ""
             }
            },
            "type": "scattercarpet"
           }
          ],
          "scattergeo": [
           {
            "marker": {
             "colorbar": {
              "outlinewidth": 0,
              "ticks": ""
             }
            },
            "type": "scattergeo"
           }
          ],
          "scattergl": [
           {
            "marker": {
             "colorbar": {
              "outlinewidth": 0,
              "ticks": ""
             }
            },
            "type": "scattergl"
           }
          ],
          "scattermapbox": [
           {
            "marker": {
             "colorbar": {
              "outlinewidth": 0,
              "ticks": ""
             }
            },
            "type": "scattermapbox"
           }
          ],
          "scatterpolar": [
           {
            "marker": {
             "colorbar": {
              "outlinewidth": 0,
              "ticks": ""
             }
            },
            "type": "scatterpolar"
           }
          ],
          "scatterpolargl": [
           {
            "marker": {
             "colorbar": {
              "outlinewidth": 0,
              "ticks": ""
             }
            },
            "type": "scatterpolargl"
           }
          ],
          "scatterternary": [
           {
            "marker": {
             "colorbar": {
              "outlinewidth": 0,
              "ticks": ""
             }
            },
            "type": "scatterternary"
           }
          ],
          "surface": [
           {
            "colorbar": {
             "outlinewidth": 0,
             "ticks": ""
            },
            "colorscale": [
             [
              0,
              "#0d0887"
             ],
             [
              0.1111111111111111,
              "#46039f"
             ],
             [
              0.2222222222222222,
              "#7201a8"
             ],
             [
              0.3333333333333333,
              "#9c179e"
             ],
             [
              0.4444444444444444,
              "#bd3786"
             ],
             [
              0.5555555555555556,
              "#d8576b"
             ],
             [
              0.6666666666666666,
              "#ed7953"
             ],
             [
              0.7777777777777778,
              "#fb9f3a"
             ],
             [
              0.8888888888888888,
              "#fdca26"
             ],
             [
              1,
              "#f0f921"
             ]
            ],
            "type": "surface"
           }
          ],
          "table": [
           {
            "cells": {
             "fill": {
              "color": "#EBF0F8"
             },
             "line": {
              "color": "white"
             }
            },
            "header": {
             "fill": {
              "color": "#C8D4E3"
             },
             "line": {
              "color": "white"
             }
            },
            "type": "table"
           }
          ]
         },
         "layout": {
          "annotationdefaults": {
           "arrowcolor": "#2a3f5f",
           "arrowhead": 0,
           "arrowwidth": 1
          },
          "autotypenumbers": "strict",
          "coloraxis": {
           "colorbar": {
            "outlinewidth": 0,
            "ticks": ""
           }
          },
          "colorscale": {
           "diverging": [
            [
             0,
             "#8e0152"
            ],
            [
             0.1,
             "#c51b7d"
            ],
            [
             0.2,
             "#de77ae"
            ],
            [
             0.3,
             "#f1b6da"
            ],
            [
             0.4,
             "#fde0ef"
            ],
            [
             0.5,
             "#f7f7f7"
            ],
            [
             0.6,
             "#e6f5d0"
            ],
            [
             0.7,
             "#b8e186"
            ],
            [
             0.8,
             "#7fbc41"
            ],
            [
             0.9,
             "#4d9221"
            ],
            [
             1,
             "#276419"
            ]
           ],
           "sequential": [
            [
             0,
             "#0d0887"
            ],
            [
             0.1111111111111111,
             "#46039f"
            ],
            [
             0.2222222222222222,
             "#7201a8"
            ],
            [
             0.3333333333333333,
             "#9c179e"
            ],
            [
             0.4444444444444444,
             "#bd3786"
            ],
            [
             0.5555555555555556,
             "#d8576b"
            ],
            [
             0.6666666666666666,
             "#ed7953"
            ],
            [
             0.7777777777777778,
             "#fb9f3a"
            ],
            [
             0.8888888888888888,
             "#fdca26"
            ],
            [
             1,
             "#f0f921"
            ]
           ],
           "sequentialminus": [
            [
             0,
             "#0d0887"
            ],
            [
             0.1111111111111111,
             "#46039f"
            ],
            [
             0.2222222222222222,
             "#7201a8"
            ],
            [
             0.3333333333333333,
             "#9c179e"
            ],
            [
             0.4444444444444444,
             "#bd3786"
            ],
            [
             0.5555555555555556,
             "#d8576b"
            ],
            [
             0.6666666666666666,
             "#ed7953"
            ],
            [
             0.7777777777777778,
             "#fb9f3a"
            ],
            [
             0.8888888888888888,
             "#fdca26"
            ],
            [
             1,
             "#f0f921"
            ]
           ]
          },
          "colorway": [
           "#636efa",
           "#EF553B",
           "#00cc96",
           "#ab63fa",
           "#FFA15A",
           "#19d3f3",
           "#FF6692",
           "#B6E880",
           "#FF97FF",
           "#FECB52"
          ],
          "font": {
           "color": "#2a3f5f"
          },
          "geo": {
           "bgcolor": "white",
           "lakecolor": "white",
           "landcolor": "#E5ECF6",
           "showlakes": true,
           "showland": true,
           "subunitcolor": "white"
          },
          "hoverlabel": {
           "align": "left"
          },
          "hovermode": "closest",
          "mapbox": {
           "style": "light"
          },
          "paper_bgcolor": "white",
          "plot_bgcolor": "#E5ECF6",
          "polar": {
           "angularaxis": {
            "gridcolor": "white",
            "linecolor": "white",
            "ticks": ""
           },
           "bgcolor": "#E5ECF6",
           "radialaxis": {
            "gridcolor": "white",
            "linecolor": "white",
            "ticks": ""
           }
          },
          "scene": {
           "xaxis": {
            "backgroundcolor": "#E5ECF6",
            "gridcolor": "white",
            "gridwidth": 2,
            "linecolor": "white",
            "showbackground": true,
            "ticks": "",
            "zerolinecolor": "white"
           },
           "yaxis": {
            "backgroundcolor": "#E5ECF6",
            "gridcolor": "white",
            "gridwidth": 2,
            "linecolor": "white",
            "showbackground": true,
            "ticks": "",
            "zerolinecolor": "white"
           },
           "zaxis": {
            "backgroundcolor": "#E5ECF6",
            "gridcolor": "white",
            "gridwidth": 2,
            "linecolor": "white",
            "showbackground": true,
            "ticks": "",
            "zerolinecolor": "white"
           }
          },
          "shapedefaults": {
           "line": {
            "color": "#2a3f5f"
           }
          },
          "ternary": {
           "aaxis": {
            "gridcolor": "white",
            "linecolor": "white",
            "ticks": ""
           },
           "baxis": {
            "gridcolor": "white",
            "linecolor": "white",
            "ticks": ""
           },
           "bgcolor": "#E5ECF6",
           "caxis": {
            "gridcolor": "white",
            "linecolor": "white",
            "ticks": ""
           }
          },
          "title": {
           "x": 0.05
          },
          "xaxis": {
           "automargin": true,
           "gridcolor": "white",
           "linecolor": "white",
           "ticks": "",
           "title": {
            "standoff": 15
           },
           "zerolinecolor": "white",
           "zerolinewidth": 2
          },
          "yaxis": {
           "automargin": true,
           "gridcolor": "white",
           "linecolor": "white",
           "ticks": "",
           "title": {
            "standoff": 15
           },
           "zerolinecolor": "white",
           "zerolinewidth": 2
          }
         }
        },
        "width": 500,
        "xaxis": {
         "autorange": false,
         "domain": [
          0,
          1
         ],
         "exponentformat": "e",
         "linecolor": "black",
         "linewidth": 1,
         "mirror": false,
         "range": [
          -5.341875000000009,
          110.341875
         ],
         "showexponent": "all",
         "showline": true,
         "side": "bottom",
         "ticks": "outside",
         "title": {
          "text": "Birth"
         },
         "type": "linear",
         "zeroline": true
        },
        "yaxis": {
         "autorange": false,
         "domain": [
          0,
          1
         ],
         "exponentformat": "e",
         "linecolor": "black",
         "linewidth": 1,
         "mirror": false,
         "range": [
          -2.1,
          107.1
         ],
         "scaleanchor": "x",
         "scaleratio": 1,
         "showexponent": "all",
         "showline": true,
         "side": "left",
         "ticks": "outside",
         "title": {
          "text": "Death"
         },
         "type": "linear",
         "zeroline": true
        }
       }
      },
      "image/png": "[encoded data removed]",
      "text/html": [
       "<div>                            <div id=\"7d0129ae-6504-4f71-a28e-d1ba9f29c36b\" class=\"plotly-graph-div\" style=\"height:500px; width:500px;\"></div>            <script type=\"text/javascript\">                require([\"plotly\"], function(Plotly) {                    window.PLOTLYENV=window.PLOTLYENV || {};                                    if (document.getElementById(\"7d0129ae-6504-4f71-a28e-d1ba9f29c36b\")) {                    Plotly.newPlot(                        \"7d0129ae-6504-4f71-a28e-d1ba9f29c36b\",                        [{\"hoverinfo\":\"none\",\"line\":{\"color\":\"black\",\"dash\":\"dash\",\"width\":1},\"mode\":\"lines\",\"showlegend\":false,\"x\":[-2.1,107.1],\"y\":[-2.1,107.1],\"type\":\"scatter\"},{\"hoverinfo\":\"text\",\"hovertext\":[\"(9.0, 13.0)\",\"(42.0, 43.0)\",\"(9.0, 10.0), multiplicity: 2\",\"(9.0, 10.0), multiplicity: 2\",\"(10.0, 11.0)\",\"(43.0, 44.0), multiplicity: 2\",\"(17.0, 18.0)\",\"(43.0, 44.0), multiplicity: 2\",\"(14.0, 15.0)\",\"(12.0, 13.0)\",\"(34.0, 35.0)\"],\"mode\":\"markers\",\"name\":\"H0\",\"x\":[9.0,42.0,9.0,9.0,10.0,43.0,17.0,43.0,14.0,12.0,34.0],\"y\":[13.0,43.0,10.0,10.0,11.0,44.0,18.0,44.0,15.0,13.0,35.0],\"type\":\"scatter\"},{\"hoverinfo\":\"text\",\"hovertext\":[\"(0.0, 105.0)\",\"(43.0, 50.0)\",\"(47.0, 51.0)\",\"(46.0, 48.0), multiplicity: 2\",\"(46.0, 48.0), multiplicity: 2\",\"(44.0, 46.0)\",\"(43.0, 45.0)\",\"(34.0, 36.0)\",\"(31.0, 33.0)\",\"(16.0, 18.0), multiplicity: 2\",\"(16.0, 18.0), multiplicity: 2\",\"(11.0, 13.0), multiplicity: 2\",\"(11.0, 13.0), multiplicity: 2\",\"(16.0, 17.0), multiplicity: 5\",\"(12.0, 13.0), multiplicity: 5\",\"(12.0, 13.0), multiplicity: 5\",\"(12.0, 13.0), multiplicity: 5\",\"(12.0, 13.0), multiplicity: 5\",\"(1.0, 2.0), multiplicity: 2\",\"(12.0, 13.0), multiplicity: 5\",\"(11.0, 12.0), multiplicity: 3\",\"(13.0, 14.0), multiplicity: 4\",\"(13.0, 14.0), multiplicity: 4\",\"(13.0, 14.0), multiplicity: 4\",\"(13.0, 14.0), multiplicity: 4\",\"(1.0, 2.0), multiplicity: 2\",\"(15.0, 16.0)\",\"(16.0, 17.0), multiplicity: 5\",\"(16.0, 17.0), multiplicity: 5\",\"(16.0, 17.0), multiplicity: 5\",\"(16.0, 17.0), multiplicity: 5\",\"(2.0, 3.0)\",\"(5.0, 6.0)\",\"(11.0, 12.0), multiplicity: 3\",\"(17.0, 18.0), multiplicity: 3\",\"(17.0, 18.0), multiplicity: 3\",\"(17.0, 18.0), multiplicity: 3\",\"(11.0, 12.0), multiplicity: 3\",\"(20.0, 21.0)\",\"(27.0, 28.0)\",\"(29.0, 30.0)\",\"(10.0, 11.0)\",\"(8.0, 9.0)\",\"(46.0, 47.0)\",\"(36.0, 37.0)\",\"(40.0, 41.0)\",\"(43.0, 44.0), multiplicity: 3\",\"(42.0, 43.0), multiplicity: 2\",\"(42.0, 43.0), multiplicity: 2\",\"(43.0, 44.0), multiplicity: 3\",\"(43.0, 44.0), multiplicity: 3\"],\"mode\":\"markers\",\"name\":\"H1\",\"x\":[0.0,43.0,47.0,46.0,46.0,44.0,43.0,34.0,31.0,16.0,16.0,11.0,11.0,16.0,12.0,12.0,12.0,12.0,1.0,12.0,11.0,13.0,13.0,13.0,13.0,1.0,15.0,16.0,16.0,16.0,16.0,2.0,5.0,11.0,17.0,17.0,17.0,11.0,20.0,27.0,29.0,10.0,8.0,46.0,36.0,40.0,43.0,42.0,42.0,43.0,43.0],\"y\":[105.0,50.0,51.0,48.0,48.0,46.0,45.0,36.0,33.0,18.0,18.0,13.0,13.0,17.0,13.0,13.0,13.0,13.0,2.0,13.0,12.0,14.0,14.0,14.0,14.0,2.0,16.0,17.0,17.0,17.0,17.0,3.0,6.0,12.0,18.0,18.0,18.0,12.0,21.0,28.0,30.0,11.0,9.0,47.0,37.0,41.0,44.0,43.0,43.0,44.0,44.0],\"type\":\"scatter\"}],                        {\"template\":{\"data\":{\"histogram2dcontour\":[{\"type\":\"histogram2dcontour\",\"colorbar\":{\"outlinewidth\":0,\"ticks\":\"\"},\"colorscale\":[[0.0,\"#0d0887\"],[0.1111111111111111,\"#46039f\"],[0.2222222222222222,\"#7201a8\"],[0.3333333333333333,\"#9c179e\"],[0.4444444444444444,\"#bd3786\"],[0.5555555555555556,\"#d8576b\"],[0.6666666666666666,\"#ed7953\"],[0.7777777777777778,\"#fb9f3a\"],[0.8888888888888888,\"#fdca26\"],[1.0,\"#f0f921\"]]}],\"choropleth\":[{\"type\":\"choropleth\",\"colorbar\":{\"outlinewidth\":0,\"ticks\":\"\"}}],\"histogram2d\":[{\"type\":\"histogram2d\",\"colorbar\":{\"outlinewidth\":0,\"ticks\":\"\"},\"colorscale\":[[0.0,\"#0d0887\"],[0.1111111111111111,\"#46039f\"],[0.2222222222222222,\"#7201a8\"],[0.3333333333333333,\"#9c179e\"],[0.4444444444444444,\"#bd3786\"],[0.5555555555555556,\"#d8576b\"],[0.6666666666666666,\"#ed7953\"],[0.7777777777777778,\"#fb9f3a\"],[0.8888888888888888,\"#fdca26\"],[1.0,\"#f0f921\"]]}],\"heatmap\":[{\"type\":\"heatmap\",\"colorbar\":{\"outlinewidth\":0,\"ticks\":\"\"},\"colorscale\":[[0.0,\"#0d0887\"],[0.1111111111111111,\"#46039f\"],[0.2222222222222222,\"#7201a8\"],[0.3333333333333333,\"#9c179e\"],[0.4444444444444444,\"#bd3786\"],[0.5555555555555556,\"#d8576b\"],[0.6666666666666666,\"#ed7953\"],[0.7777777777777778,\"#fb9f3a\"],[0.8888888888888888,\"#fdca26\"],[1.0,\"#f0f921\"]]}],\"heatmapgl\":[{\"type\":\"heatmapgl\",\"colorbar\":{\"outlinewidth\":0,\"ticks\":\"\"},\"colorscale\":[[0.0,\"#0d0887\"],[0.1111111111111111,\"#46039f\"],[0.2222222222222222,\"#7201a8\"],[0.3333333333333333,\"#9c179e\"],[0.4444444444444444,\"#bd3786\"],[0.5555555555555556,\"#d8576b\"],[0.6666666666666666,\"#ed7953\"],[0.7777777777777778,\"#fb9f3a\"],[0.8888888888888888,\"#fdca26\"],[1.0,\"#f0f921\"]]}],\"contourcarpet\":[{\"type\":\"contourcarpet\",\"colorbar\":{\"outlinewidth\":0,\"ticks\":\"\"}}],\"contour\":[{\"type\":\"contour\",\"colorbar\":{\"outlinewidth\":0,\"ticks\":\"\"},\"colorscale\":[[0.0,\"#0d0887\"],[0.1111111111111111,\"#46039f\"],[0.2222222222222222,\"#7201a8\"],[0.3333333333333333,\"#9c179e\"],[0.4444444444444444,\"#bd3786\"],[0.5555555555555556,\"#d8576b\"],[0.6666666666666666,\"#ed7953\"],[0.7777777777777778,\"#fb9f3a\"],[0.8888888888888888,\"#fdca26\"],[1.0,\"#f0f921\"]]}],\"surface\":[{\"type\":\"surface\",\"colorbar\":{\"outlinewidth\":0,\"ticks\":\"\"},\"colorscale\":[[0.0,\"#0d0887\"],[0.1111111111111111,\"#46039f\"],[0.2222222222222222,\"#7201a8\"],[0.3333333333333333,\"#9c179e\"],[0.4444444444444444,\"#bd3786\"],[0.5555555555555556,\"#d8576b\"],[0.6666666666666666,\"#ed7953\"],[0.7777777777777778,\"#fb9f3a\"],[0.8888888888888888,\"#fdca26\"],[1.0,\"#f0f921\"]]}],\"mesh3d\":[{\"type\":\"mesh3d\",\"colorbar\":{\"outlinewidth\":0,\"ticks\":\"\"}}],\"scatter\":[{\"fillpattern\":{\"fillmode\":\"overlay\",\"size\":10,\"solidity\":0.2},\"type\":\"scatter\"}],\"parcoords\":[{\"type\":\"parcoords\",\"line\":{\"colorbar\":{\"outlinewidth\":0,\"ticks\":\"\"}}}],\"scatterpolargl\":[{\"type\":\"scatterpolargl\",\"marker\":{\"colorbar\":{\"outlinewidth\":0,\"ticks\":\"\"}}}],\"bar\":[{\"error_x\":{\"color\":\"#2a3f5f\"},\"error_y\":{\"color\":\"#2a3f5f\"},\"marker\":{\"line\":{\"color\":\"#E5ECF6\",\"width\":0.5},\"pattern\":{\"fillmode\":\"overlay\",\"size\":10,\"solidity\":0.2}},\"type\":\"bar\"}],\"scattergeo\":[{\"type\":\"scattergeo\",\"marker\":{\"colorbar\":{\"outlinewidth\":0,\"ticks\":\"\"}}}],\"scatterpolar\":[{\"type\":\"scatterpolar\",\"marker\":{\"colorbar\":{\"outlinewidth\":0,\"ticks\":\"\"}}}],\"histogram\":[{\"marker\":{\"pattern\":{\"fillmode\":\"overlay\",\"size\":10,\"solidity\":0.2}},\"type\":\"histogram\"}],\"scattergl\":[{\"type\":\"scattergl\",\"marker\":{\"colorbar\":{\"outlinewidth\":0,\"ticks\":\"\"}}}],\"scatter3d\":[{\"type\":\"scatter3d\",\"line\":{\"colorbar\":{\"outlinewidth\":0,\"ticks\":\"\"}},\"marker\":{\"colorbar\":{\"outlinewidth\":0,\"ticks\":\"\"}}}],\"scattermapbox\":[{\"type\":\"scattermapbox\",\"marker\":{\"colorbar\":{\"outlinewidth\":0,\"ticks\":\"\"}}}],\"scatterternary\":[{\"type\":\"scatterternary\",\"marker\":{\"colorbar\":{\"outlinewidth\":0,\"ticks\":\"\"}}}],\"scattercarpet\":[{\"type\":\"scattercarpet\",\"marker\":{\"colorbar\":{\"outlinewidth\":0,\"ticks\":\"\"}}}],\"carpet\":[{\"aaxis\":{\"endlinecolor\":\"#2a3f5f\",\"gridcolor\":\"white\",\"linecolor\":\"white\",\"minorgridcolor\":\"white\",\"startlinecolor\":\"#2a3f5f\"},\"baxis\":{\"endlinecolor\":\"#2a3f5f\",\"gridcolor\":\"white\",\"linecolor\":\"white\",\"minorgridcolor\":\"white\",\"startlinecolor\":\"#2a3f5f\"},\"type\":\"carpet\"}],\"table\":[{\"cells\":{\"fill\":{\"color\":\"#EBF0F8\"},\"line\":{\"color\":\"white\"}},\"header\":{\"fill\":{\"color\":\"#C8D4E3\"},\"line\":{\"color\":\"white\"}},\"type\":\"table\"}],\"barpolar\":[{\"marker\":{\"line\":{\"color\":\"#E5ECF6\",\"width\":0.5},\"pattern\":{\"fillmode\":\"overlay\",\"size\":10,\"solidity\":0.2}},\"type\":\"barpolar\"}],\"pie\":[{\"automargin\":true,\"type\":\"pie\"}]},\"layout\":{\"autotypenumbers\":\"strict\",\"colorway\":[\"#636efa\",\"#EF553B\",\"#00cc96\",\"#ab63fa\",\"#FFA15A\",\"#19d3f3\",\"#FF6692\",\"#B6E880\",\"#FF97FF\",\"#FECB52\"],\"font\":{\"color\":\"#2a3f5f\"},\"hovermode\":\"closest\",\"hoverlabel\":{\"align\":\"left\"},\"paper_bgcolor\":\"white\",\"plot_bgcolor\":\"#E5ECF6\",\"polar\":{\"bgcolor\":\"#E5ECF6\",\"angularaxis\":{\"gridcolor\":\"white\",\"linecolor\":\"white\",\"ticks\":\"\"},\"radialaxis\":{\"gridcolor\":\"white\",\"linecolor\":\"white\",\"ticks\":\"\"}},\"ternary\":{\"bgcolor\":\"#E5ECF6\",\"aaxis\":{\"gridcolor\":\"white\",\"linecolor\":\"white\",\"ticks\":\"\"},\"baxis\":{\"gridcolor\":\"white\",\"linecolor\":\"white\",\"ticks\":\"\"},\"caxis\":{\"gridcolor\":\"white\",\"linecolor\":\"white\",\"ticks\":\"\"}},\"coloraxis\":{\"colorbar\":{\"outlinewidth\":0,\"ticks\":\"\"}},\"colorscale\":{\"sequential\":[[0.0,\"#0d0887\"],[0.1111111111111111,\"#46039f\"],[0.2222222222222222,\"#7201a8\"],[0.3333333333333333,\"#9c179e\"],[0.4444444444444444,\"#bd3786\"],[0.5555555555555556,\"#d8576b\"],[0.6666666666666666,\"#ed7953\"],[0.7777777777777778,\"#fb9f3a\"],[0.8888888888888888,\"#fdca26\"],[1.0,\"#f0f921\"]],\"sequentialminus\":[[0.0,\"#0d0887\"],[0.1111111111111111,\"#46039f\"],[0.2222222222222222,\"#7201a8\"],[0.3333333333333333,\"#9c179e\"],[0.4444444444444444,\"#bd3786\"],[0.5555555555555556,\"#d8576b\"],[0.6666666666666666,\"#ed7953\"],[0.7777777777777778,\"#fb9f3a\"],[0.8888888888888888,\"#fdca26\"],[1.0,\"#f0f921\"]],\"diverging\":[[0,\"#8e0152\"],[0.1,\"#c51b7d\"],[0.2,\"#de77ae\"],[0.3,\"#f1b6da\"],[0.4,\"#fde0ef\"],[0.5,\"#f7f7f7\"],[0.6,\"#e6f5d0\"],[0.7,\"#b8e186\"],[0.8,\"#7fbc41\"],[0.9,\"#4d9221\"],[1,\"#276419\"]]},\"xaxis\":{\"gridcolor\":\"white\",\"linecolor\":\"white\",\"ticks\":\"\",\"title\":{\"standoff\":15},\"zerolinecolor\":\"white\",\"automargin\":true,\"zerolinewidth\":2},\"yaxis\":{\"gridcolor\":\"white\",\"linecolor\":\"white\",\"ticks\":\"\",\"title\":{\"standoff\":15},\"zerolinecolor\":\"white\",\"automargin\":true,\"zerolinewidth\":2},\"scene\":{\"xaxis\":{\"backgroundcolor\":\"#E5ECF6\",\"gridcolor\":\"white\",\"linecolor\":\"white\",\"showbackground\":true,\"ticks\":\"\",\"zerolinecolor\":\"white\",\"gridwidth\":2},\"yaxis\":{\"backgroundcolor\":\"#E5ECF6\",\"gridcolor\":\"white\",\"linecolor\":\"white\",\"showbackground\":true,\"ticks\":\"\",\"zerolinecolor\":\"white\",\"gridwidth\":2},\"zaxis\":{\"backgroundcolor\":\"#E5ECF6\",\"gridcolor\":\"white\",\"linecolor\":\"white\",\"showbackground\":true,\"ticks\":\"\",\"zerolinecolor\":\"white\",\"gridwidth\":2}},\"shapedefaults\":{\"line\":{\"color\":\"#2a3f5f\"}},\"annotationdefaults\":{\"arrowcolor\":\"#2a3f5f\",\"arrowhead\":0,\"arrowwidth\":1},\"geo\":{\"bgcolor\":\"white\",\"landcolor\":\"#E5ECF6\",\"subunitcolor\":\"white\",\"showland\":true,\"showlakes\":true,\"lakecolor\":\"white\"},\"title\":{\"x\":0.05},\"mapbox\":{\"style\":\"light\"}}},\"xaxis\":{\"title\":{\"text\":\"Birth\"},\"side\":\"bottom\",\"type\":\"linear\",\"range\":[-2.1,107.1],\"autorange\":false,\"ticks\":\"outside\",\"showline\":true,\"zeroline\":true,\"linewidth\":1,\"linecolor\":\"black\",\"mirror\":false,\"showexponent\":\"all\",\"exponentformat\":\"e\"},\"yaxis\":{\"title\":{\"text\":\"Death\"},\"side\":\"left\",\"type\":\"linear\",\"range\":[-2.1,107.1],\"autorange\":false,\"scaleanchor\":\"x\",\"scaleratio\":1,\"ticks\":\"outside\",\"showline\":true,\"zeroline\":true,\"linewidth\":1,\"linecolor\":\"black\",\"mirror\":false,\"showexponent\":\"all\",\"exponentformat\":\"e\"},\"width\":500,\"height\":500,\"plot_bgcolor\":\"white\"},                        {\"responsive\": true}                    ).then(function(){\n",
       "                            \n",
       "var gd = document.getElementById('7d0129ae-6504-4f71-a28e-d1ba9f29c36b');\n",
       "var x = new MutationObserver(function (mutations, observer) {{\n",
       "        var display = window.getComputedStyle(gd).display;\n",
       "        if (!display || display === 'none') {{\n",
       "            console.log([gd, 'removed!']);\n",
       "            Plotly.purge(gd);\n",
       "            observer.disconnect();\n",
       "        }}\n",
       "}});\n",
       "\n",
       "// Listen for the removal of the full notebook cells\n",
       "var notebookContainer = gd.closest('#notebook-container');\n",
       "if (notebookContainer) {{\n",
       "    x.observe(notebookContainer, {childList: true});\n",
       "}}\n",
       "\n",
       "// Listen for the clearing of the current output cell\n",
       "var outputEl = gd.closest('.output');\n",
       "if (outputEl) {{\n",
       "    x.observe(outputEl, {childList: true});\n",
       "}}\n",
       "\n",
       "                        })                };                });            </script>        </div>"
      ]
     },
     "metadata": {},
     "output_type": "display_data"
    },
    {
     "data": {
      "application/vnd.plotly.v1+json": {
       "config": {
        "plotlyServerURL": "https://plot.ly"
       },
       "data": [
        {
         "hoverinfo": "none",
         "line": {
          "color": "black",
          "dash": "dash",
          "width": 1
         },
         "mode": "lines",
         "showlegend": false,
         "type": "scatter",
         "x": [
          -5.08,
          259.08
         ],
         "y": [
          -5.08,
          259.08
         ]
        },
        {
         "hoverinfo": "text",
         "hovertext": [
          "(99.0, 110.0)",
          "(111.0, 118.0)",
          "(102.0, 107.0)",
          "(111.0, 116.0)",
          "(110.0, 114.0)",
          "(104.0, 107.0)",
          "(115.0, 117.0)",
          "(113.0, 115.0), multiplicity: 2",
          "(82.0, 84.0)",
          "(114.0, 116.0)",
          "(113.0, 115.0), multiplicity: 2",
          "(106.0, 108.0)",
          "(203.0, 205.0)",
          "(118.0, 119.0)",
          "(113.0, 114.0)",
          "(202.0, 203.0)",
          "(179.0, 180.0)",
          "(105.0, 106.0), multiplicity: 2",
          "(105.0, 106.0), multiplicity: 2",
          "(101.0, 102.0)",
          "(93.0, 94.0)",
          "(90.0, 91.0)",
          "(117.0, 118.0)",
          "(58.0, 59.0)"
         ],
         "mode": "markers",
         "name": "H0",
         "type": "scatter",
         "x": [
          99,
          111,
          102,
          111,
          110,
          104,
          115,
          113,
          82,
          114,
          113,
          106,
          203,
          118,
          113,
          202,
          179,
          105,
          105,
          101,
          93,
          90,
          117,
          58
         ],
         "y": [
          110,
          118,
          107,
          116,
          114,
          107,
          117,
          115,
          84,
          116,
          115,
          108,
          205,
          119,
          114,
          203,
          180,
          106,
          106,
          102,
          94,
          91,
          118,
          59
         ]
        },
        {
         "hoverinfo": "text",
         "hovertext": [
          "(0.0, 254.0)",
          "(118.0, 147.0)",
          "(130.0, 141.0)",
          "(119.0, 128.0)",
          "(122.0, 131.0)",
          "(136.0, 144.0)",
          "(122.0, 129.0)",
          "(209.0, 216.0)",
          "(135.0, 142.0)",
          "(134.0, 140.0), multiplicity: 2",
          "(134.0, 140.0), multiplicity: 2",
          "(126.0, 132.0)",
          "(132.0, 138.0)",
          "(205.0, 210.0)",
          "(123.0, 128.0)",
          "(115.0, 120.0)",
          "(116.0, 120.0)",
          "(134.0, 138.0)",
          "(133.0, 137.0)",
          "(210.0, 214.0)",
          "(140.0, 143.0)",
          "(162.0, 165.0)",
          "(61.0, 64.0)",
          "(196.0, 199.0)",
          "(107.0, 110.0)",
          "(212.0, 215.0)",
          "(209.0, 212.0)",
          "(108.0, 111.0)",
          "(223.0, 225.0)",
          "(209.0, 211.0)",
          "(112.0, 114.0)",
          "(211.0, 213.0)",
          "(108.0, 110.0)",
          "(210.0, 212.0)",
          "(174.0, 176.0)",
          "(165.0, 167.0)",
          "(114.0, 116.0)",
          "(135.0, 137.0)",
          "(133.0, 135.0)",
          "(130.0, 132.0), multiplicity: 2",
          "(130.0, 132.0), multiplicity: 2",
          "(122.0, 124.0)",
          "(118.0, 120.0)",
          "(99.0, 101.0)",
          "(116.0, 118.0)",
          "(100.0, 102.0)",
          "(118.0, 119.0)",
          "(217.0, 218.0)",
          "(110.0, 111.0)",
          "(119.0, 120.0)",
          "(117.0, 118.0), multiplicity: 2",
          "(123.0, 124.0), multiplicity: 2",
          "(117.0, 118.0), multiplicity: 2",
          "(152.0, 153.0)",
          "(97.0, 98.0)",
          "(225.0, 226.0)",
          "(228.0, 229.0)",
          "(129.0, 130.0)",
          "(82.0, 83.0)",
          "(81.0, 82.0)",
          "(161.0, 162.0)",
          "(116.0, 117.0), multiplicity: 2",
          "(132.0, 133.0)",
          "(116.0, 117.0), multiplicity: 2",
          "(135.0, 136.0)",
          "(73.0, 74.0), multiplicity: 2",
          "(106.0, 107.0)",
          "(73.0, 74.0), multiplicity: 2",
          "(66.0, 67.0)",
          "(138.0, 139.0)",
          "(108.0, 109.0)",
          "(62.0, 63.0), multiplicity: 2",
          "(62.0, 63.0), multiplicity: 2",
          "(113.0, 114.0)",
          "(123.0, 124.0), multiplicity: 2"
         ],
         "mode": "markers",
         "name": "H1",
         "type": "scatter",
         "x": [
          0,
          118,
          130,
          119,
          122,
          136,
          122,
          209,
          135,
          134,
          134,
          126,
          132,
          205,
          123,
          115,
          116,
          134,
          133,
          210,
          140,
          162,
          61,
          196,
          107,
          212,
          209,
          108,
          223,
          209,
          112,
          211,
          108,
          210,
          174,
          165,
          114,
          135,
          133,
          130,
          130,
          122,
          118,
          99,
          116,
          100,
          118,
          217,
          110,
          119,
          117,
          123,
          117,
          152,
          97,
          225,
          228,
          129,
          82,
          81,
          161,
          116,
          132,
          116,
          135,
          73,
          106,
          73,
          66,
          138,
          108,
          62,
          62,
          113,
          123
         ],
         "y": [
          254,
          147,
          141,
          128,
          131,
          144,
          129,
          216,
          142,
          140,
          140,
          132,
          138,
          210,
          128,
          120,
          120,
          138,
          137,
          214,
          143,
          165,
          64,
          199,
          110,
          215,
          212,
          111,
          225,
          211,
          114,
          213,
          110,
          212,
          176,
          167,
          116,
          137,
          135,
          132,
          132,
          124,
          120,
          101,
          118,
          102,
          119,
          218,
          111,
          120,
          118,
          124,
          118,
          153,
          98,
          226,
          229,
          130,
          83,
          82,
          162,
          117,
          133,
          117,
          136,
          74,
          107,
          74,
          67,
          139,
          109,
          63,
          63,
          114,
          124
         ]
        }
       ],
       "layout": {
        "height": 500,
        "plot_bgcolor": "white",
        "template": {
         "data": {
          "bar": [
           {
            "error_x": {
             "color": "#2a3f5f"
            },
            "error_y": {
             "color": "#2a3f5f"
            },
            "marker": {
             "line": {
              "color": "#E5ECF6",
              "width": 0.5
             },
             "pattern": {
              "fillmode": "overlay",
              "size": 10,
              "solidity": 0.2
             }
            },
            "type": "bar"
           }
          ],
          "barpolar": [
           {
            "marker": {
             "line": {
              "color": "#E5ECF6",
              "width": 0.5
             },
             "pattern": {
              "fillmode": "overlay",
              "size": 10,
              "solidity": 0.2
             }
            },
            "type": "barpolar"
           }
          ],
          "carpet": [
           {
            "aaxis": {
             "endlinecolor": "#2a3f5f",
             "gridcolor": "white",
             "linecolor": "white",
             "minorgridcolor": "white",
             "startlinecolor": "#2a3f5f"
            },
            "baxis": {
             "endlinecolor": "#2a3f5f",
             "gridcolor": "white",
             "linecolor": "white",
             "minorgridcolor": "white",
             "startlinecolor": "#2a3f5f"
            },
            "type": "carpet"
           }
          ],
          "choropleth": [
           {
            "colorbar": {
             "outlinewidth": 0,
             "ticks": ""
            },
            "type": "choropleth"
           }
          ],
          "contour": [
           {
            "colorbar": {
             "outlinewidth": 0,
             "ticks": ""
            },
            "colorscale": [
             [
              0,
              "#0d0887"
             ],
             [
              0.1111111111111111,
              "#46039f"
             ],
             [
              0.2222222222222222,
              "#7201a8"
             ],
             [
              0.3333333333333333,
              "#9c179e"
             ],
             [
              0.4444444444444444,
              "#bd3786"
             ],
             [
              0.5555555555555556,
              "#d8576b"
             ],
             [
              0.6666666666666666,
              "#ed7953"
             ],
             [
              0.7777777777777778,
              "#fb9f3a"
             ],
             [
              0.8888888888888888,
              "#fdca26"
             ],
             [
              1,
              "#f0f921"
             ]
            ],
            "type": "contour"
           }
          ],
          "contourcarpet": [
           {
            "colorbar": {
             "outlinewidth": 0,
             "ticks": ""
            },
            "type": "contourcarpet"
           }
          ],
          "heatmap": [
           {
            "colorbar": {
             "outlinewidth": 0,
             "ticks": ""
            },
            "colorscale": [
             [
              0,
              "#0d0887"
             ],
             [
              0.1111111111111111,
              "#46039f"
             ],
             [
              0.2222222222222222,
              "#7201a8"
             ],
             [
              0.3333333333333333,
              "#9c179e"
             ],
             [
              0.4444444444444444,
              "#bd3786"
             ],
             [
              0.5555555555555556,
              "#d8576b"
             ],
             [
              0.6666666666666666,
              "#ed7953"
             ],
             [
              0.7777777777777778,
              "#fb9f3a"
             ],
             [
              0.8888888888888888,
              "#fdca26"
             ],
             [
              1,
              "#f0f921"
             ]
            ],
            "type": "heatmap"
           }
          ],
          "heatmapgl": [
           {
            "colorbar": {
             "outlinewidth": 0,
             "ticks": ""
            },
            "colorscale": [
             [
              0,
              "#0d0887"
             ],
             [
              0.1111111111111111,
              "#46039f"
             ],
             [
              0.2222222222222222,
              "#7201a8"
             ],
             [
              0.3333333333333333,
              "#9c179e"
             ],
             [
              0.4444444444444444,
              "#bd3786"
             ],
             [
              0.5555555555555556,
              "#d8576b"
             ],
             [
              0.6666666666666666,
              "#ed7953"
             ],
             [
              0.7777777777777778,
              "#fb9f3a"
             ],
             [
              0.8888888888888888,
              "#fdca26"
             ],
             [
              1,
              "#f0f921"
             ]
            ],
            "type": "heatmapgl"
           }
          ],
          "histogram": [
           {
            "marker": {
             "pattern": {
              "fillmode": "overlay",
              "size": 10,
              "solidity": 0.2
             }
            },
            "type": "histogram"
           }
          ],
          "histogram2d": [
           {
            "colorbar": {
             "outlinewidth": 0,
             "ticks": ""
            },
            "colorscale": [
             [
              0,
              "#0d0887"
             ],
             [
              0.1111111111111111,
              "#46039f"
             ],
             [
              0.2222222222222222,
              "#7201a8"
             ],
             [
              0.3333333333333333,
              "#9c179e"
             ],
             [
              0.4444444444444444,
              "#bd3786"
             ],
             [
              0.5555555555555556,
              "#d8576b"
             ],
             [
              0.6666666666666666,
              "#ed7953"
             ],
             [
              0.7777777777777778,
              "#fb9f3a"
             ],
             [
              0.8888888888888888,
              "#fdca26"
             ],
             [
              1,
              "#f0f921"
             ]
            ],
            "type": "histogram2d"
           }
          ],
          "histogram2dcontour": [
           {
            "colorbar": {
             "outlinewidth": 0,
             "ticks": ""
            },
            "colorscale": [
             [
              0,
              "#0d0887"
             ],
             [
              0.1111111111111111,
              "#46039f"
             ],
             [
              0.2222222222222222,
              "#7201a8"
             ],
             [
              0.3333333333333333,
              "#9c179e"
             ],
             [
              0.4444444444444444,
              "#bd3786"
             ],
             [
              0.5555555555555556,
              "#d8576b"
             ],
             [
              0.6666666666666666,
              "#ed7953"
             ],
             [
              0.7777777777777778,
              "#fb9f3a"
             ],
             [
              0.8888888888888888,
              "#fdca26"
             ],
             [
              1,
              "#f0f921"
             ]
            ],
            "type": "histogram2dcontour"
           }
          ],
          "mesh3d": [
           {
            "colorbar": {
             "outlinewidth": 0,
             "ticks": ""
            },
            "type": "mesh3d"
           }
          ],
          "parcoords": [
           {
            "line": {
             "colorbar": {
              "outlinewidth": 0,
              "ticks": ""
             }
            },
            "type": "parcoords"
           }
          ],
          "pie": [
           {
            "automargin": true,
            "type": "pie"
           }
          ],
          "scatter": [
           {
            "fillpattern": {
             "fillmode": "overlay",
             "size": 10,
             "solidity": 0.2
            },
            "type": "scatter"
           }
          ],
          "scatter3d": [
           {
            "line": {
             "colorbar": {
              "outlinewidth": 0,
              "ticks": ""
             }
            },
            "marker": {
             "colorbar": {
              "outlinewidth": 0,
              "ticks": ""
             }
            },
            "type": "scatter3d"
           }
          ],
          "scattercarpet": [
           {
            "marker": {
             "colorbar": {
              "outlinewidth": 0,
              "ticks": ""
             }
            },
            "type": "scattercarpet"
           }
          ],
          "scattergeo": [
           {
            "marker": {
             "colorbar": {
              "outlinewidth": 0,
              "ticks": ""
             }
            },
            "type": "scattergeo"
           }
          ],
          "scattergl": [
           {
            "marker": {
             "colorbar": {
              "outlinewidth": 0,
              "ticks": ""
             }
            },
            "type": "scattergl"
           }
          ],
          "scattermapbox": [
           {
            "marker": {
             "colorbar": {
              "outlinewidth": 0,
              "ticks": ""
             }
            },
            "type": "scattermapbox"
           }
          ],
          "scatterpolar": [
           {
            "marker": {
             "colorbar": {
              "outlinewidth": 0,
              "ticks": ""
             }
            },
            "type": "scatterpolar"
           }
          ],
          "scatterpolargl": [
           {
            "marker": {
             "colorbar": {
              "outlinewidth": 0,
              "ticks": ""
             }
            },
            "type": "scatterpolargl"
           }
          ],
          "scatterternary": [
           {
            "marker": {
             "colorbar": {
              "outlinewidth": 0,
              "ticks": ""
             }
            },
            "type": "scatterternary"
           }
          ],
          "surface": [
           {
            "colorbar": {
             "outlinewidth": 0,
             "ticks": ""
            },
            "colorscale": [
             [
              0,
              "#0d0887"
             ],
             [
              0.1111111111111111,
              "#46039f"
             ],
             [
              0.2222222222222222,
              "#7201a8"
             ],
             [
              0.3333333333333333,
              "#9c179e"
             ],
             [
              0.4444444444444444,
              "#bd3786"
             ],
             [
              0.5555555555555556,
              "#d8576b"
             ],
             [
              0.6666666666666666,
              "#ed7953"
             ],
             [
              0.7777777777777778,
              "#fb9f3a"
             ],
             [
              0.8888888888888888,
              "#fdca26"
             ],
             [
              1,
              "#f0f921"
             ]
            ],
            "type": "surface"
           }
          ],
          "table": [
           {
            "cells": {
             "fill": {
              "color": "#EBF0F8"
             },
             "line": {
              "color": "white"
             }
            },
            "header": {
             "fill": {
              "color": "#C8D4E3"
             },
             "line": {
              "color": "white"
             }
            },
            "type": "table"
           }
          ]
         },
         "layout": {
          "annotationdefaults": {
           "arrowcolor": "#2a3f5f",
           "arrowhead": 0,
           "arrowwidth": 1
          },
          "autotypenumbers": "strict",
          "coloraxis": {
           "colorbar": {
            "outlinewidth": 0,
            "ticks": ""
           }
          },
          "colorscale": {
           "diverging": [
            [
             0,
             "#8e0152"
            ],
            [
             0.1,
             "#c51b7d"
            ],
            [
             0.2,
             "#de77ae"
            ],
            [
             0.3,
             "#f1b6da"
            ],
            [
             0.4,
             "#fde0ef"
            ],
            [
             0.5,
             "#f7f7f7"
            ],
            [
             0.6,
             "#e6f5d0"
            ],
            [
             0.7,
             "#b8e186"
            ],
            [
             0.8,
             "#7fbc41"
            ],
            [
             0.9,
             "#4d9221"
            ],
            [
             1,
             "#276419"
            ]
           ],
           "sequential": [
            [
             0,
             "#0d0887"
            ],
            [
             0.1111111111111111,
             "#46039f"
            ],
            [
             0.2222222222222222,
             "#7201a8"
            ],
            [
             0.3333333333333333,
             "#9c179e"
            ],
            [
             0.4444444444444444,
             "#bd3786"
            ],
            [
             0.5555555555555556,
             "#d8576b"
            ],
            [
             0.6666666666666666,
             "#ed7953"
            ],
            [
             0.7777777777777778,
             "#fb9f3a"
            ],
            [
             0.8888888888888888,
             "#fdca26"
            ],
            [
             1,
             "#f0f921"
            ]
           ],
           "sequentialminus": [
            [
             0,
             "#0d0887"
            ],
            [
             0.1111111111111111,
             "#46039f"
            ],
            [
             0.2222222222222222,
             "#7201a8"
            ],
            [
             0.3333333333333333,
             "#9c179e"
            ],
            [
             0.4444444444444444,
             "#bd3786"
            ],
            [
             0.5555555555555556,
             "#d8576b"
            ],
            [
             0.6666666666666666,
             "#ed7953"
            ],
            [
             0.7777777777777778,
             "#fb9f3a"
            ],
            [
             0.8888888888888888,
             "#fdca26"
            ],
            [
             1,
             "#f0f921"
            ]
           ]
          },
          "colorway": [
           "#636efa",
           "#EF553B",
           "#00cc96",
           "#ab63fa",
           "#FFA15A",
           "#19d3f3",
           "#FF6692",
           "#B6E880",
           "#FF97FF",
           "#FECB52"
          ],
          "font": {
           "color": "#2a3f5f"
          },
          "geo": {
           "bgcolor": "white",
           "lakecolor": "white",
           "landcolor": "#E5ECF6",
           "showlakes": true,
           "showland": true,
           "subunitcolor": "white"
          },
          "hoverlabel": {
           "align": "left"
          },
          "hovermode": "closest",
          "mapbox": {
           "style": "light"
          },
          "paper_bgcolor": "white",
          "plot_bgcolor": "#E5ECF6",
          "polar": {
           "angularaxis": {
            "gridcolor": "white",
            "linecolor": "white",
            "ticks": ""
           },
           "bgcolor": "#E5ECF6",
           "radialaxis": {
            "gridcolor": "white",
            "linecolor": "white",
            "ticks": ""
           }
          },
          "scene": {
           "xaxis": {
            "backgroundcolor": "#E5ECF6",
            "gridcolor": "white",
            "gridwidth": 2,
            "linecolor": "white",
            "showbackground": true,
            "ticks": "",
            "zerolinecolor": "white"
           },
           "yaxis": {
            "backgroundcolor": "#E5ECF6",
            "gridcolor": "white",
            "gridwidth": 2,
            "linecolor": "white",
            "showbackground": true,
            "ticks": "",
            "zerolinecolor": "white"
           },
           "zaxis": {
            "backgroundcolor": "#E5ECF6",
            "gridcolor": "white",
            "gridwidth": 2,
            "linecolor": "white",
            "showbackground": true,
            "ticks": "",
            "zerolinecolor": "white"
           }
          },
          "shapedefaults": {
           "line": {
            "color": "#2a3f5f"
           }
          },
          "ternary": {
           "aaxis": {
            "gridcolor": "white",
            "linecolor": "white",
            "ticks": ""
           },
           "baxis": {
            "gridcolor": "white",
            "linecolor": "white",
            "ticks": ""
           },
           "bgcolor": "#E5ECF6",
           "caxis": {
            "gridcolor": "white",
            "linecolor": "white",
            "ticks": ""
           }
          },
          "title": {
           "x": 0.05
          },
          "xaxis": {
           "automargin": true,
           "gridcolor": "white",
           "linecolor": "white",
           "ticks": "",
           "title": {
            "standoff": 15
           },
           "zerolinecolor": "white",
           "zerolinewidth": 2
          },
          "yaxis": {
           "automargin": true,
           "gridcolor": "white",
           "linecolor": "white",
           "ticks": "",
           "title": {
            "standoff": 15
           },
           "zerolinecolor": "white",
           "zerolinewidth": 2
          }
         }
        },
        "width": 500,
        "xaxis": {
         "autorange": false,
         "domain": [
          0,
          1
         ],
         "exponentformat": "e",
         "linecolor": "black",
         "linewidth": 1,
         "mirror": false,
         "range": [
          -12.922250000000005,
          266.92224999999996
         ],
         "showexponent": "all",
         "showline": true,
         "side": "bottom",
         "ticks": "outside",
         "title": {
          "text": "Birth"
         },
         "type": "linear",
         "zeroline": true
        },
        "yaxis": {
         "autorange": false,
         "domain": [
          0,
          1
         ],
         "exponentformat": "e",
         "linecolor": "black",
         "linewidth": 1,
         "mirror": false,
         "range": [
          -5.08,
          259.08
         ],
         "scaleanchor": "x",
         "scaleratio": 1,
         "showexponent": "all",
         "showline": true,
         "side": "left",
         "ticks": "outside",
         "title": {
          "text": "Death"
         },
         "type": "linear",
         "zeroline": true
        }
       }
      },
      "image/png": "[encoded data removed]",
      "text/html": [
       "<div>                            <div id=\"ddcc5893-2a29-46b2-b497-e0603f2144e6\" class=\"plotly-graph-div\" style=\"height:500px; width:500px;\"></div>            <script type=\"text/javascript\">                require([\"plotly\"], function(Plotly) {                    window.PLOTLYENV=window.PLOTLYENV || {};                                    if (document.getElementById(\"ddcc5893-2a29-46b2-b497-e0603f2144e6\")) {                    Plotly.newPlot(                        \"ddcc5893-2a29-46b2-b497-e0603f2144e6\",                        [{\"hoverinfo\":\"none\",\"line\":{\"color\":\"black\",\"dash\":\"dash\",\"width\":1},\"mode\":\"lines\",\"showlegend\":false,\"x\":[-5.08,259.08],\"y\":[-5.08,259.08],\"type\":\"scatter\"},{\"hoverinfo\":\"text\",\"hovertext\":[\"(99.0, 110.0)\",\"(111.0, 118.0)\",\"(102.0, 107.0)\",\"(111.0, 116.0)\",\"(110.0, 114.0)\",\"(104.0, 107.0)\",\"(115.0, 117.0)\",\"(113.0, 115.0), multiplicity: 2\",\"(82.0, 84.0)\",\"(114.0, 116.0)\",\"(113.0, 115.0), multiplicity: 2\",\"(106.0, 108.0)\",\"(203.0, 205.0)\",\"(118.0, 119.0)\",\"(113.0, 114.0)\",\"(202.0, 203.0)\",\"(179.0, 180.0)\",\"(105.0, 106.0), multiplicity: 2\",\"(105.0, 106.0), multiplicity: 2\",\"(101.0, 102.0)\",\"(93.0, 94.0)\",\"(90.0, 91.0)\",\"(117.0, 118.0)\",\"(58.0, 59.0)\"],\"mode\":\"markers\",\"name\":\"H0\",\"x\":[99.0,111.0,102.0,111.0,110.0,104.0,115.0,113.0,82.0,114.0,113.0,106.0,203.0,118.0,113.0,202.0,179.0,105.0,105.0,101.0,93.0,90.0,117.0,58.0],\"y\":[110.0,118.0,107.0,116.0,114.0,107.0,117.0,115.0,84.0,116.0,115.0,108.0,205.0,119.0,114.0,203.0,180.0,106.0,106.0,102.0,94.0,91.0,118.0,59.0],\"type\":\"scatter\"},{\"hoverinfo\":\"text\",\"hovertext\":[\"(0.0, 254.0)\",\"(118.0, 147.0)\",\"(130.0, 141.0)\",\"(119.0, 128.0)\",\"(122.0, 131.0)\",\"(136.0, 144.0)\",\"(122.0, 129.0)\",\"(209.0, 216.0)\",\"(135.0, 142.0)\",\"(134.0, 140.0), multiplicity: 2\",\"(134.0, 140.0), multiplicity: 2\",\"(126.0, 132.0)\",\"(132.0, 138.0)\",\"(205.0, 210.0)\",\"(123.0, 128.0)\",\"(115.0, 120.0)\",\"(116.0, 120.0)\",\"(134.0, 138.0)\",\"(133.0, 137.0)\",\"(210.0, 214.0)\",\"(140.0, 143.0)\",\"(162.0, 165.0)\",\"(61.0, 64.0)\",\"(196.0, 199.0)\",\"(107.0, 110.0)\",\"(212.0, 215.0)\",\"(209.0, 212.0)\",\"(108.0, 111.0)\",\"(223.0, 225.0)\",\"(209.0, 211.0)\",\"(112.0, 114.0)\",\"(211.0, 213.0)\",\"(108.0, 110.0)\",\"(210.0, 212.0)\",\"(174.0, 176.0)\",\"(165.0, 167.0)\",\"(114.0, 116.0)\",\"(135.0, 137.0)\",\"(133.0, 135.0)\",\"(130.0, 132.0), multiplicity: 2\",\"(130.0, 132.0), multiplicity: 2\",\"(122.0, 124.0)\",\"(118.0, 120.0)\",\"(99.0, 101.0)\",\"(116.0, 118.0)\",\"(100.0, 102.0)\",\"(118.0, 119.0)\",\"(217.0, 218.0)\",\"(110.0, 111.0)\",\"(119.0, 120.0)\",\"(117.0, 118.0), multiplicity: 2\",\"(123.0, 124.0), multiplicity: 2\",\"(117.0, 118.0), multiplicity: 2\",\"(152.0, 153.0)\",\"(97.0, 98.0)\",\"(225.0, 226.0)\",\"(228.0, 229.0)\",\"(129.0, 130.0)\",\"(82.0, 83.0)\",\"(81.0, 82.0)\",\"(161.0, 162.0)\",\"(116.0, 117.0), multiplicity: 2\",\"(132.0, 133.0)\",\"(116.0, 117.0), multiplicity: 2\",\"(135.0, 136.0)\",\"(73.0, 74.0), multiplicity: 2\",\"(106.0, 107.0)\",\"(73.0, 74.0), multiplicity: 2\",\"(66.0, 67.0)\",\"(138.0, 139.0)\",\"(108.0, 109.0)\",\"(62.0, 63.0), multiplicity: 2\",\"(62.0, 63.0), multiplicity: 2\",\"(113.0, 114.0)\",\"(123.0, 124.0), multiplicity: 2\"],\"mode\":\"markers\",\"name\":\"H1\",\"x\":[0.0,118.0,130.0,119.0,122.0,136.0,122.0,209.0,135.0,134.0,134.0,126.0,132.0,205.0,123.0,115.0,116.0,134.0,133.0,210.0,140.0,162.0,61.0,196.0,107.0,212.0,209.0,108.0,223.0,209.0,112.0,211.0,108.0,210.0,174.0,165.0,114.0,135.0,133.0,130.0,130.0,122.0,118.0,99.0,116.0,100.0,118.0,217.0,110.0,119.0,117.0,123.0,117.0,152.0,97.0,225.0,228.0,129.0,82.0,81.0,161.0,116.0,132.0,116.0,135.0,73.0,106.0,73.0,66.0,138.0,108.0,62.0,62.0,113.0,123.0],\"y\":[254.0,147.0,141.0,128.0,131.0,144.0,129.0,216.0,142.0,140.0,140.0,132.0,138.0,210.0,128.0,120.0,120.0,138.0,137.0,214.0,143.0,165.0,64.0,199.0,110.0,215.0,212.0,111.0,225.0,211.0,114.0,213.0,110.0,212.0,176.0,167.0,116.0,137.0,135.0,132.0,132.0,124.0,120.0,101.0,118.0,102.0,119.0,218.0,111.0,120.0,118.0,124.0,118.0,153.0,98.0,226.0,229.0,130.0,83.0,82.0,162.0,117.0,133.0,117.0,136.0,74.0,107.0,74.0,67.0,139.0,109.0,63.0,63.0,114.0,124.0],\"type\":\"scatter\"}],                        {\"template\":{\"data\":{\"histogram2dcontour\":[{\"type\":\"histogram2dcontour\",\"colorbar\":{\"outlinewidth\":0,\"ticks\":\"\"},\"colorscale\":[[0.0,\"#0d0887\"],[0.1111111111111111,\"#46039f\"],[0.2222222222222222,\"#7201a8\"],[0.3333333333333333,\"#9c179e\"],[0.4444444444444444,\"#bd3786\"],[0.5555555555555556,\"#d8576b\"],[0.6666666666666666,\"#ed7953\"],[0.7777777777777778,\"#fb9f3a\"],[0.8888888888888888,\"#fdca26\"],[1.0,\"#f0f921\"]]}],\"choropleth\":[{\"type\":\"choropleth\",\"colorbar\":{\"outlinewidth\":0,\"ticks\":\"\"}}],\"histogram2d\":[{\"type\":\"histogram2d\",\"colorbar\":{\"outlinewidth\":0,\"ticks\":\"\"},\"colorscale\":[[0.0,\"#0d0887\"],[0.1111111111111111,\"#46039f\"],[0.2222222222222222,\"#7201a8\"],[0.3333333333333333,\"#9c179e\"],[0.4444444444444444,\"#bd3786\"],[0.5555555555555556,\"#d8576b\"],[0.6666666666666666,\"#ed7953\"],[0.7777777777777778,\"#fb9f3a\"],[0.8888888888888888,\"#fdca26\"],[1.0,\"#f0f921\"]]}],\"heatmap\":[{\"type\":\"heatmap\",\"colorbar\":{\"outlinewidth\":0,\"ticks\":\"\"},\"colorscale\":[[0.0,\"#0d0887\"],[0.1111111111111111,\"#46039f\"],[0.2222222222222222,\"#7201a8\"],[0.3333333333333333,\"#9c179e\"],[0.4444444444444444,\"#bd3786\"],[0.5555555555555556,\"#d8576b\"],[0.6666666666666666,\"#ed7953\"],[0.7777777777777778,\"#fb9f3a\"],[0.8888888888888888,\"#fdca26\"],[1.0,\"#f0f921\"]]}],\"heatmapgl\":[{\"type\":\"heatmapgl\",\"colorbar\":{\"outlinewidth\":0,\"ticks\":\"\"},\"colorscale\":[[0.0,\"#0d0887\"],[0.1111111111111111,\"#46039f\"],[0.2222222222222222,\"#7201a8\"],[0.3333333333333333,\"#9c179e\"],[0.4444444444444444,\"#bd3786\"],[0.5555555555555556,\"#d8576b\"],[0.6666666666666666,\"#ed7953\"],[0.7777777777777778,\"#fb9f3a\"],[0.8888888888888888,\"#fdca26\"],[1.0,\"#f0f921\"]]}],\"contourcarpet\":[{\"type\":\"contourcarpet\",\"colorbar\":{\"outlinewidth\":0,\"ticks\":\"\"}}],\"contour\":[{\"type\":\"contour\",\"colorbar\":{\"outlinewidth\":0,\"ticks\":\"\"},\"colorscale\":[[0.0,\"#0d0887\"],[0.1111111111111111,\"#46039f\"],[0.2222222222222222,\"#7201a8\"],[0.3333333333333333,\"#9c179e\"],[0.4444444444444444,\"#bd3786\"],[0.5555555555555556,\"#d8576b\"],[0.6666666666666666,\"#ed7953\"],[0.7777777777777778,\"#fb9f3a\"],[0.8888888888888888,\"#fdca26\"],[1.0,\"#f0f921\"]]}],\"surface\":[{\"type\":\"surface\",\"colorbar\":{\"outlinewidth\":0,\"ticks\":\"\"},\"colorscale\":[[0.0,\"#0d0887\"],[0.1111111111111111,\"#46039f\"],[0.2222222222222222,\"#7201a8\"],[0.3333333333333333,\"#9c179e\"],[0.4444444444444444,\"#bd3786\"],[0.5555555555555556,\"#d8576b\"],[0.6666666666666666,\"#ed7953\"],[0.7777777777777778,\"#fb9f3a\"],[0.8888888888888888,\"#fdca26\"],[1.0,\"#f0f921\"]]}],\"mesh3d\":[{\"type\":\"mesh3d\",\"colorbar\":{\"outlinewidth\":0,\"ticks\":\"\"}}],\"scatter\":[{\"fillpattern\":{\"fillmode\":\"overlay\",\"size\":10,\"solidity\":0.2},\"type\":\"scatter\"}],\"parcoords\":[{\"type\":\"parcoords\",\"line\":{\"colorbar\":{\"outlinewidth\":0,\"ticks\":\"\"}}}],\"scatterpolargl\":[{\"type\":\"scatterpolargl\",\"marker\":{\"colorbar\":{\"outlinewidth\":0,\"ticks\":\"\"}}}],\"bar\":[{\"error_x\":{\"color\":\"#2a3f5f\"},\"error_y\":{\"color\":\"#2a3f5f\"},\"marker\":{\"line\":{\"color\":\"#E5ECF6\",\"width\":0.5},\"pattern\":{\"fillmode\":\"overlay\",\"size\":10,\"solidity\":0.2}},\"type\":\"bar\"}],\"scattergeo\":[{\"type\":\"scattergeo\",\"marker\":{\"colorbar\":{\"outlinewidth\":0,\"ticks\":\"\"}}}],\"scatterpolar\":[{\"type\":\"scatterpolar\",\"marker\":{\"colorbar\":{\"outlinewidth\":0,\"ticks\":\"\"}}}],\"histogram\":[{\"marker\":{\"pattern\":{\"fillmode\":\"overlay\",\"size\":10,\"solidity\":0.2}},\"type\":\"histogram\"}],\"scattergl\":[{\"type\":\"scattergl\",\"marker\":{\"colorbar\":{\"outlinewidth\":0,\"ticks\":\"\"}}}],\"scatter3d\":[{\"type\":\"scatter3d\",\"line\":{\"colorbar\":{\"outlinewidth\":0,\"ticks\":\"\"}},\"marker\":{\"colorbar\":{\"outlinewidth\":0,\"ticks\":\"\"}}}],\"scattermapbox\":[{\"type\":\"scattermapbox\",\"marker\":{\"colorbar\":{\"outlinewidth\":0,\"ticks\":\"\"}}}],\"scatterternary\":[{\"type\":\"scatterternary\",\"marker\":{\"colorbar\":{\"outlinewidth\":0,\"ticks\":\"\"}}}],\"scattercarpet\":[{\"type\":\"scattercarpet\",\"marker\":{\"colorbar\":{\"outlinewidth\":0,\"ticks\":\"\"}}}],\"carpet\":[{\"aaxis\":{\"endlinecolor\":\"#2a3f5f\",\"gridcolor\":\"white\",\"linecolor\":\"white\",\"minorgridcolor\":\"white\",\"startlinecolor\":\"#2a3f5f\"},\"baxis\":{\"endlinecolor\":\"#2a3f5f\",\"gridcolor\":\"white\",\"linecolor\":\"white\",\"minorgridcolor\":\"white\",\"startlinecolor\":\"#2a3f5f\"},\"type\":\"carpet\"}],\"table\":[{\"cells\":{\"fill\":{\"color\":\"#EBF0F8\"},\"line\":{\"color\":\"white\"}},\"header\":{\"fill\":{\"color\":\"#C8D4E3\"},\"line\":{\"color\":\"white\"}},\"type\":\"table\"}],\"barpolar\":[{\"marker\":{\"line\":{\"color\":\"#E5ECF6\",\"width\":0.5},\"pattern\":{\"fillmode\":\"overlay\",\"size\":10,\"solidity\":0.2}},\"type\":\"barpolar\"}],\"pie\":[{\"automargin\":true,\"type\":\"pie\"}]},\"layout\":{\"autotypenumbers\":\"strict\",\"colorway\":[\"#636efa\",\"#EF553B\",\"#00cc96\",\"#ab63fa\",\"#FFA15A\",\"#19d3f3\",\"#FF6692\",\"#B6E880\",\"#FF97FF\",\"#FECB52\"],\"font\":{\"color\":\"#2a3f5f\"},\"hovermode\":\"closest\",\"hoverlabel\":{\"align\":\"left\"},\"paper_bgcolor\":\"white\",\"plot_bgcolor\":\"#E5ECF6\",\"polar\":{\"bgcolor\":\"#E5ECF6\",\"angularaxis\":{\"gridcolor\":\"white\",\"linecolor\":\"white\",\"ticks\":\"\"},\"radialaxis\":{\"gridcolor\":\"white\",\"linecolor\":\"white\",\"ticks\":\"\"}},\"ternary\":{\"bgcolor\":\"#E5ECF6\",\"aaxis\":{\"gridcolor\":\"white\",\"linecolor\":\"white\",\"ticks\":\"\"},\"baxis\":{\"gridcolor\":\"white\",\"linecolor\":\"white\",\"ticks\":\"\"},\"caxis\":{\"gridcolor\":\"white\",\"linecolor\":\"white\",\"ticks\":\"\"}},\"coloraxis\":{\"colorbar\":{\"outlinewidth\":0,\"ticks\":\"\"}},\"colorscale\":{\"sequential\":[[0.0,\"#0d0887\"],[0.1111111111111111,\"#46039f\"],[0.2222222222222222,\"#7201a8\"],[0.3333333333333333,\"#9c179e\"],[0.4444444444444444,\"#bd3786\"],[0.5555555555555556,\"#d8576b\"],[0.6666666666666666,\"#ed7953\"],[0.7777777777777778,\"#fb9f3a\"],[0.8888888888888888,\"#fdca26\"],[1.0,\"#f0f921\"]],\"sequentialminus\":[[0.0,\"#0d0887\"],[0.1111111111111111,\"#46039f\"],[0.2222222222222222,\"#7201a8\"],[0.3333333333333333,\"#9c179e\"],[0.4444444444444444,\"#bd3786\"],[0.5555555555555556,\"#d8576b\"],[0.6666666666666666,\"#ed7953\"],[0.7777777777777778,\"#fb9f3a\"],[0.8888888888888888,\"#fdca26\"],[1.0,\"#f0f921\"]],\"diverging\":[[0,\"#8e0152\"],[0.1,\"#c51b7d\"],[0.2,\"#de77ae\"],[0.3,\"#f1b6da\"],[0.4,\"#fde0ef\"],[0.5,\"#f7f7f7\"],[0.6,\"#e6f5d0\"],[0.7,\"#b8e186\"],[0.8,\"#7fbc41\"],[0.9,\"#4d9221\"],[1,\"#276419\"]]},\"xaxis\":{\"gridcolor\":\"white\",\"linecolor\":\"white\",\"ticks\":\"\",\"title\":{\"standoff\":15},\"zerolinecolor\":\"white\",\"automargin\":true,\"zerolinewidth\":2},\"yaxis\":{\"gridcolor\":\"white\",\"linecolor\":\"white\",\"ticks\":\"\",\"title\":{\"standoff\":15},\"zerolinecolor\":\"white\",\"automargin\":true,\"zerolinewidth\":2},\"scene\":{\"xaxis\":{\"backgroundcolor\":\"#E5ECF6\",\"gridcolor\":\"white\",\"linecolor\":\"white\",\"showbackground\":true,\"ticks\":\"\",\"zerolinecolor\":\"white\",\"gridwidth\":2},\"yaxis\":{\"backgroundcolor\":\"#E5ECF6\",\"gridcolor\":\"white\",\"linecolor\":\"white\",\"showbackground\":true,\"ticks\":\"\",\"zerolinecolor\":\"white\",\"gridwidth\":2},\"zaxis\":{\"backgroundcolor\":\"#E5ECF6\",\"gridcolor\":\"white\",\"linecolor\":\"white\",\"showbackground\":true,\"ticks\":\"\",\"zerolinecolor\":\"white\",\"gridwidth\":2}},\"shapedefaults\":{\"line\":{\"color\":\"#2a3f5f\"}},\"annotationdefaults\":{\"arrowcolor\":\"#2a3f5f\",\"arrowhead\":0,\"arrowwidth\":1},\"geo\":{\"bgcolor\":\"white\",\"landcolor\":\"#E5ECF6\",\"subunitcolor\":\"white\",\"showland\":true,\"showlakes\":true,\"lakecolor\":\"white\"},\"title\":{\"x\":0.05},\"mapbox\":{\"style\":\"light\"}}},\"xaxis\":{\"title\":{\"text\":\"Birth\"},\"side\":\"bottom\",\"type\":\"linear\",\"range\":[-5.08,259.08],\"autorange\":false,\"ticks\":\"outside\",\"showline\":true,\"zeroline\":true,\"linewidth\":1,\"linecolor\":\"black\",\"mirror\":false,\"showexponent\":\"all\",\"exponentformat\":\"e\"},\"yaxis\":{\"title\":{\"text\":\"Death\"},\"side\":\"left\",\"type\":\"linear\",\"range\":[-5.08,259.08],\"autorange\":false,\"scaleanchor\":\"x\",\"scaleratio\":1,\"ticks\":\"outside\",\"showline\":true,\"zeroline\":true,\"linewidth\":1,\"linecolor\":\"black\",\"mirror\":false,\"showexponent\":\"all\",\"exponentformat\":\"e\"},\"width\":500,\"height\":500,\"plot_bgcolor\":\"white\"},                        {\"responsive\": true}                    ).then(function(){\n",
       "                            \n",
       "var gd = document.getElementById('ddcc5893-2a29-46b2-b497-e0603f2144e6');\n",
       "var x = new MutationObserver(function (mutations, observer) {{\n",
       "        var display = window.getComputedStyle(gd).display;\n",
       "        if (!display || display === 'none') {{\n",
       "            console.log([gd, 'removed!']);\n",
       "            Plotly.purge(gd);\n",
       "            observer.disconnect();\n",
       "        }}\n",
       "}});\n",
       "\n",
       "// Listen for the removal of the full notebook cells\n",
       "var notebookContainer = gd.closest('#notebook-container');\n",
       "if (notebookContainer) {{\n",
       "    x.observe(notebookContainer, {childList: true});\n",
       "}}\n",
       "\n",
       "// Listen for the clearing of the current output cell\n",
       "var outputEl = gd.closest('.output');\n",
       "if (outputEl) {{\n",
       "    x.observe(outputEl, {childList: true});\n",
       "}}\n",
       "\n",
       "                        })                };                });            </script>        </div>"
      ]
     },
     "metadata": {},
     "output_type": "display_data"
    },
    {
     "data": {
      "application/vnd.plotly.v1+json": {
       "config": {
        "plotlyServerURL": "https://plot.ly"
       },
       "data": [
        {
         "hoverinfo": "none",
         "line": {
          "color": "black",
          "dash": "dash",
          "width": 1
         },
         "mode": "lines",
         "showlegend": false,
         "type": "scatter",
         "x": [
          -5.0600000000000005,
          258.06
         ],
         "y": [
          -5.0600000000000005,
          258.06
         ]
        },
        {
         "hoverinfo": "text",
         "hovertext": [
          "(39.0, 58.0)",
          "(76.0, 82.0)",
          "(50.0, 55.0)",
          "(132.0, 136.0)",
          "(56.0, 60.0)",
          "(61.0, 64.0)",
          "(55.0, 58.0), multiplicity: 2",
          "(55.0, 58.0), multiplicity: 2",
          "(48.0, 51.0)",
          "(58.0, 60.0)",
          "(49.0, 51.0)",
          "(52.0, 54.0), multiplicity: 2",
          "(60.0, 62.0)",
          "(52.0, 54.0), multiplicity: 2",
          "(132.0, 134.0)",
          "(73.0, 75.0)",
          "(54.0, 56.0)",
          "(55.0, 56.0)",
          "(131.0, 132.0)",
          "(56.0, 57.0), multiplicity: 3",
          "(56.0, 57.0), multiplicity: 3",
          "(56.0, 57.0), multiplicity: 3",
          "(114.0, 115.0)",
          "(53.0, 54.0)",
          "(60.0, 61.0)",
          "(50.0, 51.0)",
          "(91.0, 92.0)",
          "(69.0, 70.0)",
          "(48.0, 49.0)",
          "(33.0, 34.0)",
          "(31.0, 32.0)",
          "(19.0, 20.0)"
         ],
         "mode": "markers",
         "name": "H0",
         "type": "scatter",
         "x": [
          39,
          76,
          50,
          132,
          56,
          61,
          55,
          55,
          48,
          58,
          49,
          52,
          60,
          52,
          132,
          73,
          54,
          55,
          131,
          56,
          56,
          56,
          114,
          53,
          60,
          50,
          91,
          69,
          48,
          33,
          31,
          19
         ],
         "y": [
          58,
          82,
          55,
          136,
          60,
          64,
          58,
          58,
          51,
          60,
          51,
          54,
          62,
          54,
          134,
          75,
          56,
          56,
          132,
          57,
          57,
          57,
          115,
          54,
          61,
          51,
          92,
          70,
          49,
          34,
          32,
          20
         ]
        },
        {
         "hoverinfo": "text",
         "hovertext": [
          "(0.0, 253.0)",
          "(160.0, 178.0)",
          "(60.0, 74.0)",
          "(56.0, 68.0)",
          "(101.0, 111.0)",
          "(59.0, 68.0), multiplicity: 3",
          "(59.0, 68.0), multiplicity: 3",
          "(59.0, 68.0), multiplicity: 3",
          "(120.0, 128.0)",
          "(53.0, 61.0)",
          "(95.0, 102.0)",
          "(145.0, 152.0)",
          "(165.0, 171.0)",
          "(55.0, 61.0)",
          "(65.0, 71.0)",
          "(58.0, 63.0)",
          "(79.0, 84.0)",
          "(56.0, 60.0)",
          "(130.0, 134.0)",
          "(69.0, 73.0)",
          "(61.0, 65.0), multiplicity: 2",
          "(61.0, 65.0), multiplicity: 2",
          "(64.0, 68.0)",
          "(127.0, 130.0)",
          "(122.0, 125.0)",
          "(64.0, 67.0)",
          "(61.0, 64.0)",
          "(120.0, 123.0)",
          "(145.0, 148.0)",
          "(130.0, 133.0)",
          "(48.0, 51.0)",
          "(134.0, 137.0)",
          "(69.0, 71.0)",
          "(110.0, 112.0)",
          "(136.0, 138.0), multiplicity: 2",
          "(68.0, 70.0)",
          "(70.0, 72.0)",
          "(136.0, 138.0), multiplicity: 2",
          "(72.0, 74.0)",
          "(106.0, 108.0)",
          "(73.0, 75.0)",
          "(60.0, 62.0)",
          "(80.0, 82.0)",
          "(45.0, 47.0)",
          "(42.0, 44.0)",
          "(37.0, 39.0)",
          "(129.0, 131.0)",
          "(55.0, 57.0)",
          "(63.0, 65.0)",
          "(86.0, 88.0)",
          "(65.0, 67.0), multiplicity: 2",
          "(92.0, 94.0)",
          "(64.0, 66.0)",
          "(65.0, 67.0), multiplicity: 2",
          "(65.0, 66.0)",
          "(64.0, 65.0)",
          "(63.0, 64.0)",
          "(66.0, 67.0)",
          "(67.0, 68.0)",
          "(104.0, 105.0)",
          "(62.0, 63.0), multiplicity: 2",
          "(103.0, 104.0)",
          "(62.0, 63.0), multiplicity: 2",
          "(61.0, 62.0)",
          "(68.0, 69.0)",
          "(102.0, 103.0)",
          "(69.0, 70.0), multiplicity: 2",
          "(69.0, 70.0), multiplicity: 2",
          "(59.0, 60.0)",
          "(116.0, 117.0)",
          "(58.0, 59.0), multiplicity: 2",
          "(58.0, 59.0), multiplicity: 2",
          "(72.0, 73.0)",
          "(57.0, 58.0)",
          "(119.0, 120.0)",
          "(122.0, 123.0)",
          "(125.0, 126.0)",
          "(49.0, 50.0), multiplicity: 2",
          "(75.0, 76.0)",
          "(100.0, 101.0), multiplicity: 2",
          "(49.0, 50.0), multiplicity: 2",
          "(37.0, 38.0)",
          "(85.0, 86.0)",
          "(22.0, 23.0)",
          "(89.0, 90.0)",
          "(100.0, 101.0), multiplicity: 2",
          "(92.0, 93.0)",
          "(20.0, 21.0)",
          "(95.0, 96.0)",
          "(97.0, 98.0)"
         ],
         "mode": "markers",
         "name": "H1",
         "type": "scatter",
         "x": [
          0,
          160,
          60,
          56,
          101,
          59,
          59,
          59,
          120,
          53,
          95,
          145,
          165,
          55,
          65,
          58,
          79,
          56,
          130,
          69,
          61,
          61,
          64,
          127,
          122,
          64,
          61,
          120,
          145,
          130,
          48,
          134,
          69,
          110,
          136,
          68,
          70,
          136,
          72,
          106,
          73,
          60,
          80,
          45,
          42,
          37,
          129,
          55,
          63,
          86,
          65,
          92,
          64,
          65,
          65,
          64,
          63,
          66,
          67,
          104,
          62,
          103,
          62,
          61,
          68,
          102,
          69,
          69,
          59,
          116,
          58,
          58,
          72,
          57,
          119,
          122,
          125,
          49,
          75,
          100,
          49,
          37,
          85,
          22,
          89,
          100,
          92,
          20,
          95,
          97
         ],
         "y": [
          253,
          178,
          74,
          68,
          111,
          68,
          68,
          68,
          128,
          61,
          102,
          152,
          171,
          61,
          71,
          63,
          84,
          60,
          134,
          73,
          65,
          65,
          68,
          130,
          125,
          67,
          64,
          123,
          148,
          133,
          51,
          137,
          71,
          112,
          138,
          70,
          72,
          138,
          74,
          108,
          75,
          62,
          82,
          47,
          44,
          39,
          131,
          57,
          65,
          88,
          67,
          94,
          66,
          67,
          66,
          65,
          64,
          67,
          68,
          105,
          63,
          104,
          63,
          62,
          69,
          103,
          70,
          70,
          60,
          117,
          59,
          59,
          73,
          58,
          120,
          123,
          126,
          50,
          76,
          101,
          50,
          38,
          86,
          23,
          90,
          101,
          93,
          21,
          96,
          98
         ]
        }
       ],
       "layout": {
        "height": 500,
        "plot_bgcolor": "white",
        "template": {
         "data": {
          "bar": [
           {
            "error_x": {
             "color": "#2a3f5f"
            },
            "error_y": {
             "color": "#2a3f5f"
            },
            "marker": {
             "line": {
              "color": "#E5ECF6",
              "width": 0.5
             },
             "pattern": {
              "fillmode": "overlay",
              "size": 10,
              "solidity": 0.2
             }
            },
            "type": "bar"
           }
          ],
          "barpolar": [
           {
            "marker": {
             "line": {
              "color": "#E5ECF6",
              "width": 0.5
             },
             "pattern": {
              "fillmode": "overlay",
              "size": 10,
              "solidity": 0.2
             }
            },
            "type": "barpolar"
           }
          ],
          "carpet": [
           {
            "aaxis": {
             "endlinecolor": "#2a3f5f",
             "gridcolor": "white",
             "linecolor": "white",
             "minorgridcolor": "white",
             "startlinecolor": "#2a3f5f"
            },
            "baxis": {
             "endlinecolor": "#2a3f5f",
             "gridcolor": "white",
             "linecolor": "white",
             "minorgridcolor": "white",
             "startlinecolor": "#2a3f5f"
            },
            "type": "carpet"
           }
          ],
          "choropleth": [
           {
            "colorbar": {
             "outlinewidth": 0,
             "ticks": ""
            },
            "type": "choropleth"
           }
          ],
          "contour": [
           {
            "colorbar": {
             "outlinewidth": 0,
             "ticks": ""
            },
            "colorscale": [
             [
              0,
              "#0d0887"
             ],
             [
              0.1111111111111111,
              "#46039f"
             ],
             [
              0.2222222222222222,
              "#7201a8"
             ],
             [
              0.3333333333333333,
              "#9c179e"
             ],
             [
              0.4444444444444444,
              "#bd3786"
             ],
             [
              0.5555555555555556,
              "#d8576b"
             ],
             [
              0.6666666666666666,
              "#ed7953"
             ],
             [
              0.7777777777777778,
              "#fb9f3a"
             ],
             [
              0.8888888888888888,
              "#fdca26"
             ],
             [
              1,
              "#f0f921"
             ]
            ],
            "type": "contour"
           }
          ],
          "contourcarpet": [
           {
            "colorbar": {
             "outlinewidth": 0,
             "ticks": ""
            },
            "type": "contourcarpet"
           }
          ],
          "heatmap": [
           {
            "colorbar": {
             "outlinewidth": 0,
             "ticks": ""
            },
            "colorscale": [
             [
              0,
              "#0d0887"
             ],
             [
              0.1111111111111111,
              "#46039f"
             ],
             [
              0.2222222222222222,
              "#7201a8"
             ],
             [
              0.3333333333333333,
              "#9c179e"
             ],
             [
              0.4444444444444444,
              "#bd3786"
             ],
             [
              0.5555555555555556,
              "#d8576b"
             ],
             [
              0.6666666666666666,
              "#ed7953"
             ],
             [
              0.7777777777777778,
              "#fb9f3a"
             ],
             [
              0.8888888888888888,
              "#fdca26"
             ],
             [
              1,
              "#f0f921"
             ]
            ],
            "type": "heatmap"
           }
          ],
          "heatmapgl": [
           {
            "colorbar": {
             "outlinewidth": 0,
             "ticks": ""
            },
            "colorscale": [
             [
              0,
              "#0d0887"
             ],
             [
              0.1111111111111111,
              "#46039f"
             ],
             [
              0.2222222222222222,
              "#7201a8"
             ],
             [
              0.3333333333333333,
              "#9c179e"
             ],
             [
              0.4444444444444444,
              "#bd3786"
             ],
             [
              0.5555555555555556,
              "#d8576b"
             ],
             [
              0.6666666666666666,
              "#ed7953"
             ],
             [
              0.7777777777777778,
              "#fb9f3a"
             ],
             [
              0.8888888888888888,
              "#fdca26"
             ],
             [
              1,
              "#f0f921"
             ]
            ],
            "type": "heatmapgl"
           }
          ],
          "histogram": [
           {
            "marker": {
             "pattern": {
              "fillmode": "overlay",
              "size": 10,
              "solidity": 0.2
             }
            },
            "type": "histogram"
           }
          ],
          "histogram2d": [
           {
            "colorbar": {
             "outlinewidth": 0,
             "ticks": ""
            },
            "colorscale": [
             [
              0,
              "#0d0887"
             ],
             [
              0.1111111111111111,
              "#46039f"
             ],
             [
              0.2222222222222222,
              "#7201a8"
             ],
             [
              0.3333333333333333,
              "#9c179e"
             ],
             [
              0.4444444444444444,
              "#bd3786"
             ],
             [
              0.5555555555555556,
              "#d8576b"
             ],
             [
              0.6666666666666666,
              "#ed7953"
             ],
             [
              0.7777777777777778,
              "#fb9f3a"
             ],
             [
              0.8888888888888888,
              "#fdca26"
             ],
             [
              1,
              "#f0f921"
             ]
            ],
            "type": "histogram2d"
           }
          ],
          "histogram2dcontour": [
           {
            "colorbar": {
             "outlinewidth": 0,
             "ticks": ""
            },
            "colorscale": [
             [
              0,
              "#0d0887"
             ],
             [
              0.1111111111111111,
              "#46039f"
             ],
             [
              0.2222222222222222,
              "#7201a8"
             ],
             [
              0.3333333333333333,
              "#9c179e"
             ],
             [
              0.4444444444444444,
              "#bd3786"
             ],
             [
              0.5555555555555556,
              "#d8576b"
             ],
             [
              0.6666666666666666,
              "#ed7953"
             ],
             [
              0.7777777777777778,
              "#fb9f3a"
             ],
             [
              0.8888888888888888,
              "#fdca26"
             ],
             [
              1,
              "#f0f921"
             ]
            ],
            "type": "histogram2dcontour"
           }
          ],
          "mesh3d": [
           {
            "colorbar": {
             "outlinewidth": 0,
             "ticks": ""
            },
            "type": "mesh3d"
           }
          ],
          "parcoords": [
           {
            "line": {
             "colorbar": {
              "outlinewidth": 0,
              "ticks": ""
             }
            },
            "type": "parcoords"
           }
          ],
          "pie": [
           {
            "automargin": true,
            "type": "pie"
           }
          ],
          "scatter": [
           {
            "fillpattern": {
             "fillmode": "overlay",
             "size": 10,
             "solidity": 0.2
            },
            "type": "scatter"
           }
          ],
          "scatter3d": [
           {
            "line": {
             "colorbar": {
              "outlinewidth": 0,
              "ticks": ""
             }
            },
            "marker": {
             "colorbar": {
              "outlinewidth": 0,
              "ticks": ""
             }
            },
            "type": "scatter3d"
           }
          ],
          "scattercarpet": [
           {
            "marker": {
             "colorbar": {
              "outlinewidth": 0,
              "ticks": ""
             }
            },
            "type": "scattercarpet"
           }
          ],
          "scattergeo": [
           {
            "marker": {
             "colorbar": {
              "outlinewidth": 0,
              "ticks": ""
             }
            },
            "type": "scattergeo"
           }
          ],
          "scattergl": [
           {
            "marker": {
             "colorbar": {
              "outlinewidth": 0,
              "ticks": ""
             }
            },
            "type": "scattergl"
           }
          ],
          "scattermapbox": [
           {
            "marker": {
             "colorbar": {
              "outlinewidth": 0,
              "ticks": ""
             }
            },
            "type": "scattermapbox"
           }
          ],
          "scatterpolar": [
           {
            "marker": {
             "colorbar": {
              "outlinewidth": 0,
              "ticks": ""
             }
            },
            "type": "scatterpolar"
           }
          ],
          "scatterpolargl": [
           {
            "marker": {
             "colorbar": {
              "outlinewidth": 0,
              "ticks": ""
             }
            },
            "type": "scatterpolargl"
           }
          ],
          "scatterternary": [
           {
            "marker": {
             "colorbar": {
              "outlinewidth": 0,
              "ticks": ""
             }
            },
            "type": "scatterternary"
           }
          ],
          "surface": [
           {
            "colorbar": {
             "outlinewidth": 0,
             "ticks": ""
            },
            "colorscale": [
             [
              0,
              "#0d0887"
             ],
             [
              0.1111111111111111,
              "#46039f"
             ],
             [
              0.2222222222222222,
              "#7201a8"
             ],
             [
              0.3333333333333333,
              "#9c179e"
             ],
             [
              0.4444444444444444,
              "#bd3786"
             ],
             [
              0.5555555555555556,
              "#d8576b"
             ],
             [
              0.6666666666666666,
              "#ed7953"
             ],
             [
              0.7777777777777778,
              "#fb9f3a"
             ],
             [
              0.8888888888888888,
              "#fdca26"
             ],
             [
              1,
              "#f0f921"
             ]
            ],
            "type": "surface"
           }
          ],
          "table": [
           {
            "cells": {
             "fill": {
              "color": "#EBF0F8"
             },
             "line": {
              "color": "white"
             }
            },
            "header": {
             "fill": {
              "color": "#C8D4E3"
             },
             "line": {
              "color": "white"
             }
            },
            "type": "table"
           }
          ]
         },
         "layout": {
          "annotationdefaults": {
           "arrowcolor": "#2a3f5f",
           "arrowhead": 0,
           "arrowwidth": 1
          },
          "autotypenumbers": "strict",
          "coloraxis": {
           "colorbar": {
            "outlinewidth": 0,
            "ticks": ""
           }
          },
          "colorscale": {
           "diverging": [
            [
             0,
             "#8e0152"
            ],
            [
             0.1,
             "#c51b7d"
            ],
            [
             0.2,
             "#de77ae"
            ],
            [
             0.3,
             "#f1b6da"
            ],
            [
             0.4,
             "#fde0ef"
            ],
            [
             0.5,
             "#f7f7f7"
            ],
            [
             0.6,
             "#e6f5d0"
            ],
            [
             0.7,
             "#b8e186"
            ],
            [
             0.8,
             "#7fbc41"
            ],
            [
             0.9,
             "#4d9221"
            ],
            [
             1,
             "#276419"
            ]
           ],
           "sequential": [
            [
             0,
             "#0d0887"
            ],
            [
             0.1111111111111111,
             "#46039f"
            ],
            [
             0.2222222222222222,
             "#7201a8"
            ],
            [
             0.3333333333333333,
             "#9c179e"
            ],
            [
             0.4444444444444444,
             "#bd3786"
            ],
            [
             0.5555555555555556,
             "#d8576b"
            ],
            [
             0.6666666666666666,
             "#ed7953"
            ],
            [
             0.7777777777777778,
             "#fb9f3a"
            ],
            [
             0.8888888888888888,
             "#fdca26"
            ],
            [
             1,
             "#f0f921"
            ]
           ],
           "sequentialminus": [
            [
             0,
             "#0d0887"
            ],
            [
             0.1111111111111111,
             "#46039f"
            ],
            [
             0.2222222222222222,
             "#7201a8"
            ],
            [
             0.3333333333333333,
             "#9c179e"
            ],
            [
             0.4444444444444444,
             "#bd3786"
            ],
            [
             0.5555555555555556,
             "#d8576b"
            ],
            [
             0.6666666666666666,
             "#ed7953"
            ],
            [
             0.7777777777777778,
             "#fb9f3a"
            ],
            [
             0.8888888888888888,
             "#fdca26"
            ],
            [
             1,
             "#f0f921"
            ]
           ]
          },
          "colorway": [
           "#636efa",
           "#EF553B",
           "#00cc96",
           "#ab63fa",
           "#FFA15A",
           "#19d3f3",
           "#FF6692",
           "#B6E880",
           "#FF97FF",
           "#FECB52"
          ],
          "font": {
           "color": "#2a3f5f"
          },
          "geo": {
           "bgcolor": "white",
           "lakecolor": "white",
           "landcolor": "#E5ECF6",
           "showlakes": true,
           "showland": true,
           "subunitcolor": "white"
          },
          "hoverlabel": {
           "align": "left"
          },
          "hovermode": "closest",
          "mapbox": {
           "style": "light"
          },
          "paper_bgcolor": "white",
          "plot_bgcolor": "#E5ECF6",
          "polar": {
           "angularaxis": {
            "gridcolor": "white",
            "linecolor": "white",
            "ticks": ""
           },
           "bgcolor": "#E5ECF6",
           "radialaxis": {
            "gridcolor": "white",
            "linecolor": "white",
            "ticks": ""
           }
          },
          "scene": {
           "xaxis": {
            "backgroundcolor": "#E5ECF6",
            "gridcolor": "white",
            "gridwidth": 2,
            "linecolor": "white",
            "showbackground": true,
            "ticks": "",
            "zerolinecolor": "white"
           },
           "yaxis": {
            "backgroundcolor": "#E5ECF6",
            "gridcolor": "white",
            "gridwidth": 2,
            "linecolor": "white",
            "showbackground": true,
            "ticks": "",
            "zerolinecolor": "white"
           },
           "zaxis": {
            "backgroundcolor": "#E5ECF6",
            "gridcolor": "white",
            "gridwidth": 2,
            "linecolor": "white",
            "showbackground": true,
            "ticks": "",
            "zerolinecolor": "white"
           }
          },
          "shapedefaults": {
           "line": {
            "color": "#2a3f5f"
           }
          },
          "ternary": {
           "aaxis": {
            "gridcolor": "white",
            "linecolor": "white",
            "ticks": ""
           },
           "baxis": {
            "gridcolor": "white",
            "linecolor": "white",
            "ticks": ""
           },
           "bgcolor": "#E5ECF6",
           "caxis": {
            "gridcolor": "white",
            "linecolor": "white",
            "ticks": ""
           }
          },
          "title": {
           "x": 0.05
          },
          "xaxis": {
           "automargin": true,
           "gridcolor": "white",
           "linecolor": "white",
           "ticks": "",
           "title": {
            "standoff": 15
           },
           "zerolinecolor": "white",
           "zerolinewidth": 2
          },
          "yaxis": {
           "automargin": true,
           "gridcolor": "white",
           "linecolor": "white",
           "ticks": "",
           "title": {
            "standoff": 15
           },
           "zerolinecolor": "white",
           "zerolinewidth": 2
          }
         }
        },
        "width": 500,
        "xaxis": {
         "autorange": false,
         "domain": [
          0,
          1
         ],
         "exponentformat": "e",
         "linecolor": "black",
         "linewidth": 1,
         "mirror": false,
         "range": [
          -12.871375000000029,
          265.87137500000006
         ],
         "showexponent": "all",
         "showline": true,
         "side": "bottom",
         "ticks": "outside",
         "title": {
          "text": "Birth"
         },
         "type": "linear",
         "zeroline": true
        },
        "yaxis": {
         "autorange": false,
         "domain": [
          0,
          1
         ],
         "exponentformat": "e",
         "linecolor": "black",
         "linewidth": 1,
         "mirror": false,
         "range": [
          -5.0600000000000005,
          258.06
         ],
         "scaleanchor": "x",
         "scaleratio": 1,
         "showexponent": "all",
         "showline": true,
         "side": "left",
         "ticks": "outside",
         "title": {
          "text": "Death"
         },
         "type": "linear",
         "zeroline": true
        }
       }
      },
      "image/png": "[encoded data removed]",
      "text/html": [
       "<div>                            <div id=\"532ef91b-bab9-4c00-adda-69edfbef4d0e\" class=\"plotly-graph-div\" style=\"height:500px; width:500px;\"></div>            <script type=\"text/javascript\">                require([\"plotly\"], function(Plotly) {                    window.PLOTLYENV=window.PLOTLYENV || {};                                    if (document.getElementById(\"532ef91b-bab9-4c00-adda-69edfbef4d0e\")) {                    Plotly.newPlot(                        \"532ef91b-bab9-4c00-adda-69edfbef4d0e\",                        [{\"hoverinfo\":\"none\",\"line\":{\"color\":\"black\",\"dash\":\"dash\",\"width\":1},\"mode\":\"lines\",\"showlegend\":false,\"x\":[-5.0600000000000005,258.06],\"y\":[-5.0600000000000005,258.06],\"type\":\"scatter\"},{\"hoverinfo\":\"text\",\"hovertext\":[\"(39.0, 58.0)\",\"(76.0, 82.0)\",\"(50.0, 55.0)\",\"(132.0, 136.0)\",\"(56.0, 60.0)\",\"(61.0, 64.0)\",\"(55.0, 58.0), multiplicity: 2\",\"(55.0, 58.0), multiplicity: 2\",\"(48.0, 51.0)\",\"(58.0, 60.0)\",\"(49.0, 51.0)\",\"(52.0, 54.0), multiplicity: 2\",\"(60.0, 62.0)\",\"(52.0, 54.0), multiplicity: 2\",\"(132.0, 134.0)\",\"(73.0, 75.0)\",\"(54.0, 56.0)\",\"(55.0, 56.0)\",\"(131.0, 132.0)\",\"(56.0, 57.0), multiplicity: 3\",\"(56.0, 57.0), multiplicity: 3\",\"(56.0, 57.0), multiplicity: 3\",\"(114.0, 115.0)\",\"(53.0, 54.0)\",\"(60.0, 61.0)\",\"(50.0, 51.0)\",\"(91.0, 92.0)\",\"(69.0, 70.0)\",\"(48.0, 49.0)\",\"(33.0, 34.0)\",\"(31.0, 32.0)\",\"(19.0, 20.0)\"],\"mode\":\"markers\",\"name\":\"H0\",\"x\":[39.0,76.0,50.0,132.0,56.0,61.0,55.0,55.0,48.0,58.0,49.0,52.0,60.0,52.0,132.0,73.0,54.0,55.0,131.0,56.0,56.0,56.0,114.0,53.0,60.0,50.0,91.0,69.0,48.0,33.0,31.0,19.0],\"y\":[58.0,82.0,55.0,136.0,60.0,64.0,58.0,58.0,51.0,60.0,51.0,54.0,62.0,54.0,134.0,75.0,56.0,56.0,132.0,57.0,57.0,57.0,115.0,54.0,61.0,51.0,92.0,70.0,49.0,34.0,32.0,20.0],\"type\":\"scatter\"},{\"hoverinfo\":\"text\",\"hovertext\":[\"(0.0, 253.0)\",\"(160.0, 178.0)\",\"(60.0, 74.0)\",\"(56.0, 68.0)\",\"(101.0, 111.0)\",\"(59.0, 68.0), multiplicity: 3\",\"(59.0, 68.0), multiplicity: 3\",\"(59.0, 68.0), multiplicity: 3\",\"(120.0, 128.0)\",\"(53.0, 61.0)\",\"(95.0, 102.0)\",\"(145.0, 152.0)\",\"(165.0, 171.0)\",\"(55.0, 61.0)\",\"(65.0, 71.0)\",\"(58.0, 63.0)\",\"(79.0, 84.0)\",\"(56.0, 60.0)\",\"(130.0, 134.0)\",\"(69.0, 73.0)\",\"(61.0, 65.0), multiplicity: 2\",\"(61.0, 65.0), multiplicity: 2\",\"(64.0, 68.0)\",\"(127.0, 130.0)\",\"(122.0, 125.0)\",\"(64.0, 67.0)\",\"(61.0, 64.0)\",\"(120.0, 123.0)\",\"(145.0, 148.0)\",\"(130.0, 133.0)\",\"(48.0, 51.0)\",\"(134.0, 137.0)\",\"(69.0, 71.0)\",\"(110.0, 112.0)\",\"(136.0, 138.0), multiplicity: 2\",\"(68.0, 70.0)\",\"(70.0, 72.0)\",\"(136.0, 138.0), multiplicity: 2\",\"(72.0, 74.0)\",\"(106.0, 108.0)\",\"(73.0, 75.0)\",\"(60.0, 62.0)\",\"(80.0, 82.0)\",\"(45.0, 47.0)\",\"(42.0, 44.0)\",\"(37.0, 39.0)\",\"(129.0, 131.0)\",\"(55.0, 57.0)\",\"(63.0, 65.0)\",\"(86.0, 88.0)\",\"(65.0, 67.0), multiplicity: 2\",\"(92.0, 94.0)\",\"(64.0, 66.0)\",\"(65.0, 67.0), multiplicity: 2\",\"(65.0, 66.0)\",\"(64.0, 65.0)\",\"(63.0, 64.0)\",\"(66.0, 67.0)\",\"(67.0, 68.0)\",\"(104.0, 105.0)\",\"(62.0, 63.0), multiplicity: 2\",\"(103.0, 104.0)\",\"(62.0, 63.0), multiplicity: 2\",\"(61.0, 62.0)\",\"(68.0, 69.0)\",\"(102.0, 103.0)\",\"(69.0, 70.0), multiplicity: 2\",\"(69.0, 70.0), multiplicity: 2\",\"(59.0, 60.0)\",\"(116.0, 117.0)\",\"(58.0, 59.0), multiplicity: 2\",\"(58.0, 59.0), multiplicity: 2\",\"(72.0, 73.0)\",\"(57.0, 58.0)\",\"(119.0, 120.0)\",\"(122.0, 123.0)\",\"(125.0, 126.0)\",\"(49.0, 50.0), multiplicity: 2\",\"(75.0, 76.0)\",\"(100.0, 101.0), multiplicity: 2\",\"(49.0, 50.0), multiplicity: 2\",\"(37.0, 38.0)\",\"(85.0, 86.0)\",\"(22.0, 23.0)\",\"(89.0, 90.0)\",\"(100.0, 101.0), multiplicity: 2\",\"(92.0, 93.0)\",\"(20.0, 21.0)\",\"(95.0, 96.0)\",\"(97.0, 98.0)\"],\"mode\":\"markers\",\"name\":\"H1\",\"x\":[0.0,160.0,60.0,56.0,101.0,59.0,59.0,59.0,120.0,53.0,95.0,145.0,165.0,55.0,65.0,58.0,79.0,56.0,130.0,69.0,61.0,61.0,64.0,127.0,122.0,64.0,61.0,120.0,145.0,130.0,48.0,134.0,69.0,110.0,136.0,68.0,70.0,136.0,72.0,106.0,73.0,60.0,80.0,45.0,42.0,37.0,129.0,55.0,63.0,86.0,65.0,92.0,64.0,65.0,65.0,64.0,63.0,66.0,67.0,104.0,62.0,103.0,62.0,61.0,68.0,102.0,69.0,69.0,59.0,116.0,58.0,58.0,72.0,57.0,119.0,122.0,125.0,49.0,75.0,100.0,49.0,37.0,85.0,22.0,89.0,100.0,92.0,20.0,95.0,97.0],\"y\":[253.0,178.0,74.0,68.0,111.0,68.0,68.0,68.0,128.0,61.0,102.0,152.0,171.0,61.0,71.0,63.0,84.0,60.0,134.0,73.0,65.0,65.0,68.0,130.0,125.0,67.0,64.0,123.0,148.0,133.0,51.0,137.0,71.0,112.0,138.0,70.0,72.0,138.0,74.0,108.0,75.0,62.0,82.0,47.0,44.0,39.0,131.0,57.0,65.0,88.0,67.0,94.0,66.0,67.0,66.0,65.0,64.0,67.0,68.0,105.0,63.0,104.0,63.0,62.0,69.0,103.0,70.0,70.0,60.0,117.0,59.0,59.0,73.0,58.0,120.0,123.0,126.0,50.0,76.0,101.0,50.0,38.0,86.0,23.0,90.0,101.0,93.0,21.0,96.0,98.0],\"type\":\"scatter\"}],                        {\"template\":{\"data\":{\"histogram2dcontour\":[{\"type\":\"histogram2dcontour\",\"colorbar\":{\"outlinewidth\":0,\"ticks\":\"\"},\"colorscale\":[[0.0,\"#0d0887\"],[0.1111111111111111,\"#46039f\"],[0.2222222222222222,\"#7201a8\"],[0.3333333333333333,\"#9c179e\"],[0.4444444444444444,\"#bd3786\"],[0.5555555555555556,\"#d8576b\"],[0.6666666666666666,\"#ed7953\"],[0.7777777777777778,\"#fb9f3a\"],[0.8888888888888888,\"#fdca26\"],[1.0,\"#f0f921\"]]}],\"choropleth\":[{\"type\":\"choropleth\",\"colorbar\":{\"outlinewidth\":0,\"ticks\":\"\"}}],\"histogram2d\":[{\"type\":\"histogram2d\",\"colorbar\":{\"outlinewidth\":0,\"ticks\":\"\"},\"colorscale\":[[0.0,\"#0d0887\"],[0.1111111111111111,\"#46039f\"],[0.2222222222222222,\"#7201a8\"],[0.3333333333333333,\"#9c179e\"],[0.4444444444444444,\"#bd3786\"],[0.5555555555555556,\"#d8576b\"],[0.6666666666666666,\"#ed7953\"],[0.7777777777777778,\"#fb9f3a\"],[0.8888888888888888,\"#fdca26\"],[1.0,\"#f0f921\"]]}],\"heatmap\":[{\"type\":\"heatmap\",\"colorbar\":{\"outlinewidth\":0,\"ticks\":\"\"},\"colorscale\":[[0.0,\"#0d0887\"],[0.1111111111111111,\"#46039f\"],[0.2222222222222222,\"#7201a8\"],[0.3333333333333333,\"#9c179e\"],[0.4444444444444444,\"#bd3786\"],[0.5555555555555556,\"#d8576b\"],[0.6666666666666666,\"#ed7953\"],[0.7777777777777778,\"#fb9f3a\"],[0.8888888888888888,\"#fdca26\"],[1.0,\"#f0f921\"]]}],\"heatmapgl\":[{\"type\":\"heatmapgl\",\"colorbar\":{\"outlinewidth\":0,\"ticks\":\"\"},\"colorscale\":[[0.0,\"#0d0887\"],[0.1111111111111111,\"#46039f\"],[0.2222222222222222,\"#7201a8\"],[0.3333333333333333,\"#9c179e\"],[0.4444444444444444,\"#bd3786\"],[0.5555555555555556,\"#d8576b\"],[0.6666666666666666,\"#ed7953\"],[0.7777777777777778,\"#fb9f3a\"],[0.8888888888888888,\"#fdca26\"],[1.0,\"#f0f921\"]]}],\"contourcarpet\":[{\"type\":\"contourcarpet\",\"colorbar\":{\"outlinewidth\":0,\"ticks\":\"\"}}],\"contour\":[{\"type\":\"contour\",\"colorbar\":{\"outlinewidth\":0,\"ticks\":\"\"},\"colorscale\":[[0.0,\"#0d0887\"],[0.1111111111111111,\"#46039f\"],[0.2222222222222222,\"#7201a8\"],[0.3333333333333333,\"#9c179e\"],[0.4444444444444444,\"#bd3786\"],[0.5555555555555556,\"#d8576b\"],[0.6666666666666666,\"#ed7953\"],[0.7777777777777778,\"#fb9f3a\"],[0.8888888888888888,\"#fdca26\"],[1.0,\"#f0f921\"]]}],\"surface\":[{\"type\":\"surface\",\"colorbar\":{\"outlinewidth\":0,\"ticks\":\"\"},\"colorscale\":[[0.0,\"#0d0887\"],[0.1111111111111111,\"#46039f\"],[0.2222222222222222,\"#7201a8\"],[0.3333333333333333,\"#9c179e\"],[0.4444444444444444,\"#bd3786\"],[0.5555555555555556,\"#d8576b\"],[0.6666666666666666,\"#ed7953\"],[0.7777777777777778,\"#fb9f3a\"],[0.8888888888888888,\"#fdca26\"],[1.0,\"#f0f921\"]]}],\"mesh3d\":[{\"type\":\"mesh3d\",\"colorbar\":{\"outlinewidth\":0,\"ticks\":\"\"}}],\"scatter\":[{\"fillpattern\":{\"fillmode\":\"overlay\",\"size\":10,\"solidity\":0.2},\"type\":\"scatter\"}],\"parcoords\":[{\"type\":\"parcoords\",\"line\":{\"colorbar\":{\"outlinewidth\":0,\"ticks\":\"\"}}}],\"scatterpolargl\":[{\"type\":\"scatterpolargl\",\"marker\":{\"colorbar\":{\"outlinewidth\":0,\"ticks\":\"\"}}}],\"bar\":[{\"error_x\":{\"color\":\"#2a3f5f\"},\"error_y\":{\"color\":\"#2a3f5f\"},\"marker\":{\"line\":{\"color\":\"#E5ECF6\",\"width\":0.5},\"pattern\":{\"fillmode\":\"overlay\",\"size\":10,\"solidity\":0.2}},\"type\":\"bar\"}],\"scattergeo\":[{\"type\":\"scattergeo\",\"marker\":{\"colorbar\":{\"outlinewidth\":0,\"ticks\":\"\"}}}],\"scatterpolar\":[{\"type\":\"scatterpolar\",\"marker\":{\"colorbar\":{\"outlinewidth\":0,\"ticks\":\"\"}}}],\"histogram\":[{\"marker\":{\"pattern\":{\"fillmode\":\"overlay\",\"size\":10,\"solidity\":0.2}},\"type\":\"histogram\"}],\"scattergl\":[{\"type\":\"scattergl\",\"marker\":{\"colorbar\":{\"outlinewidth\":0,\"ticks\":\"\"}}}],\"scatter3d\":[{\"type\":\"scatter3d\",\"line\":{\"colorbar\":{\"outlinewidth\":0,\"ticks\":\"\"}},\"marker\":{\"colorbar\":{\"outlinewidth\":0,\"ticks\":\"\"}}}],\"scattermapbox\":[{\"type\":\"scattermapbox\",\"marker\":{\"colorbar\":{\"outlinewidth\":0,\"ticks\":\"\"}}}],\"scatterternary\":[{\"type\":\"scatterternary\",\"marker\":{\"colorbar\":{\"outlinewidth\":0,\"ticks\":\"\"}}}],\"scattercarpet\":[{\"type\":\"scattercarpet\",\"marker\":{\"colorbar\":{\"outlinewidth\":0,\"ticks\":\"\"}}}],\"carpet\":[{\"aaxis\":{\"endlinecolor\":\"#2a3f5f\",\"gridcolor\":\"white\",\"linecolor\":\"white\",\"minorgridcolor\":\"white\",\"startlinecolor\":\"#2a3f5f\"},\"baxis\":{\"endlinecolor\":\"#2a3f5f\",\"gridcolor\":\"white\",\"linecolor\":\"white\",\"minorgridcolor\":\"white\",\"startlinecolor\":\"#2a3f5f\"},\"type\":\"carpet\"}],\"table\":[{\"cells\":{\"fill\":{\"color\":\"#EBF0F8\"},\"line\":{\"color\":\"white\"}},\"header\":{\"fill\":{\"color\":\"#C8D4E3\"},\"line\":{\"color\":\"white\"}},\"type\":\"table\"}],\"barpolar\":[{\"marker\":{\"line\":{\"color\":\"#E5ECF6\",\"width\":0.5},\"pattern\":{\"fillmode\":\"overlay\",\"size\":10,\"solidity\":0.2}},\"type\":\"barpolar\"}],\"pie\":[{\"automargin\":true,\"type\":\"pie\"}]},\"layout\":{\"autotypenumbers\":\"strict\",\"colorway\":[\"#636efa\",\"#EF553B\",\"#00cc96\",\"#ab63fa\",\"#FFA15A\",\"#19d3f3\",\"#FF6692\",\"#B6E880\",\"#FF97FF\",\"#FECB52\"],\"font\":{\"color\":\"#2a3f5f\"},\"hovermode\":\"closest\",\"hoverlabel\":{\"align\":\"left\"},\"paper_bgcolor\":\"white\",\"plot_bgcolor\":\"#E5ECF6\",\"polar\":{\"bgcolor\":\"#E5ECF6\",\"angularaxis\":{\"gridcolor\":\"white\",\"linecolor\":\"white\",\"ticks\":\"\"},\"radialaxis\":{\"gridcolor\":\"white\",\"linecolor\":\"white\",\"ticks\":\"\"}},\"ternary\":{\"bgcolor\":\"#E5ECF6\",\"aaxis\":{\"gridcolor\":\"white\",\"linecolor\":\"white\",\"ticks\":\"\"},\"baxis\":{\"gridcolor\":\"white\",\"linecolor\":\"white\",\"ticks\":\"\"},\"caxis\":{\"gridcolor\":\"white\",\"linecolor\":\"white\",\"ticks\":\"\"}},\"coloraxis\":{\"colorbar\":{\"outlinewidth\":0,\"ticks\":\"\"}},\"colorscale\":{\"sequential\":[[0.0,\"#0d0887\"],[0.1111111111111111,\"#46039f\"],[0.2222222222222222,\"#7201a8\"],[0.3333333333333333,\"#9c179e\"],[0.4444444444444444,\"#bd3786\"],[0.5555555555555556,\"#d8576b\"],[0.6666666666666666,\"#ed7953\"],[0.7777777777777778,\"#fb9f3a\"],[0.8888888888888888,\"#fdca26\"],[1.0,\"#f0f921\"]],\"sequentialminus\":[[0.0,\"#0d0887\"],[0.1111111111111111,\"#46039f\"],[0.2222222222222222,\"#7201a8\"],[0.3333333333333333,\"#9c179e\"],[0.4444444444444444,\"#bd3786\"],[0.5555555555555556,\"#d8576b\"],[0.6666666666666666,\"#ed7953\"],[0.7777777777777778,\"#fb9f3a\"],[0.8888888888888888,\"#fdca26\"],[1.0,\"#f0f921\"]],\"diverging\":[[0,\"#8e0152\"],[0.1,\"#c51b7d\"],[0.2,\"#de77ae\"],[0.3,\"#f1b6da\"],[0.4,\"#fde0ef\"],[0.5,\"#f7f7f7\"],[0.6,\"#e6f5d0\"],[0.7,\"#b8e186\"],[0.8,\"#7fbc41\"],[0.9,\"#4d9221\"],[1,\"#276419\"]]},\"xaxis\":{\"gridcolor\":\"white\",\"linecolor\":\"white\",\"ticks\":\"\",\"title\":{\"standoff\":15},\"zerolinecolor\":\"white\",\"automargin\":true,\"zerolinewidth\":2},\"yaxis\":{\"gridcolor\":\"white\",\"linecolor\":\"white\",\"ticks\":\"\",\"title\":{\"standoff\":15},\"zerolinecolor\":\"white\",\"automargin\":true,\"zerolinewidth\":2},\"scene\":{\"xaxis\":{\"backgroundcolor\":\"#E5ECF6\",\"gridcolor\":\"white\",\"linecolor\":\"white\",\"showbackground\":true,\"ticks\":\"\",\"zerolinecolor\":\"white\",\"gridwidth\":2},\"yaxis\":{\"backgroundcolor\":\"#E5ECF6\",\"gridcolor\":\"white\",\"linecolor\":\"white\",\"showbackground\":true,\"ticks\":\"\",\"zerolinecolor\":\"white\",\"gridwidth\":2},\"zaxis\":{\"backgroundcolor\":\"#E5ECF6\",\"gridcolor\":\"white\",\"linecolor\":\"white\",\"showbackground\":true,\"ticks\":\"\",\"zerolinecolor\":\"white\",\"gridwidth\":2}},\"shapedefaults\":{\"line\":{\"color\":\"#2a3f5f\"}},\"annotationdefaults\":{\"arrowcolor\":\"#2a3f5f\",\"arrowhead\":0,\"arrowwidth\":1},\"geo\":{\"bgcolor\":\"white\",\"landcolor\":\"#E5ECF6\",\"subunitcolor\":\"white\",\"showland\":true,\"showlakes\":true,\"lakecolor\":\"white\"},\"title\":{\"x\":0.05},\"mapbox\":{\"style\":\"light\"}}},\"xaxis\":{\"title\":{\"text\":\"Birth\"},\"side\":\"bottom\",\"type\":\"linear\",\"range\":[-5.0600000000000005,258.06],\"autorange\":false,\"ticks\":\"outside\",\"showline\":true,\"zeroline\":true,\"linewidth\":1,\"linecolor\":\"black\",\"mirror\":false,\"showexponent\":\"all\",\"exponentformat\":\"e\"},\"yaxis\":{\"title\":{\"text\":\"Death\"},\"side\":\"left\",\"type\":\"linear\",\"range\":[-5.0600000000000005,258.06],\"autorange\":false,\"scaleanchor\":\"x\",\"scaleratio\":1,\"ticks\":\"outside\",\"showline\":true,\"zeroline\":true,\"linewidth\":1,\"linecolor\":\"black\",\"mirror\":false,\"showexponent\":\"all\",\"exponentformat\":\"e\"},\"width\":500,\"height\":500,\"plot_bgcolor\":\"white\"},                        {\"responsive\": true}                    ).then(function(){\n",
       "                            \n",
       "var gd = document.getElementById('532ef91b-bab9-4c00-adda-69edfbef4d0e');\n",
       "var x = new MutationObserver(function (mutations, observer) {{\n",
       "        var display = window.getComputedStyle(gd).display;\n",
       "        if (!display || display === 'none') {{\n",
       "            console.log([gd, 'removed!']);\n",
       "            Plotly.purge(gd);\n",
       "            observer.disconnect();\n",
       "        }}\n",
       "}});\n",
       "\n",
       "// Listen for the removal of the full notebook cells\n",
       "var notebookContainer = gd.closest('#notebook-container');\n",
       "if (notebookContainer) {{\n",
       "    x.observe(notebookContainer, {childList: true});\n",
       "}}\n",
       "\n",
       "// Listen for the clearing of the current output cell\n",
       "var outputEl = gd.closest('.output');\n",
       "if (outputEl) {{\n",
       "    x.observe(outputEl, {childList: true});\n",
       "}}\n",
       "\n",
       "                        })                };                });            </script>        </div>"
      ]
     },
     "metadata": {},
     "output_type": "display_data"
    },
    {
     "data": {
      "application/vnd.plotly.v1+json": {
       "config": {
        "plotlyServerURL": "https://plot.ly"
       },
       "data": [
        {
         "hoverinfo": "none",
         "line": {
          "color": "black",
          "dash": "dash",
          "width": 1
         },
         "mode": "lines",
         "showlegend": false,
         "type": "scatter",
         "x": [
          -2.1,
          107.1
         ],
         "y": [
          -2.1,
          107.1
         ]
        },
        {
         "hoverinfo": "text",
         "hovertext": [
          "(9.0, 13.0)",
          "(42.0, 43.0)",
          "(9.0, 10.0), multiplicity: 2",
          "(9.0, 10.0), multiplicity: 2",
          "(10.0, 11.0)",
          "(43.0, 44.0), multiplicity: 2",
          "(17.0, 18.0)",
          "(43.0, 44.0), multiplicity: 2",
          "(14.0, 15.0)",
          "(12.0, 13.0)",
          "(34.0, 35.0)"
         ],
         "mode": "markers",
         "name": "H0",
         "type": "scatter",
         "x": [
          9,
          42,
          9,
          9,
          10,
          43,
          17,
          43,
          14,
          12,
          34
         ],
         "y": [
          13,
          43,
          10,
          10,
          11,
          44,
          18,
          44,
          15,
          13,
          35
         ]
        },
        {
         "hoverinfo": "text",
         "hovertext": [
          "(0.0, 105.0)",
          "(43.0, 50.0)",
          "(47.0, 51.0)",
          "(46.0, 48.0), multiplicity: 2",
          "(46.0, 48.0), multiplicity: 2",
          "(44.0, 46.0)",
          "(43.0, 45.0)",
          "(34.0, 36.0)",
          "(31.0, 33.0)",
          "(16.0, 18.0), multiplicity: 2",
          "(16.0, 18.0), multiplicity: 2",
          "(11.0, 13.0), multiplicity: 2",
          "(11.0, 13.0), multiplicity: 2",
          "(16.0, 17.0), multiplicity: 5",
          "(12.0, 13.0), multiplicity: 5",
          "(12.0, 13.0), multiplicity: 5",
          "(12.0, 13.0), multiplicity: 5",
          "(12.0, 13.0), multiplicity: 5",
          "(1.0, 2.0), multiplicity: 2",
          "(12.0, 13.0), multiplicity: 5",
          "(11.0, 12.0), multiplicity: 3",
          "(13.0, 14.0), multiplicity: 4",
          "(13.0, 14.0), multiplicity: 4",
          "(13.0, 14.0), multiplicity: 4",
          "(13.0, 14.0), multiplicity: 4",
          "(1.0, 2.0), multiplicity: 2",
          "(15.0, 16.0)",
          "(16.0, 17.0), multiplicity: 5",
          "(16.0, 17.0), multiplicity: 5",
          "(16.0, 17.0), multiplicity: 5",
          "(16.0, 17.0), multiplicity: 5",
          "(2.0, 3.0)",
          "(5.0, 6.0)",
          "(11.0, 12.0), multiplicity: 3",
          "(17.0, 18.0), multiplicity: 3",
          "(17.0, 18.0), multiplicity: 3",
          "(17.0, 18.0), multiplicity: 3",
          "(11.0, 12.0), multiplicity: 3",
          "(20.0, 21.0)",
          "(27.0, 28.0)",
          "(29.0, 30.0)",
          "(10.0, 11.0)",
          "(8.0, 9.0)",
          "(46.0, 47.0)",
          "(36.0, 37.0)",
          "(40.0, 41.0)",
          "(43.0, 44.0), multiplicity: 3",
          "(42.0, 43.0), multiplicity: 2",
          "(42.0, 43.0), multiplicity: 2",
          "(43.0, 44.0), multiplicity: 3",
          "(43.0, 44.0), multiplicity: 3"
         ],
         "mode": "markers",
         "name": "H1",
         "type": "scatter",
         "x": [
          0,
          43,
          47,
          46,
          46,
          44,
          43,
          34,
          31,
          16,
          16,
          11,
          11,
          16,
          12,
          12,
          12,
          12,
          1,
          12,
          11,
          13,
          13,
          13,
          13,
          1,
          15,
          16,
          16,
          16,
          16,
          2,
          5,
          11,
          17,
          17,
          17,
          11,
          20,
          27,
          29,
          10,
          8,
          46,
          36,
          40,
          43,
          42,
          42,
          43,
          43
         ],
         "y": [
          105,
          50,
          51,
          48,
          48,
          46,
          45,
          36,
          33,
          18,
          18,
          13,
          13,
          17,
          13,
          13,
          13,
          13,
          2,
          13,
          12,
          14,
          14,
          14,
          14,
          2,
          16,
          17,
          17,
          17,
          17,
          3,
          6,
          12,
          18,
          18,
          18,
          12,
          21,
          28,
          30,
          11,
          9,
          47,
          37,
          41,
          44,
          43,
          43,
          44,
          44
         ]
        }
       ],
       "layout": {
        "height": 500,
        "plot_bgcolor": "white",
        "template": {
         "data": {
          "bar": [
           {
            "error_x": {
             "color": "#2a3f5f"
            },
            "error_y": {
             "color": "#2a3f5f"
            },
            "marker": {
             "line": {
              "color": "#E5ECF6",
              "width": 0.5
             },
             "pattern": {
              "fillmode": "overlay",
              "size": 10,
              "solidity": 0.2
             }
            },
            "type": "bar"
           }
          ],
          "barpolar": [
           {
            "marker": {
             "line": {
              "color": "#E5ECF6",
              "width": 0.5
             },
             "pattern": {
              "fillmode": "overlay",
              "size": 10,
              "solidity": 0.2
             }
            },
            "type": "barpolar"
           }
          ],
          "carpet": [
           {
            "aaxis": {
             "endlinecolor": "#2a3f5f",
             "gridcolor": "white",
             "linecolor": "white",
             "minorgridcolor": "white",
             "startlinecolor": "#2a3f5f"
            },
            "baxis": {
             "endlinecolor": "#2a3f5f",
             "gridcolor": "white",
             "linecolor": "white",
             "minorgridcolor": "white",
             "startlinecolor": "#2a3f5f"
            },
            "type": "carpet"
           }
          ],
          "choropleth": [
           {
            "colorbar": {
             "outlinewidth": 0,
             "ticks": ""
            },
            "type": "choropleth"
           }
          ],
          "contour": [
           {
            "colorbar": {
             "outlinewidth": 0,
             "ticks": ""
            },
            "colorscale": [
             [
              0,
              "#0d0887"
             ],
             [
              0.1111111111111111,
              "#46039f"
             ],
             [
              0.2222222222222222,
              "#7201a8"
             ],
             [
              0.3333333333333333,
              "#9c179e"
             ],
             [
              0.4444444444444444,
              "#bd3786"
             ],
             [
              0.5555555555555556,
              "#d8576b"
             ],
             [
              0.6666666666666666,
              "#ed7953"
             ],
             [
              0.7777777777777778,
              "#fb9f3a"
             ],
             [
              0.8888888888888888,
              "#fdca26"
             ],
             [
              1,
              "#f0f921"
             ]
            ],
            "type": "contour"
           }
          ],
          "contourcarpet": [
           {
            "colorbar": {
             "outlinewidth": 0,
             "ticks": ""
            },
            "type": "contourcarpet"
           }
          ],
          "heatmap": [
           {
            "colorbar": {
             "outlinewidth": 0,
             "ticks": ""
            },
            "colorscale": [
             [
              0,
              "#0d0887"
             ],
             [
              0.1111111111111111,
              "#46039f"
             ],
             [
              0.2222222222222222,
              "#7201a8"
             ],
             [
              0.3333333333333333,
              "#9c179e"
             ],
             [
              0.4444444444444444,
              "#bd3786"
             ],
             [
              0.5555555555555556,
              "#d8576b"
             ],
             [
              0.6666666666666666,
              "#ed7953"
             ],
             [
              0.7777777777777778,
              "#fb9f3a"
             ],
             [
              0.8888888888888888,
              "#fdca26"
             ],
             [
              1,
              "#f0f921"
             ]
            ],
            "type": "heatmap"
           }
          ],
          "heatmapgl": [
           {
            "colorbar": {
             "outlinewidth": 0,
             "ticks": ""
            },
            "colorscale": [
             [
              0,
              "#0d0887"
             ],
             [
              0.1111111111111111,
              "#46039f"
             ],
             [
              0.2222222222222222,
              "#7201a8"
             ],
             [
              0.3333333333333333,
              "#9c179e"
             ],
             [
              0.4444444444444444,
              "#bd3786"
             ],
             [
              0.5555555555555556,
              "#d8576b"
             ],
             [
              0.6666666666666666,
              "#ed7953"
             ],
             [
              0.7777777777777778,
              "#fb9f3a"
             ],
             [
              0.8888888888888888,
              "#fdca26"
             ],
             [
              1,
              "#f0f921"
             ]
            ],
            "type": "heatmapgl"
           }
          ],
          "histogram": [
           {
            "marker": {
             "pattern": {
              "fillmode": "overlay",
              "size": 10,
              "solidity": 0.2
             }
            },
            "type": "histogram"
           }
          ],
          "histogram2d": [
           {
            "colorbar": {
             "outlinewidth": 0,
             "ticks": ""
            },
            "colorscale": [
             [
              0,
              "#0d0887"
             ],
             [
              0.1111111111111111,
              "#46039f"
             ],
             [
              0.2222222222222222,
              "#7201a8"
             ],
             [
              0.3333333333333333,
              "#9c179e"
             ],
             [
              0.4444444444444444,
              "#bd3786"
             ],
             [
              0.5555555555555556,
              "#d8576b"
             ],
             [
              0.6666666666666666,
              "#ed7953"
             ],
             [
              0.7777777777777778,
              "#fb9f3a"
             ],
             [
              0.8888888888888888,
              "#fdca26"
             ],
             [
              1,
              "#f0f921"
             ]
            ],
            "type": "histogram2d"
           }
          ],
          "histogram2dcontour": [
           {
            "colorbar": {
             "outlinewidth": 0,
             "ticks": ""
            },
            "colorscale": [
             [
              0,
              "#0d0887"
             ],
             [
              0.1111111111111111,
              "#46039f"
             ],
             [
              0.2222222222222222,
              "#7201a8"
             ],
             [
              0.3333333333333333,
              "#9c179e"
             ],
             [
              0.4444444444444444,
              "#bd3786"
             ],
             [
              0.5555555555555556,
              "#d8576b"
             ],
             [
              0.6666666666666666,
              "#ed7953"
             ],
             [
              0.7777777777777778,
              "#fb9f3a"
             ],
             [
              0.8888888888888888,
              "#fdca26"
             ],
             [
              1,
              "#f0f921"
             ]
            ],
            "type": "histogram2dcontour"
           }
          ],
          "mesh3d": [
           {
            "colorbar": {
             "outlinewidth": 0,
             "ticks": ""
            },
            "type": "mesh3d"
           }
          ],
          "parcoords": [
           {
            "line": {
             "colorbar": {
              "outlinewidth": 0,
              "ticks": ""
             }
            },
            "type": "parcoords"
           }
          ],
          "pie": [
           {
            "automargin": true,
            "type": "pie"
           }
          ],
          "scatter": [
           {
            "fillpattern": {
             "fillmode": "overlay",
             "size": 10,
             "solidity": 0.2
            },
            "type": "scatter"
           }
          ],
          "scatter3d": [
           {
            "line": {
             "colorbar": {
              "outlinewidth": 0,
              "ticks": ""
             }
            },
            "marker": {
             "colorbar": {
              "outlinewidth": 0,
              "ticks": ""
             }
            },
            "type": "scatter3d"
           }
          ],
          "scattercarpet": [
           {
            "marker": {
             "colorbar": {
              "outlinewidth": 0,
              "ticks": ""
             }
            },
            "type": "scattercarpet"
           }
          ],
          "scattergeo": [
           {
            "marker": {
             "colorbar": {
              "outlinewidth": 0,
              "ticks": ""
             }
            },
            "type": "scattergeo"
           }
          ],
          "scattergl": [
           {
            "marker": {
             "colorbar": {
              "outlinewidth": 0,
              "ticks": ""
             }
            },
            "type": "scattergl"
           }
          ],
          "scattermapbox": [
           {
            "marker": {
             "colorbar": {
              "outlinewidth": 0,
              "ticks": ""
             }
            },
            "type": "scattermapbox"
           }
          ],
          "scatterpolar": [
           {
            "marker": {
             "colorbar": {
              "outlinewidth": 0,
              "ticks": ""
             }
            },
            "type": "scatterpolar"
           }
          ],
          "scatterpolargl": [
           {
            "marker": {
             "colorbar": {
              "outlinewidth": 0,
              "ticks": ""
             }
            },
            "type": "scatterpolargl"
           }
          ],
          "scatterternary": [
           {
            "marker": {
             "colorbar": {
              "outlinewidth": 0,
              "ticks": ""
             }
            },
            "type": "scatterternary"
           }
          ],
          "surface": [
           {
            "colorbar": {
             "outlinewidth": 0,
             "ticks": ""
            },
            "colorscale": [
             [
              0,
              "#0d0887"
             ],
             [
              0.1111111111111111,
              "#46039f"
             ],
             [
              0.2222222222222222,
              "#7201a8"
             ],
             [
              0.3333333333333333,
              "#9c179e"
             ],
             [
              0.4444444444444444,
              "#bd3786"
             ],
             [
              0.5555555555555556,
              "#d8576b"
             ],
             [
              0.6666666666666666,
              "#ed7953"
             ],
             [
              0.7777777777777778,
              "#fb9f3a"
             ],
             [
              0.8888888888888888,
              "#fdca26"
             ],
             [
              1,
              "#f0f921"
             ]
            ],
            "type": "surface"
           }
          ],
          "table": [
           {
            "cells": {
             "fill": {
              "color": "#EBF0F8"
             },
             "line": {
              "color": "white"
             }
            },
            "header": {
             "fill": {
              "color": "#C8D4E3"
             },
             "line": {
              "color": "white"
             }
            },
            "type": "table"
           }
          ]
         },
         "layout": {
          "annotationdefaults": {
           "arrowcolor": "#2a3f5f",
           "arrowhead": 0,
           "arrowwidth": 1
          },
          "autotypenumbers": "strict",
          "coloraxis": {
           "colorbar": {
            "outlinewidth": 0,
            "ticks": ""
           }
          },
          "colorscale": {
           "diverging": [
            [
             0,
             "#8e0152"
            ],
            [
             0.1,
             "#c51b7d"
            ],
            [
             0.2,
             "#de77ae"
            ],
            [
             0.3,
             "#f1b6da"
            ],
            [
             0.4,
             "#fde0ef"
            ],
            [
             0.5,
             "#f7f7f7"
            ],
            [
             0.6,
             "#e6f5d0"
            ],
            [
             0.7,
             "#b8e186"
            ],
            [
             0.8,
             "#7fbc41"
            ],
            [
             0.9,
             "#4d9221"
            ],
            [
             1,
             "#276419"
            ]
           ],
           "sequential": [
            [
             0,
             "#0d0887"
            ],
            [
             0.1111111111111111,
             "#46039f"
            ],
            [
             0.2222222222222222,
             "#7201a8"
            ],
            [
             0.3333333333333333,
             "#9c179e"
            ],
            [
             0.4444444444444444,
             "#bd3786"
            ],
            [
             0.5555555555555556,
             "#d8576b"
            ],
            [
             0.6666666666666666,
             "#ed7953"
            ],
            [
             0.7777777777777778,
             "#fb9f3a"
            ],
            [
             0.8888888888888888,
             "#fdca26"
            ],
            [
             1,
             "#f0f921"
            ]
           ],
           "sequentialminus": [
            [
             0,
             "#0d0887"
            ],
            [
             0.1111111111111111,
             "#46039f"
            ],
            [
             0.2222222222222222,
             "#7201a8"
            ],
            [
             0.3333333333333333,
             "#9c179e"
            ],
            [
             0.4444444444444444,
             "#bd3786"
            ],
            [
             0.5555555555555556,
             "#d8576b"
            ],
            [
             0.6666666666666666,
             "#ed7953"
            ],
            [
             0.7777777777777778,
             "#fb9f3a"
            ],
            [
             0.8888888888888888,
             "#fdca26"
            ],
            [
             1,
             "#f0f921"
            ]
           ]
          },
          "colorway": [
           "#636efa",
           "#EF553B",
           "#00cc96",
           "#ab63fa",
           "#FFA15A",
           "#19d3f3",
           "#FF6692",
           "#B6E880",
           "#FF97FF",
           "#FECB52"
          ],
          "font": {
           "color": "#2a3f5f"
          },
          "geo": {
           "bgcolor": "white",
           "lakecolor": "white",
           "landcolor": "#E5ECF6",
           "showlakes": true,
           "showland": true,
           "subunitcolor": "white"
          },
          "hoverlabel": {
           "align": "left"
          },
          "hovermode": "closest",
          "mapbox": {
           "style": "light"
          },
          "paper_bgcolor": "white",
          "plot_bgcolor": "#E5ECF6",
          "polar": {
           "angularaxis": {
            "gridcolor": "white",
            "linecolor": "white",
            "ticks": ""
           },
           "bgcolor": "#E5ECF6",
           "radialaxis": {
            "gridcolor": "white",
            "linecolor": "white",
            "ticks": ""
           }
          },
          "scene": {
           "xaxis": {
            "backgroundcolor": "#E5ECF6",
            "gridcolor": "white",
            "gridwidth": 2,
            "linecolor": "white",
            "showbackground": true,
            "ticks": "",
            "zerolinecolor": "white"
           },
           "yaxis": {
            "backgroundcolor": "#E5ECF6",
            "gridcolor": "white",
            "gridwidth": 2,
            "linecolor": "white",
            "showbackground": true,
            "ticks": "",
            "zerolinecolor": "white"
           },
           "zaxis": {
            "backgroundcolor": "#E5ECF6",
            "gridcolor": "white",
            "gridwidth": 2,
            "linecolor": "white",
            "showbackground": true,
            "ticks": "",
            "zerolinecolor": "white"
           }
          },
          "shapedefaults": {
           "line": {
            "color": "#2a3f5f"
           }
          },
          "ternary": {
           "aaxis": {
            "gridcolor": "white",
            "linecolor": "white",
            "ticks": ""
           },
           "baxis": {
            "gridcolor": "white",
            "linecolor": "white",
            "ticks": ""
           },
           "bgcolor": "#E5ECF6",
           "caxis": {
            "gridcolor": "white",
            "linecolor": "white",
            "ticks": ""
           }
          },
          "title": {
           "x": 0.05
          },
          "xaxis": {
           "automargin": true,
           "gridcolor": "white",
           "linecolor": "white",
           "ticks": "",
           "title": {
            "standoff": 15
           },
           "zerolinecolor": "white",
           "zerolinewidth": 2
          },
          "yaxis": {
           "automargin": true,
           "gridcolor": "white",
           "linecolor": "white",
           "ticks": "",
           "title": {
            "standoff": 15
           },
           "zerolinecolor": "white",
           "zerolinewidth": 2
          }
         }
        },
        "width": 500,
        "xaxis": {
         "autorange": false,
         "domain": [
          0,
          1
         ],
         "exponentformat": "e",
         "linecolor": "black",
         "linewidth": 1,
         "mirror": false,
         "range": [
          -5.341875000000009,
          110.341875
         ],
         "showexponent": "all",
         "showline": true,
         "side": "bottom",
         "ticks": "outside",
         "title": {
          "text": "Birth"
         },
         "type": "linear",
         "zeroline": true
        },
        "yaxis": {
         "autorange": false,
         "domain": [
          0,
          1
         ],
         "exponentformat": "e",
         "linecolor": "black",
         "linewidth": 1,
         "mirror": false,
         "range": [
          -2.1,
          107.1
         ],
         "scaleanchor": "x",
         "scaleratio": 1,
         "showexponent": "all",
         "showline": true,
         "side": "left",
         "ticks": "outside",
         "title": {
          "text": "Death"
         },
         "type": "linear",
         "zeroline": true
        }
       }
      },
      "image/png": "[encoded data removed]",
      "text/html": [
       "<div>                            <div id=\"fdba3c72-9724-43f1-aad2-8b9692ad59e8\" class=\"plotly-graph-div\" style=\"height:500px; width:500px;\"></div>            <script type=\"text/javascript\">                require([\"plotly\"], function(Plotly) {                    window.PLOTLYENV=window.PLOTLYENV || {};                                    if (document.getElementById(\"fdba3c72-9724-43f1-aad2-8b9692ad59e8\")) {                    Plotly.newPlot(                        \"fdba3c72-9724-43f1-aad2-8b9692ad59e8\",                        [{\"hoverinfo\":\"none\",\"line\":{\"color\":\"black\",\"dash\":\"dash\",\"width\":1},\"mode\":\"lines\",\"showlegend\":false,\"x\":[-2.1,107.1],\"y\":[-2.1,107.1],\"type\":\"scatter\"},{\"hoverinfo\":\"text\",\"hovertext\":[\"(9.0, 13.0)\",\"(42.0, 43.0)\",\"(9.0, 10.0), multiplicity: 2\",\"(9.0, 10.0), multiplicity: 2\",\"(10.0, 11.0)\",\"(43.0, 44.0), multiplicity: 2\",\"(17.0, 18.0)\",\"(43.0, 44.0), multiplicity: 2\",\"(14.0, 15.0)\",\"(12.0, 13.0)\",\"(34.0, 35.0)\"],\"mode\":\"markers\",\"name\":\"H0\",\"x\":[9.0,42.0,9.0,9.0,10.0,43.0,17.0,43.0,14.0,12.0,34.0],\"y\":[13.0,43.0,10.0,10.0,11.0,44.0,18.0,44.0,15.0,13.0,35.0],\"type\":\"scatter\"},{\"hoverinfo\":\"text\",\"hovertext\":[\"(0.0, 105.0)\",\"(43.0, 50.0)\",\"(47.0, 51.0)\",\"(46.0, 48.0), multiplicity: 2\",\"(46.0, 48.0), multiplicity: 2\",\"(44.0, 46.0)\",\"(43.0, 45.0)\",\"(34.0, 36.0)\",\"(31.0, 33.0)\",\"(16.0, 18.0), multiplicity: 2\",\"(16.0, 18.0), multiplicity: 2\",\"(11.0, 13.0), multiplicity: 2\",\"(11.0, 13.0), multiplicity: 2\",\"(16.0, 17.0), multiplicity: 5\",\"(12.0, 13.0), multiplicity: 5\",\"(12.0, 13.0), multiplicity: 5\",\"(12.0, 13.0), multiplicity: 5\",\"(12.0, 13.0), multiplicity: 5\",\"(1.0, 2.0), multiplicity: 2\",\"(12.0, 13.0), multiplicity: 5\",\"(11.0, 12.0), multiplicity: 3\",\"(13.0, 14.0), multiplicity: 4\",\"(13.0, 14.0), multiplicity: 4\",\"(13.0, 14.0), multiplicity: 4\",\"(13.0, 14.0), multiplicity: 4\",\"(1.0, 2.0), multiplicity: 2\",\"(15.0, 16.0)\",\"(16.0, 17.0), multiplicity: 5\",\"(16.0, 17.0), multiplicity: 5\",\"(16.0, 17.0), multiplicity: 5\",\"(16.0, 17.0), multiplicity: 5\",\"(2.0, 3.0)\",\"(5.0, 6.0)\",\"(11.0, 12.0), multiplicity: 3\",\"(17.0, 18.0), multiplicity: 3\",\"(17.0, 18.0), multiplicity: 3\",\"(17.0, 18.0), multiplicity: 3\",\"(11.0, 12.0), multiplicity: 3\",\"(20.0, 21.0)\",\"(27.0, 28.0)\",\"(29.0, 30.0)\",\"(10.0, 11.0)\",\"(8.0, 9.0)\",\"(46.0, 47.0)\",\"(36.0, 37.0)\",\"(40.0, 41.0)\",\"(43.0, 44.0), multiplicity: 3\",\"(42.0, 43.0), multiplicity: 2\",\"(42.0, 43.0), multiplicity: 2\",\"(43.0, 44.0), multiplicity: 3\",\"(43.0, 44.0), multiplicity: 3\"],\"mode\":\"markers\",\"name\":\"H1\",\"x\":[0.0,43.0,47.0,46.0,46.0,44.0,43.0,34.0,31.0,16.0,16.0,11.0,11.0,16.0,12.0,12.0,12.0,12.0,1.0,12.0,11.0,13.0,13.0,13.0,13.0,1.0,15.0,16.0,16.0,16.0,16.0,2.0,5.0,11.0,17.0,17.0,17.0,11.0,20.0,27.0,29.0,10.0,8.0,46.0,36.0,40.0,43.0,42.0,42.0,43.0,43.0],\"y\":[105.0,50.0,51.0,48.0,48.0,46.0,45.0,36.0,33.0,18.0,18.0,13.0,13.0,17.0,13.0,13.0,13.0,13.0,2.0,13.0,12.0,14.0,14.0,14.0,14.0,2.0,16.0,17.0,17.0,17.0,17.0,3.0,6.0,12.0,18.0,18.0,18.0,12.0,21.0,28.0,30.0,11.0,9.0,47.0,37.0,41.0,44.0,43.0,43.0,44.0,44.0],\"type\":\"scatter\"}],                        {\"template\":{\"data\":{\"histogram2dcontour\":[{\"type\":\"histogram2dcontour\",\"colorbar\":{\"outlinewidth\":0,\"ticks\":\"\"},\"colorscale\":[[0.0,\"#0d0887\"],[0.1111111111111111,\"#46039f\"],[0.2222222222222222,\"#7201a8\"],[0.3333333333333333,\"#9c179e\"],[0.4444444444444444,\"#bd3786\"],[0.5555555555555556,\"#d8576b\"],[0.6666666666666666,\"#ed7953\"],[0.7777777777777778,\"#fb9f3a\"],[0.8888888888888888,\"#fdca26\"],[1.0,\"#f0f921\"]]}],\"choropleth\":[{\"type\":\"choropleth\",\"colorbar\":{\"outlinewidth\":0,\"ticks\":\"\"}}],\"histogram2d\":[{\"type\":\"histogram2d\",\"colorbar\":{\"outlinewidth\":0,\"ticks\":\"\"},\"colorscale\":[[0.0,\"#0d0887\"],[0.1111111111111111,\"#46039f\"],[0.2222222222222222,\"#7201a8\"],[0.3333333333333333,\"#9c179e\"],[0.4444444444444444,\"#bd3786\"],[0.5555555555555556,\"#d8576b\"],[0.6666666666666666,\"#ed7953\"],[0.7777777777777778,\"#fb9f3a\"],[0.8888888888888888,\"#fdca26\"],[1.0,\"#f0f921\"]]}],\"heatmap\":[{\"type\":\"heatmap\",\"colorbar\":{\"outlinewidth\":0,\"ticks\":\"\"},\"colorscale\":[[0.0,\"#0d0887\"],[0.1111111111111111,\"#46039f\"],[0.2222222222222222,\"#7201a8\"],[0.3333333333333333,\"#9c179e\"],[0.4444444444444444,\"#bd3786\"],[0.5555555555555556,\"#d8576b\"],[0.6666666666666666,\"#ed7953\"],[0.7777777777777778,\"#fb9f3a\"],[0.8888888888888888,\"#fdca26\"],[1.0,\"#f0f921\"]]}],\"heatmapgl\":[{\"type\":\"heatmapgl\",\"colorbar\":{\"outlinewidth\":0,\"ticks\":\"\"},\"colorscale\":[[0.0,\"#0d0887\"],[0.1111111111111111,\"#46039f\"],[0.2222222222222222,\"#7201a8\"],[0.3333333333333333,\"#9c179e\"],[0.4444444444444444,\"#bd3786\"],[0.5555555555555556,\"#d8576b\"],[0.6666666666666666,\"#ed7953\"],[0.7777777777777778,\"#fb9f3a\"],[0.8888888888888888,\"#fdca26\"],[1.0,\"#f0f921\"]]}],\"contourcarpet\":[{\"type\":\"contourcarpet\",\"colorbar\":{\"outlinewidth\":0,\"ticks\":\"\"}}],\"contour\":[{\"type\":\"contour\",\"colorbar\":{\"outlinewidth\":0,\"ticks\":\"\"},\"colorscale\":[[0.0,\"#0d0887\"],[0.1111111111111111,\"#46039f\"],[0.2222222222222222,\"#7201a8\"],[0.3333333333333333,\"#9c179e\"],[0.4444444444444444,\"#bd3786\"],[0.5555555555555556,\"#d8576b\"],[0.6666666666666666,\"#ed7953\"],[0.7777777777777778,\"#fb9f3a\"],[0.8888888888888888,\"#fdca26\"],[1.0,\"#f0f921\"]]}],\"surface\":[{\"type\":\"surface\",\"colorbar\":{\"outlinewidth\":0,\"ticks\":\"\"},\"colorscale\":[[0.0,\"#0d0887\"],[0.1111111111111111,\"#46039f\"],[0.2222222222222222,\"#7201a8\"],[0.3333333333333333,\"#9c179e\"],[0.4444444444444444,\"#bd3786\"],[0.5555555555555556,\"#d8576b\"],[0.6666666666666666,\"#ed7953\"],[0.7777777777777778,\"#fb9f3a\"],[0.8888888888888888,\"#fdca26\"],[1.0,\"#f0f921\"]]}],\"mesh3d\":[{\"type\":\"mesh3d\",\"colorbar\":{\"outlinewidth\":0,\"ticks\":\"\"}}],\"scatter\":[{\"fillpattern\":{\"fillmode\":\"overlay\",\"size\":10,\"solidity\":0.2},\"type\":\"scatter\"}],\"parcoords\":[{\"type\":\"parcoords\",\"line\":{\"colorbar\":{\"outlinewidth\":0,\"ticks\":\"\"}}}],\"scatterpolargl\":[{\"type\":\"scatterpolargl\",\"marker\":{\"colorbar\":{\"outlinewidth\":0,\"ticks\":\"\"}}}],\"bar\":[{\"error_x\":{\"color\":\"#2a3f5f\"},\"error_y\":{\"color\":\"#2a3f5f\"},\"marker\":{\"line\":{\"color\":\"#E5ECF6\",\"width\":0.5},\"pattern\":{\"fillmode\":\"overlay\",\"size\":10,\"solidity\":0.2}},\"type\":\"bar\"}],\"scattergeo\":[{\"type\":\"scattergeo\",\"marker\":{\"colorbar\":{\"outlinewidth\":0,\"ticks\":\"\"}}}],\"scatterpolar\":[{\"type\":\"scatterpolar\",\"marker\":{\"colorbar\":{\"outlinewidth\":0,\"ticks\":\"\"}}}],\"histogram\":[{\"marker\":{\"pattern\":{\"fillmode\":\"overlay\",\"size\":10,\"solidity\":0.2}},\"type\":\"histogram\"}],\"scattergl\":[{\"type\":\"scattergl\",\"marker\":{\"colorbar\":{\"outlinewidth\":0,\"ticks\":\"\"}}}],\"scatter3d\":[{\"type\":\"scatter3d\",\"line\":{\"colorbar\":{\"outlinewidth\":0,\"ticks\":\"\"}},\"marker\":{\"colorbar\":{\"outlinewidth\":0,\"ticks\":\"\"}}}],\"scattermapbox\":[{\"type\":\"scattermapbox\",\"marker\":{\"colorbar\":{\"outlinewidth\":0,\"ticks\":\"\"}}}],\"scatterternary\":[{\"type\":\"scatterternary\",\"marker\":{\"colorbar\":{\"outlinewidth\":0,\"ticks\":\"\"}}}],\"scattercarpet\":[{\"type\":\"scattercarpet\",\"marker\":{\"colorbar\":{\"outlinewidth\":0,\"ticks\":\"\"}}}],\"carpet\":[{\"aaxis\":{\"endlinecolor\":\"#2a3f5f\",\"gridcolor\":\"white\",\"linecolor\":\"white\",\"minorgridcolor\":\"white\",\"startlinecolor\":\"#2a3f5f\"},\"baxis\":{\"endlinecolor\":\"#2a3f5f\",\"gridcolor\":\"white\",\"linecolor\":\"white\",\"minorgridcolor\":\"white\",\"startlinecolor\":\"#2a3f5f\"},\"type\":\"carpet\"}],\"table\":[{\"cells\":{\"fill\":{\"color\":\"#EBF0F8\"},\"line\":{\"color\":\"white\"}},\"header\":{\"fill\":{\"color\":\"#C8D4E3\"},\"line\":{\"color\":\"white\"}},\"type\":\"table\"}],\"barpolar\":[{\"marker\":{\"line\":{\"color\":\"#E5ECF6\",\"width\":0.5},\"pattern\":{\"fillmode\":\"overlay\",\"size\":10,\"solidity\":0.2}},\"type\":\"barpolar\"}],\"pie\":[{\"automargin\":true,\"type\":\"pie\"}]},\"layout\":{\"autotypenumbers\":\"strict\",\"colorway\":[\"#636efa\",\"#EF553B\",\"#00cc96\",\"#ab63fa\",\"#FFA15A\",\"#19d3f3\",\"#FF6692\",\"#B6E880\",\"#FF97FF\",\"#FECB52\"],\"font\":{\"color\":\"#2a3f5f\"},\"hovermode\":\"closest\",\"hoverlabel\":{\"align\":\"left\"},\"paper_bgcolor\":\"white\",\"plot_bgcolor\":\"#E5ECF6\",\"polar\":{\"bgcolor\":\"#E5ECF6\",\"angularaxis\":{\"gridcolor\":\"white\",\"linecolor\":\"white\",\"ticks\":\"\"},\"radialaxis\":{\"gridcolor\":\"white\",\"linecolor\":\"white\",\"ticks\":\"\"}},\"ternary\":{\"bgcolor\":\"#E5ECF6\",\"aaxis\":{\"gridcolor\":\"white\",\"linecolor\":\"white\",\"ticks\":\"\"},\"baxis\":{\"gridcolor\":\"white\",\"linecolor\":\"white\",\"ticks\":\"\"},\"caxis\":{\"gridcolor\":\"white\",\"linecolor\":\"white\",\"ticks\":\"\"}},\"coloraxis\":{\"colorbar\":{\"outlinewidth\":0,\"ticks\":\"\"}},\"colorscale\":{\"sequential\":[[0.0,\"#0d0887\"],[0.1111111111111111,\"#46039f\"],[0.2222222222222222,\"#7201a8\"],[0.3333333333333333,\"#9c179e\"],[0.4444444444444444,\"#bd3786\"],[0.5555555555555556,\"#d8576b\"],[0.6666666666666666,\"#ed7953\"],[0.7777777777777778,\"#fb9f3a\"],[0.8888888888888888,\"#fdca26\"],[1.0,\"#f0f921\"]],\"sequentialminus\":[[0.0,\"#0d0887\"],[0.1111111111111111,\"#46039f\"],[0.2222222222222222,\"#7201a8\"],[0.3333333333333333,\"#9c179e\"],[0.4444444444444444,\"#bd3786\"],[0.5555555555555556,\"#d8576b\"],[0.6666666666666666,\"#ed7953\"],[0.7777777777777778,\"#fb9f3a\"],[0.8888888888888888,\"#fdca26\"],[1.0,\"#f0f921\"]],\"diverging\":[[0,\"#8e0152\"],[0.1,\"#c51b7d\"],[0.2,\"#de77ae\"],[0.3,\"#f1b6da\"],[0.4,\"#fde0ef\"],[0.5,\"#f7f7f7\"],[0.6,\"#e6f5d0\"],[0.7,\"#b8e186\"],[0.8,\"#7fbc41\"],[0.9,\"#4d9221\"],[1,\"#276419\"]]},\"xaxis\":{\"gridcolor\":\"white\",\"linecolor\":\"white\",\"ticks\":\"\",\"title\":{\"standoff\":15},\"zerolinecolor\":\"white\",\"automargin\":true,\"zerolinewidth\":2},\"yaxis\":{\"gridcolor\":\"white\",\"linecolor\":\"white\",\"ticks\":\"\",\"title\":{\"standoff\":15},\"zerolinecolor\":\"white\",\"automargin\":true,\"zerolinewidth\":2},\"scene\":{\"xaxis\":{\"backgroundcolor\":\"#E5ECF6\",\"gridcolor\":\"white\",\"linecolor\":\"white\",\"showbackground\":true,\"ticks\":\"\",\"zerolinecolor\":\"white\",\"gridwidth\":2},\"yaxis\":{\"backgroundcolor\":\"#E5ECF6\",\"gridcolor\":\"white\",\"linecolor\":\"white\",\"showbackground\":true,\"ticks\":\"\",\"zerolinecolor\":\"white\",\"gridwidth\":2},\"zaxis\":{\"backgroundcolor\":\"#E5ECF6\",\"gridcolor\":\"white\",\"linecolor\":\"white\",\"showbackground\":true,\"ticks\":\"\",\"zerolinecolor\":\"white\",\"gridwidth\":2}},\"shapedefaults\":{\"line\":{\"color\":\"#2a3f5f\"}},\"annotationdefaults\":{\"arrowcolor\":\"#2a3f5f\",\"arrowhead\":0,\"arrowwidth\":1},\"geo\":{\"bgcolor\":\"white\",\"landcolor\":\"#E5ECF6\",\"subunitcolor\":\"white\",\"showland\":true,\"showlakes\":true,\"lakecolor\":\"white\"},\"title\":{\"x\":0.05},\"mapbox\":{\"style\":\"light\"}}},\"xaxis\":{\"title\":{\"text\":\"Birth\"},\"side\":\"bottom\",\"type\":\"linear\",\"range\":[-2.1,107.1],\"autorange\":false,\"ticks\":\"outside\",\"showline\":true,\"zeroline\":true,\"linewidth\":1,\"linecolor\":\"black\",\"mirror\":false,\"showexponent\":\"all\",\"exponentformat\":\"e\"},\"yaxis\":{\"title\":{\"text\":\"Death\"},\"side\":\"left\",\"type\":\"linear\",\"range\":[-2.1,107.1],\"autorange\":false,\"scaleanchor\":\"x\",\"scaleratio\":1,\"ticks\":\"outside\",\"showline\":true,\"zeroline\":true,\"linewidth\":1,\"linecolor\":\"black\",\"mirror\":false,\"showexponent\":\"all\",\"exponentformat\":\"e\"},\"width\":500,\"height\":500,\"plot_bgcolor\":\"white\"},                        {\"responsive\": true}                    ).then(function(){\n",
       "                            \n",
       "var gd = document.getElementById('fdba3c72-9724-43f1-aad2-8b9692ad59e8');\n",
       "var x = new MutationObserver(function (mutations, observer) {{\n",
       "        var display = window.getComputedStyle(gd).display;\n",
       "        if (!display || display === 'none') {{\n",
       "            console.log([gd, 'removed!']);\n",
       "            Plotly.purge(gd);\n",
       "            observer.disconnect();\n",
       "        }}\n",
       "}});\n",
       "\n",
       "// Listen for the removal of the full notebook cells\n",
       "var notebookContainer = gd.closest('#notebook-container');\n",
       "if (notebookContainer) {{\n",
       "    x.observe(notebookContainer, {childList: true});\n",
       "}}\n",
       "\n",
       "// Listen for the clearing of the current output cell\n",
       "var outputEl = gd.closest('.output');\n",
       "if (outputEl) {{\n",
       "    x.observe(outputEl, {childList: true});\n",
       "}}\n",
       "\n",
       "                        })                };                });            </script>        </div>"
      ]
     },
     "metadata": {},
     "output_type": "display_data"
    },
    {
     "data": {
      "application/vnd.plotly.v1+json": {
       "config": {
        "plotlyServerURL": "https://plot.ly"
       },
       "data": [
        {
         "hoverinfo": "none",
         "line": {
          "color": "black",
          "dash": "dash",
          "width": 1
         },
         "mode": "lines",
         "showlegend": false,
         "type": "scatter",
         "x": [
          -4.08,
          208.08
         ],
         "y": [
          -4.08,
          208.08
         ]
        },
        {
         "hoverinfo": "text",
         "hovertext": [
          "(49.333333333333336, 60.0)",
          "(54.666666666666664, 58.666666666666664)",
          "(56.0, 59.333333333333336)",
          "(60.0, 63.0)",
          "(61.333333333333336, 63.333333333333336)",
          "(122.0, 123.66666666666667)",
          "(94.0, 95.66666666666667)",
          "(61.333333333333336, 63.0)",
          "(63.333333333333336, 65.0)",
          "(130.66666666666666, 132.0)",
          "(63.666666666666664, 65.0)",
          "(55.666666666666664, 57.0)",
          "(62.333333333333336, 63.666666666666664)",
          "(63.666666666666664, 64.66666666666667)",
          "(61.0, 62.0)",
          "(53.666666666666664, 54.333333333333336)",
          "(27.333333333333332, 28.0)",
          "(58.666666666666664, 59.0)",
          "(59.0, 59.333333333333336)",
          "(56.666666666666664, 57.0)",
          "(27.333333333333332, 27.666666666666668)",
          "(40.0, 40.333333333333336)",
          "(37.666666666666664, 38.0)",
          "(26.0, 26.333333333333332)",
          "(78.0, 78.33333333333333)",
          "(92.0, 92.33333333333333)"
         ],
         "mode": "markers",
         "name": "H0",
         "type": "scatter",
         "x": [
          49.333333333333336,
          54.666666666666664,
          56,
          60,
          61.333333333333336,
          122,
          94,
          61.333333333333336,
          63.333333333333336,
          130.66666666666666,
          63.666666666666664,
          55.666666666666664,
          62.333333333333336,
          63.666666666666664,
          61,
          53.666666666666664,
          27.333333333333332,
          58.666666666666664,
          59,
          56.666666666666664,
          27.333333333333332,
          40,
          37.666666666666664,
          26,
          78,
          92
         ],
         "y": [
          60,
          58.666666666666664,
          59.333333333333336,
          63,
          63.333333333333336,
          123.66666666666667,
          95.66666666666667,
          63,
          65,
          132,
          65,
          57,
          63.666666666666664,
          64.66666666666667,
          62,
          54.333333333333336,
          28,
          59,
          59.333333333333336,
          57,
          27.666666666666668,
          40.333333333333336,
          38,
          26.333333333333332,
          78.33333333333333,
          92.33333333333333
         ]
        },
        {
         "hoverinfo": "text",
         "hovertext": [
          "(0.0, 204.0)",
          "(65.0, 78.0)",
          "(64.66666666666667, 71.66666666666667)",
          "(61.0, 68.0)",
          "(66.66666666666667, 73.0)",
          "(63.333333333333336, 68.33333333333333)",
          "(70.33333333333333, 75.0)",
          "(159.0, 163.33333333333334)",
          "(72.33333333333333, 76.33333333333333)",
          "(140.0, 144.0)",
          "(69.0, 72.66666666666667)",
          "(108.33333333333333, 112.0)",
          "(61.0, 64.66666666666667)",
          "(68.33333333333333, 72.0)",
          "(63.666666666666664, 67.33333333333333)",
          "(96.66666666666667, 100.33333333333333)",
          "(69.66666666666667, 73.33333333333333)",
          "(129.66666666666666, 133.0)",
          "(125.33333333333333, 128.33333333333334)",
          "(69.33333333333333, 72.33333333333333)",
          "(66.66666666666667, 69.66666666666667)",
          "(67.33333333333333, 70.33333333333333)",
          "(66.33333333333333, 69.0)",
          "(71.0, 73.66666666666667)",
          "(132.33333333333334, 135.0)",
          "(67.0, 69.0)",
          "(60.333333333333336, 62.333333333333336)",
          "(123.66666666666667, 125.66666666666667)",
          "(63.0, 65.0)",
          "(127.0, 129.0)",
          "(70.33333333333333, 72.0)",
          "(58.333333333333336, 60.0)",
          "(106.66666666666667, 108.33333333333333)",
          "(128.33333333333334, 130.0)",
          "(74.33333333333333, 75.66666666666667)",
          "(84.0, 85.33333333333333)",
          "(128.33333333333334, 129.66666666666666)",
          "(124.33333333333333, 125.33333333333333)",
          "(70.33333333333333, 71.33333333333333)",
          "(103.0, 104.0)",
          "(86.33333333333333, 87.33333333333333)",
          "(123.0, 124.0)",
          "(71.0, 72.0)",
          "(64.33333333333333, 65.33333333333333)",
          "(58.666666666666664, 59.666666666666664)",
          "(74.66666666666667, 75.66666666666667)",
          "(66.0, 67.0)",
          "(138.66666666666666, 139.33333333333334)",
          "(66.0, 66.66666666666667)",
          "(60.666666666666664, 61.333333333333336)",
          "(49.666666666666664, 50.333333333333336)",
          "(126.33333333333333, 127.0)",
          "(80.0, 80.66666666666667)",
          "(64.0, 64.66666666666667)",
          "(59.666666666666664, 60.333333333333336)",
          "(57.666666666666664, 58.333333333333336)",
          "(110.33333333333333, 111.0)",
          "(28.333333333333332, 29.0)",
          "(29.0, 29.666666666666668)",
          "(59.0, 59.666666666666664)",
          "(62.0, 62.666666666666664)",
          "(57.333333333333336, 58.0)",
          "(129.33333333333334, 130.0)",
          "(68.66666666666667, 69.33333333333333)",
          "(79.66666666666667, 80.33333333333333)",
          "(122.66666666666667, 123.33333333333333)",
          "(132.0, 132.33333333333334)",
          "(67.33333333333333, 67.66666666666667), multiplicity: 2",
          "(127.33333333333333, 127.66666666666667)",
          "(67.33333333333333, 67.66666666666667), multiplicity: 2",
          "(66.33333333333333, 66.66666666666667)",
          "(47.666666666666664, 48.0)",
          "(43.0, 43.333333333333336)",
          "(62.666666666666664, 63.0)",
          "(60.666666666666664, 61.0)",
          "(27.666666666666668, 28.0), multiplicity: 2",
          "(28.666666666666668, 29.0)",
          "(27.666666666666668, 28.0), multiplicity: 2",
          "(64.0, 64.33333333333333), multiplicity: 2",
          "(116.0, 116.33333333333333)",
          "(63.333333333333336, 63.666666666666664)",
          "(124.66666666666667, 125.0)",
          "(64.0, 64.33333333333333), multiplicity: 2",
          "(89.0, 89.33333333333333)",
          "(65.66666666666667, 66.0)",
          "(94.0, 94.33333333333333)",
          "(38.333333333333336, 38.666666666666664)",
          "(98.0, 98.33333333333333)",
          "(67.66666666666667, 68.0)"
         ],
         "mode": "markers",
         "name": "H1",
         "type": "scatter",
         "x": [
          0,
          65,
          64.66666666666667,
          61,
          66.66666666666667,
          63.333333333333336,
          70.33333333333333,
          159,
          72.33333333333333,
          140,
          69,
          108.33333333333333,
          61,
          68.33333333333333,
          63.666666666666664,
          96.66666666666667,
          69.66666666666667,
          129.66666666666666,
          125.33333333333333,
          69.33333333333333,
          66.66666666666667,
          67.33333333333333,
          66.33333333333333,
          71,
          132.33333333333334,
          67,
          60.333333333333336,
          123.66666666666667,
          63,
          127,
          70.33333333333333,
          58.333333333333336,
          106.66666666666667,
          128.33333333333334,
          74.33333333333333,
          84,
          128.33333333333334,
          124.33333333333333,
          70.33333333333333,
          103,
          86.33333333333333,
          123,
          71,
          64.33333333333333,
          58.666666666666664,
          74.66666666666667,
          66,
          138.66666666666666,
          66,
          60.666666666666664,
          49.666666666666664,
          126.33333333333333,
          80,
          64,
          59.666666666666664,
          57.666666666666664,
          110.33333333333333,
          28.333333333333332,
          29,
          59,
          62,
          57.333333333333336,
          129.33333333333334,
          68.66666666666667,
          79.66666666666667,
          122.66666666666667,
          132,
          67.33333333333333,
          127.33333333333333,
          67.33333333333333,
          66.33333333333333,
          47.666666666666664,
          43,
          62.666666666666664,
          60.666666666666664,
          27.666666666666668,
          28.666666666666668,
          27.666666666666668,
          64,
          116,
          63.333333333333336,
          124.66666666666667,
          64,
          89,
          65.66666666666667,
          94,
          38.333333333333336,
          98,
          67.66666666666667
         ],
         "y": [
          204,
          78,
          71.66666666666667,
          68,
          73,
          68.33333333333333,
          75,
          163.33333333333334,
          76.33333333333333,
          144,
          72.66666666666667,
          112,
          64.66666666666667,
          72,
          67.33333333333333,
          100.33333333333333,
          73.33333333333333,
          133,
          128.33333333333334,
          72.33333333333333,
          69.66666666666667,
          70.33333333333333,
          69,
          73.66666666666667,
          135,
          69,
          62.333333333333336,
          125.66666666666667,
          65,
          129,
          72,
          60,
          108.33333333333333,
          130,
          75.66666666666667,
          85.33333333333333,
          129.66666666666666,
          125.33333333333333,
          71.33333333333333,
          104,
          87.33333333333333,
          124,
          72,
          65.33333333333333,
          59.666666666666664,
          75.66666666666667,
          67,
          139.33333333333334,
          66.66666666666667,
          61.333333333333336,
          50.333333333333336,
          127,
          80.66666666666667,
          64.66666666666667,
          60.333333333333336,
          58.333333333333336,
          111,
          29,
          29.666666666666668,
          59.666666666666664,
          62.666666666666664,
          58,
          130,
          69.33333333333333,
          80.33333333333333,
          123.33333333333333,
          132.33333333333334,
          67.66666666666667,
          127.66666666666667,
          67.66666666666667,
          66.66666666666667,
          48,
          43.333333333333336,
          63,
          61,
          28,
          29,
          28,
          64.33333333333333,
          116.33333333333333,
          63.666666666666664,
          125,
          64.33333333333333,
          89.33333333333333,
          66,
          94.33333333333333,
          38.666666666666664,
          98.33333333333333,
          68
         ]
        }
       ],
       "layout": {
        "height": 500,
        "plot_bgcolor": "white",
        "template": {
         "data": {
          "bar": [
           {
            "error_x": {
             "color": "#2a3f5f"
            },
            "error_y": {
             "color": "#2a3f5f"
            },
            "marker": {
             "line": {
              "color": "#E5ECF6",
              "width": 0.5
             },
             "pattern": {
              "fillmode": "overlay",
              "size": 10,
              "solidity": 0.2
             }
            },
            "type": "bar"
           }
          ],
          "barpolar": [
           {
            "marker": {
             "line": {
              "color": "#E5ECF6",
              "width": 0.5
             },
             "pattern": {
              "fillmode": "overlay",
              "size": 10,
              "solidity": 0.2
             }
            },
            "type": "barpolar"
           }
          ],
          "carpet": [
           {
            "aaxis": {
             "endlinecolor": "#2a3f5f",
             "gridcolor": "white",
             "linecolor": "white",
             "minorgridcolor": "white",
             "startlinecolor": "#2a3f5f"
            },
            "baxis": {
             "endlinecolor": "#2a3f5f",
             "gridcolor": "white",
             "linecolor": "white",
             "minorgridcolor": "white",
             "startlinecolor": "#2a3f5f"
            },
            "type": "carpet"
           }
          ],
          "choropleth": [
           {
            "colorbar": {
             "outlinewidth": 0,
             "ticks": ""
            },
            "type": "choropleth"
           }
          ],
          "contour": [
           {
            "colorbar": {
             "outlinewidth": 0,
             "ticks": ""
            },
            "colorscale": [
             [
              0,
              "#0d0887"
             ],
             [
              0.1111111111111111,
              "#46039f"
             ],
             [
              0.2222222222222222,
              "#7201a8"
             ],
             [
              0.3333333333333333,
              "#9c179e"
             ],
             [
              0.4444444444444444,
              "#bd3786"
             ],
             [
              0.5555555555555556,
              "#d8576b"
             ],
             [
              0.6666666666666666,
              "#ed7953"
             ],
             [
              0.7777777777777778,
              "#fb9f3a"
             ],
             [
              0.8888888888888888,
              "#fdca26"
             ],
             [
              1,
              "#f0f921"
             ]
            ],
            "type": "contour"
           }
          ],
          "contourcarpet": [
           {
            "colorbar": {
             "outlinewidth": 0,
             "ticks": ""
            },
            "type": "contourcarpet"
           }
          ],
          "heatmap": [
           {
            "colorbar": {
             "outlinewidth": 0,
             "ticks": ""
            },
            "colorscale": [
             [
              0,
              "#0d0887"
             ],
             [
              0.1111111111111111,
              "#46039f"
             ],
             [
              0.2222222222222222,
              "#7201a8"
             ],
             [
              0.3333333333333333,
              "#9c179e"
             ],
             [
              0.4444444444444444,
              "#bd3786"
             ],
             [
              0.5555555555555556,
              "#d8576b"
             ],
             [
              0.6666666666666666,
              "#ed7953"
             ],
             [
              0.7777777777777778,
              "#fb9f3a"
             ],
             [
              0.8888888888888888,
              "#fdca26"
             ],
             [
              1,
              "#f0f921"
             ]
            ],
            "type": "heatmap"
           }
          ],
          "heatmapgl": [
           {
            "colorbar": {
             "outlinewidth": 0,
             "ticks": ""
            },
            "colorscale": [
             [
              0,
              "#0d0887"
             ],
             [
              0.1111111111111111,
              "#46039f"
             ],
             [
              0.2222222222222222,
              "#7201a8"
             ],
             [
              0.3333333333333333,
              "#9c179e"
             ],
             [
              0.4444444444444444,
              "#bd3786"
             ],
             [
              0.5555555555555556,
              "#d8576b"
             ],
             [
              0.6666666666666666,
              "#ed7953"
             ],
             [
              0.7777777777777778,
              "#fb9f3a"
             ],
             [
              0.8888888888888888,
              "#fdca26"
             ],
             [
              1,
              "#f0f921"
             ]
            ],
            "type": "heatmapgl"
           }
          ],
          "histogram": [
           {
            "marker": {
             "pattern": {
              "fillmode": "overlay",
              "size": 10,
              "solidity": 0.2
             }
            },
            "type": "histogram"
           }
          ],
          "histogram2d": [
           {
            "colorbar": {
             "outlinewidth": 0,
             "ticks": ""
            },
            "colorscale": [
             [
              0,
              "#0d0887"
             ],
             [
              0.1111111111111111,
              "#46039f"
             ],
             [
              0.2222222222222222,
              "#7201a8"
             ],
             [
              0.3333333333333333,
              "#9c179e"
             ],
             [
              0.4444444444444444,
              "#bd3786"
             ],
             [
              0.5555555555555556,
              "#d8576b"
             ],
             [
              0.6666666666666666,
              "#ed7953"
             ],
             [
              0.7777777777777778,
              "#fb9f3a"
             ],
             [
              0.8888888888888888,
              "#fdca26"
             ],
             [
              1,
              "#f0f921"
             ]
            ],
            "type": "histogram2d"
           }
          ],
          "histogram2dcontour": [
           {
            "colorbar": {
             "outlinewidth": 0,
             "ticks": ""
            },
            "colorscale": [
             [
              0,
              "#0d0887"
             ],
             [
              0.1111111111111111,
              "#46039f"
             ],
             [
              0.2222222222222222,
              "#7201a8"
             ],
             [
              0.3333333333333333,
              "#9c179e"
             ],
             [
              0.4444444444444444,
              "#bd3786"
             ],
             [
              0.5555555555555556,
              "#d8576b"
             ],
             [
              0.6666666666666666,
              "#ed7953"
             ],
             [
              0.7777777777777778,
              "#fb9f3a"
             ],
             [
              0.8888888888888888,
              "#fdca26"
             ],
             [
              1,
              "#f0f921"
             ]
            ],
            "type": "histogram2dcontour"
           }
          ],
          "mesh3d": [
           {
            "colorbar": {
             "outlinewidth": 0,
             "ticks": ""
            },
            "type": "mesh3d"
           }
          ],
          "parcoords": [
           {
            "line": {
             "colorbar": {
              "outlinewidth": 0,
              "ticks": ""
             }
            },
            "type": "parcoords"
           }
          ],
          "pie": [
           {
            "automargin": true,
            "type": "pie"
           }
          ],
          "scatter": [
           {
            "fillpattern": {
             "fillmode": "overlay",
             "size": 10,
             "solidity": 0.2
            },
            "type": "scatter"
           }
          ],
          "scatter3d": [
           {
            "line": {
             "colorbar": {
              "outlinewidth": 0,
              "ticks": ""
             }
            },
            "marker": {
             "colorbar": {
              "outlinewidth": 0,
              "ticks": ""
             }
            },
            "type": "scatter3d"
           }
          ],
          "scattercarpet": [
           {
            "marker": {
             "colorbar": {
              "outlinewidth": 0,
              "ticks": ""
             }
            },
            "type": "scattercarpet"
           }
          ],
          "scattergeo": [
           {
            "marker": {
             "colorbar": {
              "outlinewidth": 0,
              "ticks": ""
             }
            },
            "type": "scattergeo"
           }
          ],
          "scattergl": [
           {
            "marker": {
             "colorbar": {
              "outlinewidth": 0,
              "ticks": ""
             }
            },
            "type": "scattergl"
           }
          ],
          "scattermapbox": [
           {
            "marker": {
             "colorbar": {
              "outlinewidth": 0,
              "ticks": ""
             }
            },
            "type": "scattermapbox"
           }
          ],
          "scatterpolar": [
           {
            "marker": {
             "colorbar": {
              "outlinewidth": 0,
              "ticks": ""
             }
            },
            "type": "scatterpolar"
           }
          ],
          "scatterpolargl": [
           {
            "marker": {
             "colorbar": {
              "outlinewidth": 0,
              "ticks": ""
             }
            },
            "type": "scatterpolargl"
           }
          ],
          "scatterternary": [
           {
            "marker": {
             "colorbar": {
              "outlinewidth": 0,
              "ticks": ""
             }
            },
            "type": "scatterternary"
           }
          ],
          "surface": [
           {
            "colorbar": {
             "outlinewidth": 0,
             "ticks": ""
            },
            "colorscale": [
             [
              0,
              "#0d0887"
             ],
             [
              0.1111111111111111,
              "#46039f"
             ],
             [
              0.2222222222222222,
              "#7201a8"
             ],
             [
              0.3333333333333333,
              "#9c179e"
             ],
             [
              0.4444444444444444,
              "#bd3786"
             ],
             [
              0.5555555555555556,
              "#d8576b"
             ],
             [
              0.6666666666666666,
              "#ed7953"
             ],
             [
              0.7777777777777778,
              "#fb9f3a"
             ],
             [
              0.8888888888888888,
              "#fdca26"
             ],
             [
              1,
              "#f0f921"
             ]
            ],
            "type": "surface"
           }
          ],
          "table": [
           {
            "cells": {
             "fill": {
              "color": "#EBF0F8"
             },
             "line": {
              "color": "white"
             }
            },
            "header": {
             "fill": {
              "color": "#C8D4E3"
             },
             "line": {
              "color": "white"
             }
            },
            "type": "table"
           }
          ]
         },
         "layout": {
          "annotationdefaults": {
           "arrowcolor": "#2a3f5f",
           "arrowhead": 0,
           "arrowwidth": 1
          },
          "autotypenumbers": "strict",
          "coloraxis": {
           "colorbar": {
            "outlinewidth": 0,
            "ticks": ""
           }
          },
          "colorscale": {
           "diverging": [
            [
             0,
             "#8e0152"
            ],
            [
             0.1,
             "#c51b7d"
            ],
            [
             0.2,
             "#de77ae"
            ],
            [
             0.3,
             "#f1b6da"
            ],
            [
             0.4,
             "#fde0ef"
            ],
            [
             0.5,
             "#f7f7f7"
            ],
            [
             0.6,
             "#e6f5d0"
            ],
            [
             0.7,
             "#b8e186"
            ],
            [
             0.8,
             "#7fbc41"
            ],
            [
             0.9,
             "#4d9221"
            ],
            [
             1,
             "#276419"
            ]
           ],
           "sequential": [
            [
             0,
             "#0d0887"
            ],
            [
             0.1111111111111111,
             "#46039f"
            ],
            [
             0.2222222222222222,
             "#7201a8"
            ],
            [
             0.3333333333333333,
             "#9c179e"
            ],
            [
             0.4444444444444444,
             "#bd3786"
            ],
            [
             0.5555555555555556,
             "#d8576b"
            ],
            [
             0.6666666666666666,
             "#ed7953"
            ],
            [
             0.7777777777777778,
             "#fb9f3a"
            ],
            [
             0.8888888888888888,
             "#fdca26"
            ],
            [
             1,
             "#f0f921"
            ]
           ],
           "sequentialminus": [
            [
             0,
             "#0d0887"
            ],
            [
             0.1111111111111111,
             "#46039f"
            ],
            [
             0.2222222222222222,
             "#7201a8"
            ],
            [
             0.3333333333333333,
             "#9c179e"
            ],
            [
             0.4444444444444444,
             "#bd3786"
            ],
            [
             0.5555555555555556,
             "#d8576b"
            ],
            [
             0.6666666666666666,
             "#ed7953"
            ],
            [
             0.7777777777777778,
             "#fb9f3a"
            ],
            [
             0.8888888888888888,
             "#fdca26"
            ],
            [
             1,
             "#f0f921"
            ]
           ]
          },
          "colorway": [
           "#636efa",
           "#EF553B",
           "#00cc96",
           "#ab63fa",
           "#FFA15A",
           "#19d3f3",
           "#FF6692",
           "#B6E880",
           "#FF97FF",
           "#FECB52"
          ],
          "font": {
           "color": "#2a3f5f"
          },
          "geo": {
           "bgcolor": "white",
           "lakecolor": "white",
           "landcolor": "#E5ECF6",
           "showlakes": true,
           "showland": true,
           "subunitcolor": "white"
          },
          "hoverlabel": {
           "align": "left"
          },
          "hovermode": "closest",
          "mapbox": {
           "style": "light"
          },
          "paper_bgcolor": "white",
          "plot_bgcolor": "#E5ECF6",
          "polar": {
           "angularaxis": {
            "gridcolor": "white",
            "linecolor": "white",
            "ticks": ""
           },
           "bgcolor": "#E5ECF6",
           "radialaxis": {
            "gridcolor": "white",
            "linecolor": "white",
            "ticks": ""
           }
          },
          "scene": {
           "xaxis": {
            "backgroundcolor": "#E5ECF6",
            "gridcolor": "white",
            "gridwidth": 2,
            "linecolor": "white",
            "showbackground": true,
            "ticks": "",
            "zerolinecolor": "white"
           },
           "yaxis": {
            "backgroundcolor": "#E5ECF6",
            "gridcolor": "white",
            "gridwidth": 2,
            "linecolor": "white",
            "showbackground": true,
            "ticks": "",
            "zerolinecolor": "white"
           },
           "zaxis": {
            "backgroundcolor": "#E5ECF6",
            "gridcolor": "white",
            "gridwidth": 2,
            "linecolor": "white",
            "showbackground": true,
            "ticks": "",
            "zerolinecolor": "white"
           }
          },
          "shapedefaults": {
           "line": {
            "color": "#2a3f5f"
           }
          },
          "ternary": {
           "aaxis": {
            "gridcolor": "white",
            "linecolor": "white",
            "ticks": ""
           },
           "baxis": {
            "gridcolor": "white",
            "linecolor": "white",
            "ticks": ""
           },
           "bgcolor": "#E5ECF6",
           "caxis": {
            "gridcolor": "white",
            "linecolor": "white",
            "ticks": ""
           }
          },
          "title": {
           "x": 0.05
          },
          "xaxis": {
           "automargin": true,
           "gridcolor": "white",
           "linecolor": "white",
           "ticks": "",
           "title": {
            "standoff": 15
           },
           "zerolinecolor": "white",
           "zerolinewidth": 2
          },
          "yaxis": {
           "automargin": true,
           "gridcolor": "white",
           "linecolor": "white",
           "ticks": "",
           "title": {
            "standoff": 15
           },
           "zerolinecolor": "white",
           "zerolinewidth": 2
          }
         }
        },
        "width": 500,
        "xaxis": {
         "autorange": false,
         "domain": [
          0,
          1
         ],
         "exponentformat": "e",
         "linecolor": "black",
         "linewidth": 1,
         "mirror": false,
         "range": [
          -10.378500000000017,
          214.37850000000003
         ],
         "showexponent": "all",
         "showline": true,
         "side": "bottom",
         "ticks": "outside",
         "title": {
          "text": "Birth"
         },
         "type": "linear",
         "zeroline": true
        },
        "yaxis": {
         "autorange": false,
         "domain": [
          0,
          1
         ],
         "exponentformat": "e",
         "linecolor": "black",
         "linewidth": 1,
         "mirror": false,
         "range": [
          -4.08,
          208.08
         ],
         "scaleanchor": "x",
         "scaleratio": 1,
         "showexponent": "all",
         "showline": true,
         "side": "left",
         "ticks": "outside",
         "title": {
          "text": "Death"
         },
         "type": "linear",
         "zeroline": true
        }
       }
      },
      "image/png": "[encoded data removed]",
      "text/html": [
       "<div>                            <div id=\"da8f7799-7ecf-48de-a13f-3b2719e6bc6b\" class=\"plotly-graph-div\" style=\"height:500px; width:500px;\"></div>            <script type=\"text/javascript\">                require([\"plotly\"], function(Plotly) {                    window.PLOTLYENV=window.PLOTLYENV || {};                                    if (document.getElementById(\"da8f7799-7ecf-48de-a13f-3b2719e6bc6b\")) {                    Plotly.newPlot(                        \"da8f7799-7ecf-48de-a13f-3b2719e6bc6b\",                        [{\"hoverinfo\":\"none\",\"line\":{\"color\":\"black\",\"dash\":\"dash\",\"width\":1},\"mode\":\"lines\",\"showlegend\":false,\"x\":[-4.08,208.08],\"y\":[-4.08,208.08],\"type\":\"scatter\"},{\"hoverinfo\":\"text\",\"hovertext\":[\"(49.333333333333336, 60.0)\",\"(54.666666666666664, 58.666666666666664)\",\"(56.0, 59.333333333333336)\",\"(60.0, 63.0)\",\"(61.333333333333336, 63.333333333333336)\",\"(122.0, 123.66666666666667)\",\"(94.0, 95.66666666666667)\",\"(61.333333333333336, 63.0)\",\"(63.333333333333336, 65.0)\",\"(130.66666666666666, 132.0)\",\"(63.666666666666664, 65.0)\",\"(55.666666666666664, 57.0)\",\"(62.333333333333336, 63.666666666666664)\",\"(63.666666666666664, 64.66666666666667)\",\"(61.0, 62.0)\",\"(53.666666666666664, 54.333333333333336)\",\"(27.333333333333332, 28.0)\",\"(58.666666666666664, 59.0)\",\"(59.0, 59.333333333333336)\",\"(56.666666666666664, 57.0)\",\"(27.333333333333332, 27.666666666666668)\",\"(40.0, 40.333333333333336)\",\"(37.666666666666664, 38.0)\",\"(26.0, 26.333333333333332)\",\"(78.0, 78.33333333333333)\",\"(92.0, 92.33333333333333)\"],\"mode\":\"markers\",\"name\":\"H0\",\"x\":[49.333333333333336,54.666666666666664,56.0,60.0,61.333333333333336,122.0,94.0,61.333333333333336,63.333333333333336,130.66666666666666,63.666666666666664,55.666666666666664,62.333333333333336,63.666666666666664,61.0,53.666666666666664,27.333333333333332,58.666666666666664,59.0,56.666666666666664,27.333333333333332,40.0,37.666666666666664,26.0,78.0,92.0],\"y\":[60.0,58.666666666666664,59.333333333333336,63.0,63.333333333333336,123.66666666666667,95.66666666666667,63.0,65.0,132.0,65.0,57.0,63.666666666666664,64.66666666666667,62.0,54.333333333333336,28.0,59.0,59.333333333333336,57.0,27.666666666666668,40.333333333333336,38.0,26.333333333333332,78.33333333333333,92.33333333333333],\"type\":\"scatter\"},{\"hoverinfo\":\"text\",\"hovertext\":[\"(0.0, 204.0)\",\"(65.0, 78.0)\",\"(64.66666666666667, 71.66666666666667)\",\"(61.0, 68.0)\",\"(66.66666666666667, 73.0)\",\"(63.333333333333336, 68.33333333333333)\",\"(70.33333333333333, 75.0)\",\"(159.0, 163.33333333333334)\",\"(72.33333333333333, 76.33333333333333)\",\"(140.0, 144.0)\",\"(69.0, 72.66666666666667)\",\"(108.33333333333333, 112.0)\",\"(61.0, 64.66666666666667)\",\"(68.33333333333333, 72.0)\",\"(63.666666666666664, 67.33333333333333)\",\"(96.66666666666667, 100.33333333333333)\",\"(69.66666666666667, 73.33333333333333)\",\"(129.66666666666666, 133.0)\",\"(125.33333333333333, 128.33333333333334)\",\"(69.33333333333333, 72.33333333333333)\",\"(66.66666666666667, 69.66666666666667)\",\"(67.33333333333333, 70.33333333333333)\",\"(66.33333333333333, 69.0)\",\"(71.0, 73.66666666666667)\",\"(132.33333333333334, 135.0)\",\"(67.0, 69.0)\",\"(60.333333333333336, 62.333333333333336)\",\"(123.66666666666667, 125.66666666666667)\",\"(63.0, 65.0)\",\"(127.0, 129.0)\",\"(70.33333333333333, 72.0)\",\"(58.333333333333336, 60.0)\",\"(106.66666666666667, 108.33333333333333)\",\"(128.33333333333334, 130.0)\",\"(74.33333333333333, 75.66666666666667)\",\"(84.0, 85.33333333333333)\",\"(128.33333333333334, 129.66666666666666)\",\"(124.33333333333333, 125.33333333333333)\",\"(70.33333333333333, 71.33333333333333)\",\"(103.0, 104.0)\",\"(86.33333333333333, 87.33333333333333)\",\"(123.0, 124.0)\",\"(71.0, 72.0)\",\"(64.33333333333333, 65.33333333333333)\",\"(58.666666666666664, 59.666666666666664)\",\"(74.66666666666667, 75.66666666666667)\",\"(66.0, 67.0)\",\"(138.66666666666666, 139.33333333333334)\",\"(66.0, 66.66666666666667)\",\"(60.666666666666664, 61.333333333333336)\",\"(49.666666666666664, 50.333333333333336)\",\"(126.33333333333333, 127.0)\",\"(80.0, 80.66666666666667)\",\"(64.0, 64.66666666666667)\",\"(59.666666666666664, 60.333333333333336)\",\"(57.666666666666664, 58.333333333333336)\",\"(110.33333333333333, 111.0)\",\"(28.333333333333332, 29.0)\",\"(29.0, 29.666666666666668)\",\"(59.0, 59.666666666666664)\",\"(62.0, 62.666666666666664)\",\"(57.333333333333336, 58.0)\",\"(129.33333333333334, 130.0)\",\"(68.66666666666667, 69.33333333333333)\",\"(79.66666666666667, 80.33333333333333)\",\"(122.66666666666667, 123.33333333333333)\",\"(132.0, 132.33333333333334)\",\"(67.33333333333333, 67.66666666666667), multiplicity: 2\",\"(127.33333333333333, 127.66666666666667)\",\"(67.33333333333333, 67.66666666666667), multiplicity: 2\",\"(66.33333333333333, 66.66666666666667)\",\"(47.666666666666664, 48.0)\",\"(43.0, 43.333333333333336)\",\"(62.666666666666664, 63.0)\",\"(60.666666666666664, 61.0)\",\"(27.666666666666668, 28.0), multiplicity: 2\",\"(28.666666666666668, 29.0)\",\"(27.666666666666668, 28.0), multiplicity: 2\",\"(64.0, 64.33333333333333), multiplicity: 2\",\"(116.0, 116.33333333333333)\",\"(63.333333333333336, 63.666666666666664)\",\"(124.66666666666667, 125.0)\",\"(64.0, 64.33333333333333), multiplicity: 2\",\"(89.0, 89.33333333333333)\",\"(65.66666666666667, 66.0)\",\"(94.0, 94.33333333333333)\",\"(38.333333333333336, 38.666666666666664)\",\"(98.0, 98.33333333333333)\",\"(67.66666666666667, 68.0)\"],\"mode\":\"markers\",\"name\":\"H1\",\"x\":[0.0,65.0,64.66666666666667,61.0,66.66666666666667,63.333333333333336,70.33333333333333,159.0,72.33333333333333,140.0,69.0,108.33333333333333,61.0,68.33333333333333,63.666666666666664,96.66666666666667,69.66666666666667,129.66666666666666,125.33333333333333,69.33333333333333,66.66666666666667,67.33333333333333,66.33333333333333,71.0,132.33333333333334,67.0,60.333333333333336,123.66666666666667,63.0,127.0,70.33333333333333,58.333333333333336,106.66666666666667,128.33333333333334,74.33333333333333,84.0,128.33333333333334,124.33333333333333,70.33333333333333,103.0,86.33333333333333,123.0,71.0,64.33333333333333,58.666666666666664,74.66666666666667,66.0,138.66666666666666,66.0,60.666666666666664,49.666666666666664,126.33333333333333,80.0,64.0,59.666666666666664,57.666666666666664,110.33333333333333,28.333333333333332,29.0,59.0,62.0,57.333333333333336,129.33333333333334,68.66666666666667,79.66666666666667,122.66666666666667,132.0,67.33333333333333,127.33333333333333,67.33333333333333,66.33333333333333,47.666666666666664,43.0,62.666666666666664,60.666666666666664,27.666666666666668,28.666666666666668,27.666666666666668,64.0,116.0,63.333333333333336,124.66666666666667,64.0,89.0,65.66666666666667,94.0,38.333333333333336,98.0,67.66666666666667],\"y\":[204.0,78.0,71.66666666666667,68.0,73.0,68.33333333333333,75.0,163.33333333333334,76.33333333333333,144.0,72.66666666666667,112.0,64.66666666666667,72.0,67.33333333333333,100.33333333333333,73.33333333333333,133.0,128.33333333333334,72.33333333333333,69.66666666666667,70.33333333333333,69.0,73.66666666666667,135.0,69.0,62.333333333333336,125.66666666666667,65.0,129.0,72.0,60.0,108.33333333333333,130.0,75.66666666666667,85.33333333333333,129.66666666666666,125.33333333333333,71.33333333333333,104.0,87.33333333333333,124.0,72.0,65.33333333333333,59.666666666666664,75.66666666666667,67.0,139.33333333333334,66.66666666666667,61.333333333333336,50.333333333333336,127.0,80.66666666666667,64.66666666666667,60.333333333333336,58.333333333333336,111.0,29.0,29.666666666666668,59.666666666666664,62.666666666666664,58.0,130.0,69.33333333333333,80.33333333333333,123.33333333333333,132.33333333333334,67.66666666666667,127.66666666666667,67.66666666666667,66.66666666666667,48.0,43.333333333333336,63.0,61.0,28.0,29.0,28.0,64.33333333333333,116.33333333333333,63.666666666666664,125.0,64.33333333333333,89.33333333333333,66.0,94.33333333333333,38.666666666666664,98.33333333333333,68.0],\"type\":\"scatter\"}],                        {\"template\":{\"data\":{\"histogram2dcontour\":[{\"type\":\"histogram2dcontour\",\"colorbar\":{\"outlinewidth\":0,\"ticks\":\"\"},\"colorscale\":[[0.0,\"#0d0887\"],[0.1111111111111111,\"#46039f\"],[0.2222222222222222,\"#7201a8\"],[0.3333333333333333,\"#9c179e\"],[0.4444444444444444,\"#bd3786\"],[0.5555555555555556,\"#d8576b\"],[0.6666666666666666,\"#ed7953\"],[0.7777777777777778,\"#fb9f3a\"],[0.8888888888888888,\"#fdca26\"],[1.0,\"#f0f921\"]]}],\"choropleth\":[{\"type\":\"choropleth\",\"colorbar\":{\"outlinewidth\":0,\"ticks\":\"\"}}],\"histogram2d\":[{\"type\":\"histogram2d\",\"colorbar\":{\"outlinewidth\":0,\"ticks\":\"\"},\"colorscale\":[[0.0,\"#0d0887\"],[0.1111111111111111,\"#46039f\"],[0.2222222222222222,\"#7201a8\"],[0.3333333333333333,\"#9c179e\"],[0.4444444444444444,\"#bd3786\"],[0.5555555555555556,\"#d8576b\"],[0.6666666666666666,\"#ed7953\"],[0.7777777777777778,\"#fb9f3a\"],[0.8888888888888888,\"#fdca26\"],[1.0,\"#f0f921\"]]}],\"heatmap\":[{\"type\":\"heatmap\",\"colorbar\":{\"outlinewidth\":0,\"ticks\":\"\"},\"colorscale\":[[0.0,\"#0d0887\"],[0.1111111111111111,\"#46039f\"],[0.2222222222222222,\"#7201a8\"],[0.3333333333333333,\"#9c179e\"],[0.4444444444444444,\"#bd3786\"],[0.5555555555555556,\"#d8576b\"],[0.6666666666666666,\"#ed7953\"],[0.7777777777777778,\"#fb9f3a\"],[0.8888888888888888,\"#fdca26\"],[1.0,\"#f0f921\"]]}],\"heatmapgl\":[{\"type\":\"heatmapgl\",\"colorbar\":{\"outlinewidth\":0,\"ticks\":\"\"},\"colorscale\":[[0.0,\"#0d0887\"],[0.1111111111111111,\"#46039f\"],[0.2222222222222222,\"#7201a8\"],[0.3333333333333333,\"#9c179e\"],[0.4444444444444444,\"#bd3786\"],[0.5555555555555556,\"#d8576b\"],[0.6666666666666666,\"#ed7953\"],[0.7777777777777778,\"#fb9f3a\"],[0.8888888888888888,\"#fdca26\"],[1.0,\"#f0f921\"]]}],\"contourcarpet\":[{\"type\":\"contourcarpet\",\"colorbar\":{\"outlinewidth\":0,\"ticks\":\"\"}}],\"contour\":[{\"type\":\"contour\",\"colorbar\":{\"outlinewidth\":0,\"ticks\":\"\"},\"colorscale\":[[0.0,\"#0d0887\"],[0.1111111111111111,\"#46039f\"],[0.2222222222222222,\"#7201a8\"],[0.3333333333333333,\"#9c179e\"],[0.4444444444444444,\"#bd3786\"],[0.5555555555555556,\"#d8576b\"],[0.6666666666666666,\"#ed7953\"],[0.7777777777777778,\"#fb9f3a\"],[0.8888888888888888,\"#fdca26\"],[1.0,\"#f0f921\"]]}],\"surface\":[{\"type\":\"surface\",\"colorbar\":{\"outlinewidth\":0,\"ticks\":\"\"},\"colorscale\":[[0.0,\"#0d0887\"],[0.1111111111111111,\"#46039f\"],[0.2222222222222222,\"#7201a8\"],[0.3333333333333333,\"#9c179e\"],[0.4444444444444444,\"#bd3786\"],[0.5555555555555556,\"#d8576b\"],[0.6666666666666666,\"#ed7953\"],[0.7777777777777778,\"#fb9f3a\"],[0.8888888888888888,\"#fdca26\"],[1.0,\"#f0f921\"]]}],\"mesh3d\":[{\"type\":\"mesh3d\",\"colorbar\":{\"outlinewidth\":0,\"ticks\":\"\"}}],\"scatter\":[{\"fillpattern\":{\"fillmode\":\"overlay\",\"size\":10,\"solidity\":0.2},\"type\":\"scatter\"}],\"parcoords\":[{\"type\":\"parcoords\",\"line\":{\"colorbar\":{\"outlinewidth\":0,\"ticks\":\"\"}}}],\"scatterpolargl\":[{\"type\":\"scatterpolargl\",\"marker\":{\"colorbar\":{\"outlinewidth\":0,\"ticks\":\"\"}}}],\"bar\":[{\"error_x\":{\"color\":\"#2a3f5f\"},\"error_y\":{\"color\":\"#2a3f5f\"},\"marker\":{\"line\":{\"color\":\"#E5ECF6\",\"width\":0.5},\"pattern\":{\"fillmode\":\"overlay\",\"size\":10,\"solidity\":0.2}},\"type\":\"bar\"}],\"scattergeo\":[{\"type\":\"scattergeo\",\"marker\":{\"colorbar\":{\"outlinewidth\":0,\"ticks\":\"\"}}}],\"scatterpolar\":[{\"type\":\"scatterpolar\",\"marker\":{\"colorbar\":{\"outlinewidth\":0,\"ticks\":\"\"}}}],\"histogram\":[{\"marker\":{\"pattern\":{\"fillmode\":\"overlay\",\"size\":10,\"solidity\":0.2}},\"type\":\"histogram\"}],\"scattergl\":[{\"type\":\"scattergl\",\"marker\":{\"colorbar\":{\"outlinewidth\":0,\"ticks\":\"\"}}}],\"scatter3d\":[{\"type\":\"scatter3d\",\"line\":{\"colorbar\":{\"outlinewidth\":0,\"ticks\":\"\"}},\"marker\":{\"colorbar\":{\"outlinewidth\":0,\"ticks\":\"\"}}}],\"scattermapbox\":[{\"type\":\"scattermapbox\",\"marker\":{\"colorbar\":{\"outlinewidth\":0,\"ticks\":\"\"}}}],\"scatterternary\":[{\"type\":\"scatterternary\",\"marker\":{\"colorbar\":{\"outlinewidth\":0,\"ticks\":\"\"}}}],\"scattercarpet\":[{\"type\":\"scattercarpet\",\"marker\":{\"colorbar\":{\"outlinewidth\":0,\"ticks\":\"\"}}}],\"carpet\":[{\"aaxis\":{\"endlinecolor\":\"#2a3f5f\",\"gridcolor\":\"white\",\"linecolor\":\"white\",\"minorgridcolor\":\"white\",\"startlinecolor\":\"#2a3f5f\"},\"baxis\":{\"endlinecolor\":\"#2a3f5f\",\"gridcolor\":\"white\",\"linecolor\":\"white\",\"minorgridcolor\":\"white\",\"startlinecolor\":\"#2a3f5f\"},\"type\":\"carpet\"}],\"table\":[{\"cells\":{\"fill\":{\"color\":\"#EBF0F8\"},\"line\":{\"color\":\"white\"}},\"header\":{\"fill\":{\"color\":\"#C8D4E3\"},\"line\":{\"color\":\"white\"}},\"type\":\"table\"}],\"barpolar\":[{\"marker\":{\"line\":{\"color\":\"#E5ECF6\",\"width\":0.5},\"pattern\":{\"fillmode\":\"overlay\",\"size\":10,\"solidity\":0.2}},\"type\":\"barpolar\"}],\"pie\":[{\"automargin\":true,\"type\":\"pie\"}]},\"layout\":{\"autotypenumbers\":\"strict\",\"colorway\":[\"#636efa\",\"#EF553B\",\"#00cc96\",\"#ab63fa\",\"#FFA15A\",\"#19d3f3\",\"#FF6692\",\"#B6E880\",\"#FF97FF\",\"#FECB52\"],\"font\":{\"color\":\"#2a3f5f\"},\"hovermode\":\"closest\",\"hoverlabel\":{\"align\":\"left\"},\"paper_bgcolor\":\"white\",\"plot_bgcolor\":\"#E5ECF6\",\"polar\":{\"bgcolor\":\"#E5ECF6\",\"angularaxis\":{\"gridcolor\":\"white\",\"linecolor\":\"white\",\"ticks\":\"\"},\"radialaxis\":{\"gridcolor\":\"white\",\"linecolor\":\"white\",\"ticks\":\"\"}},\"ternary\":{\"bgcolor\":\"#E5ECF6\",\"aaxis\":{\"gridcolor\":\"white\",\"linecolor\":\"white\",\"ticks\":\"\"},\"baxis\":{\"gridcolor\":\"white\",\"linecolor\":\"white\",\"ticks\":\"\"},\"caxis\":{\"gridcolor\":\"white\",\"linecolor\":\"white\",\"ticks\":\"\"}},\"coloraxis\":{\"colorbar\":{\"outlinewidth\":0,\"ticks\":\"\"}},\"colorscale\":{\"sequential\":[[0.0,\"#0d0887\"],[0.1111111111111111,\"#46039f\"],[0.2222222222222222,\"#7201a8\"],[0.3333333333333333,\"#9c179e\"],[0.4444444444444444,\"#bd3786\"],[0.5555555555555556,\"#d8576b\"],[0.6666666666666666,\"#ed7953\"],[0.7777777777777778,\"#fb9f3a\"],[0.8888888888888888,\"#fdca26\"],[1.0,\"#f0f921\"]],\"sequentialminus\":[[0.0,\"#0d0887\"],[0.1111111111111111,\"#46039f\"],[0.2222222222222222,\"#7201a8\"],[0.3333333333333333,\"#9c179e\"],[0.4444444444444444,\"#bd3786\"],[0.5555555555555556,\"#d8576b\"],[0.6666666666666666,\"#ed7953\"],[0.7777777777777778,\"#fb9f3a\"],[0.8888888888888888,\"#fdca26\"],[1.0,\"#f0f921\"]],\"diverging\":[[0,\"#8e0152\"],[0.1,\"#c51b7d\"],[0.2,\"#de77ae\"],[0.3,\"#f1b6da\"],[0.4,\"#fde0ef\"],[0.5,\"#f7f7f7\"],[0.6,\"#e6f5d0\"],[0.7,\"#b8e186\"],[0.8,\"#7fbc41\"],[0.9,\"#4d9221\"],[1,\"#276419\"]]},\"xaxis\":{\"gridcolor\":\"white\",\"linecolor\":\"white\",\"ticks\":\"\",\"title\":{\"standoff\":15},\"zerolinecolor\":\"white\",\"automargin\":true,\"zerolinewidth\":2},\"yaxis\":{\"gridcolor\":\"white\",\"linecolor\":\"white\",\"ticks\":\"\",\"title\":{\"standoff\":15},\"zerolinecolor\":\"white\",\"automargin\":true,\"zerolinewidth\":2},\"scene\":{\"xaxis\":{\"backgroundcolor\":\"#E5ECF6\",\"gridcolor\":\"white\",\"linecolor\":\"white\",\"showbackground\":true,\"ticks\":\"\",\"zerolinecolor\":\"white\",\"gridwidth\":2},\"yaxis\":{\"backgroundcolor\":\"#E5ECF6\",\"gridcolor\":\"white\",\"linecolor\":\"white\",\"showbackground\":true,\"ticks\":\"\",\"zerolinecolor\":\"white\",\"gridwidth\":2},\"zaxis\":{\"backgroundcolor\":\"#E5ECF6\",\"gridcolor\":\"white\",\"linecolor\":\"white\",\"showbackground\":true,\"ticks\":\"\",\"zerolinecolor\":\"white\",\"gridwidth\":2}},\"shapedefaults\":{\"line\":{\"color\":\"#2a3f5f\"}},\"annotationdefaults\":{\"arrowcolor\":\"#2a3f5f\",\"arrowhead\":0,\"arrowwidth\":1},\"geo\":{\"bgcolor\":\"white\",\"landcolor\":\"#E5ECF6\",\"subunitcolor\":\"white\",\"showland\":true,\"showlakes\":true,\"lakecolor\":\"white\"},\"title\":{\"x\":0.05},\"mapbox\":{\"style\":\"light\"}}},\"xaxis\":{\"title\":{\"text\":\"Birth\"},\"side\":\"bottom\",\"type\":\"linear\",\"range\":[-4.08,208.08],\"autorange\":false,\"ticks\":\"outside\",\"showline\":true,\"zeroline\":true,\"linewidth\":1,\"linecolor\":\"black\",\"mirror\":false,\"showexponent\":\"all\",\"exponentformat\":\"e\"},\"yaxis\":{\"title\":{\"text\":\"Death\"},\"side\":\"left\",\"type\":\"linear\",\"range\":[-4.08,208.08],\"autorange\":false,\"scaleanchor\":\"x\",\"scaleratio\":1,\"ticks\":\"outside\",\"showline\":true,\"zeroline\":true,\"linewidth\":1,\"linecolor\":\"black\",\"mirror\":false,\"showexponent\":\"all\",\"exponentformat\":\"e\"},\"width\":500,\"height\":500,\"plot_bgcolor\":\"white\"},                        {\"responsive\": true}                    ).then(function(){\n",
       "                            \n",
       "var gd = document.getElementById('da8f7799-7ecf-48de-a13f-3b2719e6bc6b');\n",
       "var x = new MutationObserver(function (mutations, observer) {{\n",
       "        var display = window.getComputedStyle(gd).display;\n",
       "        if (!display || display === 'none') {{\n",
       "            console.log([gd, 'removed!']);\n",
       "            Plotly.purge(gd);\n",
       "            observer.disconnect();\n",
       "        }}\n",
       "}});\n",
       "\n",
       "// Listen for the removal of the full notebook cells\n",
       "var notebookContainer = gd.closest('#notebook-container');\n",
       "if (notebookContainer) {{\n",
       "    x.observe(notebookContainer, {childList: true});\n",
       "}}\n",
       "\n",
       "// Listen for the clearing of the current output cell\n",
       "var outputEl = gd.closest('.output');\n",
       "if (outputEl) {{\n",
       "    x.observe(outputEl, {childList: true});\n",
       "}}\n",
       "\n",
       "                        })                };                });            </script>        </div>"
      ]
     },
     "metadata": {},
     "output_type": "display_data"
    }
   ],
   "source": [
    "fig1 = plot_diagram(diagrams_RGB[0]) \n",
    "fig1.show()\n",
    "\n",
    "fig2 = plot_diagram(diagrams_R[0])\n",
    "fig2.show()\n",
    "\n",
    "fig3 = plot_diagram(diagrams_G[0])\n",
    "fig3.show()\n",
    "\n",
    "fig4 = plot_diagram(diagrams_B[0])\n",
    "fig4.show()\n",
    "\n",
    "fig5 = plot_diagram(diagrams_gray[0])\n",
    "fig5.show()"
   ]
  },
  {
   "cell_type": "code",
   "execution_count": 316,
   "id": "fd007741-fdac-4fd6-9b06-1be82217e937",
   "metadata": {},
   "outputs": [
    {
     "name": "stdout",
     "output_type": "stream",
     "text": [
      "(864, 8, 50)\n",
      "(216, 8, 50)\n"
     ]
    }
   ],
   "source": [
    "bc = BettiCurve(n_bins = 50)\n",
    "\n",
    "#100-dim betti features H0 and H1 for each color channel R, G, B and gray\n",
    "betti_curves_R = bc.fit_transform(diagrams_R)\n",
    "betti_curves_R_test = bc.fit_transform(diagrams_test_R)\n",
    "\n",
    "betti_curves_G = bc.fit_transform(diagrams_G)\n",
    "betti_curves_G_test = bc.fit_transform(diagrams_test_G)\n",
    "\n",
    "betti_curves_B = bc.fit_transform(diagrams_B)\n",
    "betti_curves_B_test = bc.fit_transform(diagrams_test_B)\n",
    "\n",
    "betti_curves_gray = bc.fit_transform(diagrams_gray)\n",
    "betti_curves_gray_test = bc.fit_transform(diagrams_test_gray)\n",
    "\n",
    "betti_curves_RGB = bc.fit_transform(diagrams_RGB)\n",
    "betti_curves_RGB_test = bc.fit_transform(diagrams_test_RGB)\n",
    "\n",
    "# 400-dim betti features (R,G,B,gray: each 100-dim)\n",
    "betti_features = np.hstack([betti_curves_R, betti_curves_G, betti_curves_B, betti_curves_gray])  \n",
    "betti_features_test = np.hstack([betti_curves_R_test, betti_curves_G_test, betti_curves_B_test, betti_curves_gray_test]) \n",
    "\n",
    "print(betti_features.shape)\n",
    "print(betti_features_test.shape)"
   ]
  },
  {
   "cell_type": "code",
   "execution_count": 317,
   "id": "f5a400bf-e00e-4970-8a64-666471db3717",
   "metadata": {},
   "outputs": [
    {
     "data": {
      "image/png": "[encoded data removed]",
      "text/plain": [
       "<Figure size 600x400 with 1 Axes>"
      ]
     },
     "metadata": {},
     "output_type": "display_data"
    },
    {
     "data": {
      "image/png": "[encoded data removed]",
      "text/plain": [
       "<Figure size 600x400 with 1 Axes>"
      ]
     },
     "metadata": {},
     "output_type": "display_data"
    }
   ],
   "source": [
    "# Plot betti curves \n",
    "betti0 = betti_features[0, 0, :]   #Betti-0 curve of sample\n",
    "betti1 = betti_features[0, 1, :]   #Betti-1\n",
    "\n",
    "plt.figure(figsize=(6,4))\n",
    "plt.plot(np.linspace(0, 255, len(betti0)), betti0, label=\"Betti-0 features\")\n",
    "plt.xlabel(\"Filtration value (pixel intensity)\")\n",
    "plt.ylabel(\"Betti-0\")\n",
    "plt.title(\"Betti-0 Curve of Sample\")\n",
    "plt.legend()\n",
    "plt.show()\n",
    "\n",
    "plt.figure(figsize=(6,4))\n",
    "plt.plot(np.linspace(0, 255, len(betti1)), betti1, label=\"Betti-1 features\")\n",
    "plt.xlabel(\"Filtration value (pixel intensity)\")\n",
    "plt.ylabel(\"Betti-1\")\n",
    "plt.title(\"Betti-1 Curve of Sample\")\n",
    "plt.legend()\n",
    "plt.show()"
   ]
  },
  {
   "cell_type": "code",
   "execution_count": 318,
   "id": "a53a5913-42e5-48b1-8689-a52f2ef770d4",
   "metadata": {},
   "outputs": [],
   "source": [
    "#### Training Classification Models #####"
   ]
  },
  {
   "cell_type": "code",
   "execution_count": 321,
   "id": "345425e4-509e-4fb7-bcca-eb07c2b24259",
   "metadata": {},
   "outputs": [
    {
     "name": "stdout",
     "output_type": "stream",
     "text": [
      "Train: (864, 400) (216,)\n",
      "Test: (216, 400) (864,)\n",
      "Train_R: (864, 100) (864,)\n",
      "Test_R: (216, 100) (216,)\n"
     ]
    }
   ],
   "source": [
    "# Initializers\n",
    "\n",
    "y_train_m = y_train.ravel() # (n_samples,)\n",
    "y_test_m = y_test.ravel()\n",
    "\n",
    "\n",
    "# Vectorization \n",
    "\n",
    "X_vec = betti_features.reshape(betti_features.shape[0], -1)\n",
    "X_test_vec = betti_features_test.reshape(betti_features_test.shape[0], -1)\n",
    "\n",
    "print(\"Train:\", X_vec.shape, y_test_m.shape)\n",
    "print(\"Test:\", X_test_vec.shape, y_train_m.shape)\n",
    "\n",
    "X_RGB_vec = betti_curves.reshape(betti_curves.shape[0], -1)\n",
    "X_test_RGB_vec = betti_curve_test.reshape(betti_curve_test.shape[0], -1)\n",
    "\n",
    "\n",
    "X_R_vec = betti_curves_R.reshape(betti_curves_R.shape[0], -1)\n",
    "X_R_test_vec = betti_curves_R_test.reshape(betti_curves_R_test.shape[0], -1)\n",
    "\n",
    "print(\"Train_R:\", X_R_vec.shape, y_train_m.shape)\n",
    "print(\"Test_R:\", X_R_test_vec.shape, y_test_m.shape)\n",
    "\n",
    "\n",
    "X_G_vec = betti_curves_G.reshape(betti_curves_G.shape[0], -1)\n",
    "X_G_test_vec = betti_curves_G_test.reshape(betti_curves_G_test.shape[0], -1)\n",
    "\n",
    "X_B_vec = betti_curves_B.reshape(betti_curves_B.shape[0], -1)\n",
    "X_B_test_vec = betti_curves_B_test.reshape(betti_curves_B_test.shape[0], -1)\n",
    "\n",
    "X_gray_vec = betti_curves_gray.reshape(betti_curves_gray.shape[0], -1)\n",
    "X_gray_test_vec = betti_curves_gray_test.reshape(betti_curves_gray_test.shape[0], -1)"
   ]
  },
  {
   "cell_type": "code",
   "execution_count": 322,
   "id": "38c9a3a4-f329-40df-b142-95036eb5bb89",
   "metadata": {},
   "outputs": [],
   "source": [
    "import numpy as np\n",
    "np.unique(y_train_m)\n",
    "\n",
    "num_classes = len(np.unique(y_train_m))"
   ]
  },
  {
   "cell_type": "code",
   "execution_count": 324,
   "id": "7f4b590b-d385-49ae-b44b-7a5e4f690544",
   "metadata": {},
   "outputs": [
    {
     "name": "stdout",
     "output_type": "stream",
     "text": [
      "[0]\tvalidation_0-mlogloss:1.55472\n",
      "[10]\tvalidation_0-mlogloss:1.32263\n",
      "[20]\tvalidation_0-mlogloss:1.25635\n",
      "[30]\tvalidation_0-mlogloss:1.24447\n",
      "[40]\tvalidation_0-mlogloss:1.25123\n",
      "[50]\tvalidation_0-mlogloss:1.25175\n",
      "[54]\tvalidation_0-mlogloss:1.26509\n",
      "XGBoost Accuracy: 0.49074074074074076\n",
      "              precision    recall  f1-score   support\n",
      "\n",
      "           0       0.65      0.78      0.71        97\n",
      "           1       0.30      0.12      0.17        26\n",
      "           2       0.27      0.27      0.27        41\n",
      "           3       0.36      0.38      0.37        39\n",
      "           4       0.17      0.08      0.11        13\n",
      "\n",
      "    accuracy                           0.49       216\n",
      "   macro avg       0.35      0.33      0.32       216\n",
      "weighted avg       0.45      0.49      0.46       216\n",
      "\n",
      "Multiclass ROC AUC: 0.7175734652994133\n"
     ]
    },
    {
     "data": {
      "image/png": "[encoded data removed]",
      "text/plain": [
       "<Figure size 640x480 with 2 Axes>"
      ]
     },
     "metadata": {},
     "output_type": "display_data"
    }
   ],
   "source": [
    "# Train XGBoost model on RetinaMNIST dataset with the original Betti feature vector (400-dim) for each channel\n",
    "\n",
    "xgb_model = XGBClassifier(\n",
    "    n_estimators=300,        # number of trees (boosting rounds)\n",
    "    learning_rate=0.1,       # step size shrinkage\n",
    "    max_depth=5,             # maximum depth of trees\n",
    "    subsample=0.8,           # fraction of training samples used per tree\n",
    "    colsample_bytree=0.8,    # fraction of features used per tree\n",
    "    random_state=42,\n",
    "    use_label_encoder=False,\n",
    "    early_stopping_rounds=20,\n",
    "    eval_metric=\"mlogloss\",     # <-- multiclass log loss\n",
    "    objective=\"multi:softprob\", # <-- multiclass classification\n",
    "    num_class=num_classes  # <-- number of classes in RetinaMNIST\n",
    ")\n",
    "\n",
    "# Fit model \n",
    "xgb_model.fit(X_vec, y_train_m, eval_set=[(X_test_vec, y_test_m)], verbose=10)\n",
    "\n",
    "# Predict\n",
    "y_train_pred = xgb_model.predict(X_vec)\n",
    "y_train_proba = xgb_model.predict_proba(X_vec)[:, 1] \n",
    "\n",
    "y_pred_xgb = xgb_model.predict(X_test_vec)\n",
    "y_proba_xgb = xgb_model.predict_proba(X_test_vec)\n",
    "\n",
    "# Multiclass ROC AUC\n",
    "auc = roc_auc_score(y_test_m, y_proba_xgb, multi_class=\"ovr\", average=\"macro\")\n",
    "\n",
    "\n",
    "# Evaluate\n",
    "\n",
    "\n",
    "print(\"XGBoost Accuracy:\", accuracy_score(y_test_m, y_pred_xgb))\n",
    "print(classification_report(y_test_m, y_pred_xgb))\n",
    "print(\"Multiclass ROC AUC:\", auc)\n",
    "\n",
    "# Confusion Matrix\n",
    "ConfusionMatrixDisplay.from_predictions(y_test_m, y_pred_xgb)\n",
    "plt.show()"
   ]
  },
  {
   "cell_type": "code",
   "execution_count": 325,
   "id": "f9b76a17-735d-430c-a40e-8fe486ba8fb4",
   "metadata": {},
   "outputs": [],
   "source": [
    "# Get the feature importance scores, shap values\n",
    "#explainer = shap.TreeExplainer(xgb_model)\n",
    "#shap_values = explainer.shap_values(X_vec)\n",
    "\n",
    "#shap.summary_plot(shap_values, X_vec, plot_type=\"bar\")\n",
    "\n",
    "#shap.summary_plot(shap_values, X_vec)"
   ]
  },
  {
   "cell_type": "code",
   "execution_count": 326,
   "id": "7ada5336-106a-4a60-9dfc-47fa512e8c6f",
   "metadata": {},
   "outputs": [],
   "source": [
    "\n",
    "#feature_importances = np.mean([np.abs(sv) for sv in shap_values], axis=0)  # shape: (n_features,)\n",
    "#top_features_idx = np.argsort(feature_importances)[-100:]\n",
    "# Flatten 3D data (samples, 50, 5) → (samples, 250)\n",
    "#X_vec_reduced_flat = X_vec_reduced.reshape(X_vec_reduced.shape[0], -1)\n",
    "#X_test_vec_reduced_flat = X_test_vec_reduced.reshape(X_test_vec_reduced.shape[0], -1)\n",
    "\n",
    "# Fit XGBoost\n",
    "#xgb_model_reduced = XGBClassifier(\n",
    " #   n_estimators=300,\n",
    " #   max_depth=5,\n",
    "  #  learning_rate=0.1,\n",
    "   # subsample=0.8,\n",
    "  #  colsample_bytree=0.7,\n",
    " #   min_child_weight=3,\n",
    "  #  gamma=1,\n",
    "   # random_state=42,\n",
    "  #  use_label_encoder=False,\n",
    " #   eval_metric=\"mlogloss\",\n",
    "  # objective=\"multi:softprob\",\n",
    "  #  num_class=num_classes,  # total number of classes\n",
    "  \n",
    "#early_stopping_rounds=20)\n",
    "\n",
    "\n",
    "#xgb_model_reduced.fit(\n",
    "#    X_vec_reduced_flat,\n",
    "#    y_train_m,\n",
    "#    eval_set=[(X_test_vec_reduced_flat, y_test_m)],\n",
    "#    verbose=10)\n",
    "\n",
    "# Predictions\n",
    "#y_pred_xgb_reduced = xgb_model_reduced.predict(X_test_vec_reduced_flat)\n",
    "#y_proba_xgb_reduced = xgb_model_reduced.predict_proba(X_test_vec_reduced_flat)\n",
    "\n",
    "# Accuracy\n",
    "#acc = accuracy_score(y_test_m, y_pred_xgb_reduced)\n",
    "#print(\"Reduced XGBoost Model Accuracy:\", acc)\n",
    "\n",
    "# Classification report with macro F1\n",
    "#print(classification_report(y_test_m, y_pred_xgb, zero_division=0))\n",
    "#macro_f1 = f1_score(y_test_m, y_pred_xgb_reduced, average=\"macro\")\n",
    "#print(\"Macro F1-score:\", macro_f1)\n",
    "\n",
    "# Multiclass ROC-AUC\n",
    "#roc_auc = roc_auc_score(y_test_m, y_proba_xgb_reduced, multi_class=\"ovr\", average=\"macro\")\n",
    "#print(\"Multiclass ROC-AUC:\", roc_auc)\n",
    "\n",
    "# Confusion matrix\n",
    "#ConfusionMatrixDisplay.from_predictions(y_test_m, y_pred_xgb_reduced)\n",
    "#plt.show()"
   ]
  },
  {
   "cell_type": "code",
   "execution_count": 327,
   "id": "9cba9cf6-857b-4011-910c-9a79895627dc",
   "metadata": {},
   "outputs": [],
   "source": [
    "importance_scores =xgb_model.feature_importances_"
   ]
  },
  {
   "cell_type": "code",
   "execution_count": 328,
   "id": "9e7e52df-7c98-4657-9d40-21f366bb1f91",
   "metadata": {},
   "outputs": [],
   "source": [
    "selected_features = importance_scores.argsort()[-10:]"
   ]
  },
  {
   "cell_type": "code",
   "execution_count": 329,
   "id": "4339b136-8d9d-478c-b782-f516edf7a88f",
   "metadata": {},
   "outputs": [],
   "source": [
    "reduced_model = XGBClassifier(\n",
    "    n_estimators=300,        # number of trees (boosting rounds)\n",
    "    learning_rate=0.1,       # step size shrinkage\n",
    "    max_depth=5,             # maximum depth of trees\n",
    "    subsample=0.8,           # fraction of training samples used per tree\n",
    "    colsample_bytree=0.8,    # fraction of features used per tree\n",
    "    random_state=42,\n",
    "    use_label_encoder=False,\n",
    "    early_stopping_rounds=20,\n",
    "    eval_metric=\"mlogloss\",     # <-- multiclass log loss\n",
    "    objective=\"multi:softprob\", # <-- multiclass classification\n",
    "    num_class=num_classes  # <-- number of classes in RetinaMNIST\n",
    ")"
   ]
  },
  {
   "cell_type": "code",
   "execution_count": 330,
   "id": "c3f08b99-a63f-4af2-bd29-e74f5478c8a8",
   "metadata": {},
   "outputs": [
    {
     "name": "stdout",
     "output_type": "stream",
     "text": [
      "[0]\tvalidation_0-mlogloss:1.55876\n",
      "[10]\tvalidation_0-mlogloss:1.33959\n",
      "[20]\tvalidation_0-mlogloss:1.30324\n",
      "[30]\tvalidation_0-mlogloss:1.30177\n",
      "[40]\tvalidation_0-mlogloss:1.31260\n",
      "[48]\tvalidation_0-mlogloss:1.32022\n"
     ]
    },
    {
     "data": {
      "text/html": [
       "<style>#sk-container-id-16 {color: black;}#sk-container-id-16 pre{padding: 0;}#sk-container-id-16 div.sk-toggleable {background-color: white;}#sk-container-id-16 label.sk-toggleable__label {cursor: pointer;display: block;width: 100%;margin-bottom: 0;padding: 0.3em;box-sizing: border-box;text-align: center;}#sk-container-id-16 label.sk-toggleable__label-arrow:before {content: \"▸\";float: left;margin-right: 0.25em;color: #696969;}#sk-container-id-16 label.sk-toggleable__label-arrow:hover:before {color: black;}#sk-container-id-16 div.sk-estimator:hover label.sk-toggleable__label-arrow:before {color: black;}#sk-container-id-16 div.sk-toggleable__content {max-height: 0;max-width: 0;overflow: hidden;text-align: left;background-color: #f0f8ff;}#sk-container-id-16 div.sk-toggleable__content pre {margin: 0.2em;color: black;border-radius: 0.25em;background-color: #f0f8ff;}#sk-container-id-16 input.sk-toggleable__control:checked~div.sk-toggleable__content {max-height: 200px;max-width: 100%;overflow: auto;}#sk-container-id-16 input.sk-toggleable__control:checked~label.sk-toggleable__label-arrow:before {content: \"▾\";}#sk-container-id-16 div.sk-estimator input.sk-toggleable__control:checked~label.sk-toggleable__label {background-color: #d4ebff;}#sk-container-id-16 div.sk-label input.sk-toggleable__control:checked~label.sk-toggleable__label {background-color: #d4ebff;}#sk-container-id-16 input.sk-hidden--visually {border: 0;clip: rect(1px 1px 1px 1px);clip: rect(1px, 1px, 1px, 1px);height: 1px;margin: -1px;overflow: hidden;padding: 0;position: absolute;width: 1px;}#sk-container-id-16 div.sk-estimator {font-family: monospace;background-color: #f0f8ff;border: 1px dotted black;border-radius: 0.25em;box-sizing: border-box;margin-bottom: 0.5em;}#sk-container-id-16 div.sk-estimator:hover {background-color: #d4ebff;}#sk-container-id-16 div.sk-parallel-item::after {content: \"\";width: 100%;border-bottom: 1px solid gray;flex-grow: 1;}#sk-container-id-16 div.sk-label:hover label.sk-toggleable__label {background-color: #d4ebff;}#sk-container-id-16 div.sk-serial::before {content: \"\";position: absolute;border-left: 1px solid gray;box-sizing: border-box;top: 0;bottom: 0;left: 50%;z-index: 0;}#sk-container-id-16 div.sk-serial {display: flex;flex-direction: column;align-items: center;background-color: white;padding-right: 0.2em;padding-left: 0.2em;position: relative;}#sk-container-id-16 div.sk-item {position: relative;z-index: 1;}#sk-container-id-16 div.sk-parallel {display: flex;align-items: stretch;justify-content: center;background-color: white;position: relative;}#sk-container-id-16 div.sk-item::before, #sk-container-id-16 div.sk-parallel-item::before {content: \"\";position: absolute;border-left: 1px solid gray;box-sizing: border-box;top: 0;bottom: 0;left: 50%;z-index: -1;}#sk-container-id-16 div.sk-parallel-item {display: flex;flex-direction: column;z-index: 1;position: relative;background-color: white;}#sk-container-id-16 div.sk-parallel-item:first-child::after {align-self: flex-end;width: 50%;}#sk-container-id-16 div.sk-parallel-item:last-child::after {align-self: flex-start;width: 50%;}#sk-container-id-16 div.sk-parallel-item:only-child::after {width: 0;}#sk-container-id-16 div.sk-dashed-wrapped {border: 1px dashed gray;margin: 0 0.4em 0.5em 0.4em;box-sizing: border-box;padding-bottom: 0.4em;background-color: white;}#sk-container-id-16 div.sk-label label {font-family: monospace;font-weight: bold;display: inline-block;line-height: 1.2em;}#sk-container-id-16 div.sk-label-container {text-align: center;}#sk-container-id-16 div.sk-container {/* jupyter's `normalize.less` sets `[hidden] { display: none; }` but bootstrap.min.css set `[hidden] { display: none !important; }` so we also need the `!important` here to be able to override the default hidden behavior on the sphinx rendered scikit-learn.org. See: https://github.com/scikit-learn/scikit-learn/issues/21755 */display: inline-block !important;position: relative;}#sk-container-id-16 div.sk-text-repr-fallback {display: none;}</style><div id=\"sk-container-id-16\" class=\"sk-top-container\"><div class=\"sk-text-repr-fallback\"><pre>XGBClassifier(base_score=None, booster=None, callbacks=None,\n",
       "              colsample_bylevel=None, colsample_bynode=None,\n",
       "              colsample_bytree=0.8, device=None, early_stopping_rounds=20,\n",
       "              enable_categorical=False, eval_metric=&#x27;mlogloss&#x27;,\n",
       "              feature_types=None, gamma=None, grow_policy=None,\n",
       "              importance_type=None, interaction_constraints=None,\n",
       "              learning_rate=0.1, max_bin=None, max_cat_threshold=None,\n",
       "              max_cat_to_onehot=None, max_delta_step=None, max_depth=5,\n",
       "              max_leaves=None, min_child_weight=None, missing=nan,\n",
       "              monotone_constraints=None, multi_strategy=None, n_estimators=300,\n",
       "              n_jobs=None, num_class=5, num_parallel_tree=None, ...)</pre><b>In a Jupyter environment, please rerun this cell to show the HTML representation or trust the notebook. <br />On GitHub, the HTML representation is unable to render, please try loading this page with nbviewer.org.</b></div><div class=\"sk-container\" hidden><div class=\"sk-item\"><div class=\"sk-estimator sk-toggleable\"><input class=\"sk-toggleable__control sk-hidden--visually\" id=\"sk-estimator-id-16\" type=\"checkbox\" checked><label for=\"sk-estimator-id-16\" class=\"sk-toggleable__label sk-toggleable__label-arrow\">XGBClassifier</label><div class=\"sk-toggleable__content\"><pre>XGBClassifier(base_score=None, booster=None, callbacks=None,\n",
       "              colsample_bylevel=None, colsample_bynode=None,\n",
       "              colsample_bytree=0.8, device=None, early_stopping_rounds=20,\n",
       "              enable_categorical=False, eval_metric=&#x27;mlogloss&#x27;,\n",
       "              feature_types=None, gamma=None, grow_policy=None,\n",
       "              importance_type=None, interaction_constraints=None,\n",
       "              learning_rate=0.1, max_bin=None, max_cat_threshold=None,\n",
       "              max_cat_to_onehot=None, max_delta_step=None, max_depth=5,\n",
       "              max_leaves=None, min_child_weight=None, missing=nan,\n",
       "              monotone_constraints=None, multi_strategy=None, n_estimators=300,\n",
       "              n_jobs=None, num_class=5, num_parallel_tree=None, ...)</pre></div></div></div></div></div>"
      ],
      "text/plain": [
       "XGBClassifier(base_score=None, booster=None, callbacks=None,\n",
       "              colsample_bylevel=None, colsample_bynode=None,\n",
       "              colsample_bytree=0.8, device=None, early_stopping_rounds=20,\n",
       "              enable_categorical=False, eval_metric='mlogloss',\n",
       "              feature_types=None, gamma=None, grow_policy=None,\n",
       "              importance_type=None, interaction_constraints=None,\n",
       "              learning_rate=0.1, max_bin=None, max_cat_threshold=None,\n",
       "              max_cat_to_onehot=None, max_delta_step=None, max_depth=5,\n",
       "              max_leaves=None, min_child_weight=None, missing=nan,\n",
       "              monotone_constraints=None, multi_strategy=None, n_estimators=300,\n",
       "              n_jobs=None, num_class=5, num_parallel_tree=None, ...)"
      ]
     },
     "execution_count": 330,
     "metadata": {},
     "output_type": "execute_result"
    }
   ],
   "source": [
    "reduced_model.fit(X_vec[:, selected_features], y_train_m, eval_set=[(X_test_vec[:, selected_features], y_test_m)], verbose=10)"
   ]
  },
  {
   "cell_type": "code",
   "execution_count": 331,
   "id": "a0deafd8-4d83-4686-9bb7-3fc2b821119a",
   "metadata": {},
   "outputs": [
    {
     "name": "stdout",
     "output_type": "stream",
     "text": [
      "Reduced XGBoost Accuracy: 0.48148148148148145\n"
     ]
    }
   ],
   "source": [
    "y_pred = reduced_model.predict(X_test_vec[:, selected_features])\n",
    "\n",
    "print(\"Reduced XGBoost Accuracy:\", accuracy_score(y_test_m, y_pred))"
   ]
  },
  {
   "cell_type": "code",
   "execution_count": 332,
   "id": "0a481f77-364b-440b-9f3c-5ddc41aedebe",
   "metadata": {},
   "outputs": [],
   "source": [
    "# XGBoost Feature Importance \n",
    "\n",
    "selector = SelectFromModel(xgb_model, prefit=True, threshold=\"median\")\n",
    "X_vec_selected = selector.transform(X_vec)\n",
    "X_test_vec_selected = selector.transform(X_test_vec)"
   ]
  },
  {
   "cell_type": "code",
   "execution_count": 333,
   "id": "32d62459-af80-4815-8277-281c3448dfb0",
   "metadata": {},
   "outputs": [
    {
     "name": "stdout",
     "output_type": "stream",
     "text": [
      "[0]\tvalidation_0-mlogloss:1.54976\n",
      "[10]\tvalidation_0-mlogloss:1.31764\n",
      "[20]\tvalidation_0-mlogloss:1.26514\n",
      "[30]\tvalidation_0-mlogloss:1.25096\n",
      "[40]\tvalidation_0-mlogloss:1.24150\n",
      "[50]\tvalidation_0-mlogloss:1.25238\n",
      "[53]\tvalidation_0-mlogloss:1.26410\n"
     ]
    },
    {
     "data": {
      "text/html": [
       "<style>#sk-container-id-17 {color: black;}#sk-container-id-17 pre{padding: 0;}#sk-container-id-17 div.sk-toggleable {background-color: white;}#sk-container-id-17 label.sk-toggleable__label {cursor: pointer;display: block;width: 100%;margin-bottom: 0;padding: 0.3em;box-sizing: border-box;text-align: center;}#sk-container-id-17 label.sk-toggleable__label-arrow:before {content: \"▸\";float: left;margin-right: 0.25em;color: #696969;}#sk-container-id-17 label.sk-toggleable__label-arrow:hover:before {color: black;}#sk-container-id-17 div.sk-estimator:hover label.sk-toggleable__label-arrow:before {color: black;}#sk-container-id-17 div.sk-toggleable__content {max-height: 0;max-width: 0;overflow: hidden;text-align: left;background-color: #f0f8ff;}#sk-container-id-17 div.sk-toggleable__content pre {margin: 0.2em;color: black;border-radius: 0.25em;background-color: #f0f8ff;}#sk-container-id-17 input.sk-toggleable__control:checked~div.sk-toggleable__content {max-height: 200px;max-width: 100%;overflow: auto;}#sk-container-id-17 input.sk-toggleable__control:checked~label.sk-toggleable__label-arrow:before {content: \"▾\";}#sk-container-id-17 div.sk-estimator input.sk-toggleable__control:checked~label.sk-toggleable__label {background-color: #d4ebff;}#sk-container-id-17 div.sk-label input.sk-toggleable__control:checked~label.sk-toggleable__label {background-color: #d4ebff;}#sk-container-id-17 input.sk-hidden--visually {border: 0;clip: rect(1px 1px 1px 1px);clip: rect(1px, 1px, 1px, 1px);height: 1px;margin: -1px;overflow: hidden;padding: 0;position: absolute;width: 1px;}#sk-container-id-17 div.sk-estimator {font-family: monospace;background-color: #f0f8ff;border: 1px dotted black;border-radius: 0.25em;box-sizing: border-box;margin-bottom: 0.5em;}#sk-container-id-17 div.sk-estimator:hover {background-color: #d4ebff;}#sk-container-id-17 div.sk-parallel-item::after {content: \"\";width: 100%;border-bottom: 1px solid gray;flex-grow: 1;}#sk-container-id-17 div.sk-label:hover label.sk-toggleable__label {background-color: #d4ebff;}#sk-container-id-17 div.sk-serial::before {content: \"\";position: absolute;border-left: 1px solid gray;box-sizing: border-box;top: 0;bottom: 0;left: 50%;z-index: 0;}#sk-container-id-17 div.sk-serial {display: flex;flex-direction: column;align-items: center;background-color: white;padding-right: 0.2em;padding-left: 0.2em;position: relative;}#sk-container-id-17 div.sk-item {position: relative;z-index: 1;}#sk-container-id-17 div.sk-parallel {display: flex;align-items: stretch;justify-content: center;background-color: white;position: relative;}#sk-container-id-17 div.sk-item::before, #sk-container-id-17 div.sk-parallel-item::before {content: \"\";position: absolute;border-left: 1px solid gray;box-sizing: border-box;top: 0;bottom: 0;left: 50%;z-index: -1;}#sk-container-id-17 div.sk-parallel-item {display: flex;flex-direction: column;z-index: 1;position: relative;background-color: white;}#sk-container-id-17 div.sk-parallel-item:first-child::after {align-self: flex-end;width: 50%;}#sk-container-id-17 div.sk-parallel-item:last-child::after {align-self: flex-start;width: 50%;}#sk-container-id-17 div.sk-parallel-item:only-child::after {width: 0;}#sk-container-id-17 div.sk-dashed-wrapped {border: 1px dashed gray;margin: 0 0.4em 0.5em 0.4em;box-sizing: border-box;padding-bottom: 0.4em;background-color: white;}#sk-container-id-17 div.sk-label label {font-family: monospace;font-weight: bold;display: inline-block;line-height: 1.2em;}#sk-container-id-17 div.sk-label-container {text-align: center;}#sk-container-id-17 div.sk-container {/* jupyter's `normalize.less` sets `[hidden] { display: none; }` but bootstrap.min.css set `[hidden] { display: none !important; }` so we also need the `!important` here to be able to override the default hidden behavior on the sphinx rendered scikit-learn.org. See: https://github.com/scikit-learn/scikit-learn/issues/21755 */display: inline-block !important;position: relative;}#sk-container-id-17 div.sk-text-repr-fallback {display: none;}</style><div id=\"sk-container-id-17\" class=\"sk-top-container\"><div class=\"sk-text-repr-fallback\"><pre>XGBClassifier(base_score=None, booster=None, callbacks=None,\n",
       "              colsample_bylevel=None, colsample_bynode=None,\n",
       "              colsample_bytree=0.8, device=None, early_stopping_rounds=20,\n",
       "              enable_categorical=False, eval_metric=&#x27;mlogloss&#x27;,\n",
       "              feature_types=None, gamma=None, grow_policy=None,\n",
       "              importance_type=None, interaction_constraints=None,\n",
       "              learning_rate=0.1, max_bin=None, max_cat_threshold=None,\n",
       "              max_cat_to_onehot=None, max_delta_step=None, max_depth=5,\n",
       "              max_leaves=None, min_child_weight=None, missing=nan,\n",
       "              monotone_constraints=None, multi_strategy=None, n_estimators=300,\n",
       "              n_jobs=None, num_class=5, num_parallel_tree=None, ...)</pre><b>In a Jupyter environment, please rerun this cell to show the HTML representation or trust the notebook. <br />On GitHub, the HTML representation is unable to render, please try loading this page with nbviewer.org.</b></div><div class=\"sk-container\" hidden><div class=\"sk-item\"><div class=\"sk-estimator sk-toggleable\"><input class=\"sk-toggleable__control sk-hidden--visually\" id=\"sk-estimator-id-17\" type=\"checkbox\" checked><label for=\"sk-estimator-id-17\" class=\"sk-toggleable__label sk-toggleable__label-arrow\">XGBClassifier</label><div class=\"sk-toggleable__content\"><pre>XGBClassifier(base_score=None, booster=None, callbacks=None,\n",
       "              colsample_bylevel=None, colsample_bynode=None,\n",
       "              colsample_bytree=0.8, device=None, early_stopping_rounds=20,\n",
       "              enable_categorical=False, eval_metric=&#x27;mlogloss&#x27;,\n",
       "              feature_types=None, gamma=None, grow_policy=None,\n",
       "              importance_type=None, interaction_constraints=None,\n",
       "              learning_rate=0.1, max_bin=None, max_cat_threshold=None,\n",
       "              max_cat_to_onehot=None, max_delta_step=None, max_depth=5,\n",
       "              max_leaves=None, min_child_weight=None, missing=nan,\n",
       "              monotone_constraints=None, multi_strategy=None, n_estimators=300,\n",
       "              n_jobs=None, num_class=5, num_parallel_tree=None, ...)</pre></div></div></div></div></div>"
      ],
      "text/plain": [
       "XGBClassifier(base_score=None, booster=None, callbacks=None,\n",
       "              colsample_bylevel=None, colsample_bynode=None,\n",
       "              colsample_bytree=0.8, device=None, early_stopping_rounds=20,\n",
       "              enable_categorical=False, eval_metric='mlogloss',\n",
       "              feature_types=None, gamma=None, grow_policy=None,\n",
       "              importance_type=None, interaction_constraints=None,\n",
       "              learning_rate=0.1, max_bin=None, max_cat_threshold=None,\n",
       "              max_cat_to_onehot=None, max_delta_step=None, max_depth=5,\n",
       "              max_leaves=None, min_child_weight=None, missing=nan,\n",
       "              monotone_constraints=None, multi_strategy=None, n_estimators=300,\n",
       "              n_jobs=None, num_class=5, num_parallel_tree=None, ...)"
      ]
     },
     "execution_count": 333,
     "metadata": {},
     "output_type": "execute_result"
    }
   ],
   "source": [
    "selected_model = XGBClassifier(\n",
    "    n_estimators=300,        # number of trees (boosting rounds)\n",
    "    learning_rate=0.1,       # step size shrinkage\n",
    "    max_depth=5,             # maximum depth of trees\n",
    "    subsample=0.8,           # fraction of training samples used per tree\n",
    "    colsample_bytree=0.8,    # fraction of features used per tree\n",
    "    random_state=42,\n",
    "    use_label_encoder=False,\n",
    "    early_stopping_rounds=20,\n",
    "    eval_metric=\"mlogloss\",     # <-- multiclass log loss\n",
    "    objective=\"multi:softprob\", # <-- multiclass classification\n",
    "    num_class=num_classes  # <-- number of classes in RetinaMNIST\n",
    ")\n",
    "\n",
    "selected_model.fit(X_vec_selected, y_train_m, eval_set=[(X_test_vec_selected, y_test_m)], verbose=10)"
   ]
  },
  {
   "cell_type": "code",
   "execution_count": 334,
   "id": "e536f887-ae37-4863-9624-09e503321a28",
   "metadata": {},
   "outputs": [
    {
     "name": "stdout",
     "output_type": "stream",
     "text": [
      "Selected XGBoost Accuracy: 0.4861111111111111\n",
      "              precision    recall  f1-score   support\n",
      "\n",
      "           0       0.64      0.74      0.69        97\n",
      "           1       0.23      0.12      0.15        26\n",
      "           2       0.31      0.34      0.33        41\n",
      "           3       0.34      0.38      0.36        39\n",
      "           4       0.50      0.08      0.13        13\n",
      "\n",
      "    accuracy                           0.49       216\n",
      "   macro avg       0.41      0.33      0.33       216\n",
      "weighted avg       0.47      0.49      0.46       216\n",
      "\n"
     ]
    }
   ],
   "source": [
    "y_pred_selected = selected_model.predict(X_test_vec_selected)\n",
    "print(\"Selected XGBoost Accuracy:\", accuracy_score(y_test_m, y_pred_selected))\n",
    "print(classification_report(y_test_m, y_pred_selected))"
   ]
  },
  {
   "cell_type": "code",
   "execution_count": 335,
   "id": "605a52a0-a06c-4c1e-841b-960454f9aae9",
   "metadata": {},
   "outputs": [
    {
     "name": "stdout",
     "output_type": "stream",
     "text": [
      "{0: 389, 1: 102, 2: 165, 3: 155, 4: 53}\n"
     ]
    }
   ],
   "source": [
    "# Check for the imbalanced class case\n",
    "unique, counts = np.unique(y_train_m, return_counts=True)\n",
    "print(dict(zip(unique, counts)))"
   ]
  },
  {
   "cell_type": "code",
   "execution_count": 336,
   "id": "2a435cd2-f188-477c-b95a-69112a57b57d",
   "metadata": {},
   "outputs": [],
   "source": [
    "classes = np.unique(y_train_m)\n",
    "weights = compute_class_weight(class_weight=\"balanced\", classes=classes, y=y_train_m)\n",
    "class_weights = dict(zip(classes, weights))\n",
    "sample_weights = np.array([class_weights[y] for y in y_train_m])"
   ]
  },
  {
   "cell_type": "code",
   "execution_count": 337,
   "id": "723454ec-9214-4fec-b70a-63821a9e806a",
   "metadata": {},
   "outputs": [
    {
     "name": "stdout",
     "output_type": "stream",
     "text": [
      "[0]\tvalidation_0-mlogloss:1.56572\n",
      "[1]\tvalidation_0-mlogloss:1.53334\n",
      "[2]\tvalidation_0-mlogloss:1.50288\n",
      "[3]\tvalidation_0-mlogloss:1.47944\n",
      "[4]\tvalidation_0-mlogloss:1.45695\n",
      "[5]\tvalidation_0-mlogloss:1.43813\n",
      "[6]\tvalidation_0-mlogloss:1.42180\n",
      "[7]\tvalidation_0-mlogloss:1.40671\n",
      "[8]\tvalidation_0-mlogloss:1.39615\n",
      "[9]\tvalidation_0-mlogloss:1.39040\n",
      "[10]\tvalidation_0-mlogloss:1.37713\n",
      "[11]\tvalidation_0-mlogloss:1.36483\n",
      "[12]\tvalidation_0-mlogloss:1.36359\n",
      "[13]\tvalidation_0-mlogloss:1.35264\n",
      "[14]\tvalidation_0-mlogloss:1.34260\n",
      "[15]\tvalidation_0-mlogloss:1.33595\n",
      "[16]\tvalidation_0-mlogloss:1.33194\n",
      "[17]\tvalidation_0-mlogloss:1.32617\n",
      "[18]\tvalidation_0-mlogloss:1.32155\n",
      "[19]\tvalidation_0-mlogloss:1.31542\n",
      "[20]\tvalidation_0-mlogloss:1.30785\n",
      "[21]\tvalidation_0-mlogloss:1.30397\n",
      "[22]\tvalidation_0-mlogloss:1.30454\n",
      "[23]\tvalidation_0-mlogloss:1.30392\n",
      "[24]\tvalidation_0-mlogloss:1.30477\n",
      "[25]\tvalidation_0-mlogloss:1.30462\n",
      "[26]\tvalidation_0-mlogloss:1.30537\n",
      "[27]\tvalidation_0-mlogloss:1.30421\n",
      "[28]\tvalidation_0-mlogloss:1.29916\n",
      "[29]\tvalidation_0-mlogloss:1.29619\n",
      "[30]\tvalidation_0-mlogloss:1.29386\n",
      "[31]\tvalidation_0-mlogloss:1.29275\n",
      "[32]\tvalidation_0-mlogloss:1.29158\n",
      "[33]\tvalidation_0-mlogloss:1.29166\n",
      "[34]\tvalidation_0-mlogloss:1.29014\n",
      "[35]\tvalidation_0-mlogloss:1.28988\n",
      "[36]\tvalidation_0-mlogloss:1.29118\n",
      "[37]\tvalidation_0-mlogloss:1.29008\n",
      "[38]\tvalidation_0-mlogloss:1.28860\n",
      "[39]\tvalidation_0-mlogloss:1.28823\n",
      "[40]\tvalidation_0-mlogloss:1.28979\n",
      "[41]\tvalidation_0-mlogloss:1.28825\n",
      "[42]\tvalidation_0-mlogloss:1.28771\n",
      "[43]\tvalidation_0-mlogloss:1.28678\n",
      "[44]\tvalidation_0-mlogloss:1.28813\n",
      "[45]\tvalidation_0-mlogloss:1.28981\n",
      "[46]\tvalidation_0-mlogloss:1.28877\n",
      "[47]\tvalidation_0-mlogloss:1.29018\n",
      "[48]\tvalidation_0-mlogloss:1.29032\n",
      "[49]\tvalidation_0-mlogloss:1.29066\n",
      "[50]\tvalidation_0-mlogloss:1.28820\n",
      "[51]\tvalidation_0-mlogloss:1.28798\n",
      "[52]\tvalidation_0-mlogloss:1.29033\n",
      "[53]\tvalidation_0-mlogloss:1.29555\n",
      "[54]\tvalidation_0-mlogloss:1.29646\n",
      "[55]\tvalidation_0-mlogloss:1.29746\n",
      "[56]\tvalidation_0-mlogloss:1.29715\n",
      "[57]\tvalidation_0-mlogloss:1.29629\n",
      "[58]\tvalidation_0-mlogloss:1.29728\n",
      "[59]\tvalidation_0-mlogloss:1.29613\n",
      "[60]\tvalidation_0-mlogloss:1.29565\n",
      "[61]\tvalidation_0-mlogloss:1.29662\n",
      "[62]\tvalidation_0-mlogloss:1.29459\n",
      "[63]\tvalidation_0-mlogloss:1.29517\n"
     ]
    },
    {
     "data": {
      "text/html": [
       "<style>#sk-container-id-18 {color: black;}#sk-container-id-18 pre{padding: 0;}#sk-container-id-18 div.sk-toggleable {background-color: white;}#sk-container-id-18 label.sk-toggleable__label {cursor: pointer;display: block;width: 100%;margin-bottom: 0;padding: 0.3em;box-sizing: border-box;text-align: center;}#sk-container-id-18 label.sk-toggleable__label-arrow:before {content: \"▸\";float: left;margin-right: 0.25em;color: #696969;}#sk-container-id-18 label.sk-toggleable__label-arrow:hover:before {color: black;}#sk-container-id-18 div.sk-estimator:hover label.sk-toggleable__label-arrow:before {color: black;}#sk-container-id-18 div.sk-toggleable__content {max-height: 0;max-width: 0;overflow: hidden;text-align: left;background-color: #f0f8ff;}#sk-container-id-18 div.sk-toggleable__content pre {margin: 0.2em;color: black;border-radius: 0.25em;background-color: #f0f8ff;}#sk-container-id-18 input.sk-toggleable__control:checked~div.sk-toggleable__content {max-height: 200px;max-width: 100%;overflow: auto;}#sk-container-id-18 input.sk-toggleable__control:checked~label.sk-toggleable__label-arrow:before {content: \"▾\";}#sk-container-id-18 div.sk-estimator input.sk-toggleable__control:checked~label.sk-toggleable__label {background-color: #d4ebff;}#sk-container-id-18 div.sk-label input.sk-toggleable__control:checked~label.sk-toggleable__label {background-color: #d4ebff;}#sk-container-id-18 input.sk-hidden--visually {border: 0;clip: rect(1px 1px 1px 1px);clip: rect(1px, 1px, 1px, 1px);height: 1px;margin: -1px;overflow: hidden;padding: 0;position: absolute;width: 1px;}#sk-container-id-18 div.sk-estimator {font-family: monospace;background-color: #f0f8ff;border: 1px dotted black;border-radius: 0.25em;box-sizing: border-box;margin-bottom: 0.5em;}#sk-container-id-18 div.sk-estimator:hover {background-color: #d4ebff;}#sk-container-id-18 div.sk-parallel-item::after {content: \"\";width: 100%;border-bottom: 1px solid gray;flex-grow: 1;}#sk-container-id-18 div.sk-label:hover label.sk-toggleable__label {background-color: #d4ebff;}#sk-container-id-18 div.sk-serial::before {content: \"\";position: absolute;border-left: 1px solid gray;box-sizing: border-box;top: 0;bottom: 0;left: 50%;z-index: 0;}#sk-container-id-18 div.sk-serial {display: flex;flex-direction: column;align-items: center;background-color: white;padding-right: 0.2em;padding-left: 0.2em;position: relative;}#sk-container-id-18 div.sk-item {position: relative;z-index: 1;}#sk-container-id-18 div.sk-parallel {display: flex;align-items: stretch;justify-content: center;background-color: white;position: relative;}#sk-container-id-18 div.sk-item::before, #sk-container-id-18 div.sk-parallel-item::before {content: \"\";position: absolute;border-left: 1px solid gray;box-sizing: border-box;top: 0;bottom: 0;left: 50%;z-index: -1;}#sk-container-id-18 div.sk-parallel-item {display: flex;flex-direction: column;z-index: 1;position: relative;background-color: white;}#sk-container-id-18 div.sk-parallel-item:first-child::after {align-self: flex-end;width: 50%;}#sk-container-id-18 div.sk-parallel-item:last-child::after {align-self: flex-start;width: 50%;}#sk-container-id-18 div.sk-parallel-item:only-child::after {width: 0;}#sk-container-id-18 div.sk-dashed-wrapped {border: 1px dashed gray;margin: 0 0.4em 0.5em 0.4em;box-sizing: border-box;padding-bottom: 0.4em;background-color: white;}#sk-container-id-18 div.sk-label label {font-family: monospace;font-weight: bold;display: inline-block;line-height: 1.2em;}#sk-container-id-18 div.sk-label-container {text-align: center;}#sk-container-id-18 div.sk-container {/* jupyter's `normalize.less` sets `[hidden] { display: none; }` but bootstrap.min.css set `[hidden] { display: none !important; }` so we also need the `!important` here to be able to override the default hidden behavior on the sphinx rendered scikit-learn.org. See: https://github.com/scikit-learn/scikit-learn/issues/21755 */display: inline-block !important;position: relative;}#sk-container-id-18 div.sk-text-repr-fallback {display: none;}</style><div id=\"sk-container-id-18\" class=\"sk-top-container\"><div class=\"sk-text-repr-fallback\"><pre>XGBClassifier(base_score=None, booster=None, callbacks=None,\n",
       "              colsample_bylevel=None, colsample_bynode=None,\n",
       "              colsample_bytree=0.8, device=None, early_stopping_rounds=20,\n",
       "              enable_categorical=False, eval_metric=&#x27;mlogloss&#x27;,\n",
       "              feature_types=None, gamma=None, grow_policy=None,\n",
       "              importance_type=None, interaction_constraints=None,\n",
       "              learning_rate=0.1, max_bin=None, max_cat_threshold=None,\n",
       "              max_cat_to_onehot=None, max_delta_step=None, max_depth=5,\n",
       "              max_leaves=None, min_child_weight=None, missing=nan,\n",
       "              monotone_constraints=None, multi_strategy=None, n_estimators=300,\n",
       "              n_jobs=None, num_class=5, num_parallel_tree=None, ...)</pre><b>In a Jupyter environment, please rerun this cell to show the HTML representation or trust the notebook. <br />On GitHub, the HTML representation is unable to render, please try loading this page with nbviewer.org.</b></div><div class=\"sk-container\" hidden><div class=\"sk-item\"><div class=\"sk-estimator sk-toggleable\"><input class=\"sk-toggleable__control sk-hidden--visually\" id=\"sk-estimator-id-18\" type=\"checkbox\" checked><label for=\"sk-estimator-id-18\" class=\"sk-toggleable__label sk-toggleable__label-arrow\">XGBClassifier</label><div class=\"sk-toggleable__content\"><pre>XGBClassifier(base_score=None, booster=None, callbacks=None,\n",
       "              colsample_bylevel=None, colsample_bynode=None,\n",
       "              colsample_bytree=0.8, device=None, early_stopping_rounds=20,\n",
       "              enable_categorical=False, eval_metric=&#x27;mlogloss&#x27;,\n",
       "              feature_types=None, gamma=None, grow_policy=None,\n",
       "              importance_type=None, interaction_constraints=None,\n",
       "              learning_rate=0.1, max_bin=None, max_cat_threshold=None,\n",
       "              max_cat_to_onehot=None, max_delta_step=None, max_depth=5,\n",
       "              max_leaves=None, min_child_weight=None, missing=nan,\n",
       "              monotone_constraints=None, multi_strategy=None, n_estimators=300,\n",
       "              n_jobs=None, num_class=5, num_parallel_tree=None, ...)</pre></div></div></div></div></div>"
      ],
      "text/plain": [
       "XGBClassifier(base_score=None, booster=None, callbacks=None,\n",
       "              colsample_bylevel=None, colsample_bynode=None,\n",
       "              colsample_bytree=0.8, device=None, early_stopping_rounds=20,\n",
       "              enable_categorical=False, eval_metric='mlogloss',\n",
       "              feature_types=None, gamma=None, grow_policy=None,\n",
       "              importance_type=None, interaction_constraints=None,\n",
       "              learning_rate=0.1, max_bin=None, max_cat_threshold=None,\n",
       "              max_cat_to_onehot=None, max_delta_step=None, max_depth=5,\n",
       "              max_leaves=None, min_child_weight=None, missing=nan,\n",
       "              monotone_constraints=None, multi_strategy=None, n_estimators=300,\n",
       "              n_jobs=None, num_class=5, num_parallel_tree=None, ...)"
      ]
     },
     "execution_count": 337,
     "metadata": {},
     "output_type": "execute_result"
    }
   ],
   "source": [
    "xgb_model.fit(X_vec, y_train_m, sample_weight=sample_weights, eval_set=[(X_test_vec, y_test_m)])"
   ]
  },
  {
   "cell_type": "code",
   "execution_count": 338,
   "id": "373c3f26-e271-471d-842d-8762b34deebf",
   "metadata": {},
   "outputs": [
    {
     "name": "stdout",
     "output_type": "stream",
     "text": [
      "XGBoost Accuracy: 0.49074074074074076\n",
      "              precision    recall  f1-score   support\n",
      "\n",
      "           0       0.76      0.69      0.72        97\n",
      "           1       0.38      0.31      0.34        26\n",
      "           2       0.22      0.24      0.23        41\n",
      "           3       0.35      0.44      0.39        39\n",
      "           4       0.29      0.31      0.30        13\n",
      "\n",
      "    accuracy                           0.49       216\n",
      "   macro avg       0.40      0.40      0.40       216\n",
      "weighted avg       0.51      0.49      0.50       216\n",
      "\n"
     ]
    }
   ],
   "source": [
    "y_pred = xgb_model.predict(X_test_vec)\n",
    "y_proba = xgb_model.predict_proba(X_test_vec)\n",
    "print(\"XGBoost Accuracy:\", accuracy_score(y_test_m, y_pred))\n",
    "print(classification_report(y_test_m, y_pred))"
   ]
  },
  {
   "cell_type": "code",
   "execution_count": 339,
   "id": "4815abbd-74d2-4572-b43b-5d39085778d7",
   "metadata": {},
   "outputs": [
    {
     "data": {
      "image/png": "[encoded data removed]",
      "text/plain": [
       "<Figure size 640x480 with 2 Axes>"
      ]
     },
     "metadata": {},
     "output_type": "display_data"
    }
   ],
   "source": [
    "from sklearn.decomposition import PCA\n",
    "import matplotlib.pyplot as plt\n",
    "\n",
    "pca = PCA(n_components=2)\n",
    "X_pca = pca.fit_transform(X_vec)\n",
    "\n",
    "plt.scatter(X_pca[:, 0], X_pca[:, 1], c=y_train_m, cmap='tab10')\n",
    "plt.colorbar()\n",
    "plt.title(\"PCA of Betti features\")\n",
    "plt.show()"
   ]
  },
  {
   "cell_type": "code",
   "execution_count": 340,
   "id": "4aae5672-c7f9-434a-be49-dcd1ad0427d6",
   "metadata": {},
   "outputs": [],
   "source": [
    "#Extracting CNN features to be combined with Betti features\n",
    "\n",
    "import torch\n",
    "import torchvision.models as models\n",
    "import torchvision.transforms as transforms\n",
    "from torch.utils.data import DataLoader, TensorDataset"
   ]
  },
  {
   "cell_type": "code",
   "execution_count": 341,
   "id": "93d492c2-db2b-4220-b9f8-9e9e8034d850",
   "metadata": {},
   "outputs": [
    {
     "name": "stdout",
     "output_type": "stream",
     "text": [
      "Train images shape: (864, 64, 64, 3)\n",
      "Test images shape: (216, 64, 64, 3)\n",
      "Train labels shape: (864,)\n"
     ]
    }
   ],
   "source": [
    "# Make sure images are float32\n",
    "train_images = X_train.astype(np.float32)  # shape: (N,H,W,C)\n",
    "y_train_m = y_train.ravel()                # or however your labels are stored\n",
    "\n",
    "test_images = X_test.astype(np.float32)\n",
    "y_test_m = y_test.ravel()\n",
    "\n",
    "print(\"Train images shape:\", train_images.shape)\n",
    "print(\"Test images shape:\", test_images.shape)\n",
    "print(\"Train labels shape:\", y_train_m.shape)"
   ]
  },
  {
   "cell_type": "code",
   "execution_count": 342,
   "id": "488307de-5af2-4093-b5d9-48db1fb5d3fb",
   "metadata": {},
   "outputs": [],
   "source": [
    "from PIL import Image\n",
    "\n",
    "def extract_cnn_features(images):\n",
    "    features = []\n",
    "    with torch.no_grad():\n",
    "        for img in images:\n",
    "            # Convert NumPy array to PIL Image\n",
    "            img_pil = Image.fromarray(img.astype(np.uint8))\n",
    "            \n",
    "            # Apply transforms\n",
    "            img_tensor = transform(img_pil).unsqueeze(0)  # (1, C, H, W)\n",
    "            \n",
    "            # Extract CNN features\n",
    "            feat = resnet(img_tensor)\n",
    "            features.append(feat.squeeze().numpy())\n",
    "    return np.vstack(features)\n",
    "\n",
    "# Example usage\n",
    "X_train_cnn = extract_cnn_features(train_images)  # shape: (N_train, 512)\n",
    "X_test_cnn = extract_cnn_features(test_images)    # shape: (N_test, 512)"
   ]
  },
  {
   "cell_type": "code",
   "execution_count": 343,
   "id": "7ccfcf02-dfa3-498b-8d26-448641700118",
   "metadata": {},
   "outputs": [
    {
     "name": "stdout",
     "output_type": "stream",
     "text": [
      "Combined train shape: (864, 912)\n",
      "Combined test shape: (216, 912)\n"
     ]
    }
   ],
   "source": [
    "X_train_combined = np.hstack([X_vec, X_train_cnn])\n",
    "X_test_combined = np.hstack([X_test_vec, X_test_cnn])\n",
    "\n",
    "print(\"Combined train shape:\", X_train_combined.shape)  # should be (N_train, 912)\n",
    "print(\"Combined test shape:\", X_test_combined.shape)"
   ]
  },
  {
   "cell_type": "code",
   "execution_count": 344,
   "id": "bca15df4-f16e-41d3-8d8c-35b442d318f5",
   "metadata": {},
   "outputs": [],
   "source": [
    "classes = np.unique(y_train_m)\n",
    "weights = compute_class_weight(class_weight=\"balanced\", classes=classes, y=y_train_m)\n",
    "class_weights = dict(zip(classes, weights))\n",
    "\n",
    "sample_weights = np.array([class_weights[y] for y in y_train_m])"
   ]
  },
  {
   "cell_type": "code",
   "execution_count": 345,
   "id": "04c1cb59-2c25-4c12-9896-7521e8f0cfa7",
   "metadata": {},
   "outputs": [
    {
     "name": "stdout",
     "output_type": "stream",
     "text": [
      "[0]\tvalidation_0-mlogloss:1.55730\n",
      "[10]\tvalidation_0-mlogloss:1.27575\n",
      "[20]\tvalidation_0-mlogloss:1.18221\n",
      "[30]\tvalidation_0-mlogloss:1.14365\n",
      "[40]\tvalidation_0-mlogloss:1.12630\n",
      "[50]\tvalidation_0-mlogloss:1.11849\n",
      "[60]\tvalidation_0-mlogloss:1.09940\n",
      "[70]\tvalidation_0-mlogloss:1.10107\n",
      "[80]\tvalidation_0-mlogloss:1.10381\n",
      "[81]\tvalidation_0-mlogloss:1.10419\n"
     ]
    },
    {
     "data": {
      "text/html": [
       "<style>#sk-container-id-19 {color: black;}#sk-container-id-19 pre{padding: 0;}#sk-container-id-19 div.sk-toggleable {background-color: white;}#sk-container-id-19 label.sk-toggleable__label {cursor: pointer;display: block;width: 100%;margin-bottom: 0;padding: 0.3em;box-sizing: border-box;text-align: center;}#sk-container-id-19 label.sk-toggleable__label-arrow:before {content: \"▸\";float: left;margin-right: 0.25em;color: #696969;}#sk-container-id-19 label.sk-toggleable__label-arrow:hover:before {color: black;}#sk-container-id-19 div.sk-estimator:hover label.sk-toggleable__label-arrow:before {color: black;}#sk-container-id-19 div.sk-toggleable__content {max-height: 0;max-width: 0;overflow: hidden;text-align: left;background-color: #f0f8ff;}#sk-container-id-19 div.sk-toggleable__content pre {margin: 0.2em;color: black;border-radius: 0.25em;background-color: #f0f8ff;}#sk-container-id-19 input.sk-toggleable__control:checked~div.sk-toggleable__content {max-height: 200px;max-width: 100%;overflow: auto;}#sk-container-id-19 input.sk-toggleable__control:checked~label.sk-toggleable__label-arrow:before {content: \"▾\";}#sk-container-id-19 div.sk-estimator input.sk-toggleable__control:checked~label.sk-toggleable__label {background-color: #d4ebff;}#sk-container-id-19 div.sk-label input.sk-toggleable__control:checked~label.sk-toggleable__label {background-color: #d4ebff;}#sk-container-id-19 input.sk-hidden--visually {border: 0;clip: rect(1px 1px 1px 1px);clip: rect(1px, 1px, 1px, 1px);height: 1px;margin: -1px;overflow: hidden;padding: 0;position: absolute;width: 1px;}#sk-container-id-19 div.sk-estimator {font-family: monospace;background-color: #f0f8ff;border: 1px dotted black;border-radius: 0.25em;box-sizing: border-box;margin-bottom: 0.5em;}#sk-container-id-19 div.sk-estimator:hover {background-color: #d4ebff;}#sk-container-id-19 div.sk-parallel-item::after {content: \"\";width: 100%;border-bottom: 1px solid gray;flex-grow: 1;}#sk-container-id-19 div.sk-label:hover label.sk-toggleable__label {background-color: #d4ebff;}#sk-container-id-19 div.sk-serial::before {content: \"\";position: absolute;border-left: 1px solid gray;box-sizing: border-box;top: 0;bottom: 0;left: 50%;z-index: 0;}#sk-container-id-19 div.sk-serial {display: flex;flex-direction: column;align-items: center;background-color: white;padding-right: 0.2em;padding-left: 0.2em;position: relative;}#sk-container-id-19 div.sk-item {position: relative;z-index: 1;}#sk-container-id-19 div.sk-parallel {display: flex;align-items: stretch;justify-content: center;background-color: white;position: relative;}#sk-container-id-19 div.sk-item::before, #sk-container-id-19 div.sk-parallel-item::before {content: \"\";position: absolute;border-left: 1px solid gray;box-sizing: border-box;top: 0;bottom: 0;left: 50%;z-index: -1;}#sk-container-id-19 div.sk-parallel-item {display: flex;flex-direction: column;z-index: 1;position: relative;background-color: white;}#sk-container-id-19 div.sk-parallel-item:first-child::after {align-self: flex-end;width: 50%;}#sk-container-id-19 div.sk-parallel-item:last-child::after {align-self: flex-start;width: 50%;}#sk-container-id-19 div.sk-parallel-item:only-child::after {width: 0;}#sk-container-id-19 div.sk-dashed-wrapped {border: 1px dashed gray;margin: 0 0.4em 0.5em 0.4em;box-sizing: border-box;padding-bottom: 0.4em;background-color: white;}#sk-container-id-19 div.sk-label label {font-family: monospace;font-weight: bold;display: inline-block;line-height: 1.2em;}#sk-container-id-19 div.sk-label-container {text-align: center;}#sk-container-id-19 div.sk-container {/* jupyter's `normalize.less` sets `[hidden] { display: none; }` but bootstrap.min.css set `[hidden] { display: none !important; }` so we also need the `!important` here to be able to override the default hidden behavior on the sphinx rendered scikit-learn.org. See: https://github.com/scikit-learn/scikit-learn/issues/21755 */display: inline-block !important;position: relative;}#sk-container-id-19 div.sk-text-repr-fallback {display: none;}</style><div id=\"sk-container-id-19\" class=\"sk-top-container\"><div class=\"sk-text-repr-fallback\"><pre>XGBClassifier(base_score=None, booster=None, callbacks=None,\n",
       "              colsample_bylevel=None, colsample_bynode=None,\n",
       "              colsample_bytree=0.8, device=None, early_stopping_rounds=20,\n",
       "              enable_categorical=False, eval_metric=&#x27;mlogloss&#x27;,\n",
       "              feature_types=None, gamma=None, grow_policy=None,\n",
       "              importance_type=None, interaction_constraints=None,\n",
       "              learning_rate=0.1, max_bin=None, max_cat_threshold=None,\n",
       "              max_cat_to_onehot=None, max_delta_step=None, max_depth=5,\n",
       "              max_leaves=None, min_child_weight=None, missing=nan,\n",
       "              monotone_constraints=None, multi_strategy=None, n_estimators=300,\n",
       "              n_jobs=None, num_class=5, num_parallel_tree=None, ...)</pre><b>In a Jupyter environment, please rerun this cell to show the HTML representation or trust the notebook. <br />On GitHub, the HTML representation is unable to render, please try loading this page with nbviewer.org.</b></div><div class=\"sk-container\" hidden><div class=\"sk-item\"><div class=\"sk-estimator sk-toggleable\"><input class=\"sk-toggleable__control sk-hidden--visually\" id=\"sk-estimator-id-19\" type=\"checkbox\" checked><label for=\"sk-estimator-id-19\" class=\"sk-toggleable__label sk-toggleable__label-arrow\">XGBClassifier</label><div class=\"sk-toggleable__content\"><pre>XGBClassifier(base_score=None, booster=None, callbacks=None,\n",
       "              colsample_bylevel=None, colsample_bynode=None,\n",
       "              colsample_bytree=0.8, device=None, early_stopping_rounds=20,\n",
       "              enable_categorical=False, eval_metric=&#x27;mlogloss&#x27;,\n",
       "              feature_types=None, gamma=None, grow_policy=None,\n",
       "              importance_type=None, interaction_constraints=None,\n",
       "              learning_rate=0.1, max_bin=None, max_cat_threshold=None,\n",
       "              max_cat_to_onehot=None, max_delta_step=None, max_depth=5,\n",
       "              max_leaves=None, min_child_weight=None, missing=nan,\n",
       "              monotone_constraints=None, multi_strategy=None, n_estimators=300,\n",
       "              n_jobs=None, num_class=5, num_parallel_tree=None, ...)</pre></div></div></div></div></div>"
      ],
      "text/plain": [
       "XGBClassifier(base_score=None, booster=None, callbacks=None,\n",
       "              colsample_bylevel=None, colsample_bynode=None,\n",
       "              colsample_bytree=0.8, device=None, early_stopping_rounds=20,\n",
       "              enable_categorical=False, eval_metric='mlogloss',\n",
       "              feature_types=None, gamma=None, grow_policy=None,\n",
       "              importance_type=None, interaction_constraints=None,\n",
       "              learning_rate=0.1, max_bin=None, max_cat_threshold=None,\n",
       "              max_cat_to_onehot=None, max_delta_step=None, max_depth=5,\n",
       "              max_leaves=None, min_child_weight=None, missing=nan,\n",
       "              monotone_constraints=None, multi_strategy=None, n_estimators=300,\n",
       "              n_jobs=None, num_class=5, num_parallel_tree=None, ...)"
      ]
     },
     "execution_count": 345,
     "metadata": {},
     "output_type": "execute_result"
    }
   ],
   "source": [
    "xgb_model_cnn_betti = XGBClassifier(\n",
    "    n_estimators=300,\n",
    "    learning_rate=0.1,\n",
    "    max_depth=5,\n",
    "    subsample=0.8,\n",
    "    colsample_bytree=0.8,\n",
    "    random_state=42,\n",
    "    use_label_encoder=False,\n",
    "    early_stopping_rounds=20,\n",
    "    eval_metric=\"mlogloss\",\n",
    "    objective=\"multi:softprob\",\n",
    "    num_class=len(classes)\n",
    ")\n",
    "\n",
    "xgb_model_cnn_betti.fit(\n",
    "    X_train_combined, y_train_m,\n",
    "    sample_weight=sample_weights,\n",
    "    eval_set=[(X_test_combined, y_test_m)],\n",
    "    verbose=10\n",
    ")"
   ]
  },
  {
   "cell_type": "code",
   "execution_count": 346,
   "id": "64b20297-ee03-44e8-b3b0-824ca41c6fbf",
   "metadata": {},
   "outputs": [
    {
     "name": "stdout",
     "output_type": "stream",
     "text": [
      "Accuracy: 0.5601851851851852\n",
      "              precision    recall  f1-score   support\n",
      "\n",
      "           0       0.71      0.74      0.73        97\n",
      "           1       0.41      0.35      0.38        26\n",
      "           2       0.35      0.32      0.33        41\n",
      "           3       0.45      0.54      0.49        39\n",
      "           4       0.67      0.46      0.55        13\n",
      "\n",
      "    accuracy                           0.56       216\n",
      "   macro avg       0.52      0.48      0.49       216\n",
      "weighted avg       0.56      0.56      0.56       216\n",
      "\n"
     ]
    }
   ],
   "source": [
    "y_pred_cnn_betti = xgb_model_cnn_betti.predict(X_test_combined)\n",
    "print(\"Accuracy:\", accuracy_score(y_test_m, y_pred_cnn_betti))\n",
    "print(classification_report(y_test_m, y_pred_cnn_betti))"
   ]
  },
  {
   "cell_type": "code",
   "execution_count": null,
   "id": "22437967-a328-4b0b-80b3-78d501866a39",
   "metadata": {},
   "outputs": [],
   "source": []
  }
 ],
 "metadata": {
  "kernelspec": {
   "display_name": "Python 3 (ipykernel)",
   "language": "python",
   "name": "python3"
  },
  "language_info": {
   "codemirror_mode": {
    "name": "ipython",
    "version": 3
   },
   "file_extension": ".py",
   "mimetype": "text/x-python",
   "name": "python",
   "nbconvert_exporter": "python",
   "pygments_lexer": "ipython3",
   "version": "3.11.7"
  }
 },
 "nbformat": 4,
 "nbformat_minor": 5
}
