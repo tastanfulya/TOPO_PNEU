{
 "cells": [
  {
   "cell_type": "code",
   "execution_count": 113,
   "id": "ada3764e-71b0-40cb-95df-da49779ea30b",
   "metadata": {},
   "outputs": [
    {
     "name": "stderr",
     "output_type": "stream",
     "text": [
      "python(156) MallocStackLogging: can't turn off malloc stack logging because it was not enabled.\n"
     ]
    },
    {
     "name": "stdout",
     "output_type": "stream",
     "text": [
      "Requirement already satisfied: medmnist in /opt/anaconda3/lib/python3.11/site-packages (3.0.2)\n",
      "Requirement already satisfied: giotto-tda in /opt/anaconda3/lib/python3.11/site-packages (0.6.2)\n",
      "Requirement already satisfied: scikit-learn in /opt/anaconda3/lib/python3.11/site-packages (1.3.2)\n",
      "Requirement already satisfied: matplotlib in /opt/anaconda3/lib/python3.11/site-packages (3.8.0)\n",
      "Requirement already satisfied: seaborn in /opt/anaconda3/lib/python3.11/site-packages (0.12.2)\n",
      "Requirement already satisfied: gudhi in /opt/anaconda3/lib/python3.11/site-packages (3.11.0)\n",
      "Requirement already satisfied: numpy in /opt/anaconda3/lib/python3.11/site-packages (from medmnist) (1.26.4)\n",
      "Requirement already satisfied: pandas in /opt/anaconda3/lib/python3.11/site-packages (from medmnist) (2.1.4)\n",
      "Requirement already satisfied: scikit-image in /opt/anaconda3/lib/python3.11/site-packages (from medmnist) (0.22.0)\n",
      "Requirement already satisfied: tqdm in /opt/anaconda3/lib/python3.11/site-packages (from medmnist) (4.65.0)\n",
      "Requirement already satisfied: Pillow in /opt/anaconda3/lib/python3.11/site-packages (from medmnist) (10.2.0)\n",
      "Requirement already satisfied: fire in /opt/anaconda3/lib/python3.11/site-packages (from medmnist) (0.7.0)\n",
      "Requirement already satisfied: torch in /opt/anaconda3/lib/python3.11/site-packages (from medmnist) (2.6.0)\n",
      "Requirement already satisfied: torchvision in /opt/anaconda3/lib/python3.11/site-packages (from medmnist) (0.21.0)\n",
      "Requirement already satisfied: scipy>=1.5.0 in /opt/anaconda3/lib/python3.11/site-packages (from giotto-tda) (1.11.4)\n",
      "Requirement already satisfied: joblib>=0.16.0 in /opt/anaconda3/lib/python3.11/site-packages (from giotto-tda) (1.2.0)\n",
      "Requirement already satisfied: giotto-ph>=0.2.1 in /opt/anaconda3/lib/python3.11/site-packages (from giotto-tda) (0.2.4)\n",
      "Requirement already satisfied: pyflagser>=0.4.3 in /opt/anaconda3/lib/python3.11/site-packages (from giotto-tda) (0.4.7)\n",
      "Requirement already satisfied: igraph>=0.9.8 in /opt/anaconda3/lib/python3.11/site-packages (from giotto-tda) (0.11.9)\n",
      "Requirement already satisfied: plotly>=4.8.2 in /opt/anaconda3/lib/python3.11/site-packages (from giotto-tda) (5.9.0)\n",
      "Requirement already satisfied: ipywidgets>=7.5.1 in /opt/anaconda3/lib/python3.11/site-packages (from giotto-tda) (7.6.5)\n",
      "Requirement already satisfied: threadpoolctl>=2.0.0 in /opt/anaconda3/lib/python3.11/site-packages (from scikit-learn) (2.2.0)\n",
      "Requirement already satisfied: contourpy>=1.0.1 in /opt/anaconda3/lib/python3.11/site-packages (from matplotlib) (1.2.0)\n",
      "Requirement already satisfied: cycler>=0.10 in /opt/anaconda3/lib/python3.11/site-packages (from matplotlib) (0.11.0)\n",
      "Requirement already satisfied: fonttools>=4.22.0 in /opt/anaconda3/lib/python3.11/site-packages (from matplotlib) (4.25.0)\n",
      "Requirement already satisfied: kiwisolver>=1.0.1 in /opt/anaconda3/lib/python3.11/site-packages (from matplotlib) (1.4.4)\n",
      "Requirement already satisfied: packaging>=20.0 in /opt/anaconda3/lib/python3.11/site-packages (from matplotlib) (23.1)\n",
      "Requirement already satisfied: pyparsing>=2.3.1 in /opt/anaconda3/lib/python3.11/site-packages (from matplotlib) (3.0.9)\n",
      "Requirement already satisfied: python-dateutil>=2.7 in /opt/anaconda3/lib/python3.11/site-packages (from matplotlib) (2.8.2)\n",
      "Requirement already satisfied: texttable>=1.6.2 in /opt/anaconda3/lib/python3.11/site-packages (from igraph>=0.9.8->giotto-tda) (1.7.0)\n",
      "Requirement already satisfied: ipykernel>=4.5.1 in /opt/anaconda3/lib/python3.11/site-packages (from ipywidgets>=7.5.1->giotto-tda) (6.28.0)\n",
      "Requirement already satisfied: ipython-genutils~=0.2.0 in /opt/anaconda3/lib/python3.11/site-packages (from ipywidgets>=7.5.1->giotto-tda) (0.2.0)\n",
      "Requirement already satisfied: traitlets>=4.3.1 in /opt/anaconda3/lib/python3.11/site-packages (from ipywidgets>=7.5.1->giotto-tda) (5.7.1)\n",
      "Requirement already satisfied: nbformat>=4.2.0 in /opt/anaconda3/lib/python3.11/site-packages (from ipywidgets>=7.5.1->giotto-tda) (5.9.2)\n",
      "Requirement already satisfied: widgetsnbextension~=3.5.0 in /opt/anaconda3/lib/python3.11/site-packages (from ipywidgets>=7.5.1->giotto-tda) (3.5.2)\n",
      "Requirement already satisfied: ipython>=4.0.0 in /opt/anaconda3/lib/python3.11/site-packages (from ipywidgets>=7.5.1->giotto-tda) (8.20.0)\n",
      "Requirement already satisfied: jupyterlab-widgets>=1.0.0 in /opt/anaconda3/lib/python3.11/site-packages (from ipywidgets>=7.5.1->giotto-tda) (3.0.9)\n",
      "Requirement already satisfied: pytz>=2020.1 in /opt/anaconda3/lib/python3.11/site-packages (from pandas->medmnist) (2023.3.post1)\n",
      "Requirement already satisfied: tzdata>=2022.1 in /opt/anaconda3/lib/python3.11/site-packages (from pandas->medmnist) (2023.3)\n",
      "Requirement already satisfied: tenacity>=6.2.0 in /opt/anaconda3/lib/python3.11/site-packages (from plotly>=4.8.2->giotto-tda) (8.2.2)\n",
      "Requirement already satisfied: six>=1.5 in /opt/anaconda3/lib/python3.11/site-packages (from python-dateutil>=2.7->matplotlib) (1.16.0)\n",
      "Requirement already satisfied: termcolor in /opt/anaconda3/lib/python3.11/site-packages (from fire->medmnist) (3.1.0)\n",
      "Requirement already satisfied: networkx>=2.8 in /opt/anaconda3/lib/python3.11/site-packages (from scikit-image->medmnist) (3.1)\n",
      "Requirement already satisfied: imageio>=2.27 in /opt/anaconda3/lib/python3.11/site-packages (from scikit-image->medmnist) (2.33.1)\n",
      "Requirement already satisfied: tifffile>=2022.8.12 in /opt/anaconda3/lib/python3.11/site-packages (from scikit-image->medmnist) (2023.4.12)\n",
      "Requirement already satisfied: lazy_loader>=0.3 in /opt/anaconda3/lib/python3.11/site-packages (from scikit-image->medmnist) (0.3)\n",
      "Requirement already satisfied: filelock in /opt/anaconda3/lib/python3.11/site-packages (from torch->medmnist) (3.13.1)\n",
      "Requirement already satisfied: typing-extensions>=4.10.0 in /opt/anaconda3/lib/python3.11/site-packages (from torch->medmnist) (4.12.2)\n",
      "Requirement already satisfied: jinja2 in /opt/anaconda3/lib/python3.11/site-packages (from torch->medmnist) (3.1.3)\n",
      "Requirement already satisfied: fsspec in /opt/anaconda3/lib/python3.11/site-packages (from torch->medmnist) (2023.10.0)\n",
      "Requirement already satisfied: sympy==1.13.1 in /opt/anaconda3/lib/python3.11/site-packages (from torch->medmnist) (1.13.1)\n",
      "Requirement already satisfied: mpmath<1.4,>=1.1.0 in /opt/anaconda3/lib/python3.11/site-packages (from sympy==1.13.1->torch->medmnist) (1.3.0)\n",
      "Requirement already satisfied: appnope in /opt/anaconda3/lib/python3.11/site-packages (from ipykernel>=4.5.1->ipywidgets>=7.5.1->giotto-tda) (0.1.2)\n",
      "Requirement already satisfied: comm>=0.1.1 in /opt/anaconda3/lib/python3.11/site-packages (from ipykernel>=4.5.1->ipywidgets>=7.5.1->giotto-tda) (0.1.2)\n",
      "Requirement already satisfied: debugpy>=1.6.5 in /opt/anaconda3/lib/python3.11/site-packages (from ipykernel>=4.5.1->ipywidgets>=7.5.1->giotto-tda) (1.6.7)\n",
      "Requirement already satisfied: jupyter-client>=6.1.12 in /opt/anaconda3/lib/python3.11/site-packages (from ipykernel>=4.5.1->ipywidgets>=7.5.1->giotto-tda) (8.6.0)\n",
      "Requirement already satisfied: jupyter-core!=5.0.*,>=4.12 in /opt/anaconda3/lib/python3.11/site-packages (from ipykernel>=4.5.1->ipywidgets>=7.5.1->giotto-tda) (5.5.0)\n",
      "Requirement already satisfied: matplotlib-inline>=0.1 in /opt/anaconda3/lib/python3.11/site-packages (from ipykernel>=4.5.1->ipywidgets>=7.5.1->giotto-tda) (0.1.6)\n",
      "Requirement already satisfied: nest-asyncio in /opt/anaconda3/lib/python3.11/site-packages (from ipykernel>=4.5.1->ipywidgets>=7.5.1->giotto-tda) (1.6.0)\n",
      "Requirement already satisfied: psutil in /opt/anaconda3/lib/python3.11/site-packages (from ipykernel>=4.5.1->ipywidgets>=7.5.1->giotto-tda) (5.9.0)\n",
      "Requirement already satisfied: pyzmq>=24 in /opt/anaconda3/lib/python3.11/site-packages (from ipykernel>=4.5.1->ipywidgets>=7.5.1->giotto-tda) (25.1.2)\n",
      "Requirement already satisfied: tornado>=6.1 in /opt/anaconda3/lib/python3.11/site-packages (from ipykernel>=4.5.1->ipywidgets>=7.5.1->giotto-tda) (6.3.3)\n",
      "Requirement already satisfied: decorator in /opt/anaconda3/lib/python3.11/site-packages (from ipython>=4.0.0->ipywidgets>=7.5.1->giotto-tda) (5.1.1)\n",
      "Requirement already satisfied: jedi>=0.16 in /opt/anaconda3/lib/python3.11/site-packages (from ipython>=4.0.0->ipywidgets>=7.5.1->giotto-tda) (0.18.1)\n",
      "Requirement already satisfied: prompt-toolkit<3.1.0,>=3.0.41 in /opt/anaconda3/lib/python3.11/site-packages (from ipython>=4.0.0->ipywidgets>=7.5.1->giotto-tda) (3.0.43)\n",
      "Requirement already satisfied: pygments>=2.4.0 in /opt/anaconda3/lib/python3.11/site-packages (from ipython>=4.0.0->ipywidgets>=7.5.1->giotto-tda) (2.15.1)\n",
      "Requirement already satisfied: stack-data in /opt/anaconda3/lib/python3.11/site-packages (from ipython>=4.0.0->ipywidgets>=7.5.1->giotto-tda) (0.2.0)\n",
      "Requirement already satisfied: pexpect>4.3 in /opt/anaconda3/lib/python3.11/site-packages (from ipython>=4.0.0->ipywidgets>=7.5.1->giotto-tda) (4.8.0)\n",
      "Requirement already satisfied: fastjsonschema in /opt/anaconda3/lib/python3.11/site-packages (from nbformat>=4.2.0->ipywidgets>=7.5.1->giotto-tda) (2.16.2)\n",
      "Requirement already satisfied: jsonschema>=2.6 in /opt/anaconda3/lib/python3.11/site-packages (from nbformat>=4.2.0->ipywidgets>=7.5.1->giotto-tda) (4.19.2)\n",
      "Requirement already satisfied: notebook>=4.4.1 in /opt/anaconda3/lib/python3.11/site-packages (from widgetsnbextension~=3.5.0->ipywidgets>=7.5.1->giotto-tda) (7.0.8)\n",
      "Requirement already satisfied: MarkupSafe>=2.0 in /opt/anaconda3/lib/python3.11/site-packages (from jinja2->torch->medmnist) (2.1.3)\n",
      "Requirement already satisfied: parso<0.9.0,>=0.8.0 in /opt/anaconda3/lib/python3.11/site-packages (from jedi>=0.16->ipython>=4.0.0->ipywidgets>=7.5.1->giotto-tda) (0.8.3)\n",
      "Requirement already satisfied: attrs>=22.2.0 in /opt/anaconda3/lib/python3.11/site-packages (from jsonschema>=2.6->nbformat>=4.2.0->ipywidgets>=7.5.1->giotto-tda) (23.1.0)\n",
      "Requirement already satisfied: jsonschema-specifications>=2023.03.6 in /opt/anaconda3/lib/python3.11/site-packages (from jsonschema>=2.6->nbformat>=4.2.0->ipywidgets>=7.5.1->giotto-tda) (2023.7.1)\n",
      "Requirement already satisfied: referencing>=0.28.4 in /opt/anaconda3/lib/python3.11/site-packages (from jsonschema>=2.6->nbformat>=4.2.0->ipywidgets>=7.5.1->giotto-tda) (0.30.2)\n",
      "Requirement already satisfied: rpds-py>=0.7.1 in /opt/anaconda3/lib/python3.11/site-packages (from jsonschema>=2.6->nbformat>=4.2.0->ipywidgets>=7.5.1->giotto-tda) (0.10.6)\n",
      "Requirement already satisfied: platformdirs>=2.5 in /opt/anaconda3/lib/python3.11/site-packages (from jupyter-core!=5.0.*,>=4.12->ipykernel>=4.5.1->ipywidgets>=7.5.1->giotto-tda) (3.10.0)\n",
      "Requirement already satisfied: jupyter-server<3,>=2.4.0 in /opt/anaconda3/lib/python3.11/site-packages (from notebook>=4.4.1->widgetsnbextension~=3.5.0->ipywidgets>=7.5.1->giotto-tda) (2.10.0)\n",
      "Requirement already satisfied: jupyterlab-server<3,>=2.22.1 in /opt/anaconda3/lib/python3.11/site-packages (from notebook>=4.4.1->widgetsnbextension~=3.5.0->ipywidgets>=7.5.1->giotto-tda) (2.25.1)\n",
      "Requirement already satisfied: jupyterlab<4.1,>=4.0.2 in /opt/anaconda3/lib/python3.11/site-packages (from notebook>=4.4.1->widgetsnbextension~=3.5.0->ipywidgets>=7.5.1->giotto-tda) (4.0.11)\n",
      "Requirement already satisfied: notebook-shim<0.3,>=0.2 in /opt/anaconda3/lib/python3.11/site-packages (from notebook>=4.4.1->widgetsnbextension~=3.5.0->ipywidgets>=7.5.1->giotto-tda) (0.2.3)\n",
      "Requirement already satisfied: ptyprocess>=0.5 in /opt/anaconda3/lib/python3.11/site-packages (from pexpect>4.3->ipython>=4.0.0->ipywidgets>=7.5.1->giotto-tda) (0.7.0)\n",
      "Requirement already satisfied: wcwidth in /opt/anaconda3/lib/python3.11/site-packages (from prompt-toolkit<3.1.0,>=3.0.41->ipython>=4.0.0->ipywidgets>=7.5.1->giotto-tda) (0.2.5)\n",
      "Requirement already satisfied: executing in /opt/anaconda3/lib/python3.11/site-packages (from stack-data->ipython>=4.0.0->ipywidgets>=7.5.1->giotto-tda) (0.8.3)\n",
      "Requirement already satisfied: asttokens in /opt/anaconda3/lib/python3.11/site-packages (from stack-data->ipython>=4.0.0->ipywidgets>=7.5.1->giotto-tda) (2.0.5)\n",
      "Requirement already satisfied: pure-eval in /opt/anaconda3/lib/python3.11/site-packages (from stack-data->ipython>=4.0.0->ipywidgets>=7.5.1->giotto-tda) (0.2.2)\n",
      "Requirement already satisfied: anyio>=3.1.0 in /opt/anaconda3/lib/python3.11/site-packages (from jupyter-server<3,>=2.4.0->notebook>=4.4.1->widgetsnbextension~=3.5.0->ipywidgets>=7.5.1->giotto-tda) (4.2.0)\n",
      "Requirement already satisfied: argon2-cffi in /opt/anaconda3/lib/python3.11/site-packages (from jupyter-server<3,>=2.4.0->notebook>=4.4.1->widgetsnbextension~=3.5.0->ipywidgets>=7.5.1->giotto-tda) (21.3.0)\n",
      "Requirement already satisfied: jupyter-events>=0.6.0 in /opt/anaconda3/lib/python3.11/site-packages (from jupyter-server<3,>=2.4.0->notebook>=4.4.1->widgetsnbextension~=3.5.0->ipywidgets>=7.5.1->giotto-tda) (0.8.0)\n",
      "Requirement already satisfied: jupyter-server-terminals in /opt/anaconda3/lib/python3.11/site-packages (from jupyter-server<3,>=2.4.0->notebook>=4.4.1->widgetsnbextension~=3.5.0->ipywidgets>=7.5.1->giotto-tda) (0.4.4)\n",
      "Requirement already satisfied: nbconvert>=6.4.4 in /opt/anaconda3/lib/python3.11/site-packages (from jupyter-server<3,>=2.4.0->notebook>=4.4.1->widgetsnbextension~=3.5.0->ipywidgets>=7.5.1->giotto-tda) (7.10.0)\n",
      "Requirement already satisfied: overrides in /opt/anaconda3/lib/python3.11/site-packages (from jupyter-server<3,>=2.4.0->notebook>=4.4.1->widgetsnbextension~=3.5.0->ipywidgets>=7.5.1->giotto-tda) (7.4.0)\n",
      "Requirement already satisfied: prometheus-client in /opt/anaconda3/lib/python3.11/site-packages (from jupyter-server<3,>=2.4.0->notebook>=4.4.1->widgetsnbextension~=3.5.0->ipywidgets>=7.5.1->giotto-tda) (0.14.1)\n",
      "Requirement already satisfied: send2trash>=1.8.2 in /opt/anaconda3/lib/python3.11/site-packages (from jupyter-server<3,>=2.4.0->notebook>=4.4.1->widgetsnbextension~=3.5.0->ipywidgets>=7.5.1->giotto-tda) (1.8.2)\n",
      "Requirement already satisfied: terminado>=0.8.3 in /opt/anaconda3/lib/python3.11/site-packages (from jupyter-server<3,>=2.4.0->notebook>=4.4.1->widgetsnbextension~=3.5.0->ipywidgets>=7.5.1->giotto-tda) (0.17.1)\n",
      "Requirement already satisfied: websocket-client in /opt/anaconda3/lib/python3.11/site-packages (from jupyter-server<3,>=2.4.0->notebook>=4.4.1->widgetsnbextension~=3.5.0->ipywidgets>=7.5.1->giotto-tda) (0.58.0)\n",
      "Requirement already satisfied: async-lru>=1.0.0 in /opt/anaconda3/lib/python3.11/site-packages (from jupyterlab<4.1,>=4.0.2->notebook>=4.4.1->widgetsnbextension~=3.5.0->ipywidgets>=7.5.1->giotto-tda) (2.0.4)\n",
      "Requirement already satisfied: jupyter-lsp>=2.0.0 in /opt/anaconda3/lib/python3.11/site-packages (from jupyterlab<4.1,>=4.0.2->notebook>=4.4.1->widgetsnbextension~=3.5.0->ipywidgets>=7.5.1->giotto-tda) (2.2.0)\n",
      "Requirement already satisfied: babel>=2.10 in /opt/anaconda3/lib/python3.11/site-packages (from jupyterlab-server<3,>=2.22.1->notebook>=4.4.1->widgetsnbextension~=3.5.0->ipywidgets>=7.5.1->giotto-tda) (2.11.0)\n",
      "Requirement already satisfied: json5>=0.9.0 in /opt/anaconda3/lib/python3.11/site-packages (from jupyterlab-server<3,>=2.22.1->notebook>=4.4.1->widgetsnbextension~=3.5.0->ipywidgets>=7.5.1->giotto-tda) (0.9.6)\n",
      "Requirement already satisfied: requests>=2.31 in /opt/anaconda3/lib/python3.11/site-packages (from jupyterlab-server<3,>=2.22.1->notebook>=4.4.1->widgetsnbextension~=3.5.0->ipywidgets>=7.5.1->giotto-tda) (2.31.0)\n",
      "Requirement already satisfied: idna>=2.8 in /opt/anaconda3/lib/python3.11/site-packages (from anyio>=3.1.0->jupyter-server<3,>=2.4.0->notebook>=4.4.1->widgetsnbextension~=3.5.0->ipywidgets>=7.5.1->giotto-tda) (3.4)\n",
      "Requirement already satisfied: sniffio>=1.1 in /opt/anaconda3/lib/python3.11/site-packages (from anyio>=3.1.0->jupyter-server<3,>=2.4.0->notebook>=4.4.1->widgetsnbextension~=3.5.0->ipywidgets>=7.5.1->giotto-tda) (1.3.0)\n",
      "Requirement already satisfied: python-json-logger>=2.0.4 in /opt/anaconda3/lib/python3.11/site-packages (from jupyter-events>=0.6.0->jupyter-server<3,>=2.4.0->notebook>=4.4.1->widgetsnbextension~=3.5.0->ipywidgets>=7.5.1->giotto-tda) (2.0.7)\n",
      "Requirement already satisfied: pyyaml>=5.3 in /opt/anaconda3/lib/python3.11/site-packages (from jupyter-events>=0.6.0->jupyter-server<3,>=2.4.0->notebook>=4.4.1->widgetsnbextension~=3.5.0->ipywidgets>=7.5.1->giotto-tda) (6.0.1)\n",
      "Requirement already satisfied: rfc3339-validator in /opt/anaconda3/lib/python3.11/site-packages (from jupyter-events>=0.6.0->jupyter-server<3,>=2.4.0->notebook>=4.4.1->widgetsnbextension~=3.5.0->ipywidgets>=7.5.1->giotto-tda) (0.1.4)\n",
      "Requirement already satisfied: rfc3986-validator>=0.1.1 in /opt/anaconda3/lib/python3.11/site-packages (from jupyter-events>=0.6.0->jupyter-server<3,>=2.4.0->notebook>=4.4.1->widgetsnbextension~=3.5.0->ipywidgets>=7.5.1->giotto-tda) (0.1.1)\n",
      "Requirement already satisfied: beautifulsoup4 in /opt/anaconda3/lib/python3.11/site-packages (from nbconvert>=6.4.4->jupyter-server<3,>=2.4.0->notebook>=4.4.1->widgetsnbextension~=3.5.0->ipywidgets>=7.5.1->giotto-tda) (4.12.2)\n",
      "Requirement already satisfied: bleach!=5.0.0 in /opt/anaconda3/lib/python3.11/site-packages (from nbconvert>=6.4.4->jupyter-server<3,>=2.4.0->notebook>=4.4.1->widgetsnbextension~=3.5.0->ipywidgets>=7.5.1->giotto-tda) (4.1.0)\n",
      "Requirement already satisfied: defusedxml in /opt/anaconda3/lib/python3.11/site-packages (from nbconvert>=6.4.4->jupyter-server<3,>=2.4.0->notebook>=4.4.1->widgetsnbextension~=3.5.0->ipywidgets>=7.5.1->giotto-tda) (0.7.1)\n",
      "Requirement already satisfied: jupyterlab-pygments in /opt/anaconda3/lib/python3.11/site-packages (from nbconvert>=6.4.4->jupyter-server<3,>=2.4.0->notebook>=4.4.1->widgetsnbextension~=3.5.0->ipywidgets>=7.5.1->giotto-tda) (0.1.2)\n",
      "Requirement already satisfied: mistune<4,>=2.0.3 in /opt/anaconda3/lib/python3.11/site-packages (from nbconvert>=6.4.4->jupyter-server<3,>=2.4.0->notebook>=4.4.1->widgetsnbextension~=3.5.0->ipywidgets>=7.5.1->giotto-tda) (2.0.4)\n",
      "Requirement already satisfied: nbclient>=0.5.0 in /opt/anaconda3/lib/python3.11/site-packages (from nbconvert>=6.4.4->jupyter-server<3,>=2.4.0->notebook>=4.4.1->widgetsnbextension~=3.5.0->ipywidgets>=7.5.1->giotto-tda) (0.8.0)\n",
      "Requirement already satisfied: pandocfilters>=1.4.1 in /opt/anaconda3/lib/python3.11/site-packages (from nbconvert>=6.4.4->jupyter-server<3,>=2.4.0->notebook>=4.4.1->widgetsnbextension~=3.5.0->ipywidgets>=7.5.1->giotto-tda) (1.5.0)\n",
      "Requirement already satisfied: tinycss2 in /opt/anaconda3/lib/python3.11/site-packages (from nbconvert>=6.4.4->jupyter-server<3,>=2.4.0->notebook>=4.4.1->widgetsnbextension~=3.5.0->ipywidgets>=7.5.1->giotto-tda) (1.2.1)\n",
      "Requirement already satisfied: charset-normalizer<4,>=2 in /opt/anaconda3/lib/python3.11/site-packages (from requests>=2.31->jupyterlab-server<3,>=2.22.1->notebook>=4.4.1->widgetsnbextension~=3.5.0->ipywidgets>=7.5.1->giotto-tda) (2.0.4)\n",
      "Requirement already satisfied: urllib3<3,>=1.21.1 in /opt/anaconda3/lib/python3.11/site-packages (from requests>=2.31->jupyterlab-server<3,>=2.22.1->notebook>=4.4.1->widgetsnbextension~=3.5.0->ipywidgets>=7.5.1->giotto-tda) (2.0.7)\n",
      "Requirement already satisfied: certifi>=2017.4.17 in /opt/anaconda3/lib/python3.11/site-packages (from requests>=2.31->jupyterlab-server<3,>=2.22.1->notebook>=4.4.1->widgetsnbextension~=3.5.0->ipywidgets>=7.5.1->giotto-tda) (2024.2.2)\n",
      "Requirement already satisfied: argon2-cffi-bindings in /opt/anaconda3/lib/python3.11/site-packages (from argon2-cffi->jupyter-server<3,>=2.4.0->notebook>=4.4.1->widgetsnbextension~=3.5.0->ipywidgets>=7.5.1->giotto-tda) (21.2.0)\n",
      "Requirement already satisfied: webencodings in /opt/anaconda3/lib/python3.11/site-packages (from bleach!=5.0.0->nbconvert>=6.4.4->jupyter-server<3,>=2.4.0->notebook>=4.4.1->widgetsnbextension~=3.5.0->ipywidgets>=7.5.1->giotto-tda) (0.5.1)\n",
      "Requirement already satisfied: fqdn in /opt/anaconda3/lib/python3.11/site-packages (from jsonschema[format-nongpl]>=4.18.0->jupyter-events>=0.6.0->jupyter-server<3,>=2.4.0->notebook>=4.4.1->widgetsnbextension~=3.5.0->ipywidgets>=7.5.1->giotto-tda) (1.5.1)\n",
      "Requirement already satisfied: isoduration in /opt/anaconda3/lib/python3.11/site-packages (from jsonschema[format-nongpl]>=4.18.0->jupyter-events>=0.6.0->jupyter-server<3,>=2.4.0->notebook>=4.4.1->widgetsnbextension~=3.5.0->ipywidgets>=7.5.1->giotto-tda) (20.11.0)\n",
      "Requirement already satisfied: jsonpointer>1.13 in /opt/anaconda3/lib/python3.11/site-packages (from jsonschema[format-nongpl]>=4.18.0->jupyter-events>=0.6.0->jupyter-server<3,>=2.4.0->notebook>=4.4.1->widgetsnbextension~=3.5.0->ipywidgets>=7.5.1->giotto-tda) (2.1)\n",
      "Requirement already satisfied: uri-template in /opt/anaconda3/lib/python3.11/site-packages (from jsonschema[format-nongpl]>=4.18.0->jupyter-events>=0.6.0->jupyter-server<3,>=2.4.0->notebook>=4.4.1->widgetsnbextension~=3.5.0->ipywidgets>=7.5.1->giotto-tda) (1.3.0)\n",
      "Requirement already satisfied: webcolors>=1.11 in /opt/anaconda3/lib/python3.11/site-packages (from jsonschema[format-nongpl]>=4.18.0->jupyter-events>=0.6.0->jupyter-server<3,>=2.4.0->notebook>=4.4.1->widgetsnbextension~=3.5.0->ipywidgets>=7.5.1->giotto-tda) (24.11.1)\n",
      "Requirement already satisfied: cffi>=1.0.1 in /opt/anaconda3/lib/python3.11/site-packages (from argon2-cffi-bindings->argon2-cffi->jupyter-server<3,>=2.4.0->notebook>=4.4.1->widgetsnbextension~=3.5.0->ipywidgets>=7.5.1->giotto-tda) (1.16.0)\n",
      "Requirement already satisfied: soupsieve>1.2 in /opt/anaconda3/lib/python3.11/site-packages (from beautifulsoup4->nbconvert>=6.4.4->jupyter-server<3,>=2.4.0->notebook>=4.4.1->widgetsnbextension~=3.5.0->ipywidgets>=7.5.1->giotto-tda) (2.5)\n",
      "Requirement already satisfied: pycparser in /opt/anaconda3/lib/python3.11/site-packages (from cffi>=1.0.1->argon2-cffi-bindings->argon2-cffi->jupyter-server<3,>=2.4.0->notebook>=4.4.1->widgetsnbextension~=3.5.0->ipywidgets>=7.5.1->giotto-tda) (2.21)\n",
      "Requirement already satisfied: arrow>=0.15.0 in /opt/anaconda3/lib/python3.11/site-packages (from isoduration->jsonschema[format-nongpl]>=4.18.0->jupyter-events>=0.6.0->jupyter-server<3,>=2.4.0->notebook>=4.4.1->widgetsnbextension~=3.5.0->ipywidgets>=7.5.1->giotto-tda) (1.2.3)\n"
     ]
    }
   ],
   "source": [
    "!pip install medmnist giotto-tda scikit-learn matplotlib seaborn gudhi"
   ]
  },
  {
   "cell_type": "code",
   "execution_count": 114,
   "id": "518ce0a7-6392-47e7-a08b-4edac2f164ca",
   "metadata": {},
   "outputs": [],
   "source": [
    "# Libraries\n",
    "import numpy as np\n",
    "import matplotlib.pyplot as plt\n",
    "import medmnist\n",
    "import cv2\n",
    "import skimage\n",
    "import shap\n",
    "import pandas as pd\n",
    "import xgboost as xgb\n",
    "\n",
    "import gudhi as gd\n",
    "import seaborn as sns\n",
    "\n",
    "from sklearn.feature_selection import SelectFromModel\n",
    "from sklearn.ensemble import RandomForestClassifier\n",
    "from sklearn.linear_model import LogisticRegression\n",
    "from sklearn.model_selection import train_test_split\n",
    "from xgboost import XGBClassifier\n",
    "from xgboost import plot_importance\n",
    "from sklearn.metrics import classification_report, roc_auc_score, ConfusionMatrixDisplay, accuracy_score\n",
    "from sklearn.model_selection import train_test_split\n",
    "\n",
    "from gtda.homology import CubicalPersistence\n",
    "from gtda.diagrams import PersistenceImage\n",
    "from gtda.diagrams import BettiCurve\n",
    "from gtda.plotting import plot_diagram\n",
    "from medmnist import BreastMNIST\n",
    "\n",
    "from skimage import feature\n",
    "import skimage.transform as tf\n",
    "\n",
    "# Set random seed\n",
    "#np.random.seed(42)"
   ]
  },
  {
   "cell_type": "code",
   "execution_count": 115,
   "id": "e5bd8077-54c2-4bc8-927b-13bb698ea672",
   "metadata": {},
   "outputs": [
    {
     "name": "stdout",
     "output_type": "stream",
     "text": [
      "Train: (436, 64, 64) Test: (110, 64, 64)\n"
     ]
    }
   ],
   "source": [
    "# Load BreastMNIST dataset (2D grayscale breast ultrasound images)\n",
    "\n",
    "data = BreastMNIST(split='train', download=True, size=64)\n",
    "x_train, y_train = data.imgs, data.labels\n",
    "\n",
    "\n",
    "# 80:20 split\n",
    "X_train, X_test, y_train, y_test = train_test_split(\n",
    "    x_train, y_train, test_size=0.2, random_state=42, stratify=y_train\n",
    ")\n",
    "\n",
    "print(\"Train:\", X_train.shape, \"Test:\", X_test.shape)"
   ]
  },
  {
   "cell_type": "code",
   "execution_count": 116,
   "id": "d1c2f57b-2eb0-4cd3-b904-05d832e4270e",
   "metadata": {},
   "outputs": [
    {
     "data": {
      "image/png": "[encoded data removed]",
      "text/plain": [
       "<Figure size 640x480 with 1 Axes>"
      ]
     },
     "metadata": {},
     "output_type": "display_data"
    },
    {
     "data": {
      "image/png": "[encoded data removed]",
      "text/plain": [
       "<Figure size 1000x400 with 9 Axes>"
      ]
     },
     "metadata": {},
     "output_type": "display_data"
    }
   ],
   "source": [
    "# Choose a single ultrasound image sample from the train set\n",
    "sample = X_train[0]\n",
    "\n",
    "#Plot the sample image\n",
    "\n",
    "plt.imshow(sample, cmap='gray')\n",
    "plt.title(f\"Label: {y_train[0][0]}\")\n",
    "plt.axis('off')\n",
    "plt.show()\n",
    "\n",
    "#Plot more samples from the train set\n",
    "\n",
    "plt.figure(figsize=(10, 4))\n",
    "for i in range(9):\n",
    "    plt.subplot(3, 3, i + 1)\n",
    "    plt.imshow(X_train[i], cmap='gray')\n",
    "    plt.title(f\"Label: {y_train[i][0]}\")\n",
    "    plt.axis('off')\n",
    "plt.suptitle(\"BreastMNIST Ultrasound Images\", fontsize=14)\n",
    "plt.tight_layout()\n",
    "plt.show()"
   ]
  },
  {
   "cell_type": "code",
   "execution_count": 117,
   "id": "b828df2f-c4ab-41b8-a1f4-95d657f89779",
   "metadata": {},
   "outputs": [],
   "source": [
    "# Store Cubical Persistence\n",
    "\n",
    "cp = CubicalPersistence(homology_dimensions=[0, 1], coeff=3, n_jobs=-1)\n",
    "cp0 = CubicalPersistence(homology_dimensions=[0], coeff=3, n_jobs=-1)\n",
    "cp1 = CubicalPersistence(homology_dimensions=[1], coeff=3, n_jobs=-1)"
   ]
  },
  {
   "cell_type": "code",
   "execution_count": 118,
   "id": "d128dba6-a842-4efe-85de-1d6a293e9679",
   "metadata": {},
   "outputs": [
    {
     "name": "stderr",
     "output_type": "stream",
     "text": [
      "python(163) MallocStackLogging: can't turn off malloc stack logging because it was not enabled.\n",
      "python(164) MallocStackLogging: can't turn off malloc stack logging because it was not enabled.\n",
      "python(165) MallocStackLogging: can't turn off malloc stack logging because it was not enabled.\n",
      "python(166) MallocStackLogging: can't turn off malloc stack logging because it was not enabled.\n",
      "python(167) MallocStackLogging: can't turn off malloc stack logging because it was not enabled.\n",
      "python(168) MallocStackLogging: can't turn off malloc stack logging because it was not enabled.\n",
      "python(169) MallocStackLogging: can't turn off malloc stack logging because it was not enabled.\n",
      "python(170) MallocStackLogging: can't turn off malloc stack logging because it was not enabled.\n"
     ]
    }
   ],
   "source": [
    "# Persistent Diagrams\n",
    "\n",
    "diagrams_train = cp.fit_transform(X_train)\n",
    "diagram0_train = cp0.fit_transform(X_train)\n",
    "diagram1_train = cp1.fit_transform(X_train)\n",
    "\n",
    "diagrams_test = cp.fit_transform(X_test)\n",
    "\n",
    "diagram_sample = cp.fit_transform(sample[None, :, :])"
   ]
  },
  {
   "cell_type": "code",
   "execution_count": 119,
   "id": "683c35ee-4d10-4eac-8c39-501094d9bcdf",
   "metadata": {},
   "outputs": [
    {
     "data": {
      "application/vnd.plotly.v1+json": {
       "config": {
        "plotlyServerURL": "https://plot.ly"
       },
       "data": [
        {
         "hoverinfo": "none",
         "line": {
          "color": "black",
          "dash": "dash",
          "width": 1
         },
         "mode": "lines",
         "showlegend": false,
         "type": "scatter",
         "x": [
          24.9,
          186.1
         ],
         "y": [
          24.9,
          186.1
         ]
        },
        {
         "hoverinfo": "text",
         "hovertext": [
          "(73.0, 128.0)",
          "(92.0, 140.0)",
          "(46.0, 91.0)",
          "(87.0, 122.0)",
          "(91.0, 125.0)",
          "(101.0, 132.0)",
          "(115.0, 145.0)",
          "(103.0, 133.0)",
          "(49.0, 77.0), multiplicity: 2",
          "(49.0, 77.0), multiplicity: 2",
          "(57.0, 82.0)",
          "(57.0, 80.0)",
          "(37.0, 57.0)",
          "(76.0, 93.0)",
          "(63.0, 80.0)",
          "(122.0, 137.0)",
          "(168.0, 183.0)",
          "(103.0, 118.0)",
          "(156.0, 170.0)",
          "(144.0, 158.0)",
          "(106.0, 119.0)",
          "(105.0, 118.0)",
          "(114.0, 127.0)",
          "(162.0, 174.0)",
          "(53.0, 65.0)",
          "(118.0, 129.0)",
          "(105.0, 116.0)",
          "(59.0, 70.0)",
          "(106.0, 117.0)",
          "(98.0, 109.0)",
          "(104.0, 115.0)",
          "(78.0, 88.0)",
          "(163.0, 173.0)",
          "(122.0, 132.0)",
          "(101.0, 110.0)",
          "(100.0, 109.0)",
          "(103.0, 112.0)",
          "(102.0, 111.0)",
          "(69.0, 78.0)",
          "(118.0, 127.0)",
          "(72.0, 81.0)",
          "(170.0, 179.0)",
          "(102.0, 110.0), multiplicity: 2",
          "(68.0, 76.0)",
          "(59.0, 67.0)",
          "(78.0, 86.0)",
          "(102.0, 110.0), multiplicity: 2",
          "(104.0, 112.0)",
          "(97.0, 104.0)",
          "(96.0, 103.0)",
          "(105.0, 112.0)",
          "(115.0, 122.0)",
          "(103.0, 110.0)",
          "(63.0, 70.0)",
          "(79.0, 86.0)",
          "(105.0, 111.0)",
          "(122.0, 128.0)",
          "(104.0, 110.0)",
          "(87.0, 93.0)",
          "(81.0, 87.0)",
          "(120.0, 126.0)",
          "(56.0, 62.0)",
          "(109.0, 115.0)",
          "(67.0, 73.0)",
          "(48.0, 54.0)",
          "(97.0, 103.0)",
          "(159.0, 165.0)",
          "(124.0, 130.0)",
          "(115.0, 120.0), multiplicity: 2",
          "(107.0, 112.0)",
          "(134.0, 139.0)",
          "(115.0, 120.0), multiplicity: 2",
          "(89.0, 94.0)",
          "(33.0, 38.0)",
          "(51.0, 56.0), multiplicity: 2",
          "(51.0, 56.0), multiplicity: 2",
          "(164.0, 169.0)",
          "(127.0, 132.0)",
          "(104.0, 109.0)",
          "(131.0, 136.0)",
          "(66.0, 71.0)",
          "(105.0, 110.0)",
          "(104.0, 108.0), multiplicity: 3",
          "(114.0, 118.0), multiplicity: 2",
          "(30.0, 34.0)",
          "(104.0, 108.0), multiplicity: 3",
          "(116.0, 120.0)",
          "(104.0, 108.0), multiplicity: 3",
          "(74.0, 78.0)",
          "(102.0, 106.0)",
          "(115.0, 119.0)",
          "(56.0, 60.0)",
          "(73.0, 77.0)",
          "(112.0, 116.0), multiplicity: 2",
          "(112.0, 116.0), multiplicity: 2",
          "(114.0, 118.0), multiplicity: 2",
          "(128.0, 132.0)",
          "(124.0, 127.0), multiplicity: 3",
          "(102.0, 105.0), multiplicity: 3",
          "(102.0, 105.0), multiplicity: 3",
          "(59.0, 62.0)",
          "(66.0, 69.0)",
          "(102.0, 105.0), multiplicity: 3",
          "(149.0, 152.0)",
          "(109.0, 112.0)",
          "(124.0, 127.0), multiplicity: 3",
          "(104.0, 107.0)",
          "(118.0, 121.0)",
          "(124.0, 127.0), multiplicity: 3",
          "(47.0, 50.0)",
          "(128.0, 131.0)",
          "(127.0, 130.0)",
          "(69.0, 72.0)",
          "(119.0, 122.0)",
          "(74.0, 77.0)",
          "(121.0, 124.0)",
          "(158.0, 160.0)",
          "(41.0, 43.0)",
          "(58.0, 60.0)",
          "(133.0, 135.0)",
          "(61.0, 63.0)",
          "(129.0, 131.0), multiplicity: 2",
          "(129.0, 131.0), multiplicity: 2",
          "(69.0, 71.0)",
          "(127.0, 129.0)",
          "(70.0, 72.0)",
          "(77.0, 79.0)",
          "(122.0, 124.0)",
          "(79.0, 81.0)",
          "(80.0, 82.0)",
          "(90.0, 92.0), multiplicity: 2",
          "(170.0, 172.0)",
          "(90.0, 92.0), multiplicity: 2",
          "(101.0, 103.0)",
          "(117.0, 119.0)",
          "(107.0, 109.0)",
          "(178.0, 180.0)",
          "(109.0, 111.0), multiplicity: 2",
          "(109.0, 111.0), multiplicity: 2",
          "(112.0, 114.0), multiplicity: 2",
          "(112.0, 114.0), multiplicity: 2",
          "(115.0, 116.0)",
          "(113.0, 114.0)",
          "(116.0, 117.0), multiplicity: 4",
          "(111.0, 112.0)",
          "(116.0, 117.0), multiplicity: 4",
          "(116.0, 117.0), multiplicity: 4",
          "(110.0, 111.0)",
          "(116.0, 117.0), multiplicity: 4",
          "(109.0, 110.0), multiplicity: 2",
          "(109.0, 110.0), multiplicity: 2",
          "(117.0, 118.0)",
          "(107.0, 108.0)",
          "(105.0, 106.0)",
          "(104.0, 105.0)",
          "(121.0, 122.0), multiplicity: 2",
          "(100.0, 101.0)",
          "(99.0, 100.0)",
          "(97.0, 98.0)",
          "(96.0, 97.0)",
          "(121.0, 122.0), multiplicity: 2",
          "(122.0, 123.0)",
          "(89.0, 90.0)",
          "(88.0, 89.0)",
          "(83.0, 84.0)",
          "(170.0, 171.0)",
          "(123.0, 124.0), multiplicity: 2",
          "(123.0, 124.0), multiplicity: 2",
          "(78.0, 79.0)",
          "(76.0, 77.0)",
          "(126.0, 127.0)",
          "(129.0, 130.0)",
          "(69.0, 70.0)",
          "(67.0, 68.0)",
          "(66.0, 67.0)",
          "(132.0, 133.0)",
          "(61.0, 62.0)",
          "(139.0, 140.0), multiplicity: 2",
          "(54.0, 55.0)",
          "(51.0, 52.0)",
          "(46.0, 47.0)",
          "(139.0, 140.0), multiplicity: 2",
          "(28.0, 29.0)"
         ],
         "mode": "markers",
         "name": "H0",
         "type": "scatter",
         "x": [
          73,
          92,
          46,
          87,
          91,
          101,
          115,
          103,
          49,
          49,
          57,
          57,
          37,
          76,
          63,
          122,
          168,
          103,
          156,
          144,
          106,
          105,
          114,
          162,
          53,
          118,
          105,
          59,
          106,
          98,
          104,
          78,
          163,
          122,
          101,
          100,
          103,
          102,
          69,
          118,
          72,
          170,
          102,
          68,
          59,
          78,
          102,
          104,
          97,
          96,
          105,
          115,
          103,
          63,
          79,
          105,
          122,
          104,
          87,
          81,
          120,
          56,
          109,
          67,
          48,
          97,
          159,
          124,
          115,
          107,
          134,
          115,
          89,
          33,
          51,
          51,
          164,
          127,
          104,
          131,
          66,
          105,
          104,
          114,
          30,
          104,
          116,
          104,
          74,
          102,
          115,
          56,
          73,
          112,
          112,
          114,
          128,
          124,
          102,
          102,
          59,
          66,
          102,
          149,
          109,
          124,
          104,
          118,
          124,
          47,
          128,
          127,
          69,
          119,
          74,
          121,
          158,
          41,
          58,
          133,
          61,
          129,
          129,
          69,
          127,
          70,
          77,
          122,
          79,
          80,
          90,
          170,
          90,
          101,
          117,
          107,
          178,
          109,
          109,
          112,
          112,
          115,
          113,
          116,
          111,
          116,
          116,
          110,
          116,
          109,
          109,
          117,
          107,
          105,
          104,
          121,
          100,
          99,
          97,
          96,
          121,
          122,
          89,
          88,
          83,
          170,
          123,
          123,
          78,
          76,
          126,
          129,
          69,
          67,
          66,
          132,
          61,
          139,
          54,
          51,
          46,
          139,
          28
         ],
         "y": [
          128,
          140,
          91,
          122,
          125,
          132,
          145,
          133,
          77,
          77,
          82,
          80,
          57,
          93,
          80,
          137,
          183,
          118,
          170,
          158,
          119,
          118,
          127,
          174,
          65,
          129,
          116,
          70,
          117,
          109,
          115,
          88,
          173,
          132,
          110,
          109,
          112,
          111,
          78,
          127,
          81,
          179,
          110,
          76,
          67,
          86,
          110,
          112,
          104,
          103,
          112,
          122,
          110,
          70,
          86,
          111,
          128,
          110,
          93,
          87,
          126,
          62,
          115,
          73,
          54,
          103,
          165,
          130,
          120,
          112,
          139,
          120,
          94,
          38,
          56,
          56,
          169,
          132,
          109,
          136,
          71,
          110,
          108,
          118,
          34,
          108,
          120,
          108,
          78,
          106,
          119,
          60,
          77,
          116,
          116,
          118,
          132,
          127,
          105,
          105,
          62,
          69,
          105,
          152,
          112,
          127,
          107,
          121,
          127,
          50,
          131,
          130,
          72,
          122,
          77,
          124,
          160,
          43,
          60,
          135,
          63,
          131,
          131,
          71,
          129,
          72,
          79,
          124,
          81,
          82,
          92,
          172,
          92,
          103,
          119,
          109,
          180,
          111,
          111,
          114,
          114,
          116,
          114,
          117,
          112,
          117,
          117,
          111,
          117,
          110,
          110,
          118,
          108,
          106,
          105,
          122,
          101,
          100,
          98,
          97,
          122,
          123,
          90,
          89,
          84,
          171,
          124,
          124,
          79,
          77,
          127,
          130,
          70,
          68,
          67,
          133,
          62,
          140,
          55,
          52,
          47,
          140,
          29
         ]
        }
       ],
       "layout": {
        "height": 500,
        "plot_bgcolor": "white",
        "template": {
         "data": {
          "bar": [
           {
            "error_x": {
             "color": "#2a3f5f"
            },
            "error_y": {
             "color": "#2a3f5f"
            },
            "marker": {
             "line": {
              "color": "#E5ECF6",
              "width": 0.5
             },
             "pattern": {
              "fillmode": "overlay",
              "size": 10,
              "solidity": 0.2
             }
            },
            "type": "bar"
           }
          ],
          "barpolar": [
           {
            "marker": {
             "line": {
              "color": "#E5ECF6",
              "width": 0.5
             },
             "pattern": {
              "fillmode": "overlay",
              "size": 10,
              "solidity": 0.2
             }
            },
            "type": "barpolar"
           }
          ],
          "carpet": [
           {
            "aaxis": {
             "endlinecolor": "#2a3f5f",
             "gridcolor": "white",
             "linecolor": "white",
             "minorgridcolor": "white",
             "startlinecolor": "#2a3f5f"
            },
            "baxis": {
             "endlinecolor": "#2a3f5f",
             "gridcolor": "white",
             "linecolor": "white",
             "minorgridcolor": "white",
             "startlinecolor": "#2a3f5f"
            },
            "type": "carpet"
           }
          ],
          "choropleth": [
           {
            "colorbar": {
             "outlinewidth": 0,
             "ticks": ""
            },
            "type": "choropleth"
           }
          ],
          "contour": [
           {
            "colorbar": {
             "outlinewidth": 0,
             "ticks": ""
            },
            "colorscale": [
             [
              0,
              "#0d0887"
             ],
             [
              0.1111111111111111,
              "#46039f"
             ],
             [
              0.2222222222222222,
              "#7201a8"
             ],
             [
              0.3333333333333333,
              "#9c179e"
             ],
             [
              0.4444444444444444,
              "#bd3786"
             ],
             [
              0.5555555555555556,
              "#d8576b"
             ],
             [
              0.6666666666666666,
              "#ed7953"
             ],
             [
              0.7777777777777778,
              "#fb9f3a"
             ],
             [
              0.8888888888888888,
              "#fdca26"
             ],
             [
              1,
              "#f0f921"
             ]
            ],
            "type": "contour"
           }
          ],
          "contourcarpet": [
           {
            "colorbar": {
             "outlinewidth": 0,
             "ticks": ""
            },
            "type": "contourcarpet"
           }
          ],
          "heatmap": [
           {
            "colorbar": {
             "outlinewidth": 0,
             "ticks": ""
            },
            "colorscale": [
             [
              0,
              "#0d0887"
             ],
             [
              0.1111111111111111,
              "#46039f"
             ],
             [
              0.2222222222222222,
              "#7201a8"
             ],
             [
              0.3333333333333333,
              "#9c179e"
             ],
             [
              0.4444444444444444,
              "#bd3786"
             ],
             [
              0.5555555555555556,
              "#d8576b"
             ],
             [
              0.6666666666666666,
              "#ed7953"
             ],
             [
              0.7777777777777778,
              "#fb9f3a"
             ],
             [
              0.8888888888888888,
              "#fdca26"
             ],
             [
              1,
              "#f0f921"
             ]
            ],
            "type": "heatmap"
           }
          ],
          "heatmapgl": [
           {
            "colorbar": {
             "outlinewidth": 0,
             "ticks": ""
            },
            "colorscale": [
             [
              0,
              "#0d0887"
             ],
             [
              0.1111111111111111,
              "#46039f"
             ],
             [
              0.2222222222222222,
              "#7201a8"
             ],
             [
              0.3333333333333333,
              "#9c179e"
             ],
             [
              0.4444444444444444,
              "#bd3786"
             ],
             [
              0.5555555555555556,
              "#d8576b"
             ],
             [
              0.6666666666666666,
              "#ed7953"
             ],
             [
              0.7777777777777778,
              "#fb9f3a"
             ],
             [
              0.8888888888888888,
              "#fdca26"
             ],
             [
              1,
              "#f0f921"
             ]
            ],
            "type": "heatmapgl"
           }
          ],
          "histogram": [
           {
            "marker": {
             "pattern": {
              "fillmode": "overlay",
              "size": 10,
              "solidity": 0.2
             }
            },
            "type": "histogram"
           }
          ],
          "histogram2d": [
           {
            "colorbar": {
             "outlinewidth": 0,
             "ticks": ""
            },
            "colorscale": [
             [
              0,
              "#0d0887"
             ],
             [
              0.1111111111111111,
              "#46039f"
             ],
             [
              0.2222222222222222,
              "#7201a8"
             ],
             [
              0.3333333333333333,
              "#9c179e"
             ],
             [
              0.4444444444444444,
              "#bd3786"
             ],
             [
              0.5555555555555556,
              "#d8576b"
             ],
             [
              0.6666666666666666,
              "#ed7953"
             ],
             [
              0.7777777777777778,
              "#fb9f3a"
             ],
             [
              0.8888888888888888,
              "#fdca26"
             ],
             [
              1,
              "#f0f921"
             ]
            ],
            "type": "histogram2d"
           }
          ],
          "histogram2dcontour": [
           {
            "colorbar": {
             "outlinewidth": 0,
             "ticks": ""
            },
            "colorscale": [
             [
              0,
              "#0d0887"
             ],
             [
              0.1111111111111111,
              "#46039f"
             ],
             [
              0.2222222222222222,
              "#7201a8"
             ],
             [
              0.3333333333333333,
              "#9c179e"
             ],
             [
              0.4444444444444444,
              "#bd3786"
             ],
             [
              0.5555555555555556,
              "#d8576b"
             ],
             [
              0.6666666666666666,
              "#ed7953"
             ],
             [
              0.7777777777777778,
              "#fb9f3a"
             ],
             [
              0.8888888888888888,
              "#fdca26"
             ],
             [
              1,
              "#f0f921"
             ]
            ],
            "type": "histogram2dcontour"
           }
          ],
          "mesh3d": [
           {
            "colorbar": {
             "outlinewidth": 0,
             "ticks": ""
            },
            "type": "mesh3d"
           }
          ],
          "parcoords": [
           {
            "line": {
             "colorbar": {
              "outlinewidth": 0,
              "ticks": ""
             }
            },
            "type": "parcoords"
           }
          ],
          "pie": [
           {
            "automargin": true,
            "type": "pie"
           }
          ],
          "scatter": [
           {
            "fillpattern": {
             "fillmode": "overlay",
             "size": 10,
             "solidity": 0.2
            },
            "type": "scatter"
           }
          ],
          "scatter3d": [
           {
            "line": {
             "colorbar": {
              "outlinewidth": 0,
              "ticks": ""
             }
            },
            "marker": {
             "colorbar": {
              "outlinewidth": 0,
              "ticks": ""
             }
            },
            "type": "scatter3d"
           }
          ],
          "scattercarpet": [
           {
            "marker": {
             "colorbar": {
              "outlinewidth": 0,
              "ticks": ""
             }
            },
            "type": "scattercarpet"
           }
          ],
          "scattergeo": [
           {
            "marker": {
             "colorbar": {
              "outlinewidth": 0,
              "ticks": ""
             }
            },
            "type": "scattergeo"
           }
          ],
          "scattergl": [
           {
            "marker": {
             "colorbar": {
              "outlinewidth": 0,
              "ticks": ""
             }
            },
            "type": "scattergl"
           }
          ],
          "scattermapbox": [
           {
            "marker": {
             "colorbar": {
              "outlinewidth": 0,
              "ticks": ""
             }
            },
            "type": "scattermapbox"
           }
          ],
          "scatterpolar": [
           {
            "marker": {
             "colorbar": {
              "outlinewidth": 0,
              "ticks": ""
             }
            },
            "type": "scatterpolar"
           }
          ],
          "scatterpolargl": [
           {
            "marker": {
             "colorbar": {
              "outlinewidth": 0,
              "ticks": ""
             }
            },
            "type": "scatterpolargl"
           }
          ],
          "scatterternary": [
           {
            "marker": {
             "colorbar": {
              "outlinewidth": 0,
              "ticks": ""
             }
            },
            "type": "scatterternary"
           }
          ],
          "surface": [
           {
            "colorbar": {
             "outlinewidth": 0,
             "ticks": ""
            },
            "colorscale": [
             [
              0,
              "#0d0887"
             ],
             [
              0.1111111111111111,
              "#46039f"
             ],
             [
              0.2222222222222222,
              "#7201a8"
             ],
             [
              0.3333333333333333,
              "#9c179e"
             ],
             [
              0.4444444444444444,
              "#bd3786"
             ],
             [
              0.5555555555555556,
              "#d8576b"
             ],
             [
              0.6666666666666666,
              "#ed7953"
             ],
             [
              0.7777777777777778,
              "#fb9f3a"
             ],
             [
              0.8888888888888888,
              "#fdca26"
             ],
             [
              1,
              "#f0f921"
             ]
            ],
            "type": "surface"
           }
          ],
          "table": [
           {
            "cells": {
             "fill": {
              "color": "#EBF0F8"
             },
             "line": {
              "color": "white"
             }
            },
            "header": {
             "fill": {
              "color": "#C8D4E3"
             },
             "line": {
              "color": "white"
             }
            },
            "type": "table"
           }
          ]
         },
         "layout": {
          "annotationdefaults": {
           "arrowcolor": "#2a3f5f",
           "arrowhead": 0,
           "arrowwidth": 1
          },
          "autotypenumbers": "strict",
          "coloraxis": {
           "colorbar": {
            "outlinewidth": 0,
            "ticks": ""
           }
          },
          "colorscale": {
           "diverging": [
            [
             0,
             "#8e0152"
            ],
            [
             0.1,
             "#c51b7d"
            ],
            [
             0.2,
             "#de77ae"
            ],
            [
             0.3,
             "#f1b6da"
            ],
            [
             0.4,
             "#fde0ef"
            ],
            [
             0.5,
             "#f7f7f7"
            ],
            [
             0.6,
             "#e6f5d0"
            ],
            [
             0.7,
             "#b8e186"
            ],
            [
             0.8,
             "#7fbc41"
            ],
            [
             0.9,
             "#4d9221"
            ],
            [
             1,
             "#276419"
            ]
           ],
           "sequential": [
            [
             0,
             "#0d0887"
            ],
            [
             0.1111111111111111,
             "#46039f"
            ],
            [
             0.2222222222222222,
             "#7201a8"
            ],
            [
             0.3333333333333333,
             "#9c179e"
            ],
            [
             0.4444444444444444,
             "#bd3786"
            ],
            [
             0.5555555555555556,
             "#d8576b"
            ],
            [
             0.6666666666666666,
             "#ed7953"
            ],
            [
             0.7777777777777778,
             "#fb9f3a"
            ],
            [
             0.8888888888888888,
             "#fdca26"
            ],
            [
             1,
             "#f0f921"
            ]
           ],
           "sequentialminus": [
            [
             0,
             "#0d0887"
            ],
            [
             0.1111111111111111,
             "#46039f"
            ],
            [
             0.2222222222222222,
             "#7201a8"
            ],
            [
             0.3333333333333333,
             "#9c179e"
            ],
            [
             0.4444444444444444,
             "#bd3786"
            ],
            [
             0.5555555555555556,
             "#d8576b"
            ],
            [
             0.6666666666666666,
             "#ed7953"
            ],
            [
             0.7777777777777778,
             "#fb9f3a"
            ],
            [
             0.8888888888888888,
             "#fdca26"
            ],
            [
             1,
             "#f0f921"
            ]
           ]
          },
          "colorway": [
           "#636efa",
           "#EF553B",
           "#00cc96",
           "#ab63fa",
           "#FFA15A",
           "#19d3f3",
           "#FF6692",
           "#B6E880",
           "#FF97FF",
           "#FECB52"
          ],
          "font": {
           "color": "#2a3f5f"
          },
          "geo": {
           "bgcolor": "white",
           "lakecolor": "white",
           "landcolor": "#E5ECF6",
           "showlakes": true,
           "showland": true,
           "subunitcolor": "white"
          },
          "hoverlabel": {
           "align": "left"
          },
          "hovermode": "closest",
          "mapbox": {
           "style": "light"
          },
          "paper_bgcolor": "white",
          "plot_bgcolor": "#E5ECF6",
          "polar": {
           "angularaxis": {
            "gridcolor": "white",
            "linecolor": "white",
            "ticks": ""
           },
           "bgcolor": "#E5ECF6",
           "radialaxis": {
            "gridcolor": "white",
            "linecolor": "white",
            "ticks": ""
           }
          },
          "scene": {
           "xaxis": {
            "backgroundcolor": "#E5ECF6",
            "gridcolor": "white",
            "gridwidth": 2,
            "linecolor": "white",
            "showbackground": true,
            "ticks": "",
            "zerolinecolor": "white"
           },
           "yaxis": {
            "backgroundcolor": "#E5ECF6",
            "gridcolor": "white",
            "gridwidth": 2,
            "linecolor": "white",
            "showbackground": true,
            "ticks": "",
            "zerolinecolor": "white"
           },
           "zaxis": {
            "backgroundcolor": "#E5ECF6",
            "gridcolor": "white",
            "gridwidth": 2,
            "linecolor": "white",
            "showbackground": true,
            "ticks": "",
            "zerolinecolor": "white"
           }
          },
          "shapedefaults": {
           "line": {
            "color": "#2a3f5f"
           }
          },
          "ternary": {
           "aaxis": {
            "gridcolor": "white",
            "linecolor": "white",
            "ticks": ""
           },
           "baxis": {
            "gridcolor": "white",
            "linecolor": "white",
            "ticks": ""
           },
           "bgcolor": "#E5ECF6",
           "caxis": {
            "gridcolor": "white",
            "linecolor": "white",
            "ticks": ""
           }
          },
          "title": {
           "x": 0.05
          },
          "xaxis": {
           "automargin": true,
           "gridcolor": "white",
           "linecolor": "white",
           "ticks": "",
           "title": {
            "standoff": 15
           },
           "zerolinecolor": "white",
           "zerolinewidth": 2
          },
          "yaxis": {
           "automargin": true,
           "gridcolor": "white",
           "linecolor": "white",
           "ticks": "",
           "title": {
            "standoff": 15
           },
           "zerolinecolor": "white",
           "zerolinewidth": 2
          }
         }
        },
        "width": 500,
        "xaxis": {
         "autorange": false,
         "domain": [
          0,
          1
         ],
         "exponentformat": "e",
         "linecolor": "black",
         "linewidth": 1,
         "mirror": false,
         "range": [
          20.114374999999995,
          190.885625
         ],
         "showexponent": "all",
         "showline": true,
         "side": "bottom",
         "ticks": "outside",
         "title": {
          "text": "Birth"
         },
         "type": "linear",
         "zeroline": true
        },
        "yaxis": {
         "autorange": false,
         "domain": [
          0,
          1
         ],
         "exponentformat": "e",
         "linecolor": "black",
         "linewidth": 1,
         "mirror": false,
         "range": [
          24.9,
          186.1
         ],
         "scaleanchor": "x",
         "scaleratio": 1,
         "showexponent": "all",
         "showline": true,
         "side": "left",
         "ticks": "outside",
         "title": {
          "text": "Death"
         },
         "type": "linear",
         "zeroline": true
        }
       }
      },
      "image/png": "[encoded data removed]",
      "text/html": [
       "<div>                            <div id=\"a96474fd-938d-42d1-abae-41cf023edc49\" class=\"plotly-graph-div\" style=\"height:500px; width:500px;\"></div>            <script type=\"text/javascript\">                require([\"plotly\"], function(Plotly) {                    window.PLOTLYENV=window.PLOTLYENV || {};                                    if (document.getElementById(\"a96474fd-938d-42d1-abae-41cf023edc49\")) {                    Plotly.newPlot(                        \"a96474fd-938d-42d1-abae-41cf023edc49\",                        [{\"hoverinfo\":\"none\",\"line\":{\"color\":\"black\",\"dash\":\"dash\",\"width\":1},\"mode\":\"lines\",\"showlegend\":false,\"x\":[24.9,186.1],\"y\":[24.9,186.1],\"type\":\"scatter\"},{\"hoverinfo\":\"text\",\"hovertext\":[\"(73.0, 128.0)\",\"(92.0, 140.0)\",\"(46.0, 91.0)\",\"(87.0, 122.0)\",\"(91.0, 125.0)\",\"(101.0, 132.0)\",\"(115.0, 145.0)\",\"(103.0, 133.0)\",\"(49.0, 77.0), multiplicity: 2\",\"(49.0, 77.0), multiplicity: 2\",\"(57.0, 82.0)\",\"(57.0, 80.0)\",\"(37.0, 57.0)\",\"(76.0, 93.0)\",\"(63.0, 80.0)\",\"(122.0, 137.0)\",\"(168.0, 183.0)\",\"(103.0, 118.0)\",\"(156.0, 170.0)\",\"(144.0, 158.0)\",\"(106.0, 119.0)\",\"(105.0, 118.0)\",\"(114.0, 127.0)\",\"(162.0, 174.0)\",\"(53.0, 65.0)\",\"(118.0, 129.0)\",\"(105.0, 116.0)\",\"(59.0, 70.0)\",\"(106.0, 117.0)\",\"(98.0, 109.0)\",\"(104.0, 115.0)\",\"(78.0, 88.0)\",\"(163.0, 173.0)\",\"(122.0, 132.0)\",\"(101.0, 110.0)\",\"(100.0, 109.0)\",\"(103.0, 112.0)\",\"(102.0, 111.0)\",\"(69.0, 78.0)\",\"(118.0, 127.0)\",\"(72.0, 81.0)\",\"(170.0, 179.0)\",\"(102.0, 110.0), multiplicity: 2\",\"(68.0, 76.0)\",\"(59.0, 67.0)\",\"(78.0, 86.0)\",\"(102.0, 110.0), multiplicity: 2\",\"(104.0, 112.0)\",\"(97.0, 104.0)\",\"(96.0, 103.0)\",\"(105.0, 112.0)\",\"(115.0, 122.0)\",\"(103.0, 110.0)\",\"(63.0, 70.0)\",\"(79.0, 86.0)\",\"(105.0, 111.0)\",\"(122.0, 128.0)\",\"(104.0, 110.0)\",\"(87.0, 93.0)\",\"(81.0, 87.0)\",\"(120.0, 126.0)\",\"(56.0, 62.0)\",\"(109.0, 115.0)\",\"(67.0, 73.0)\",\"(48.0, 54.0)\",\"(97.0, 103.0)\",\"(159.0, 165.0)\",\"(124.0, 130.0)\",\"(115.0, 120.0), multiplicity: 2\",\"(107.0, 112.0)\",\"(134.0, 139.0)\",\"(115.0, 120.0), multiplicity: 2\",\"(89.0, 94.0)\",\"(33.0, 38.0)\",\"(51.0, 56.0), multiplicity: 2\",\"(51.0, 56.0), multiplicity: 2\",\"(164.0, 169.0)\",\"(127.0, 132.0)\",\"(104.0, 109.0)\",\"(131.0, 136.0)\",\"(66.0, 71.0)\",\"(105.0, 110.0)\",\"(104.0, 108.0), multiplicity: 3\",\"(114.0, 118.0), multiplicity: 2\",\"(30.0, 34.0)\",\"(104.0, 108.0), multiplicity: 3\",\"(116.0, 120.0)\",\"(104.0, 108.0), multiplicity: 3\",\"(74.0, 78.0)\",\"(102.0, 106.0)\",\"(115.0, 119.0)\",\"(56.0, 60.0)\",\"(73.0, 77.0)\",\"(112.0, 116.0), multiplicity: 2\",\"(112.0, 116.0), multiplicity: 2\",\"(114.0, 118.0), multiplicity: 2\",\"(128.0, 132.0)\",\"(124.0, 127.0), multiplicity: 3\",\"(102.0, 105.0), multiplicity: 3\",\"(102.0, 105.0), multiplicity: 3\",\"(59.0, 62.0)\",\"(66.0, 69.0)\",\"(102.0, 105.0), multiplicity: 3\",\"(149.0, 152.0)\",\"(109.0, 112.0)\",\"(124.0, 127.0), multiplicity: 3\",\"(104.0, 107.0)\",\"(118.0, 121.0)\",\"(124.0, 127.0), multiplicity: 3\",\"(47.0, 50.0)\",\"(128.0, 131.0)\",\"(127.0, 130.0)\",\"(69.0, 72.0)\",\"(119.0, 122.0)\",\"(74.0, 77.0)\",\"(121.0, 124.0)\",\"(158.0, 160.0)\",\"(41.0, 43.0)\",\"(58.0, 60.0)\",\"(133.0, 135.0)\",\"(61.0, 63.0)\",\"(129.0, 131.0), multiplicity: 2\",\"(129.0, 131.0), multiplicity: 2\",\"(69.0, 71.0)\",\"(127.0, 129.0)\",\"(70.0, 72.0)\",\"(77.0, 79.0)\",\"(122.0, 124.0)\",\"(79.0, 81.0)\",\"(80.0, 82.0)\",\"(90.0, 92.0), multiplicity: 2\",\"(170.0, 172.0)\",\"(90.0, 92.0), multiplicity: 2\",\"(101.0, 103.0)\",\"(117.0, 119.0)\",\"(107.0, 109.0)\",\"(178.0, 180.0)\",\"(109.0, 111.0), multiplicity: 2\",\"(109.0, 111.0), multiplicity: 2\",\"(112.0, 114.0), multiplicity: 2\",\"(112.0, 114.0), multiplicity: 2\",\"(115.0, 116.0)\",\"(113.0, 114.0)\",\"(116.0, 117.0), multiplicity: 4\",\"(111.0, 112.0)\",\"(116.0, 117.0), multiplicity: 4\",\"(116.0, 117.0), multiplicity: 4\",\"(110.0, 111.0)\",\"(116.0, 117.0), multiplicity: 4\",\"(109.0, 110.0), multiplicity: 2\",\"(109.0, 110.0), multiplicity: 2\",\"(117.0, 118.0)\",\"(107.0, 108.0)\",\"(105.0, 106.0)\",\"(104.0, 105.0)\",\"(121.0, 122.0), multiplicity: 2\",\"(100.0, 101.0)\",\"(99.0, 100.0)\",\"(97.0, 98.0)\",\"(96.0, 97.0)\",\"(121.0, 122.0), multiplicity: 2\",\"(122.0, 123.0)\",\"(89.0, 90.0)\",\"(88.0, 89.0)\",\"(83.0, 84.0)\",\"(170.0, 171.0)\",\"(123.0, 124.0), multiplicity: 2\",\"(123.0, 124.0), multiplicity: 2\",\"(78.0, 79.0)\",\"(76.0, 77.0)\",\"(126.0, 127.0)\",\"(129.0, 130.0)\",\"(69.0, 70.0)\",\"(67.0, 68.0)\",\"(66.0, 67.0)\",\"(132.0, 133.0)\",\"(61.0, 62.0)\",\"(139.0, 140.0), multiplicity: 2\",\"(54.0, 55.0)\",\"(51.0, 52.0)\",\"(46.0, 47.0)\",\"(139.0, 140.0), multiplicity: 2\",\"(28.0, 29.0)\"],\"mode\":\"markers\",\"name\":\"H0\",\"x\":[73.0,92.0,46.0,87.0,91.0,101.0,115.0,103.0,49.0,49.0,57.0,57.0,37.0,76.0,63.0,122.0,168.0,103.0,156.0,144.0,106.0,105.0,114.0,162.0,53.0,118.0,105.0,59.0,106.0,98.0,104.0,78.0,163.0,122.0,101.0,100.0,103.0,102.0,69.0,118.0,72.0,170.0,102.0,68.0,59.0,78.0,102.0,104.0,97.0,96.0,105.0,115.0,103.0,63.0,79.0,105.0,122.0,104.0,87.0,81.0,120.0,56.0,109.0,67.0,48.0,97.0,159.0,124.0,115.0,107.0,134.0,115.0,89.0,33.0,51.0,51.0,164.0,127.0,104.0,131.0,66.0,105.0,104.0,114.0,30.0,104.0,116.0,104.0,74.0,102.0,115.0,56.0,73.0,112.0,112.0,114.0,128.0,124.0,102.0,102.0,59.0,66.0,102.0,149.0,109.0,124.0,104.0,118.0,124.0,47.0,128.0,127.0,69.0,119.0,74.0,121.0,158.0,41.0,58.0,133.0,61.0,129.0,129.0,69.0,127.0,70.0,77.0,122.0,79.0,80.0,90.0,170.0,90.0,101.0,117.0,107.0,178.0,109.0,109.0,112.0,112.0,115.0,113.0,116.0,111.0,116.0,116.0,110.0,116.0,109.0,109.0,117.0,107.0,105.0,104.0,121.0,100.0,99.0,97.0,96.0,121.0,122.0,89.0,88.0,83.0,170.0,123.0,123.0,78.0,76.0,126.0,129.0,69.0,67.0,66.0,132.0,61.0,139.0,54.0,51.0,46.0,139.0,28.0],\"y\":[128.0,140.0,91.0,122.0,125.0,132.0,145.0,133.0,77.0,77.0,82.0,80.0,57.0,93.0,80.0,137.0,183.0,118.0,170.0,158.0,119.0,118.0,127.0,174.0,65.0,129.0,116.0,70.0,117.0,109.0,115.0,88.0,173.0,132.0,110.0,109.0,112.0,111.0,78.0,127.0,81.0,179.0,110.0,76.0,67.0,86.0,110.0,112.0,104.0,103.0,112.0,122.0,110.0,70.0,86.0,111.0,128.0,110.0,93.0,87.0,126.0,62.0,115.0,73.0,54.0,103.0,165.0,130.0,120.0,112.0,139.0,120.0,94.0,38.0,56.0,56.0,169.0,132.0,109.0,136.0,71.0,110.0,108.0,118.0,34.0,108.0,120.0,108.0,78.0,106.0,119.0,60.0,77.0,116.0,116.0,118.0,132.0,127.0,105.0,105.0,62.0,69.0,105.0,152.0,112.0,127.0,107.0,121.0,127.0,50.0,131.0,130.0,72.0,122.0,77.0,124.0,160.0,43.0,60.0,135.0,63.0,131.0,131.0,71.0,129.0,72.0,79.0,124.0,81.0,82.0,92.0,172.0,92.0,103.0,119.0,109.0,180.0,111.0,111.0,114.0,114.0,116.0,114.0,117.0,112.0,117.0,117.0,111.0,117.0,110.0,110.0,118.0,108.0,106.0,105.0,122.0,101.0,100.0,98.0,97.0,122.0,123.0,90.0,89.0,84.0,171.0,124.0,124.0,79.0,77.0,127.0,130.0,70.0,68.0,67.0,133.0,62.0,140.0,55.0,52.0,47.0,140.0,29.0],\"type\":\"scatter\"}],                        {\"template\":{\"data\":{\"histogram2dcontour\":[{\"type\":\"histogram2dcontour\",\"colorbar\":{\"outlinewidth\":0,\"ticks\":\"\"},\"colorscale\":[[0.0,\"#0d0887\"],[0.1111111111111111,\"#46039f\"],[0.2222222222222222,\"#7201a8\"],[0.3333333333333333,\"#9c179e\"],[0.4444444444444444,\"#bd3786\"],[0.5555555555555556,\"#d8576b\"],[0.6666666666666666,\"#ed7953\"],[0.7777777777777778,\"#fb9f3a\"],[0.8888888888888888,\"#fdca26\"],[1.0,\"#f0f921\"]]}],\"choropleth\":[{\"type\":\"choropleth\",\"colorbar\":{\"outlinewidth\":0,\"ticks\":\"\"}}],\"histogram2d\":[{\"type\":\"histogram2d\",\"colorbar\":{\"outlinewidth\":0,\"ticks\":\"\"},\"colorscale\":[[0.0,\"#0d0887\"],[0.1111111111111111,\"#46039f\"],[0.2222222222222222,\"#7201a8\"],[0.3333333333333333,\"#9c179e\"],[0.4444444444444444,\"#bd3786\"],[0.5555555555555556,\"#d8576b\"],[0.6666666666666666,\"#ed7953\"],[0.7777777777777778,\"#fb9f3a\"],[0.8888888888888888,\"#fdca26\"],[1.0,\"#f0f921\"]]}],\"heatmap\":[{\"type\":\"heatmap\",\"colorbar\":{\"outlinewidth\":0,\"ticks\":\"\"},\"colorscale\":[[0.0,\"#0d0887\"],[0.1111111111111111,\"#46039f\"],[0.2222222222222222,\"#7201a8\"],[0.3333333333333333,\"#9c179e\"],[0.4444444444444444,\"#bd3786\"],[0.5555555555555556,\"#d8576b\"],[0.6666666666666666,\"#ed7953\"],[0.7777777777777778,\"#fb9f3a\"],[0.8888888888888888,\"#fdca26\"],[1.0,\"#f0f921\"]]}],\"heatmapgl\":[{\"type\":\"heatmapgl\",\"colorbar\":{\"outlinewidth\":0,\"ticks\":\"\"},\"colorscale\":[[0.0,\"#0d0887\"],[0.1111111111111111,\"#46039f\"],[0.2222222222222222,\"#7201a8\"],[0.3333333333333333,\"#9c179e\"],[0.4444444444444444,\"#bd3786\"],[0.5555555555555556,\"#d8576b\"],[0.6666666666666666,\"#ed7953\"],[0.7777777777777778,\"#fb9f3a\"],[0.8888888888888888,\"#fdca26\"],[1.0,\"#f0f921\"]]}],\"contourcarpet\":[{\"type\":\"contourcarpet\",\"colorbar\":{\"outlinewidth\":0,\"ticks\":\"\"}}],\"contour\":[{\"type\":\"contour\",\"colorbar\":{\"outlinewidth\":0,\"ticks\":\"\"},\"colorscale\":[[0.0,\"#0d0887\"],[0.1111111111111111,\"#46039f\"],[0.2222222222222222,\"#7201a8\"],[0.3333333333333333,\"#9c179e\"],[0.4444444444444444,\"#bd3786\"],[0.5555555555555556,\"#d8576b\"],[0.6666666666666666,\"#ed7953\"],[0.7777777777777778,\"#fb9f3a\"],[0.8888888888888888,\"#fdca26\"],[1.0,\"#f0f921\"]]}],\"surface\":[{\"type\":\"surface\",\"colorbar\":{\"outlinewidth\":0,\"ticks\":\"\"},\"colorscale\":[[0.0,\"#0d0887\"],[0.1111111111111111,\"#46039f\"],[0.2222222222222222,\"#7201a8\"],[0.3333333333333333,\"#9c179e\"],[0.4444444444444444,\"#bd3786\"],[0.5555555555555556,\"#d8576b\"],[0.6666666666666666,\"#ed7953\"],[0.7777777777777778,\"#fb9f3a\"],[0.8888888888888888,\"#fdca26\"],[1.0,\"#f0f921\"]]}],\"mesh3d\":[{\"type\":\"mesh3d\",\"colorbar\":{\"outlinewidth\":0,\"ticks\":\"\"}}],\"scatter\":[{\"fillpattern\":{\"fillmode\":\"overlay\",\"size\":10,\"solidity\":0.2},\"type\":\"scatter\"}],\"parcoords\":[{\"type\":\"parcoords\",\"line\":{\"colorbar\":{\"outlinewidth\":0,\"ticks\":\"\"}}}],\"scatterpolargl\":[{\"type\":\"scatterpolargl\",\"marker\":{\"colorbar\":{\"outlinewidth\":0,\"ticks\":\"\"}}}],\"bar\":[{\"error_x\":{\"color\":\"#2a3f5f\"},\"error_y\":{\"color\":\"#2a3f5f\"},\"marker\":{\"line\":{\"color\":\"#E5ECF6\",\"width\":0.5},\"pattern\":{\"fillmode\":\"overlay\",\"size\":10,\"solidity\":0.2}},\"type\":\"bar\"}],\"scattergeo\":[{\"type\":\"scattergeo\",\"marker\":{\"colorbar\":{\"outlinewidth\":0,\"ticks\":\"\"}}}],\"scatterpolar\":[{\"type\":\"scatterpolar\",\"marker\":{\"colorbar\":{\"outlinewidth\":0,\"ticks\":\"\"}}}],\"histogram\":[{\"marker\":{\"pattern\":{\"fillmode\":\"overlay\",\"size\":10,\"solidity\":0.2}},\"type\":\"histogram\"}],\"scattergl\":[{\"type\":\"scattergl\",\"marker\":{\"colorbar\":{\"outlinewidth\":0,\"ticks\":\"\"}}}],\"scatter3d\":[{\"type\":\"scatter3d\",\"line\":{\"colorbar\":{\"outlinewidth\":0,\"ticks\":\"\"}},\"marker\":{\"colorbar\":{\"outlinewidth\":0,\"ticks\":\"\"}}}],\"scattermapbox\":[{\"type\":\"scattermapbox\",\"marker\":{\"colorbar\":{\"outlinewidth\":0,\"ticks\":\"\"}}}],\"scatterternary\":[{\"type\":\"scatterternary\",\"marker\":{\"colorbar\":{\"outlinewidth\":0,\"ticks\":\"\"}}}],\"scattercarpet\":[{\"type\":\"scattercarpet\",\"marker\":{\"colorbar\":{\"outlinewidth\":0,\"ticks\":\"\"}}}],\"carpet\":[{\"aaxis\":{\"endlinecolor\":\"#2a3f5f\",\"gridcolor\":\"white\",\"linecolor\":\"white\",\"minorgridcolor\":\"white\",\"startlinecolor\":\"#2a3f5f\"},\"baxis\":{\"endlinecolor\":\"#2a3f5f\",\"gridcolor\":\"white\",\"linecolor\":\"white\",\"minorgridcolor\":\"white\",\"startlinecolor\":\"#2a3f5f\"},\"type\":\"carpet\"}],\"table\":[{\"cells\":{\"fill\":{\"color\":\"#EBF0F8\"},\"line\":{\"color\":\"white\"}},\"header\":{\"fill\":{\"color\":\"#C8D4E3\"},\"line\":{\"color\":\"white\"}},\"type\":\"table\"}],\"barpolar\":[{\"marker\":{\"line\":{\"color\":\"#E5ECF6\",\"width\":0.5},\"pattern\":{\"fillmode\":\"overlay\",\"size\":10,\"solidity\":0.2}},\"type\":\"barpolar\"}],\"pie\":[{\"automargin\":true,\"type\":\"pie\"}]},\"layout\":{\"autotypenumbers\":\"strict\",\"colorway\":[\"#636efa\",\"#EF553B\",\"#00cc96\",\"#ab63fa\",\"#FFA15A\",\"#19d3f3\",\"#FF6692\",\"#B6E880\",\"#FF97FF\",\"#FECB52\"],\"font\":{\"color\":\"#2a3f5f\"},\"hovermode\":\"closest\",\"hoverlabel\":{\"align\":\"left\"},\"paper_bgcolor\":\"white\",\"plot_bgcolor\":\"#E5ECF6\",\"polar\":{\"bgcolor\":\"#E5ECF6\",\"angularaxis\":{\"gridcolor\":\"white\",\"linecolor\":\"white\",\"ticks\":\"\"},\"radialaxis\":{\"gridcolor\":\"white\",\"linecolor\":\"white\",\"ticks\":\"\"}},\"ternary\":{\"bgcolor\":\"#E5ECF6\",\"aaxis\":{\"gridcolor\":\"white\",\"linecolor\":\"white\",\"ticks\":\"\"},\"baxis\":{\"gridcolor\":\"white\",\"linecolor\":\"white\",\"ticks\":\"\"},\"caxis\":{\"gridcolor\":\"white\",\"linecolor\":\"white\",\"ticks\":\"\"}},\"coloraxis\":{\"colorbar\":{\"outlinewidth\":0,\"ticks\":\"\"}},\"colorscale\":{\"sequential\":[[0.0,\"#0d0887\"],[0.1111111111111111,\"#46039f\"],[0.2222222222222222,\"#7201a8\"],[0.3333333333333333,\"#9c179e\"],[0.4444444444444444,\"#bd3786\"],[0.5555555555555556,\"#d8576b\"],[0.6666666666666666,\"#ed7953\"],[0.7777777777777778,\"#fb9f3a\"],[0.8888888888888888,\"#fdca26\"],[1.0,\"#f0f921\"]],\"sequentialminus\":[[0.0,\"#0d0887\"],[0.1111111111111111,\"#46039f\"],[0.2222222222222222,\"#7201a8\"],[0.3333333333333333,\"#9c179e\"],[0.4444444444444444,\"#bd3786\"],[0.5555555555555556,\"#d8576b\"],[0.6666666666666666,\"#ed7953\"],[0.7777777777777778,\"#fb9f3a\"],[0.8888888888888888,\"#fdca26\"],[1.0,\"#f0f921\"]],\"diverging\":[[0,\"#8e0152\"],[0.1,\"#c51b7d\"],[0.2,\"#de77ae\"],[0.3,\"#f1b6da\"],[0.4,\"#fde0ef\"],[0.5,\"#f7f7f7\"],[0.6,\"#e6f5d0\"],[0.7,\"#b8e186\"],[0.8,\"#7fbc41\"],[0.9,\"#4d9221\"],[1,\"#276419\"]]},\"xaxis\":{\"gridcolor\":\"white\",\"linecolor\":\"white\",\"ticks\":\"\",\"title\":{\"standoff\":15},\"zerolinecolor\":\"white\",\"automargin\":true,\"zerolinewidth\":2},\"yaxis\":{\"gridcolor\":\"white\",\"linecolor\":\"white\",\"ticks\":\"\",\"title\":{\"standoff\":15},\"zerolinecolor\":\"white\",\"automargin\":true,\"zerolinewidth\":2},\"scene\":{\"xaxis\":{\"backgroundcolor\":\"#E5ECF6\",\"gridcolor\":\"white\",\"linecolor\":\"white\",\"showbackground\":true,\"ticks\":\"\",\"zerolinecolor\":\"white\",\"gridwidth\":2},\"yaxis\":{\"backgroundcolor\":\"#E5ECF6\",\"gridcolor\":\"white\",\"linecolor\":\"white\",\"showbackground\":true,\"ticks\":\"\",\"zerolinecolor\":\"white\",\"gridwidth\":2},\"zaxis\":{\"backgroundcolor\":\"#E5ECF6\",\"gridcolor\":\"white\",\"linecolor\":\"white\",\"showbackground\":true,\"ticks\":\"\",\"zerolinecolor\":\"white\",\"gridwidth\":2}},\"shapedefaults\":{\"line\":{\"color\":\"#2a3f5f\"}},\"annotationdefaults\":{\"arrowcolor\":\"#2a3f5f\",\"arrowhead\":0,\"arrowwidth\":1},\"geo\":{\"bgcolor\":\"white\",\"landcolor\":\"#E5ECF6\",\"subunitcolor\":\"white\",\"showland\":true,\"showlakes\":true,\"lakecolor\":\"white\"},\"title\":{\"x\":0.05},\"mapbox\":{\"style\":\"light\"}}},\"xaxis\":{\"title\":{\"text\":\"Birth\"},\"side\":\"bottom\",\"type\":\"linear\",\"range\":[24.9,186.1],\"autorange\":false,\"ticks\":\"outside\",\"showline\":true,\"zeroline\":true,\"linewidth\":1,\"linecolor\":\"black\",\"mirror\":false,\"showexponent\":\"all\",\"exponentformat\":\"e\"},\"yaxis\":{\"title\":{\"text\":\"Death\"},\"side\":\"left\",\"type\":\"linear\",\"range\":[24.9,186.1],\"autorange\":false,\"scaleanchor\":\"x\",\"scaleratio\":1,\"ticks\":\"outside\",\"showline\":true,\"zeroline\":true,\"linewidth\":1,\"linecolor\":\"black\",\"mirror\":false,\"showexponent\":\"all\",\"exponentformat\":\"e\"},\"width\":500,\"height\":500,\"plot_bgcolor\":\"white\"},                        {\"responsive\": true}                    ).then(function(){\n",
       "                            \n",
       "var gd = document.getElementById('a96474fd-938d-42d1-abae-41cf023edc49');\n",
       "var x = new MutationObserver(function (mutations, observer) {{\n",
       "        var display = window.getComputedStyle(gd).display;\n",
       "        if (!display || display === 'none') {{\n",
       "            console.log([gd, 'removed!']);\n",
       "            Plotly.purge(gd);\n",
       "            observer.disconnect();\n",
       "        }}\n",
       "}});\n",
       "\n",
       "// Listen for the removal of the full notebook cells\n",
       "var notebookContainer = gd.closest('#notebook-container');\n",
       "if (notebookContainer) {{\n",
       "    x.observe(notebookContainer, {childList: true});\n",
       "}}\n",
       "\n",
       "// Listen for the clearing of the current output cell\n",
       "var outputEl = gd.closest('.output');\n",
       "if (outputEl) {{\n",
       "    x.observe(outputEl, {childList: true});\n",
       "}}\n",
       "\n",
       "                        })                };                });            </script>        </div>"
      ]
     },
     "metadata": {},
     "output_type": "display_data"
    },
    {
     "data": {
      "application/vnd.plotly.v1+json": {
       "config": {
        "plotlyServerURL": "https://plot.ly"
       },
       "data": [
        {
         "hoverinfo": "none",
         "line": {
          "color": "black",
          "dash": "dash",
          "width": 1
         },
         "mode": "lines",
         "showlegend": false,
         "type": "scatter",
         "x": [
          51.5,
          233.5
         ],
         "y": [
          51.5,
          233.5
         ]
        },
        {
         "hoverinfo": "text",
         "hovertext": [
          "(137.0, 210.0)",
          "(157.0, 230.0)",
          "(114.0, 171.0)",
          "(128.0, 184.0)",
          "(120.0, 173.0)",
          "(174.0, 224.0)",
          "(174.0, 223.0)",
          "(87.0, 129.0)",
          "(131.0, 172.0)",
          "(151.0, 190.0)",
          "(160.0, 199.0)",
          "(112.0, 149.0)",
          "(159.0, 194.0)",
          "(85.0, 118.0)",
          "(89.0, 122.0)",
          "(166.0, 198.0)",
          "(141.0, 173.0)",
          "(138.0, 169.0)",
          "(183.0, 214.0)",
          "(94.0, 124.0)",
          "(138.0, 168.0)",
          "(134.0, 164.0)",
          "(66.0, 96.0)",
          "(135.0, 164.0)",
          "(80.0, 109.0)",
          "(145.0, 173.0)",
          "(85.0, 113.0)",
          "(182.0, 210.0)",
          "(104.0, 130.0)",
          "(183.0, 209.0)",
          "(133.0, 158.0)",
          "(193.0, 218.0)",
          "(189.0, 214.0)",
          "(176.0, 200.0)",
          "(110.0, 133.0)",
          "(132.0, 155.0)",
          "(147.0, 169.0)",
          "(156.0, 178.0)",
          "(118.0, 140.0)",
          "(55.0, 76.0)",
          "(132.0, 153.0)",
          "(106.0, 127.0)",
          "(166.0, 186.0)",
          "(135.0, 153.0)",
          "(107.0, 125.0)",
          "(80.0, 98.0)",
          "(132.0, 150.0)",
          "(122.0, 139.0)",
          "(160.0, 177.0)",
          "(116.0, 133.0)",
          "(209.0, 225.0)",
          "(105.0, 121.0)",
          "(138.0, 154.0)",
          "(107.0, 122.0)",
          "(172.0, 187.0)",
          "(57.0, 72.0)",
          "(77.0, 92.0)",
          "(124.0, 138.0)",
          "(93.0, 107.0)",
          "(96.0, 109.0)",
          "(125.0, 138.0)",
          "(104.0, 117.0)",
          "(196.0, 209.0)",
          "(86.0, 99.0)",
          "(141.0, 153.0)",
          "(202.0, 214.0)",
          "(186.0, 198.0)",
          "(97.0, 108.0)",
          "(140.0, 151.0)",
          "(139.0, 150.0)",
          "(183.0, 193.0)",
          "(73.0, 83.0)",
          "(131.0, 141.0)",
          "(89.0, 98.0)",
          "(141.0, 150.0)",
          "(157.0, 166.0)",
          "(140.0, 149.0)",
          "(67.0, 76.0)",
          "(118.0, 127.0)",
          "(180.0, 188.0)",
          "(123.0, 131.0)",
          "(101.0, 109.0)",
          "(188.0, 196.0)",
          "(159.0, 166.0)",
          "(197.0, 204.0)",
          "(135.0, 142.0)",
          "(179.0, 186.0)",
          "(124.0, 131.0)",
          "(172.0, 179.0)",
          "(86.0, 93.0)",
          "(67.0, 74.0)",
          "(102.0, 108.0), multiplicity: 2",
          "(94.0, 100.0)",
          "(143.0, 149.0)",
          "(170.0, 176.0)",
          "(102.0, 108.0), multiplicity: 2",
          "(104.0, 110.0)",
          "(80.0, 86.0)",
          "(90.0, 96.0)",
          "(129.0, 135.0)",
          "(99.0, 105.0)",
          "(140.0, 146.0)",
          "(92.0, 97.0)",
          "(185.0, 190.0)",
          "(136.0, 141.0)",
          "(90.0, 95.0)",
          "(112.0, 117.0)",
          "(124.0, 129.0)",
          "(150.0, 155.0)",
          "(102.0, 107.0)",
          "(134.0, 139.0)",
          "(133.0, 138.0), multiplicity: 2",
          "(133.0, 138.0), multiplicity: 2",
          "(122.0, 127.0)",
          "(131.0, 136.0)",
          "(128.0, 133.0)",
          "(99.0, 104.0)",
          "(119.0, 124.0)",
          "(116.0, 121.0)",
          "(107.0, 112.0)",
          "(157.0, 161.0)",
          "(123.0, 127.0)",
          "(155.0, 159.0)",
          "(57.0, 61.0)",
          "(60.0, 64.0)",
          "(142.0, 146.0)",
          "(112.0, 116.0)",
          "(188.0, 192.0)",
          "(103.0, 107.0)",
          "(159.0, 163.0)",
          "(135.0, 139.0)",
          "(134.0, 138.0), multiplicity: 2",
          "(118.0, 122.0)",
          "(192.0, 196.0)",
          "(134.0, 138.0), multiplicity: 2",
          "(129.0, 133.0), multiplicity: 2",
          "(129.0, 133.0), multiplicity: 2",
          "(81.0, 85.0), multiplicity: 2",
          "(81.0, 85.0), multiplicity: 2",
          "(131.0, 135.0), multiplicity: 2",
          "(131.0, 135.0), multiplicity: 2",
          "(116.0, 119.0)",
          "(77.0, 80.0)",
          "(85.0, 88.0)",
          "(135.0, 138.0)",
          "(121.0, 124.0)",
          "(128.0, 131.0), multiplicity: 2",
          "(114.0, 117.0), multiplicity: 2",
          "(179.0, 182.0), multiplicity: 2",
          "(72.0, 75.0)",
          "(87.0, 90.0)",
          "(114.0, 117.0), multiplicity: 2",
          "(179.0, 182.0), multiplicity: 2",
          "(141.0, 144.0)",
          "(173.0, 176.0)",
          "(142.0, 145.0)",
          "(176.0, 179.0)",
          "(89.0, 92.0)",
          "(92.0, 95.0)",
          "(187.0, 190.0)",
          "(111.0, 114.0)",
          "(102.0, 105.0), multiplicity: 2",
          "(147.0, 150.0)",
          "(102.0, 105.0), multiplicity: 2",
          "(128.0, 131.0), multiplicity: 2",
          "(112.0, 114.0)",
          "(91.0, 93.0)",
          "(83.0, 85.0)",
          "(84.0, 86.0)",
          "(120.0, 122.0)",
          "(105.0, 107.0)",
          "(122.0, 124.0)",
          "(109.0, 111.0)",
          "(130.0, 132.0)",
          "(76.0, 78.0)",
          "(118.0, 120.0), multiplicity: 2",
          "(126.0, 128.0)",
          "(118.0, 120.0), multiplicity: 2",
          "(177.0, 179.0)",
          "(136.0, 138.0)",
          "(72.0, 74.0)",
          "(159.0, 161.0)",
          "(125.0, 127.0), multiplicity: 2",
          "(107.0, 109.0)",
          "(62.0, 64.0)",
          "(140.0, 142.0)",
          "(145.0, 147.0)",
          "(144.0, 146.0), multiplicity: 2",
          "(144.0, 146.0), multiplicity: 2",
          "(67.0, 69.0)",
          "(173.0, 175.0)",
          "(143.0, 145.0)",
          "(125.0, 127.0), multiplicity: 2",
          "(100.0, 102.0)",
          "(143.0, 144.0)",
          "(142.0, 143.0)",
          "(116.0, 117.0)",
          "(141.0, 142.0)",
          "(97.0, 98.0), multiplicity: 2",
          "(114.0, 115.0), multiplicity: 2",
          "(69.0, 70.0)",
          "(114.0, 115.0), multiplicity: 2",
          "(89.0, 90.0), multiplicity: 2",
          "(89.0, 90.0), multiplicity: 2",
          "(108.0, 109.0)",
          "(117.0, 118.0), multiplicity: 2",
          "(117.0, 118.0), multiplicity: 2",
          "(62.0, 63.0)",
          "(130.0, 131.0)",
          "(57.0, 58.0)",
          "(138.0, 139.0)",
          "(88.0, 89.0), multiplicity: 2",
          "(113.0, 114.0), multiplicity: 3",
          "(88.0, 89.0), multiplicity: 2",
          "(113.0, 114.0), multiplicity: 3",
          "(113.0, 114.0), multiplicity: 3",
          "(76.0, 77.0)",
          "(131.0, 132.0)",
          "(137.0, 138.0)",
          "(175.0, 176.0)",
          "(110.0, 111.0)",
          "(124.0, 125.0)",
          "(103.0, 104.0)",
          "(55.0, 56.0)",
          "(135.0, 136.0)",
          "(79.0, 80.0)",
          "(121.0, 122.0)",
          "(111.0, 112.0)",
          "(155.0, 156.0)",
          "(97.0, 98.0), multiplicity: 2",
          "(122.0, 123.0)",
          "(158.0, 159.0)",
          "(134.0, 135.0)",
          "(81.0, 82.0)",
          "(133.0, 134.0)"
         ],
         "mode": "markers",
         "name": "H1",
         "type": "scatter",
         "x": [
          137,
          157,
          114,
          128,
          120,
          174,
          174,
          87,
          131,
          151,
          160,
          112,
          159,
          85,
          89,
          166,
          141,
          138,
          183,
          94,
          138,
          134,
          66,
          135,
          80,
          145,
          85,
          182,
          104,
          183,
          133,
          193,
          189,
          176,
          110,
          132,
          147,
          156,
          118,
          55,
          132,
          106,
          166,
          135,
          107,
          80,
          132,
          122,
          160,
          116,
          209,
          105,
          138,
          107,
          172,
          57,
          77,
          124,
          93,
          96,
          125,
          104,
          196,
          86,
          141,
          202,
          186,
          97,
          140,
          139,
          183,
          73,
          131,
          89,
          141,
          157,
          140,
          67,
          118,
          180,
          123,
          101,
          188,
          159,
          197,
          135,
          179,
          124,
          172,
          86,
          67,
          102,
          94,
          143,
          170,
          102,
          104,
          80,
          90,
          129,
          99,
          140,
          92,
          185,
          136,
          90,
          112,
          124,
          150,
          102,
          134,
          133,
          133,
          122,
          131,
          128,
          99,
          119,
          116,
          107,
          157,
          123,
          155,
          57,
          60,
          142,
          112,
          188,
          103,
          159,
          135,
          134,
          118,
          192,
          134,
          129,
          129,
          81,
          81,
          131,
          131,
          116,
          77,
          85,
          135,
          121,
          128,
          114,
          179,
          72,
          87,
          114,
          179,
          141,
          173,
          142,
          176,
          89,
          92,
          187,
          111,
          102,
          147,
          102,
          128,
          112,
          91,
          83,
          84,
          120,
          105,
          122,
          109,
          130,
          76,
          118,
          126,
          118,
          177,
          136,
          72,
          159,
          125,
          107,
          62,
          140,
          145,
          144,
          144,
          67,
          173,
          143,
          125,
          100,
          143,
          142,
          116,
          141,
          97,
          114,
          69,
          114,
          89,
          89,
          108,
          117,
          117,
          62,
          130,
          57,
          138,
          88,
          113,
          88,
          113,
          113,
          76,
          131,
          137,
          175,
          110,
          124,
          103,
          55,
          135,
          79,
          121,
          111,
          155,
          97,
          122,
          158,
          134,
          81,
          133
         ],
         "y": [
          210,
          230,
          171,
          184,
          173,
          224,
          223,
          129,
          172,
          190,
          199,
          149,
          194,
          118,
          122,
          198,
          173,
          169,
          214,
          124,
          168,
          164,
          96,
          164,
          109,
          173,
          113,
          210,
          130,
          209,
          158,
          218,
          214,
          200,
          133,
          155,
          169,
          178,
          140,
          76,
          153,
          127,
          186,
          153,
          125,
          98,
          150,
          139,
          177,
          133,
          225,
          121,
          154,
          122,
          187,
          72,
          92,
          138,
          107,
          109,
          138,
          117,
          209,
          99,
          153,
          214,
          198,
          108,
          151,
          150,
          193,
          83,
          141,
          98,
          150,
          166,
          149,
          76,
          127,
          188,
          131,
          109,
          196,
          166,
          204,
          142,
          186,
          131,
          179,
          93,
          74,
          108,
          100,
          149,
          176,
          108,
          110,
          86,
          96,
          135,
          105,
          146,
          97,
          190,
          141,
          95,
          117,
          129,
          155,
          107,
          139,
          138,
          138,
          127,
          136,
          133,
          104,
          124,
          121,
          112,
          161,
          127,
          159,
          61,
          64,
          146,
          116,
          192,
          107,
          163,
          139,
          138,
          122,
          196,
          138,
          133,
          133,
          85,
          85,
          135,
          135,
          119,
          80,
          88,
          138,
          124,
          131,
          117,
          182,
          75,
          90,
          117,
          182,
          144,
          176,
          145,
          179,
          92,
          95,
          190,
          114,
          105,
          150,
          105,
          131,
          114,
          93,
          85,
          86,
          122,
          107,
          124,
          111,
          132,
          78,
          120,
          128,
          120,
          179,
          138,
          74,
          161,
          127,
          109,
          64,
          142,
          147,
          146,
          146,
          69,
          175,
          145,
          127,
          102,
          144,
          143,
          117,
          142,
          98,
          115,
          70,
          115,
          90,
          90,
          109,
          118,
          118,
          63,
          131,
          58,
          139,
          89,
          114,
          89,
          114,
          114,
          77,
          132,
          138,
          176,
          111,
          125,
          104,
          56,
          136,
          80,
          122,
          112,
          156,
          98,
          123,
          159,
          135,
          82,
          134
         ]
        }
       ],
       "layout": {
        "height": 500,
        "plot_bgcolor": "white",
        "template": {
         "data": {
          "bar": [
           {
            "error_x": {
             "color": "#2a3f5f"
            },
            "error_y": {
             "color": "#2a3f5f"
            },
            "marker": {
             "line": {
              "color": "#E5ECF6",
              "width": 0.5
             },
             "pattern": {
              "fillmode": "overlay",
              "size": 10,
              "solidity": 0.2
             }
            },
            "type": "bar"
           }
          ],
          "barpolar": [
           {
            "marker": {
             "line": {
              "color": "#E5ECF6",
              "width": 0.5
             },
             "pattern": {
              "fillmode": "overlay",
              "size": 10,
              "solidity": 0.2
             }
            },
            "type": "barpolar"
           }
          ],
          "carpet": [
           {
            "aaxis": {
             "endlinecolor": "#2a3f5f",
             "gridcolor": "white",
             "linecolor": "white",
             "minorgridcolor": "white",
             "startlinecolor": "#2a3f5f"
            },
            "baxis": {
             "endlinecolor": "#2a3f5f",
             "gridcolor": "white",
             "linecolor": "white",
             "minorgridcolor": "white",
             "startlinecolor": "#2a3f5f"
            },
            "type": "carpet"
           }
          ],
          "choropleth": [
           {
            "colorbar": {
             "outlinewidth": 0,
             "ticks": ""
            },
            "type": "choropleth"
           }
          ],
          "contour": [
           {
            "colorbar": {
             "outlinewidth": 0,
             "ticks": ""
            },
            "colorscale": [
             [
              0,
              "#0d0887"
             ],
             [
              0.1111111111111111,
              "#46039f"
             ],
             [
              0.2222222222222222,
              "#7201a8"
             ],
             [
              0.3333333333333333,
              "#9c179e"
             ],
             [
              0.4444444444444444,
              "#bd3786"
             ],
             [
              0.5555555555555556,
              "#d8576b"
             ],
             [
              0.6666666666666666,
              "#ed7953"
             ],
             [
              0.7777777777777778,
              "#fb9f3a"
             ],
             [
              0.8888888888888888,
              "#fdca26"
             ],
             [
              1,
              "#f0f921"
             ]
            ],
            "type": "contour"
           }
          ],
          "contourcarpet": [
           {
            "colorbar": {
             "outlinewidth": 0,
             "ticks": ""
            },
            "type": "contourcarpet"
           }
          ],
          "heatmap": [
           {
            "colorbar": {
             "outlinewidth": 0,
             "ticks": ""
            },
            "colorscale": [
             [
              0,
              "#0d0887"
             ],
             [
              0.1111111111111111,
              "#46039f"
             ],
             [
              0.2222222222222222,
              "#7201a8"
             ],
             [
              0.3333333333333333,
              "#9c179e"
             ],
             [
              0.4444444444444444,
              "#bd3786"
             ],
             [
              0.5555555555555556,
              "#d8576b"
             ],
             [
              0.6666666666666666,
              "#ed7953"
             ],
             [
              0.7777777777777778,
              "#fb9f3a"
             ],
             [
              0.8888888888888888,
              "#fdca26"
             ],
             [
              1,
              "#f0f921"
             ]
            ],
            "type": "heatmap"
           }
          ],
          "heatmapgl": [
           {
            "colorbar": {
             "outlinewidth": 0,
             "ticks": ""
            },
            "colorscale": [
             [
              0,
              "#0d0887"
             ],
             [
              0.1111111111111111,
              "#46039f"
             ],
             [
              0.2222222222222222,
              "#7201a8"
             ],
             [
              0.3333333333333333,
              "#9c179e"
             ],
             [
              0.4444444444444444,
              "#bd3786"
             ],
             [
              0.5555555555555556,
              "#d8576b"
             ],
             [
              0.6666666666666666,
              "#ed7953"
             ],
             [
              0.7777777777777778,
              "#fb9f3a"
             ],
             [
              0.8888888888888888,
              "#fdca26"
             ],
             [
              1,
              "#f0f921"
             ]
            ],
            "type": "heatmapgl"
           }
          ],
          "histogram": [
           {
            "marker": {
             "pattern": {
              "fillmode": "overlay",
              "size": 10,
              "solidity": 0.2
             }
            },
            "type": "histogram"
           }
          ],
          "histogram2d": [
           {
            "colorbar": {
             "outlinewidth": 0,
             "ticks": ""
            },
            "colorscale": [
             [
              0,
              "#0d0887"
             ],
             [
              0.1111111111111111,
              "#46039f"
             ],
             [
              0.2222222222222222,
              "#7201a8"
             ],
             [
              0.3333333333333333,
              "#9c179e"
             ],
             [
              0.4444444444444444,
              "#bd3786"
             ],
             [
              0.5555555555555556,
              "#d8576b"
             ],
             [
              0.6666666666666666,
              "#ed7953"
             ],
             [
              0.7777777777777778,
              "#fb9f3a"
             ],
             [
              0.8888888888888888,
              "#fdca26"
             ],
             [
              1,
              "#f0f921"
             ]
            ],
            "type": "histogram2d"
           }
          ],
          "histogram2dcontour": [
           {
            "colorbar": {
             "outlinewidth": 0,
             "ticks": ""
            },
            "colorscale": [
             [
              0,
              "#0d0887"
             ],
             [
              0.1111111111111111,
              "#46039f"
             ],
             [
              0.2222222222222222,
              "#7201a8"
             ],
             [
              0.3333333333333333,
              "#9c179e"
             ],
             [
              0.4444444444444444,
              "#bd3786"
             ],
             [
              0.5555555555555556,
              "#d8576b"
             ],
             [
              0.6666666666666666,
              "#ed7953"
             ],
             [
              0.7777777777777778,
              "#fb9f3a"
             ],
             [
              0.8888888888888888,
              "#fdca26"
             ],
             [
              1,
              "#f0f921"
             ]
            ],
            "type": "histogram2dcontour"
           }
          ],
          "mesh3d": [
           {
            "colorbar": {
             "outlinewidth": 0,
             "ticks": ""
            },
            "type": "mesh3d"
           }
          ],
          "parcoords": [
           {
            "line": {
             "colorbar": {
              "outlinewidth": 0,
              "ticks": ""
             }
            },
            "type": "parcoords"
           }
          ],
          "pie": [
           {
            "automargin": true,
            "type": "pie"
           }
          ],
          "scatter": [
           {
            "fillpattern": {
             "fillmode": "overlay",
             "size": 10,
             "solidity": 0.2
            },
            "type": "scatter"
           }
          ],
          "scatter3d": [
           {
            "line": {
             "colorbar": {
              "outlinewidth": 0,
              "ticks": ""
             }
            },
            "marker": {
             "colorbar": {
              "outlinewidth": 0,
              "ticks": ""
             }
            },
            "type": "scatter3d"
           }
          ],
          "scattercarpet": [
           {
            "marker": {
             "colorbar": {
              "outlinewidth": 0,
              "ticks": ""
             }
            },
            "type": "scattercarpet"
           }
          ],
          "scattergeo": [
           {
            "marker": {
             "colorbar": {
              "outlinewidth": 0,
              "ticks": ""
             }
            },
            "type": "scattergeo"
           }
          ],
          "scattergl": [
           {
            "marker": {
             "colorbar": {
              "outlinewidth": 0,
              "ticks": ""
             }
            },
            "type": "scattergl"
           }
          ],
          "scattermapbox": [
           {
            "marker": {
             "colorbar": {
              "outlinewidth": 0,
              "ticks": ""
             }
            },
            "type": "scattermapbox"
           }
          ],
          "scatterpolar": [
           {
            "marker": {
             "colorbar": {
              "outlinewidth": 0,
              "ticks": ""
             }
            },
            "type": "scatterpolar"
           }
          ],
          "scatterpolargl": [
           {
            "marker": {
             "colorbar": {
              "outlinewidth": 0,
              "ticks": ""
             }
            },
            "type": "scatterpolargl"
           }
          ],
          "scatterternary": [
           {
            "marker": {
             "colorbar": {
              "outlinewidth": 0,
              "ticks": ""
             }
            },
            "type": "scatterternary"
           }
          ],
          "surface": [
           {
            "colorbar": {
             "outlinewidth": 0,
             "ticks": ""
            },
            "colorscale": [
             [
              0,
              "#0d0887"
             ],
             [
              0.1111111111111111,
              "#46039f"
             ],
             [
              0.2222222222222222,
              "#7201a8"
             ],
             [
              0.3333333333333333,
              "#9c179e"
             ],
             [
              0.4444444444444444,
              "#bd3786"
             ],
             [
              0.5555555555555556,
              "#d8576b"
             ],
             [
              0.6666666666666666,
              "#ed7953"
             ],
             [
              0.7777777777777778,
              "#fb9f3a"
             ],
             [
              0.8888888888888888,
              "#fdca26"
             ],
             [
              1,
              "#f0f921"
             ]
            ],
            "type": "surface"
           }
          ],
          "table": [
           {
            "cells": {
             "fill": {
              "color": "#EBF0F8"
             },
             "line": {
              "color": "white"
             }
            },
            "header": {
             "fill": {
              "color": "#C8D4E3"
             },
             "line": {
              "color": "white"
             }
            },
            "type": "table"
           }
          ]
         },
         "layout": {
          "annotationdefaults": {
           "arrowcolor": "#2a3f5f",
           "arrowhead": 0,
           "arrowwidth": 1
          },
          "autotypenumbers": "strict",
          "coloraxis": {
           "colorbar": {
            "outlinewidth": 0,
            "ticks": ""
           }
          },
          "colorscale": {
           "diverging": [
            [
             0,
             "#8e0152"
            ],
            [
             0.1,
             "#c51b7d"
            ],
            [
             0.2,
             "#de77ae"
            ],
            [
             0.3,
             "#f1b6da"
            ],
            [
             0.4,
             "#fde0ef"
            ],
            [
             0.5,
             "#f7f7f7"
            ],
            [
             0.6,
             "#e6f5d0"
            ],
            [
             0.7,
             "#b8e186"
            ],
            [
             0.8,
             "#7fbc41"
            ],
            [
             0.9,
             "#4d9221"
            ],
            [
             1,
             "#276419"
            ]
           ],
           "sequential": [
            [
             0,
             "#0d0887"
            ],
            [
             0.1111111111111111,
             "#46039f"
            ],
            [
             0.2222222222222222,
             "#7201a8"
            ],
            [
             0.3333333333333333,
             "#9c179e"
            ],
            [
             0.4444444444444444,
             "#bd3786"
            ],
            [
             0.5555555555555556,
             "#d8576b"
            ],
            [
             0.6666666666666666,
             "#ed7953"
            ],
            [
             0.7777777777777778,
             "#fb9f3a"
            ],
            [
             0.8888888888888888,
             "#fdca26"
            ],
            [
             1,
             "#f0f921"
            ]
           ],
           "sequentialminus": [
            [
             0,
             "#0d0887"
            ],
            [
             0.1111111111111111,
             "#46039f"
            ],
            [
             0.2222222222222222,
             "#7201a8"
            ],
            [
             0.3333333333333333,
             "#9c179e"
            ],
            [
             0.4444444444444444,
             "#bd3786"
            ],
            [
             0.5555555555555556,
             "#d8576b"
            ],
            [
             0.6666666666666666,
             "#ed7953"
            ],
            [
             0.7777777777777778,
             "#fb9f3a"
            ],
            [
             0.8888888888888888,
             "#fdca26"
            ],
            [
             1,
             "#f0f921"
            ]
           ]
          },
          "colorway": [
           "#636efa",
           "#EF553B",
           "#00cc96",
           "#ab63fa",
           "#FFA15A",
           "#19d3f3",
           "#FF6692",
           "#B6E880",
           "#FF97FF",
           "#FECB52"
          ],
          "font": {
           "color": "#2a3f5f"
          },
          "geo": {
           "bgcolor": "white",
           "lakecolor": "white",
           "landcolor": "#E5ECF6",
           "showlakes": true,
           "showland": true,
           "subunitcolor": "white"
          },
          "hoverlabel": {
           "align": "left"
          },
          "hovermode": "closest",
          "mapbox": {
           "style": "light"
          },
          "paper_bgcolor": "white",
          "plot_bgcolor": "#E5ECF6",
          "polar": {
           "angularaxis": {
            "gridcolor": "white",
            "linecolor": "white",
            "ticks": ""
           },
           "bgcolor": "#E5ECF6",
           "radialaxis": {
            "gridcolor": "white",
            "linecolor": "white",
            "ticks": ""
           }
          },
          "scene": {
           "xaxis": {
            "backgroundcolor": "#E5ECF6",
            "gridcolor": "white",
            "gridwidth": 2,
            "linecolor": "white",
            "showbackground": true,
            "ticks": "",
            "zerolinecolor": "white"
           },
           "yaxis": {
            "backgroundcolor": "#E5ECF6",
            "gridcolor": "white",
            "gridwidth": 2,
            "linecolor": "white",
            "showbackground": true,
            "ticks": "",
            "zerolinecolor": "white"
           },
           "zaxis": {
            "backgroundcolor": "#E5ECF6",
            "gridcolor": "white",
            "gridwidth": 2,
            "linecolor": "white",
            "showbackground": true,
            "ticks": "",
            "zerolinecolor": "white"
           }
          },
          "shapedefaults": {
           "line": {
            "color": "#2a3f5f"
           }
          },
          "ternary": {
           "aaxis": {
            "gridcolor": "white",
            "linecolor": "white",
            "ticks": ""
           },
           "baxis": {
            "gridcolor": "white",
            "linecolor": "white",
            "ticks": ""
           },
           "bgcolor": "#E5ECF6",
           "caxis": {
            "gridcolor": "white",
            "linecolor": "white",
            "ticks": ""
           }
          },
          "title": {
           "x": 0.05
          },
          "xaxis": {
           "automargin": true,
           "gridcolor": "white",
           "linecolor": "white",
           "ticks": "",
           "title": {
            "standoff": 15
           },
           "zerolinecolor": "white",
           "zerolinewidth": 2
          },
          "yaxis": {
           "automargin": true,
           "gridcolor": "white",
           "linecolor": "white",
           "ticks": "",
           "title": {
            "standoff": 15
           },
           "zerolinecolor": "white",
           "zerolinewidth": 2
          }
         }
        },
        "width": 500,
        "xaxis": {
         "autorange": false,
         "domain": [
          0,
          1
         ],
         "exponentformat": "e",
         "linecolor": "black",
         "linewidth": 1,
         "mirror": false,
         "range": [
          46.096875,
          238.903125
         ],
         "showexponent": "all",
         "showline": true,
         "side": "bottom",
         "ticks": "outside",
         "title": {
          "text": "Birth"
         },
         "type": "linear",
         "zeroline": true
        },
        "yaxis": {
         "autorange": false,
         "domain": [
          0,
          1
         ],
         "exponentformat": "e",
         "linecolor": "black",
         "linewidth": 1,
         "mirror": false,
         "range": [
          51.5,
          233.5
         ],
         "scaleanchor": "x",
         "scaleratio": 1,
         "showexponent": "all",
         "showline": true,
         "side": "left",
         "ticks": "outside",
         "title": {
          "text": "Death"
         },
         "type": "linear",
         "zeroline": true
        }
       }
      },
      "image/png": "[encoded data removed]",
      "text/html": [
       "<div>                            <div id=\"f1e2d15b-bac9-4006-8fdd-f9b745374b0d\" class=\"plotly-graph-div\" style=\"height:500px; width:500px;\"></div>            <script type=\"text/javascript\">                require([\"plotly\"], function(Plotly) {                    window.PLOTLYENV=window.PLOTLYENV || {};                                    if (document.getElementById(\"f1e2d15b-bac9-4006-8fdd-f9b745374b0d\")) {                    Plotly.newPlot(                        \"f1e2d15b-bac9-4006-8fdd-f9b745374b0d\",                        [{\"hoverinfo\":\"none\",\"line\":{\"color\":\"black\",\"dash\":\"dash\",\"width\":1},\"mode\":\"lines\",\"showlegend\":false,\"x\":[51.5,233.5],\"y\":[51.5,233.5],\"type\":\"scatter\"},{\"hoverinfo\":\"text\",\"hovertext\":[\"(137.0, 210.0)\",\"(157.0, 230.0)\",\"(114.0, 171.0)\",\"(128.0, 184.0)\",\"(120.0, 173.0)\",\"(174.0, 224.0)\",\"(174.0, 223.0)\",\"(87.0, 129.0)\",\"(131.0, 172.0)\",\"(151.0, 190.0)\",\"(160.0, 199.0)\",\"(112.0, 149.0)\",\"(159.0, 194.0)\",\"(85.0, 118.0)\",\"(89.0, 122.0)\",\"(166.0, 198.0)\",\"(141.0, 173.0)\",\"(138.0, 169.0)\",\"(183.0, 214.0)\",\"(94.0, 124.0)\",\"(138.0, 168.0)\",\"(134.0, 164.0)\",\"(66.0, 96.0)\",\"(135.0, 164.0)\",\"(80.0, 109.0)\",\"(145.0, 173.0)\",\"(85.0, 113.0)\",\"(182.0, 210.0)\",\"(104.0, 130.0)\",\"(183.0, 209.0)\",\"(133.0, 158.0)\",\"(193.0, 218.0)\",\"(189.0, 214.0)\",\"(176.0, 200.0)\",\"(110.0, 133.0)\",\"(132.0, 155.0)\",\"(147.0, 169.0)\",\"(156.0, 178.0)\",\"(118.0, 140.0)\",\"(55.0, 76.0)\",\"(132.0, 153.0)\",\"(106.0, 127.0)\",\"(166.0, 186.0)\",\"(135.0, 153.0)\",\"(107.0, 125.0)\",\"(80.0, 98.0)\",\"(132.0, 150.0)\",\"(122.0, 139.0)\",\"(160.0, 177.0)\",\"(116.0, 133.0)\",\"(209.0, 225.0)\",\"(105.0, 121.0)\",\"(138.0, 154.0)\",\"(107.0, 122.0)\",\"(172.0, 187.0)\",\"(57.0, 72.0)\",\"(77.0, 92.0)\",\"(124.0, 138.0)\",\"(93.0, 107.0)\",\"(96.0, 109.0)\",\"(125.0, 138.0)\",\"(104.0, 117.0)\",\"(196.0, 209.0)\",\"(86.0, 99.0)\",\"(141.0, 153.0)\",\"(202.0, 214.0)\",\"(186.0, 198.0)\",\"(97.0, 108.0)\",\"(140.0, 151.0)\",\"(139.0, 150.0)\",\"(183.0, 193.0)\",\"(73.0, 83.0)\",\"(131.0, 141.0)\",\"(89.0, 98.0)\",\"(141.0, 150.0)\",\"(157.0, 166.0)\",\"(140.0, 149.0)\",\"(67.0, 76.0)\",\"(118.0, 127.0)\",\"(180.0, 188.0)\",\"(123.0, 131.0)\",\"(101.0, 109.0)\",\"(188.0, 196.0)\",\"(159.0, 166.0)\",\"(197.0, 204.0)\",\"(135.0, 142.0)\",\"(179.0, 186.0)\",\"(124.0, 131.0)\",\"(172.0, 179.0)\",\"(86.0, 93.0)\",\"(67.0, 74.0)\",\"(102.0, 108.0), multiplicity: 2\",\"(94.0, 100.0)\",\"(143.0, 149.0)\",\"(170.0, 176.0)\",\"(102.0, 108.0), multiplicity: 2\",\"(104.0, 110.0)\",\"(80.0, 86.0)\",\"(90.0, 96.0)\",\"(129.0, 135.0)\",\"(99.0, 105.0)\",\"(140.0, 146.0)\",\"(92.0, 97.0)\",\"(185.0, 190.0)\",\"(136.0, 141.0)\",\"(90.0, 95.0)\",\"(112.0, 117.0)\",\"(124.0, 129.0)\",\"(150.0, 155.0)\",\"(102.0, 107.0)\",\"(134.0, 139.0)\",\"(133.0, 138.0), multiplicity: 2\",\"(133.0, 138.0), multiplicity: 2\",\"(122.0, 127.0)\",\"(131.0, 136.0)\",\"(128.0, 133.0)\",\"(99.0, 104.0)\",\"(119.0, 124.0)\",\"(116.0, 121.0)\",\"(107.0, 112.0)\",\"(157.0, 161.0)\",\"(123.0, 127.0)\",\"(155.0, 159.0)\",\"(57.0, 61.0)\",\"(60.0, 64.0)\",\"(142.0, 146.0)\",\"(112.0, 116.0)\",\"(188.0, 192.0)\",\"(103.0, 107.0)\",\"(159.0, 163.0)\",\"(135.0, 139.0)\",\"(134.0, 138.0), multiplicity: 2\",\"(118.0, 122.0)\",\"(192.0, 196.0)\",\"(134.0, 138.0), multiplicity: 2\",\"(129.0, 133.0), multiplicity: 2\",\"(129.0, 133.0), multiplicity: 2\",\"(81.0, 85.0), multiplicity: 2\",\"(81.0, 85.0), multiplicity: 2\",\"(131.0, 135.0), multiplicity: 2\",\"(131.0, 135.0), multiplicity: 2\",\"(116.0, 119.0)\",\"(77.0, 80.0)\",\"(85.0, 88.0)\",\"(135.0, 138.0)\",\"(121.0, 124.0)\",\"(128.0, 131.0), multiplicity: 2\",\"(114.0, 117.0), multiplicity: 2\",\"(179.0, 182.0), multiplicity: 2\",\"(72.0, 75.0)\",\"(87.0, 90.0)\",\"(114.0, 117.0), multiplicity: 2\",\"(179.0, 182.0), multiplicity: 2\",\"(141.0, 144.0)\",\"(173.0, 176.0)\",\"(142.0, 145.0)\",\"(176.0, 179.0)\",\"(89.0, 92.0)\",\"(92.0, 95.0)\",\"(187.0, 190.0)\",\"(111.0, 114.0)\",\"(102.0, 105.0), multiplicity: 2\",\"(147.0, 150.0)\",\"(102.0, 105.0), multiplicity: 2\",\"(128.0, 131.0), multiplicity: 2\",\"(112.0, 114.0)\",\"(91.0, 93.0)\",\"(83.0, 85.0)\",\"(84.0, 86.0)\",\"(120.0, 122.0)\",\"(105.0, 107.0)\",\"(122.0, 124.0)\",\"(109.0, 111.0)\",\"(130.0, 132.0)\",\"(76.0, 78.0)\",\"(118.0, 120.0), multiplicity: 2\",\"(126.0, 128.0)\",\"(118.0, 120.0), multiplicity: 2\",\"(177.0, 179.0)\",\"(136.0, 138.0)\",\"(72.0, 74.0)\",\"(159.0, 161.0)\",\"(125.0, 127.0), multiplicity: 2\",\"(107.0, 109.0)\",\"(62.0, 64.0)\",\"(140.0, 142.0)\",\"(145.0, 147.0)\",\"(144.0, 146.0), multiplicity: 2\",\"(144.0, 146.0), multiplicity: 2\",\"(67.0, 69.0)\",\"(173.0, 175.0)\",\"(143.0, 145.0)\",\"(125.0, 127.0), multiplicity: 2\",\"(100.0, 102.0)\",\"(143.0, 144.0)\",\"(142.0, 143.0)\",\"(116.0, 117.0)\",\"(141.0, 142.0)\",\"(97.0, 98.0), multiplicity: 2\",\"(114.0, 115.0), multiplicity: 2\",\"(69.0, 70.0)\",\"(114.0, 115.0), multiplicity: 2\",\"(89.0, 90.0), multiplicity: 2\",\"(89.0, 90.0), multiplicity: 2\",\"(108.0, 109.0)\",\"(117.0, 118.0), multiplicity: 2\",\"(117.0, 118.0), multiplicity: 2\",\"(62.0, 63.0)\",\"(130.0, 131.0)\",\"(57.0, 58.0)\",\"(138.0, 139.0)\",\"(88.0, 89.0), multiplicity: 2\",\"(113.0, 114.0), multiplicity: 3\",\"(88.0, 89.0), multiplicity: 2\",\"(113.0, 114.0), multiplicity: 3\",\"(113.0, 114.0), multiplicity: 3\",\"(76.0, 77.0)\",\"(131.0, 132.0)\",\"(137.0, 138.0)\",\"(175.0, 176.0)\",\"(110.0, 111.0)\",\"(124.0, 125.0)\",\"(103.0, 104.0)\",\"(55.0, 56.0)\",\"(135.0, 136.0)\",\"(79.0, 80.0)\",\"(121.0, 122.0)\",\"(111.0, 112.0)\",\"(155.0, 156.0)\",\"(97.0, 98.0), multiplicity: 2\",\"(122.0, 123.0)\",\"(158.0, 159.0)\",\"(134.0, 135.0)\",\"(81.0, 82.0)\",\"(133.0, 134.0)\"],\"mode\":\"markers\",\"name\":\"H1\",\"x\":[137.0,157.0,114.0,128.0,120.0,174.0,174.0,87.0,131.0,151.0,160.0,112.0,159.0,85.0,89.0,166.0,141.0,138.0,183.0,94.0,138.0,134.0,66.0,135.0,80.0,145.0,85.0,182.0,104.0,183.0,133.0,193.0,189.0,176.0,110.0,132.0,147.0,156.0,118.0,55.0,132.0,106.0,166.0,135.0,107.0,80.0,132.0,122.0,160.0,116.0,209.0,105.0,138.0,107.0,172.0,57.0,77.0,124.0,93.0,96.0,125.0,104.0,196.0,86.0,141.0,202.0,186.0,97.0,140.0,139.0,183.0,73.0,131.0,89.0,141.0,157.0,140.0,67.0,118.0,180.0,123.0,101.0,188.0,159.0,197.0,135.0,179.0,124.0,172.0,86.0,67.0,102.0,94.0,143.0,170.0,102.0,104.0,80.0,90.0,129.0,99.0,140.0,92.0,185.0,136.0,90.0,112.0,124.0,150.0,102.0,134.0,133.0,133.0,122.0,131.0,128.0,99.0,119.0,116.0,107.0,157.0,123.0,155.0,57.0,60.0,142.0,112.0,188.0,103.0,159.0,135.0,134.0,118.0,192.0,134.0,129.0,129.0,81.0,81.0,131.0,131.0,116.0,77.0,85.0,135.0,121.0,128.0,114.0,179.0,72.0,87.0,114.0,179.0,141.0,173.0,142.0,176.0,89.0,92.0,187.0,111.0,102.0,147.0,102.0,128.0,112.0,91.0,83.0,84.0,120.0,105.0,122.0,109.0,130.0,76.0,118.0,126.0,118.0,177.0,136.0,72.0,159.0,125.0,107.0,62.0,140.0,145.0,144.0,144.0,67.0,173.0,143.0,125.0,100.0,143.0,142.0,116.0,141.0,97.0,114.0,69.0,114.0,89.0,89.0,108.0,117.0,117.0,62.0,130.0,57.0,138.0,88.0,113.0,88.0,113.0,113.0,76.0,131.0,137.0,175.0,110.0,124.0,103.0,55.0,135.0,79.0,121.0,111.0,155.0,97.0,122.0,158.0,134.0,81.0,133.0],\"y\":[210.0,230.0,171.0,184.0,173.0,224.0,223.0,129.0,172.0,190.0,199.0,149.0,194.0,118.0,122.0,198.0,173.0,169.0,214.0,124.0,168.0,164.0,96.0,164.0,109.0,173.0,113.0,210.0,130.0,209.0,158.0,218.0,214.0,200.0,133.0,155.0,169.0,178.0,140.0,76.0,153.0,127.0,186.0,153.0,125.0,98.0,150.0,139.0,177.0,133.0,225.0,121.0,154.0,122.0,187.0,72.0,92.0,138.0,107.0,109.0,138.0,117.0,209.0,99.0,153.0,214.0,198.0,108.0,151.0,150.0,193.0,83.0,141.0,98.0,150.0,166.0,149.0,76.0,127.0,188.0,131.0,109.0,196.0,166.0,204.0,142.0,186.0,131.0,179.0,93.0,74.0,108.0,100.0,149.0,176.0,108.0,110.0,86.0,96.0,135.0,105.0,146.0,97.0,190.0,141.0,95.0,117.0,129.0,155.0,107.0,139.0,138.0,138.0,127.0,136.0,133.0,104.0,124.0,121.0,112.0,161.0,127.0,159.0,61.0,64.0,146.0,116.0,192.0,107.0,163.0,139.0,138.0,122.0,196.0,138.0,133.0,133.0,85.0,85.0,135.0,135.0,119.0,80.0,88.0,138.0,124.0,131.0,117.0,182.0,75.0,90.0,117.0,182.0,144.0,176.0,145.0,179.0,92.0,95.0,190.0,114.0,105.0,150.0,105.0,131.0,114.0,93.0,85.0,86.0,122.0,107.0,124.0,111.0,132.0,78.0,120.0,128.0,120.0,179.0,138.0,74.0,161.0,127.0,109.0,64.0,142.0,147.0,146.0,146.0,69.0,175.0,145.0,127.0,102.0,144.0,143.0,117.0,142.0,98.0,115.0,70.0,115.0,90.0,90.0,109.0,118.0,118.0,63.0,131.0,58.0,139.0,89.0,114.0,89.0,114.0,114.0,77.0,132.0,138.0,176.0,111.0,125.0,104.0,56.0,136.0,80.0,122.0,112.0,156.0,98.0,123.0,159.0,135.0,82.0,134.0],\"type\":\"scatter\"}],                        {\"template\":{\"data\":{\"histogram2dcontour\":[{\"type\":\"histogram2dcontour\",\"colorbar\":{\"outlinewidth\":0,\"ticks\":\"\"},\"colorscale\":[[0.0,\"#0d0887\"],[0.1111111111111111,\"#46039f\"],[0.2222222222222222,\"#7201a8\"],[0.3333333333333333,\"#9c179e\"],[0.4444444444444444,\"#bd3786\"],[0.5555555555555556,\"#d8576b\"],[0.6666666666666666,\"#ed7953\"],[0.7777777777777778,\"#fb9f3a\"],[0.8888888888888888,\"#fdca26\"],[1.0,\"#f0f921\"]]}],\"choropleth\":[{\"type\":\"choropleth\",\"colorbar\":{\"outlinewidth\":0,\"ticks\":\"\"}}],\"histogram2d\":[{\"type\":\"histogram2d\",\"colorbar\":{\"outlinewidth\":0,\"ticks\":\"\"},\"colorscale\":[[0.0,\"#0d0887\"],[0.1111111111111111,\"#46039f\"],[0.2222222222222222,\"#7201a8\"],[0.3333333333333333,\"#9c179e\"],[0.4444444444444444,\"#bd3786\"],[0.5555555555555556,\"#d8576b\"],[0.6666666666666666,\"#ed7953\"],[0.7777777777777778,\"#fb9f3a\"],[0.8888888888888888,\"#fdca26\"],[1.0,\"#f0f921\"]]}],\"heatmap\":[{\"type\":\"heatmap\",\"colorbar\":{\"outlinewidth\":0,\"ticks\":\"\"},\"colorscale\":[[0.0,\"#0d0887\"],[0.1111111111111111,\"#46039f\"],[0.2222222222222222,\"#7201a8\"],[0.3333333333333333,\"#9c179e\"],[0.4444444444444444,\"#bd3786\"],[0.5555555555555556,\"#d8576b\"],[0.6666666666666666,\"#ed7953\"],[0.7777777777777778,\"#fb9f3a\"],[0.8888888888888888,\"#fdca26\"],[1.0,\"#f0f921\"]]}],\"heatmapgl\":[{\"type\":\"heatmapgl\",\"colorbar\":{\"outlinewidth\":0,\"ticks\":\"\"},\"colorscale\":[[0.0,\"#0d0887\"],[0.1111111111111111,\"#46039f\"],[0.2222222222222222,\"#7201a8\"],[0.3333333333333333,\"#9c179e\"],[0.4444444444444444,\"#bd3786\"],[0.5555555555555556,\"#d8576b\"],[0.6666666666666666,\"#ed7953\"],[0.7777777777777778,\"#fb9f3a\"],[0.8888888888888888,\"#fdca26\"],[1.0,\"#f0f921\"]]}],\"contourcarpet\":[{\"type\":\"contourcarpet\",\"colorbar\":{\"outlinewidth\":0,\"ticks\":\"\"}}],\"contour\":[{\"type\":\"contour\",\"colorbar\":{\"outlinewidth\":0,\"ticks\":\"\"},\"colorscale\":[[0.0,\"#0d0887\"],[0.1111111111111111,\"#46039f\"],[0.2222222222222222,\"#7201a8\"],[0.3333333333333333,\"#9c179e\"],[0.4444444444444444,\"#bd3786\"],[0.5555555555555556,\"#d8576b\"],[0.6666666666666666,\"#ed7953\"],[0.7777777777777778,\"#fb9f3a\"],[0.8888888888888888,\"#fdca26\"],[1.0,\"#f0f921\"]]}],\"surface\":[{\"type\":\"surface\",\"colorbar\":{\"outlinewidth\":0,\"ticks\":\"\"},\"colorscale\":[[0.0,\"#0d0887\"],[0.1111111111111111,\"#46039f\"],[0.2222222222222222,\"#7201a8\"],[0.3333333333333333,\"#9c179e\"],[0.4444444444444444,\"#bd3786\"],[0.5555555555555556,\"#d8576b\"],[0.6666666666666666,\"#ed7953\"],[0.7777777777777778,\"#fb9f3a\"],[0.8888888888888888,\"#fdca26\"],[1.0,\"#f0f921\"]]}],\"mesh3d\":[{\"type\":\"mesh3d\",\"colorbar\":{\"outlinewidth\":0,\"ticks\":\"\"}}],\"scatter\":[{\"fillpattern\":{\"fillmode\":\"overlay\",\"size\":10,\"solidity\":0.2},\"type\":\"scatter\"}],\"parcoords\":[{\"type\":\"parcoords\",\"line\":{\"colorbar\":{\"outlinewidth\":0,\"ticks\":\"\"}}}],\"scatterpolargl\":[{\"type\":\"scatterpolargl\",\"marker\":{\"colorbar\":{\"outlinewidth\":0,\"ticks\":\"\"}}}],\"bar\":[{\"error_x\":{\"color\":\"#2a3f5f\"},\"error_y\":{\"color\":\"#2a3f5f\"},\"marker\":{\"line\":{\"color\":\"#E5ECF6\",\"width\":0.5},\"pattern\":{\"fillmode\":\"overlay\",\"size\":10,\"solidity\":0.2}},\"type\":\"bar\"}],\"scattergeo\":[{\"type\":\"scattergeo\",\"marker\":{\"colorbar\":{\"outlinewidth\":0,\"ticks\":\"\"}}}],\"scatterpolar\":[{\"type\":\"scatterpolar\",\"marker\":{\"colorbar\":{\"outlinewidth\":0,\"ticks\":\"\"}}}],\"histogram\":[{\"marker\":{\"pattern\":{\"fillmode\":\"overlay\",\"size\":10,\"solidity\":0.2}},\"type\":\"histogram\"}],\"scattergl\":[{\"type\":\"scattergl\",\"marker\":{\"colorbar\":{\"outlinewidth\":0,\"ticks\":\"\"}}}],\"scatter3d\":[{\"type\":\"scatter3d\",\"line\":{\"colorbar\":{\"outlinewidth\":0,\"ticks\":\"\"}},\"marker\":{\"colorbar\":{\"outlinewidth\":0,\"ticks\":\"\"}}}],\"scattermapbox\":[{\"type\":\"scattermapbox\",\"marker\":{\"colorbar\":{\"outlinewidth\":0,\"ticks\":\"\"}}}],\"scatterternary\":[{\"type\":\"scatterternary\",\"marker\":{\"colorbar\":{\"outlinewidth\":0,\"ticks\":\"\"}}}],\"scattercarpet\":[{\"type\":\"scattercarpet\",\"marker\":{\"colorbar\":{\"outlinewidth\":0,\"ticks\":\"\"}}}],\"carpet\":[{\"aaxis\":{\"endlinecolor\":\"#2a3f5f\",\"gridcolor\":\"white\",\"linecolor\":\"white\",\"minorgridcolor\":\"white\",\"startlinecolor\":\"#2a3f5f\"},\"baxis\":{\"endlinecolor\":\"#2a3f5f\",\"gridcolor\":\"white\",\"linecolor\":\"white\",\"minorgridcolor\":\"white\",\"startlinecolor\":\"#2a3f5f\"},\"type\":\"carpet\"}],\"table\":[{\"cells\":{\"fill\":{\"color\":\"#EBF0F8\"},\"line\":{\"color\":\"white\"}},\"header\":{\"fill\":{\"color\":\"#C8D4E3\"},\"line\":{\"color\":\"white\"}},\"type\":\"table\"}],\"barpolar\":[{\"marker\":{\"line\":{\"color\":\"#E5ECF6\",\"width\":0.5},\"pattern\":{\"fillmode\":\"overlay\",\"size\":10,\"solidity\":0.2}},\"type\":\"barpolar\"}],\"pie\":[{\"automargin\":true,\"type\":\"pie\"}]},\"layout\":{\"autotypenumbers\":\"strict\",\"colorway\":[\"#636efa\",\"#EF553B\",\"#00cc96\",\"#ab63fa\",\"#FFA15A\",\"#19d3f3\",\"#FF6692\",\"#B6E880\",\"#FF97FF\",\"#FECB52\"],\"font\":{\"color\":\"#2a3f5f\"},\"hovermode\":\"closest\",\"hoverlabel\":{\"align\":\"left\"},\"paper_bgcolor\":\"white\",\"plot_bgcolor\":\"#E5ECF6\",\"polar\":{\"bgcolor\":\"#E5ECF6\",\"angularaxis\":{\"gridcolor\":\"white\",\"linecolor\":\"white\",\"ticks\":\"\"},\"radialaxis\":{\"gridcolor\":\"white\",\"linecolor\":\"white\",\"ticks\":\"\"}},\"ternary\":{\"bgcolor\":\"#E5ECF6\",\"aaxis\":{\"gridcolor\":\"white\",\"linecolor\":\"white\",\"ticks\":\"\"},\"baxis\":{\"gridcolor\":\"white\",\"linecolor\":\"white\",\"ticks\":\"\"},\"caxis\":{\"gridcolor\":\"white\",\"linecolor\":\"white\",\"ticks\":\"\"}},\"coloraxis\":{\"colorbar\":{\"outlinewidth\":0,\"ticks\":\"\"}},\"colorscale\":{\"sequential\":[[0.0,\"#0d0887\"],[0.1111111111111111,\"#46039f\"],[0.2222222222222222,\"#7201a8\"],[0.3333333333333333,\"#9c179e\"],[0.4444444444444444,\"#bd3786\"],[0.5555555555555556,\"#d8576b\"],[0.6666666666666666,\"#ed7953\"],[0.7777777777777778,\"#fb9f3a\"],[0.8888888888888888,\"#fdca26\"],[1.0,\"#f0f921\"]],\"sequentialminus\":[[0.0,\"#0d0887\"],[0.1111111111111111,\"#46039f\"],[0.2222222222222222,\"#7201a8\"],[0.3333333333333333,\"#9c179e\"],[0.4444444444444444,\"#bd3786\"],[0.5555555555555556,\"#d8576b\"],[0.6666666666666666,\"#ed7953\"],[0.7777777777777778,\"#fb9f3a\"],[0.8888888888888888,\"#fdca26\"],[1.0,\"#f0f921\"]],\"diverging\":[[0,\"#8e0152\"],[0.1,\"#c51b7d\"],[0.2,\"#de77ae\"],[0.3,\"#f1b6da\"],[0.4,\"#fde0ef\"],[0.5,\"#f7f7f7\"],[0.6,\"#e6f5d0\"],[0.7,\"#b8e186\"],[0.8,\"#7fbc41\"],[0.9,\"#4d9221\"],[1,\"#276419\"]]},\"xaxis\":{\"gridcolor\":\"white\",\"linecolor\":\"white\",\"ticks\":\"\",\"title\":{\"standoff\":15},\"zerolinecolor\":\"white\",\"automargin\":true,\"zerolinewidth\":2},\"yaxis\":{\"gridcolor\":\"white\",\"linecolor\":\"white\",\"ticks\":\"\",\"title\":{\"standoff\":15},\"zerolinecolor\":\"white\",\"automargin\":true,\"zerolinewidth\":2},\"scene\":{\"xaxis\":{\"backgroundcolor\":\"#E5ECF6\",\"gridcolor\":\"white\",\"linecolor\":\"white\",\"showbackground\":true,\"ticks\":\"\",\"zerolinecolor\":\"white\",\"gridwidth\":2},\"yaxis\":{\"backgroundcolor\":\"#E5ECF6\",\"gridcolor\":\"white\",\"linecolor\":\"white\",\"showbackground\":true,\"ticks\":\"\",\"zerolinecolor\":\"white\",\"gridwidth\":2},\"zaxis\":{\"backgroundcolor\":\"#E5ECF6\",\"gridcolor\":\"white\",\"linecolor\":\"white\",\"showbackground\":true,\"ticks\":\"\",\"zerolinecolor\":\"white\",\"gridwidth\":2}},\"shapedefaults\":{\"line\":{\"color\":\"#2a3f5f\"}},\"annotationdefaults\":{\"arrowcolor\":\"#2a3f5f\",\"arrowhead\":0,\"arrowwidth\":1},\"geo\":{\"bgcolor\":\"white\",\"landcolor\":\"#E5ECF6\",\"subunitcolor\":\"white\",\"showland\":true,\"showlakes\":true,\"lakecolor\":\"white\"},\"title\":{\"x\":0.05},\"mapbox\":{\"style\":\"light\"}}},\"xaxis\":{\"title\":{\"text\":\"Birth\"},\"side\":\"bottom\",\"type\":\"linear\",\"range\":[51.5,233.5],\"autorange\":false,\"ticks\":\"outside\",\"showline\":true,\"zeroline\":true,\"linewidth\":1,\"linecolor\":\"black\",\"mirror\":false,\"showexponent\":\"all\",\"exponentformat\":\"e\"},\"yaxis\":{\"title\":{\"text\":\"Death\"},\"side\":\"left\",\"type\":\"linear\",\"range\":[51.5,233.5],\"autorange\":false,\"scaleanchor\":\"x\",\"scaleratio\":1,\"ticks\":\"outside\",\"showline\":true,\"zeroline\":true,\"linewidth\":1,\"linecolor\":\"black\",\"mirror\":false,\"showexponent\":\"all\",\"exponentformat\":\"e\"},\"width\":500,\"height\":500,\"plot_bgcolor\":\"white\"},                        {\"responsive\": true}                    ).then(function(){\n",
       "                            \n",
       "var gd = document.getElementById('f1e2d15b-bac9-4006-8fdd-f9b745374b0d');\n",
       "var x = new MutationObserver(function (mutations, observer) {{\n",
       "        var display = window.getComputedStyle(gd).display;\n",
       "        if (!display || display === 'none') {{\n",
       "            console.log([gd, 'removed!']);\n",
       "            Plotly.purge(gd);\n",
       "            observer.disconnect();\n",
       "        }}\n",
       "}});\n",
       "\n",
       "// Listen for the removal of the full notebook cells\n",
       "var notebookContainer = gd.closest('#notebook-container');\n",
       "if (notebookContainer) {{\n",
       "    x.observe(notebookContainer, {childList: true});\n",
       "}}\n",
       "\n",
       "// Listen for the clearing of the current output cell\n",
       "var outputEl = gd.closest('.output');\n",
       "if (outputEl) {{\n",
       "    x.observe(outputEl, {childList: true});\n",
       "}}\n",
       "\n",
       "                        })                };                });            </script>        </div>"
      ]
     },
     "metadata": {},
     "output_type": "display_data"
    },
    {
     "data": {
      "application/vnd.plotly.v1+json": {
       "config": {
        "plotlyServerURL": "https://plot.ly"
       },
       "data": [
        {
         "hoverinfo": "none",
         "line": {
          "color": "black",
          "dash": "dash",
          "width": 1
         },
         "mode": "lines",
         "showlegend": false,
         "type": "scatter",
         "x": [
          23.96,
          234.04
         ],
         "y": [
          23.96,
          234.04
         ]
        },
        {
         "hoverinfo": "text",
         "hovertext": [
          "(73.0, 128.0)",
          "(92.0, 140.0)",
          "(46.0, 91.0)",
          "(87.0, 122.0)",
          "(91.0, 125.0)",
          "(101.0, 132.0)",
          "(115.0, 145.0)",
          "(103.0, 133.0)",
          "(49.0, 77.0), multiplicity: 2",
          "(49.0, 77.0), multiplicity: 2",
          "(57.0, 82.0)",
          "(57.0, 80.0)",
          "(37.0, 57.0)",
          "(76.0, 93.0)",
          "(63.0, 80.0)",
          "(122.0, 137.0)",
          "(168.0, 183.0)",
          "(103.0, 118.0)",
          "(156.0, 170.0)",
          "(144.0, 158.0)",
          "(106.0, 119.0)",
          "(105.0, 118.0)",
          "(114.0, 127.0)",
          "(162.0, 174.0)",
          "(53.0, 65.0)",
          "(118.0, 129.0)",
          "(105.0, 116.0)",
          "(59.0, 70.0)",
          "(106.0, 117.0)",
          "(98.0, 109.0)",
          "(104.0, 115.0)",
          "(78.0, 88.0)",
          "(163.0, 173.0)",
          "(122.0, 132.0)",
          "(101.0, 110.0)",
          "(100.0, 109.0)",
          "(103.0, 112.0)",
          "(102.0, 111.0)",
          "(69.0, 78.0)",
          "(118.0, 127.0)",
          "(72.0, 81.0)",
          "(170.0, 179.0)",
          "(102.0, 110.0), multiplicity: 2",
          "(68.0, 76.0)",
          "(59.0, 67.0)",
          "(78.0, 86.0)",
          "(102.0, 110.0), multiplicity: 2",
          "(104.0, 112.0)",
          "(97.0, 104.0)",
          "(96.0, 103.0)",
          "(105.0, 112.0)",
          "(115.0, 122.0)",
          "(103.0, 110.0)",
          "(63.0, 70.0)",
          "(79.0, 86.0)",
          "(105.0, 111.0)",
          "(122.0, 128.0)",
          "(104.0, 110.0)",
          "(87.0, 93.0)",
          "(81.0, 87.0)",
          "(120.0, 126.0)",
          "(56.0, 62.0)",
          "(109.0, 115.0)",
          "(67.0, 73.0)",
          "(48.0, 54.0)",
          "(97.0, 103.0)",
          "(159.0, 165.0)",
          "(124.0, 130.0)",
          "(115.0, 120.0), multiplicity: 2",
          "(107.0, 112.0)",
          "(134.0, 139.0)",
          "(115.0, 120.0), multiplicity: 2",
          "(89.0, 94.0)",
          "(33.0, 38.0)",
          "(51.0, 56.0), multiplicity: 2",
          "(51.0, 56.0), multiplicity: 2",
          "(164.0, 169.0)",
          "(127.0, 132.0)",
          "(104.0, 109.0)",
          "(131.0, 136.0)",
          "(66.0, 71.0)",
          "(105.0, 110.0)",
          "(104.0, 108.0), multiplicity: 3",
          "(114.0, 118.0), multiplicity: 2",
          "(30.0, 34.0)",
          "(104.0, 108.0), multiplicity: 3",
          "(116.0, 120.0)",
          "(104.0, 108.0), multiplicity: 3",
          "(74.0, 78.0)",
          "(102.0, 106.0)",
          "(115.0, 119.0)",
          "(56.0, 60.0)",
          "(73.0, 77.0)",
          "(112.0, 116.0), multiplicity: 2",
          "(112.0, 116.0), multiplicity: 2",
          "(114.0, 118.0), multiplicity: 2",
          "(128.0, 132.0)",
          "(124.0, 127.0), multiplicity: 3",
          "(102.0, 105.0), multiplicity: 3",
          "(102.0, 105.0), multiplicity: 3",
          "(59.0, 62.0)",
          "(66.0, 69.0)",
          "(102.0, 105.0), multiplicity: 3",
          "(149.0, 152.0)",
          "(109.0, 112.0)",
          "(124.0, 127.0), multiplicity: 3",
          "(104.0, 107.0)",
          "(118.0, 121.0)",
          "(124.0, 127.0), multiplicity: 3",
          "(47.0, 50.0)",
          "(128.0, 131.0)",
          "(127.0, 130.0)",
          "(69.0, 72.0)",
          "(119.0, 122.0)",
          "(74.0, 77.0)",
          "(121.0, 124.0)",
          "(158.0, 160.0)",
          "(41.0, 43.0)",
          "(58.0, 60.0)",
          "(133.0, 135.0)",
          "(61.0, 63.0)",
          "(129.0, 131.0), multiplicity: 2",
          "(129.0, 131.0), multiplicity: 2",
          "(69.0, 71.0)",
          "(127.0, 129.0)",
          "(70.0, 72.0)",
          "(77.0, 79.0)",
          "(122.0, 124.0)",
          "(79.0, 81.0)",
          "(80.0, 82.0)",
          "(90.0, 92.0), multiplicity: 2",
          "(170.0, 172.0)",
          "(90.0, 92.0), multiplicity: 2",
          "(101.0, 103.0)",
          "(117.0, 119.0)",
          "(107.0, 109.0)",
          "(178.0, 180.0)",
          "(109.0, 111.0), multiplicity: 2",
          "(109.0, 111.0), multiplicity: 2",
          "(112.0, 114.0), multiplicity: 2",
          "(112.0, 114.0), multiplicity: 2",
          "(115.0, 116.0)",
          "(113.0, 114.0)",
          "(116.0, 117.0), multiplicity: 4",
          "(111.0, 112.0)",
          "(116.0, 117.0), multiplicity: 4",
          "(116.0, 117.0), multiplicity: 4",
          "(110.0, 111.0)",
          "(116.0, 117.0), multiplicity: 4",
          "(109.0, 110.0), multiplicity: 2",
          "(109.0, 110.0), multiplicity: 2",
          "(117.0, 118.0)",
          "(107.0, 108.0)",
          "(105.0, 106.0)",
          "(104.0, 105.0)",
          "(121.0, 122.0), multiplicity: 2",
          "(100.0, 101.0)",
          "(99.0, 100.0)",
          "(97.0, 98.0)",
          "(96.0, 97.0)",
          "(121.0, 122.0), multiplicity: 2",
          "(122.0, 123.0)",
          "(89.0, 90.0)",
          "(88.0, 89.0)",
          "(83.0, 84.0)",
          "(170.0, 171.0)",
          "(123.0, 124.0), multiplicity: 2",
          "(123.0, 124.0), multiplicity: 2",
          "(78.0, 79.0)",
          "(76.0, 77.0)",
          "(126.0, 127.0)",
          "(129.0, 130.0)",
          "(69.0, 70.0)",
          "(67.0, 68.0)",
          "(66.0, 67.0)",
          "(132.0, 133.0)",
          "(61.0, 62.0)",
          "(139.0, 140.0), multiplicity: 2",
          "(54.0, 55.0)",
          "(51.0, 52.0)",
          "(46.0, 47.0)",
          "(139.0, 140.0), multiplicity: 2",
          "(28.0, 29.0)"
         ],
         "mode": "markers",
         "name": "H0",
         "type": "scatter",
         "x": [
          73,
          92,
          46,
          87,
          91,
          101,
          115,
          103,
          49,
          49,
          57,
          57,
          37,
          76,
          63,
          122,
          168,
          103,
          156,
          144,
          106,
          105,
          114,
          162,
          53,
          118,
          105,
          59,
          106,
          98,
          104,
          78,
          163,
          122,
          101,
          100,
          103,
          102,
          69,
          118,
          72,
          170,
          102,
          68,
          59,
          78,
          102,
          104,
          97,
          96,
          105,
          115,
          103,
          63,
          79,
          105,
          122,
          104,
          87,
          81,
          120,
          56,
          109,
          67,
          48,
          97,
          159,
          124,
          115,
          107,
          134,
          115,
          89,
          33,
          51,
          51,
          164,
          127,
          104,
          131,
          66,
          105,
          104,
          114,
          30,
          104,
          116,
          104,
          74,
          102,
          115,
          56,
          73,
          112,
          112,
          114,
          128,
          124,
          102,
          102,
          59,
          66,
          102,
          149,
          109,
          124,
          104,
          118,
          124,
          47,
          128,
          127,
          69,
          119,
          74,
          121,
          158,
          41,
          58,
          133,
          61,
          129,
          129,
          69,
          127,
          70,
          77,
          122,
          79,
          80,
          90,
          170,
          90,
          101,
          117,
          107,
          178,
          109,
          109,
          112,
          112,
          115,
          113,
          116,
          111,
          116,
          116,
          110,
          116,
          109,
          109,
          117,
          107,
          105,
          104,
          121,
          100,
          99,
          97,
          96,
          121,
          122,
          89,
          88,
          83,
          170,
          123,
          123,
          78,
          76,
          126,
          129,
          69,
          67,
          66,
          132,
          61,
          139,
          54,
          51,
          46,
          139,
          28
         ],
         "y": [
          128,
          140,
          91,
          122,
          125,
          132,
          145,
          133,
          77,
          77,
          82,
          80,
          57,
          93,
          80,
          137,
          183,
          118,
          170,
          158,
          119,
          118,
          127,
          174,
          65,
          129,
          116,
          70,
          117,
          109,
          115,
          88,
          173,
          132,
          110,
          109,
          112,
          111,
          78,
          127,
          81,
          179,
          110,
          76,
          67,
          86,
          110,
          112,
          104,
          103,
          112,
          122,
          110,
          70,
          86,
          111,
          128,
          110,
          93,
          87,
          126,
          62,
          115,
          73,
          54,
          103,
          165,
          130,
          120,
          112,
          139,
          120,
          94,
          38,
          56,
          56,
          169,
          132,
          109,
          136,
          71,
          110,
          108,
          118,
          34,
          108,
          120,
          108,
          78,
          106,
          119,
          60,
          77,
          116,
          116,
          118,
          132,
          127,
          105,
          105,
          62,
          69,
          105,
          152,
          112,
          127,
          107,
          121,
          127,
          50,
          131,
          130,
          72,
          122,
          77,
          124,
          160,
          43,
          60,
          135,
          63,
          131,
          131,
          71,
          129,
          72,
          79,
          124,
          81,
          82,
          92,
          172,
          92,
          103,
          119,
          109,
          180,
          111,
          111,
          114,
          114,
          116,
          114,
          117,
          112,
          117,
          117,
          111,
          117,
          110,
          110,
          118,
          108,
          106,
          105,
          122,
          101,
          100,
          98,
          97,
          122,
          123,
          90,
          89,
          84,
          171,
          124,
          124,
          79,
          77,
          127,
          130,
          70,
          68,
          67,
          133,
          62,
          140,
          55,
          52,
          47,
          140,
          29
         ]
        },
        {
         "hoverinfo": "text",
         "hovertext": [
          "(137.0, 210.0)",
          "(157.0, 230.0)",
          "(114.0, 171.0)",
          "(128.0, 184.0)",
          "(120.0, 173.0)",
          "(174.0, 224.0)",
          "(174.0, 223.0)",
          "(87.0, 129.0)",
          "(131.0, 172.0)",
          "(151.0, 190.0)",
          "(160.0, 199.0)",
          "(112.0, 149.0)",
          "(159.0, 194.0)",
          "(85.0, 118.0)",
          "(89.0, 122.0)",
          "(166.0, 198.0)",
          "(141.0, 173.0)",
          "(138.0, 169.0)",
          "(183.0, 214.0)",
          "(94.0, 124.0)",
          "(138.0, 168.0)",
          "(134.0, 164.0)",
          "(66.0, 96.0)",
          "(135.0, 164.0)",
          "(80.0, 109.0)",
          "(145.0, 173.0)",
          "(85.0, 113.0)",
          "(182.0, 210.0)",
          "(104.0, 130.0)",
          "(183.0, 209.0)",
          "(133.0, 158.0)",
          "(193.0, 218.0)",
          "(189.0, 214.0)",
          "(176.0, 200.0)",
          "(110.0, 133.0)",
          "(132.0, 155.0)",
          "(147.0, 169.0)",
          "(156.0, 178.0)",
          "(118.0, 140.0)",
          "(55.0, 76.0)",
          "(132.0, 153.0)",
          "(106.0, 127.0)",
          "(166.0, 186.0)",
          "(135.0, 153.0)",
          "(107.0, 125.0)",
          "(80.0, 98.0)",
          "(132.0, 150.0)",
          "(122.0, 139.0)",
          "(160.0, 177.0)",
          "(116.0, 133.0)",
          "(209.0, 225.0)",
          "(105.0, 121.0)",
          "(138.0, 154.0)",
          "(107.0, 122.0)",
          "(172.0, 187.0)",
          "(57.0, 72.0)",
          "(77.0, 92.0)",
          "(124.0, 138.0)",
          "(93.0, 107.0)",
          "(96.0, 109.0)",
          "(125.0, 138.0)",
          "(104.0, 117.0)",
          "(196.0, 209.0)",
          "(86.0, 99.0)",
          "(141.0, 153.0)",
          "(202.0, 214.0)",
          "(186.0, 198.0)",
          "(97.0, 108.0)",
          "(140.0, 151.0)",
          "(139.0, 150.0)",
          "(183.0, 193.0)",
          "(73.0, 83.0)",
          "(131.0, 141.0)",
          "(89.0, 98.0)",
          "(141.0, 150.0)",
          "(157.0, 166.0)",
          "(140.0, 149.0)",
          "(67.0, 76.0)",
          "(118.0, 127.0)",
          "(180.0, 188.0)",
          "(123.0, 131.0)",
          "(101.0, 109.0)",
          "(188.0, 196.0)",
          "(159.0, 166.0)",
          "(197.0, 204.0)",
          "(135.0, 142.0)",
          "(179.0, 186.0)",
          "(124.0, 131.0)",
          "(172.0, 179.0)",
          "(86.0, 93.0)",
          "(67.0, 74.0)",
          "(102.0, 108.0), multiplicity: 2",
          "(94.0, 100.0)",
          "(143.0, 149.0)",
          "(170.0, 176.0)",
          "(102.0, 108.0), multiplicity: 2",
          "(104.0, 110.0)",
          "(80.0, 86.0)",
          "(90.0, 96.0)",
          "(129.0, 135.0)",
          "(99.0, 105.0)",
          "(140.0, 146.0)",
          "(92.0, 97.0)",
          "(185.0, 190.0)",
          "(136.0, 141.0)",
          "(90.0, 95.0)",
          "(112.0, 117.0)",
          "(124.0, 129.0)",
          "(150.0, 155.0)",
          "(102.0, 107.0)",
          "(134.0, 139.0)",
          "(133.0, 138.0), multiplicity: 2",
          "(133.0, 138.0), multiplicity: 2",
          "(122.0, 127.0)",
          "(131.0, 136.0)",
          "(128.0, 133.0)",
          "(99.0, 104.0)",
          "(119.0, 124.0)",
          "(116.0, 121.0)",
          "(107.0, 112.0)",
          "(157.0, 161.0)",
          "(123.0, 127.0)",
          "(155.0, 159.0)",
          "(57.0, 61.0)",
          "(60.0, 64.0)",
          "(142.0, 146.0)",
          "(112.0, 116.0)",
          "(188.0, 192.0)",
          "(103.0, 107.0)",
          "(159.0, 163.0)",
          "(135.0, 139.0)",
          "(134.0, 138.0), multiplicity: 2",
          "(118.0, 122.0)",
          "(192.0, 196.0)",
          "(134.0, 138.0), multiplicity: 2",
          "(129.0, 133.0), multiplicity: 2",
          "(129.0, 133.0), multiplicity: 2",
          "(81.0, 85.0), multiplicity: 2",
          "(81.0, 85.0), multiplicity: 2",
          "(131.0, 135.0), multiplicity: 2",
          "(131.0, 135.0), multiplicity: 2",
          "(116.0, 119.0)",
          "(77.0, 80.0)",
          "(85.0, 88.0)",
          "(135.0, 138.0)",
          "(121.0, 124.0)",
          "(128.0, 131.0), multiplicity: 2",
          "(114.0, 117.0), multiplicity: 2",
          "(179.0, 182.0), multiplicity: 2",
          "(72.0, 75.0)",
          "(87.0, 90.0)",
          "(114.0, 117.0), multiplicity: 2",
          "(179.0, 182.0), multiplicity: 2",
          "(141.0, 144.0)",
          "(173.0, 176.0)",
          "(142.0, 145.0)",
          "(176.0, 179.0)",
          "(89.0, 92.0)",
          "(92.0, 95.0)",
          "(187.0, 190.0)",
          "(111.0, 114.0)",
          "(102.0, 105.0), multiplicity: 2",
          "(147.0, 150.0)",
          "(102.0, 105.0), multiplicity: 2",
          "(128.0, 131.0), multiplicity: 2",
          "(112.0, 114.0)",
          "(91.0, 93.0)",
          "(83.0, 85.0)",
          "(84.0, 86.0)",
          "(120.0, 122.0)",
          "(105.0, 107.0)",
          "(122.0, 124.0)",
          "(109.0, 111.0)",
          "(130.0, 132.0)",
          "(76.0, 78.0)",
          "(118.0, 120.0), multiplicity: 2",
          "(126.0, 128.0)",
          "(118.0, 120.0), multiplicity: 2",
          "(177.0, 179.0)",
          "(136.0, 138.0)",
          "(72.0, 74.0)",
          "(159.0, 161.0)",
          "(125.0, 127.0), multiplicity: 2",
          "(107.0, 109.0)",
          "(62.0, 64.0)",
          "(140.0, 142.0)",
          "(145.0, 147.0)",
          "(144.0, 146.0), multiplicity: 2",
          "(144.0, 146.0), multiplicity: 2",
          "(67.0, 69.0)",
          "(173.0, 175.0)",
          "(143.0, 145.0)",
          "(125.0, 127.0), multiplicity: 2",
          "(100.0, 102.0)",
          "(143.0, 144.0)",
          "(142.0, 143.0)",
          "(116.0, 117.0)",
          "(141.0, 142.0)",
          "(97.0, 98.0), multiplicity: 2",
          "(114.0, 115.0), multiplicity: 2",
          "(69.0, 70.0)",
          "(114.0, 115.0), multiplicity: 2",
          "(89.0, 90.0), multiplicity: 2",
          "(89.0, 90.0), multiplicity: 2",
          "(108.0, 109.0)",
          "(117.0, 118.0), multiplicity: 2",
          "(117.0, 118.0), multiplicity: 2",
          "(62.0, 63.0)",
          "(130.0, 131.0)",
          "(57.0, 58.0)",
          "(138.0, 139.0)",
          "(88.0, 89.0), multiplicity: 2",
          "(113.0, 114.0), multiplicity: 3",
          "(88.0, 89.0), multiplicity: 2",
          "(113.0, 114.0), multiplicity: 3",
          "(113.0, 114.0), multiplicity: 3",
          "(76.0, 77.0)",
          "(131.0, 132.0)",
          "(137.0, 138.0)",
          "(175.0, 176.0)",
          "(110.0, 111.0)",
          "(124.0, 125.0)",
          "(103.0, 104.0)",
          "(55.0, 56.0)",
          "(135.0, 136.0)",
          "(79.0, 80.0)",
          "(121.0, 122.0)",
          "(111.0, 112.0)",
          "(155.0, 156.0)",
          "(97.0, 98.0), multiplicity: 2",
          "(122.0, 123.0)",
          "(158.0, 159.0)",
          "(134.0, 135.0)",
          "(81.0, 82.0)",
          "(133.0, 134.0)"
         ],
         "mode": "markers",
         "name": "H1",
         "type": "scatter",
         "x": [
          137,
          157,
          114,
          128,
          120,
          174,
          174,
          87,
          131,
          151,
          160,
          112,
          159,
          85,
          89,
          166,
          141,
          138,
          183,
          94,
          138,
          134,
          66,
          135,
          80,
          145,
          85,
          182,
          104,
          183,
          133,
          193,
          189,
          176,
          110,
          132,
          147,
          156,
          118,
          55,
          132,
          106,
          166,
          135,
          107,
          80,
          132,
          122,
          160,
          116,
          209,
          105,
          138,
          107,
          172,
          57,
          77,
          124,
          93,
          96,
          125,
          104,
          196,
          86,
          141,
          202,
          186,
          97,
          140,
          139,
          183,
          73,
          131,
          89,
          141,
          157,
          140,
          67,
          118,
          180,
          123,
          101,
          188,
          159,
          197,
          135,
          179,
          124,
          172,
          86,
          67,
          102,
          94,
          143,
          170,
          102,
          104,
          80,
          90,
          129,
          99,
          140,
          92,
          185,
          136,
          90,
          112,
          124,
          150,
          102,
          134,
          133,
          133,
          122,
          131,
          128,
          99,
          119,
          116,
          107,
          157,
          123,
          155,
          57,
          60,
          142,
          112,
          188,
          103,
          159,
          135,
          134,
          118,
          192,
          134,
          129,
          129,
          81,
          81,
          131,
          131,
          116,
          77,
          85,
          135,
          121,
          128,
          114,
          179,
          72,
          87,
          114,
          179,
          141,
          173,
          142,
          176,
          89,
          92,
          187,
          111,
          102,
          147,
          102,
          128,
          112,
          91,
          83,
          84,
          120,
          105,
          122,
          109,
          130,
          76,
          118,
          126,
          118,
          177,
          136,
          72,
          159,
          125,
          107,
          62,
          140,
          145,
          144,
          144,
          67,
          173,
          143,
          125,
          100,
          143,
          142,
          116,
          141,
          97,
          114,
          69,
          114,
          89,
          89,
          108,
          117,
          117,
          62,
          130,
          57,
          138,
          88,
          113,
          88,
          113,
          113,
          76,
          131,
          137,
          175,
          110,
          124,
          103,
          55,
          135,
          79,
          121,
          111,
          155,
          97,
          122,
          158,
          134,
          81,
          133
         ],
         "y": [
          210,
          230,
          171,
          184,
          173,
          224,
          223,
          129,
          172,
          190,
          199,
          149,
          194,
          118,
          122,
          198,
          173,
          169,
          214,
          124,
          168,
          164,
          96,
          164,
          109,
          173,
          113,
          210,
          130,
          209,
          158,
          218,
          214,
          200,
          133,
          155,
          169,
          178,
          140,
          76,
          153,
          127,
          186,
          153,
          125,
          98,
          150,
          139,
          177,
          133,
          225,
          121,
          154,
          122,
          187,
          72,
          92,
          138,
          107,
          109,
          138,
          117,
          209,
          99,
          153,
          214,
          198,
          108,
          151,
          150,
          193,
          83,
          141,
          98,
          150,
          166,
          149,
          76,
          127,
          188,
          131,
          109,
          196,
          166,
          204,
          142,
          186,
          131,
          179,
          93,
          74,
          108,
          100,
          149,
          176,
          108,
          110,
          86,
          96,
          135,
          105,
          146,
          97,
          190,
          141,
          95,
          117,
          129,
          155,
          107,
          139,
          138,
          138,
          127,
          136,
          133,
          104,
          124,
          121,
          112,
          161,
          127,
          159,
          61,
          64,
          146,
          116,
          192,
          107,
          163,
          139,
          138,
          122,
          196,
          138,
          133,
          133,
          85,
          85,
          135,
          135,
          119,
          80,
          88,
          138,
          124,
          131,
          117,
          182,
          75,
          90,
          117,
          182,
          144,
          176,
          145,
          179,
          92,
          95,
          190,
          114,
          105,
          150,
          105,
          131,
          114,
          93,
          85,
          86,
          122,
          107,
          124,
          111,
          132,
          78,
          120,
          128,
          120,
          179,
          138,
          74,
          161,
          127,
          109,
          64,
          142,
          147,
          146,
          146,
          69,
          175,
          145,
          127,
          102,
          144,
          143,
          117,
          142,
          98,
          115,
          70,
          115,
          90,
          90,
          109,
          118,
          118,
          63,
          131,
          58,
          139,
          89,
          114,
          89,
          114,
          114,
          77,
          132,
          138,
          176,
          111,
          125,
          104,
          56,
          136,
          80,
          122,
          112,
          156,
          98,
          123,
          159,
          135,
          82,
          134
         ]
        }
       ],
       "layout": {
        "height": 500,
        "plot_bgcolor": "white",
        "template": {
         "data": {
          "bar": [
           {
            "error_x": {
             "color": "#2a3f5f"
            },
            "error_y": {
             "color": "#2a3f5f"
            },
            "marker": {
             "line": {
              "color": "#E5ECF6",
              "width": 0.5
             },
             "pattern": {
              "fillmode": "overlay",
              "size": 10,
              "solidity": 0.2
             }
            },
            "type": "bar"
           }
          ],
          "barpolar": [
           {
            "marker": {
             "line": {
              "color": "#E5ECF6",
              "width": 0.5
             },
             "pattern": {
              "fillmode": "overlay",
              "size": 10,
              "solidity": 0.2
             }
            },
            "type": "barpolar"
           }
          ],
          "carpet": [
           {
            "aaxis": {
             "endlinecolor": "#2a3f5f",
             "gridcolor": "white",
             "linecolor": "white",
             "minorgridcolor": "white",
             "startlinecolor": "#2a3f5f"
            },
            "baxis": {
             "endlinecolor": "#2a3f5f",
             "gridcolor": "white",
             "linecolor": "white",
             "minorgridcolor": "white",
             "startlinecolor": "#2a3f5f"
            },
            "type": "carpet"
           }
          ],
          "choropleth": [
           {
            "colorbar": {
             "outlinewidth": 0,
             "ticks": ""
            },
            "type": "choropleth"
           }
          ],
          "contour": [
           {
            "colorbar": {
             "outlinewidth": 0,
             "ticks": ""
            },
            "colorscale": [
             [
              0,
              "#0d0887"
             ],
             [
              0.1111111111111111,
              "#46039f"
             ],
             [
              0.2222222222222222,
              "#7201a8"
             ],
             [
              0.3333333333333333,
              "#9c179e"
             ],
             [
              0.4444444444444444,
              "#bd3786"
             ],
             [
              0.5555555555555556,
              "#d8576b"
             ],
             [
              0.6666666666666666,
              "#ed7953"
             ],
             [
              0.7777777777777778,
              "#fb9f3a"
             ],
             [
              0.8888888888888888,
              "#fdca26"
             ],
             [
              1,
              "#f0f921"
             ]
            ],
            "type": "contour"
           }
          ],
          "contourcarpet": [
           {
            "colorbar": {
             "outlinewidth": 0,
             "ticks": ""
            },
            "type": "contourcarpet"
           }
          ],
          "heatmap": [
           {
            "colorbar": {
             "outlinewidth": 0,
             "ticks": ""
            },
            "colorscale": [
             [
              0,
              "#0d0887"
             ],
             [
              0.1111111111111111,
              "#46039f"
             ],
             [
              0.2222222222222222,
              "#7201a8"
             ],
             [
              0.3333333333333333,
              "#9c179e"
             ],
             [
              0.4444444444444444,
              "#bd3786"
             ],
             [
              0.5555555555555556,
              "#d8576b"
             ],
             [
              0.6666666666666666,
              "#ed7953"
             ],
             [
              0.7777777777777778,
              "#fb9f3a"
             ],
             [
              0.8888888888888888,
              "#fdca26"
             ],
             [
              1,
              "#f0f921"
             ]
            ],
            "type": "heatmap"
           }
          ],
          "heatmapgl": [
           {
            "colorbar": {
             "outlinewidth": 0,
             "ticks": ""
            },
            "colorscale": [
             [
              0,
              "#0d0887"
             ],
             [
              0.1111111111111111,
              "#46039f"
             ],
             [
              0.2222222222222222,
              "#7201a8"
             ],
             [
              0.3333333333333333,
              "#9c179e"
             ],
             [
              0.4444444444444444,
              "#bd3786"
             ],
             [
              0.5555555555555556,
              "#d8576b"
             ],
             [
              0.6666666666666666,
              "#ed7953"
             ],
             [
              0.7777777777777778,
              "#fb9f3a"
             ],
             [
              0.8888888888888888,
              "#fdca26"
             ],
             [
              1,
              "#f0f921"
             ]
            ],
            "type": "heatmapgl"
           }
          ],
          "histogram": [
           {
            "marker": {
             "pattern": {
              "fillmode": "overlay",
              "size": 10,
              "solidity": 0.2
             }
            },
            "type": "histogram"
           }
          ],
          "histogram2d": [
           {
            "colorbar": {
             "outlinewidth": 0,
             "ticks": ""
            },
            "colorscale": [
             [
              0,
              "#0d0887"
             ],
             [
              0.1111111111111111,
              "#46039f"
             ],
             [
              0.2222222222222222,
              "#7201a8"
             ],
             [
              0.3333333333333333,
              "#9c179e"
             ],
             [
              0.4444444444444444,
              "#bd3786"
             ],
             [
              0.5555555555555556,
              "#d8576b"
             ],
             [
              0.6666666666666666,
              "#ed7953"
             ],
             [
              0.7777777777777778,
              "#fb9f3a"
             ],
             [
              0.8888888888888888,
              "#fdca26"
             ],
             [
              1,
              "#f0f921"
             ]
            ],
            "type": "histogram2d"
           }
          ],
          "histogram2dcontour": [
           {
            "colorbar": {
             "outlinewidth": 0,
             "ticks": ""
            },
            "colorscale": [
             [
              0,
              "#0d0887"
             ],
             [
              0.1111111111111111,
              "#46039f"
             ],
             [
              0.2222222222222222,
              "#7201a8"
             ],
             [
              0.3333333333333333,
              "#9c179e"
             ],
             [
              0.4444444444444444,
              "#bd3786"
             ],
             [
              0.5555555555555556,
              "#d8576b"
             ],
             [
              0.6666666666666666,
              "#ed7953"
             ],
             [
              0.7777777777777778,
              "#fb9f3a"
             ],
             [
              0.8888888888888888,
              "#fdca26"
             ],
             [
              1,
              "#f0f921"
             ]
            ],
            "type": "histogram2dcontour"
           }
          ],
          "mesh3d": [
           {
            "colorbar": {
             "outlinewidth": 0,
             "ticks": ""
            },
            "type": "mesh3d"
           }
          ],
          "parcoords": [
           {
            "line": {
             "colorbar": {
              "outlinewidth": 0,
              "ticks": ""
             }
            },
            "type": "parcoords"
           }
          ],
          "pie": [
           {
            "automargin": true,
            "type": "pie"
           }
          ],
          "scatter": [
           {
            "fillpattern": {
             "fillmode": "overlay",
             "size": 10,
             "solidity": 0.2
            },
            "type": "scatter"
           }
          ],
          "scatter3d": [
           {
            "line": {
             "colorbar": {
              "outlinewidth": 0,
              "ticks": ""
             }
            },
            "marker": {
             "colorbar": {
              "outlinewidth": 0,
              "ticks": ""
             }
            },
            "type": "scatter3d"
           }
          ],
          "scattercarpet": [
           {
            "marker": {
             "colorbar": {
              "outlinewidth": 0,
              "ticks": ""
             }
            },
            "type": "scattercarpet"
           }
          ],
          "scattergeo": [
           {
            "marker": {
             "colorbar": {
              "outlinewidth": 0,
              "ticks": ""
             }
            },
            "type": "scattergeo"
           }
          ],
          "scattergl": [
           {
            "marker": {
             "colorbar": {
              "outlinewidth": 0,
              "ticks": ""
             }
            },
            "type": "scattergl"
           }
          ],
          "scattermapbox": [
           {
            "marker": {
             "colorbar": {
              "outlinewidth": 0,
              "ticks": ""
             }
            },
            "type": "scattermapbox"
           }
          ],
          "scatterpolar": [
           {
            "marker": {
             "colorbar": {
              "outlinewidth": 0,
              "ticks": ""
             }
            },
            "type": "scatterpolar"
           }
          ],
          "scatterpolargl": [
           {
            "marker": {
             "colorbar": {
              "outlinewidth": 0,
              "ticks": ""
             }
            },
            "type": "scatterpolargl"
           }
          ],
          "scatterternary": [
           {
            "marker": {
             "colorbar": {
              "outlinewidth": 0,
              "ticks": ""
             }
            },
            "type": "scatterternary"
           }
          ],
          "surface": [
           {
            "colorbar": {
             "outlinewidth": 0,
             "ticks": ""
            },
            "colorscale": [
             [
              0,
              "#0d0887"
             ],
             [
              0.1111111111111111,
              "#46039f"
             ],
             [
              0.2222222222222222,
              "#7201a8"
             ],
             [
              0.3333333333333333,
              "#9c179e"
             ],
             [
              0.4444444444444444,
              "#bd3786"
             ],
             [
              0.5555555555555556,
              "#d8576b"
             ],
             [
              0.6666666666666666,
              "#ed7953"
             ],
             [
              0.7777777777777778,
              "#fb9f3a"
             ],
             [
              0.8888888888888888,
              "#fdca26"
             ],
             [
              1,
              "#f0f921"
             ]
            ],
            "type": "surface"
           }
          ],
          "table": [
           {
            "cells": {
             "fill": {
              "color": "#EBF0F8"
             },
             "line": {
              "color": "white"
             }
            },
            "header": {
             "fill": {
              "color": "#C8D4E3"
             },
             "line": {
              "color": "white"
             }
            },
            "type": "table"
           }
          ]
         },
         "layout": {
          "annotationdefaults": {
           "arrowcolor": "#2a3f5f",
           "arrowhead": 0,
           "arrowwidth": 1
          },
          "autotypenumbers": "strict",
          "coloraxis": {
           "colorbar": {
            "outlinewidth": 0,
            "ticks": ""
           }
          },
          "colorscale": {
           "diverging": [
            [
             0,
             "#8e0152"
            ],
            [
             0.1,
             "#c51b7d"
            ],
            [
             0.2,
             "#de77ae"
            ],
            [
             0.3,
             "#f1b6da"
            ],
            [
             0.4,
             "#fde0ef"
            ],
            [
             0.5,
             "#f7f7f7"
            ],
            [
             0.6,
             "#e6f5d0"
            ],
            [
             0.7,
             "#b8e186"
            ],
            [
             0.8,
             "#7fbc41"
            ],
            [
             0.9,
             "#4d9221"
            ],
            [
             1,
             "#276419"
            ]
           ],
           "sequential": [
            [
             0,
             "#0d0887"
            ],
            [
             0.1111111111111111,
             "#46039f"
            ],
            [
             0.2222222222222222,
             "#7201a8"
            ],
            [
             0.3333333333333333,
             "#9c179e"
            ],
            [
             0.4444444444444444,
             "#bd3786"
            ],
            [
             0.5555555555555556,
             "#d8576b"
            ],
            [
             0.6666666666666666,
             "#ed7953"
            ],
            [
             0.7777777777777778,
             "#fb9f3a"
            ],
            [
             0.8888888888888888,
             "#fdca26"
            ],
            [
             1,
             "#f0f921"
            ]
           ],
           "sequentialminus": [
            [
             0,
             "#0d0887"
            ],
            [
             0.1111111111111111,
             "#46039f"
            ],
            [
             0.2222222222222222,
             "#7201a8"
            ],
            [
             0.3333333333333333,
             "#9c179e"
            ],
            [
             0.4444444444444444,
             "#bd3786"
            ],
            [
             0.5555555555555556,
             "#d8576b"
            ],
            [
             0.6666666666666666,
             "#ed7953"
            ],
            [
             0.7777777777777778,
             "#fb9f3a"
            ],
            [
             0.8888888888888888,
             "#fdca26"
            ],
            [
             1,
             "#f0f921"
            ]
           ]
          },
          "colorway": [
           "#636efa",
           "#EF553B",
           "#00cc96",
           "#ab63fa",
           "#FFA15A",
           "#19d3f3",
           "#FF6692",
           "#B6E880",
           "#FF97FF",
           "#FECB52"
          ],
          "font": {
           "color": "#2a3f5f"
          },
          "geo": {
           "bgcolor": "white",
           "lakecolor": "white",
           "landcolor": "#E5ECF6",
           "showlakes": true,
           "showland": true,
           "subunitcolor": "white"
          },
          "hoverlabel": {
           "align": "left"
          },
          "hovermode": "closest",
          "mapbox": {
           "style": "light"
          },
          "paper_bgcolor": "white",
          "plot_bgcolor": "#E5ECF6",
          "polar": {
           "angularaxis": {
            "gridcolor": "white",
            "linecolor": "white",
            "ticks": ""
           },
           "bgcolor": "#E5ECF6",
           "radialaxis": {
            "gridcolor": "white",
            "linecolor": "white",
            "ticks": ""
           }
          },
          "scene": {
           "xaxis": {
            "backgroundcolor": "#E5ECF6",
            "gridcolor": "white",
            "gridwidth": 2,
            "linecolor": "white",
            "showbackground": true,
            "ticks": "",
            "zerolinecolor": "white"
           },
           "yaxis": {
            "backgroundcolor": "#E5ECF6",
            "gridcolor": "white",
            "gridwidth": 2,
            "linecolor": "white",
            "showbackground": true,
            "ticks": "",
            "zerolinecolor": "white"
           },
           "zaxis": {
            "backgroundcolor": "#E5ECF6",
            "gridcolor": "white",
            "gridwidth": 2,
            "linecolor": "white",
            "showbackground": true,
            "ticks": "",
            "zerolinecolor": "white"
           }
          },
          "shapedefaults": {
           "line": {
            "color": "#2a3f5f"
           }
          },
          "ternary": {
           "aaxis": {
            "gridcolor": "white",
            "linecolor": "white",
            "ticks": ""
           },
           "baxis": {
            "gridcolor": "white",
            "linecolor": "white",
            "ticks": ""
           },
           "bgcolor": "#E5ECF6",
           "caxis": {
            "gridcolor": "white",
            "linecolor": "white",
            "ticks": ""
           }
          },
          "title": {
           "x": 0.05
          },
          "xaxis": {
           "automargin": true,
           "gridcolor": "white",
           "linecolor": "white",
           "ticks": "",
           "title": {
            "standoff": 15
           },
           "zerolinecolor": "white",
           "zerolinewidth": 2
          },
          "yaxis": {
           "automargin": true,
           "gridcolor": "white",
           "linecolor": "white",
           "ticks": "",
           "title": {
            "standoff": 15
           },
           "zerolinecolor": "white",
           "zerolinewidth": 2
          }
         }
        },
        "width": 500,
        "xaxis": {
         "autorange": false,
         "domain": [
          0,
          1
         ],
         "exponentformat": "e",
         "linecolor": "black",
         "linewidth": 1,
         "mirror": false,
         "range": [
          17.723249999999993,
          240.27675
         ],
         "showexponent": "all",
         "showline": true,
         "side": "bottom",
         "ticks": "outside",
         "title": {
          "text": "Birth"
         },
         "type": "linear",
         "zeroline": true
        },
        "yaxis": {
         "autorange": false,
         "domain": [
          0,
          1
         ],
         "exponentformat": "e",
         "linecolor": "black",
         "linewidth": 1,
         "mirror": false,
         "range": [
          23.96,
          234.04
         ],
         "scaleanchor": "x",
         "scaleratio": 1,
         "showexponent": "all",
         "showline": true,
         "side": "left",
         "ticks": "outside",
         "title": {
          "text": "Death"
         },
         "type": "linear",
         "zeroline": true
        }
       }
      },
      "image/png": "[encoded data removed]",
      "text/html": [
       "<div>                            <div id=\"03522c73-4788-4222-90bd-766653c533d7\" class=\"plotly-graph-div\" style=\"height:500px; width:500px;\"></div>            <script type=\"text/javascript\">                require([\"plotly\"], function(Plotly) {                    window.PLOTLYENV=window.PLOTLYENV || {};                                    if (document.getElementById(\"03522c73-4788-4222-90bd-766653c533d7\")) {                    Plotly.newPlot(                        \"03522c73-4788-4222-90bd-766653c533d7\",                        [{\"hoverinfo\":\"none\",\"line\":{\"color\":\"black\",\"dash\":\"dash\",\"width\":1},\"mode\":\"lines\",\"showlegend\":false,\"x\":[23.96,234.04],\"y\":[23.96,234.04],\"type\":\"scatter\"},{\"hoverinfo\":\"text\",\"hovertext\":[\"(73.0, 128.0)\",\"(92.0, 140.0)\",\"(46.0, 91.0)\",\"(87.0, 122.0)\",\"(91.0, 125.0)\",\"(101.0, 132.0)\",\"(115.0, 145.0)\",\"(103.0, 133.0)\",\"(49.0, 77.0), multiplicity: 2\",\"(49.0, 77.0), multiplicity: 2\",\"(57.0, 82.0)\",\"(57.0, 80.0)\",\"(37.0, 57.0)\",\"(76.0, 93.0)\",\"(63.0, 80.0)\",\"(122.0, 137.0)\",\"(168.0, 183.0)\",\"(103.0, 118.0)\",\"(156.0, 170.0)\",\"(144.0, 158.0)\",\"(106.0, 119.0)\",\"(105.0, 118.0)\",\"(114.0, 127.0)\",\"(162.0, 174.0)\",\"(53.0, 65.0)\",\"(118.0, 129.0)\",\"(105.0, 116.0)\",\"(59.0, 70.0)\",\"(106.0, 117.0)\",\"(98.0, 109.0)\",\"(104.0, 115.0)\",\"(78.0, 88.0)\",\"(163.0, 173.0)\",\"(122.0, 132.0)\",\"(101.0, 110.0)\",\"(100.0, 109.0)\",\"(103.0, 112.0)\",\"(102.0, 111.0)\",\"(69.0, 78.0)\",\"(118.0, 127.0)\",\"(72.0, 81.0)\",\"(170.0, 179.0)\",\"(102.0, 110.0), multiplicity: 2\",\"(68.0, 76.0)\",\"(59.0, 67.0)\",\"(78.0, 86.0)\",\"(102.0, 110.0), multiplicity: 2\",\"(104.0, 112.0)\",\"(97.0, 104.0)\",\"(96.0, 103.0)\",\"(105.0, 112.0)\",\"(115.0, 122.0)\",\"(103.0, 110.0)\",\"(63.0, 70.0)\",\"(79.0, 86.0)\",\"(105.0, 111.0)\",\"(122.0, 128.0)\",\"(104.0, 110.0)\",\"(87.0, 93.0)\",\"(81.0, 87.0)\",\"(120.0, 126.0)\",\"(56.0, 62.0)\",\"(109.0, 115.0)\",\"(67.0, 73.0)\",\"(48.0, 54.0)\",\"(97.0, 103.0)\",\"(159.0, 165.0)\",\"(124.0, 130.0)\",\"(115.0, 120.0), multiplicity: 2\",\"(107.0, 112.0)\",\"(134.0, 139.0)\",\"(115.0, 120.0), multiplicity: 2\",\"(89.0, 94.0)\",\"(33.0, 38.0)\",\"(51.0, 56.0), multiplicity: 2\",\"(51.0, 56.0), multiplicity: 2\",\"(164.0, 169.0)\",\"(127.0, 132.0)\",\"(104.0, 109.0)\",\"(131.0, 136.0)\",\"(66.0, 71.0)\",\"(105.0, 110.0)\",\"(104.0, 108.0), multiplicity: 3\",\"(114.0, 118.0), multiplicity: 2\",\"(30.0, 34.0)\",\"(104.0, 108.0), multiplicity: 3\",\"(116.0, 120.0)\",\"(104.0, 108.0), multiplicity: 3\",\"(74.0, 78.0)\",\"(102.0, 106.0)\",\"(115.0, 119.0)\",\"(56.0, 60.0)\",\"(73.0, 77.0)\",\"(112.0, 116.0), multiplicity: 2\",\"(112.0, 116.0), multiplicity: 2\",\"(114.0, 118.0), multiplicity: 2\",\"(128.0, 132.0)\",\"(124.0, 127.0), multiplicity: 3\",\"(102.0, 105.0), multiplicity: 3\",\"(102.0, 105.0), multiplicity: 3\",\"(59.0, 62.0)\",\"(66.0, 69.0)\",\"(102.0, 105.0), multiplicity: 3\",\"(149.0, 152.0)\",\"(109.0, 112.0)\",\"(124.0, 127.0), multiplicity: 3\",\"(104.0, 107.0)\",\"(118.0, 121.0)\",\"(124.0, 127.0), multiplicity: 3\",\"(47.0, 50.0)\",\"(128.0, 131.0)\",\"(127.0, 130.0)\",\"(69.0, 72.0)\",\"(119.0, 122.0)\",\"(74.0, 77.0)\",\"(121.0, 124.0)\",\"(158.0, 160.0)\",\"(41.0, 43.0)\",\"(58.0, 60.0)\",\"(133.0, 135.0)\",\"(61.0, 63.0)\",\"(129.0, 131.0), multiplicity: 2\",\"(129.0, 131.0), multiplicity: 2\",\"(69.0, 71.0)\",\"(127.0, 129.0)\",\"(70.0, 72.0)\",\"(77.0, 79.0)\",\"(122.0, 124.0)\",\"(79.0, 81.0)\",\"(80.0, 82.0)\",\"(90.0, 92.0), multiplicity: 2\",\"(170.0, 172.0)\",\"(90.0, 92.0), multiplicity: 2\",\"(101.0, 103.0)\",\"(117.0, 119.0)\",\"(107.0, 109.0)\",\"(178.0, 180.0)\",\"(109.0, 111.0), multiplicity: 2\",\"(109.0, 111.0), multiplicity: 2\",\"(112.0, 114.0), multiplicity: 2\",\"(112.0, 114.0), multiplicity: 2\",\"(115.0, 116.0)\",\"(113.0, 114.0)\",\"(116.0, 117.0), multiplicity: 4\",\"(111.0, 112.0)\",\"(116.0, 117.0), multiplicity: 4\",\"(116.0, 117.0), multiplicity: 4\",\"(110.0, 111.0)\",\"(116.0, 117.0), multiplicity: 4\",\"(109.0, 110.0), multiplicity: 2\",\"(109.0, 110.0), multiplicity: 2\",\"(117.0, 118.0)\",\"(107.0, 108.0)\",\"(105.0, 106.0)\",\"(104.0, 105.0)\",\"(121.0, 122.0), multiplicity: 2\",\"(100.0, 101.0)\",\"(99.0, 100.0)\",\"(97.0, 98.0)\",\"(96.0, 97.0)\",\"(121.0, 122.0), multiplicity: 2\",\"(122.0, 123.0)\",\"(89.0, 90.0)\",\"(88.0, 89.0)\",\"(83.0, 84.0)\",\"(170.0, 171.0)\",\"(123.0, 124.0), multiplicity: 2\",\"(123.0, 124.0), multiplicity: 2\",\"(78.0, 79.0)\",\"(76.0, 77.0)\",\"(126.0, 127.0)\",\"(129.0, 130.0)\",\"(69.0, 70.0)\",\"(67.0, 68.0)\",\"(66.0, 67.0)\",\"(132.0, 133.0)\",\"(61.0, 62.0)\",\"(139.0, 140.0), multiplicity: 2\",\"(54.0, 55.0)\",\"(51.0, 52.0)\",\"(46.0, 47.0)\",\"(139.0, 140.0), multiplicity: 2\",\"(28.0, 29.0)\"],\"mode\":\"markers\",\"name\":\"H0\",\"x\":[73.0,92.0,46.0,87.0,91.0,101.0,115.0,103.0,49.0,49.0,57.0,57.0,37.0,76.0,63.0,122.0,168.0,103.0,156.0,144.0,106.0,105.0,114.0,162.0,53.0,118.0,105.0,59.0,106.0,98.0,104.0,78.0,163.0,122.0,101.0,100.0,103.0,102.0,69.0,118.0,72.0,170.0,102.0,68.0,59.0,78.0,102.0,104.0,97.0,96.0,105.0,115.0,103.0,63.0,79.0,105.0,122.0,104.0,87.0,81.0,120.0,56.0,109.0,67.0,48.0,97.0,159.0,124.0,115.0,107.0,134.0,115.0,89.0,33.0,51.0,51.0,164.0,127.0,104.0,131.0,66.0,105.0,104.0,114.0,30.0,104.0,116.0,104.0,74.0,102.0,115.0,56.0,73.0,112.0,112.0,114.0,128.0,124.0,102.0,102.0,59.0,66.0,102.0,149.0,109.0,124.0,104.0,118.0,124.0,47.0,128.0,127.0,69.0,119.0,74.0,121.0,158.0,41.0,58.0,133.0,61.0,129.0,129.0,69.0,127.0,70.0,77.0,122.0,79.0,80.0,90.0,170.0,90.0,101.0,117.0,107.0,178.0,109.0,109.0,112.0,112.0,115.0,113.0,116.0,111.0,116.0,116.0,110.0,116.0,109.0,109.0,117.0,107.0,105.0,104.0,121.0,100.0,99.0,97.0,96.0,121.0,122.0,89.0,88.0,83.0,170.0,123.0,123.0,78.0,76.0,126.0,129.0,69.0,67.0,66.0,132.0,61.0,139.0,54.0,51.0,46.0,139.0,28.0],\"y\":[128.0,140.0,91.0,122.0,125.0,132.0,145.0,133.0,77.0,77.0,82.0,80.0,57.0,93.0,80.0,137.0,183.0,118.0,170.0,158.0,119.0,118.0,127.0,174.0,65.0,129.0,116.0,70.0,117.0,109.0,115.0,88.0,173.0,132.0,110.0,109.0,112.0,111.0,78.0,127.0,81.0,179.0,110.0,76.0,67.0,86.0,110.0,112.0,104.0,103.0,112.0,122.0,110.0,70.0,86.0,111.0,128.0,110.0,93.0,87.0,126.0,62.0,115.0,73.0,54.0,103.0,165.0,130.0,120.0,112.0,139.0,120.0,94.0,38.0,56.0,56.0,169.0,132.0,109.0,136.0,71.0,110.0,108.0,118.0,34.0,108.0,120.0,108.0,78.0,106.0,119.0,60.0,77.0,116.0,116.0,118.0,132.0,127.0,105.0,105.0,62.0,69.0,105.0,152.0,112.0,127.0,107.0,121.0,127.0,50.0,131.0,130.0,72.0,122.0,77.0,124.0,160.0,43.0,60.0,135.0,63.0,131.0,131.0,71.0,129.0,72.0,79.0,124.0,81.0,82.0,92.0,172.0,92.0,103.0,119.0,109.0,180.0,111.0,111.0,114.0,114.0,116.0,114.0,117.0,112.0,117.0,117.0,111.0,117.0,110.0,110.0,118.0,108.0,106.0,105.0,122.0,101.0,100.0,98.0,97.0,122.0,123.0,90.0,89.0,84.0,171.0,124.0,124.0,79.0,77.0,127.0,130.0,70.0,68.0,67.0,133.0,62.0,140.0,55.0,52.0,47.0,140.0,29.0],\"type\":\"scatter\"},{\"hoverinfo\":\"text\",\"hovertext\":[\"(137.0, 210.0)\",\"(157.0, 230.0)\",\"(114.0, 171.0)\",\"(128.0, 184.0)\",\"(120.0, 173.0)\",\"(174.0, 224.0)\",\"(174.0, 223.0)\",\"(87.0, 129.0)\",\"(131.0, 172.0)\",\"(151.0, 190.0)\",\"(160.0, 199.0)\",\"(112.0, 149.0)\",\"(159.0, 194.0)\",\"(85.0, 118.0)\",\"(89.0, 122.0)\",\"(166.0, 198.0)\",\"(141.0, 173.0)\",\"(138.0, 169.0)\",\"(183.0, 214.0)\",\"(94.0, 124.0)\",\"(138.0, 168.0)\",\"(134.0, 164.0)\",\"(66.0, 96.0)\",\"(135.0, 164.0)\",\"(80.0, 109.0)\",\"(145.0, 173.0)\",\"(85.0, 113.0)\",\"(182.0, 210.0)\",\"(104.0, 130.0)\",\"(183.0, 209.0)\",\"(133.0, 158.0)\",\"(193.0, 218.0)\",\"(189.0, 214.0)\",\"(176.0, 200.0)\",\"(110.0, 133.0)\",\"(132.0, 155.0)\",\"(147.0, 169.0)\",\"(156.0, 178.0)\",\"(118.0, 140.0)\",\"(55.0, 76.0)\",\"(132.0, 153.0)\",\"(106.0, 127.0)\",\"(166.0, 186.0)\",\"(135.0, 153.0)\",\"(107.0, 125.0)\",\"(80.0, 98.0)\",\"(132.0, 150.0)\",\"(122.0, 139.0)\",\"(160.0, 177.0)\",\"(116.0, 133.0)\",\"(209.0, 225.0)\",\"(105.0, 121.0)\",\"(138.0, 154.0)\",\"(107.0, 122.0)\",\"(172.0, 187.0)\",\"(57.0, 72.0)\",\"(77.0, 92.0)\",\"(124.0, 138.0)\",\"(93.0, 107.0)\",\"(96.0, 109.0)\",\"(125.0, 138.0)\",\"(104.0, 117.0)\",\"(196.0, 209.0)\",\"(86.0, 99.0)\",\"(141.0, 153.0)\",\"(202.0, 214.0)\",\"(186.0, 198.0)\",\"(97.0, 108.0)\",\"(140.0, 151.0)\",\"(139.0, 150.0)\",\"(183.0, 193.0)\",\"(73.0, 83.0)\",\"(131.0, 141.0)\",\"(89.0, 98.0)\",\"(141.0, 150.0)\",\"(157.0, 166.0)\",\"(140.0, 149.0)\",\"(67.0, 76.0)\",\"(118.0, 127.0)\",\"(180.0, 188.0)\",\"(123.0, 131.0)\",\"(101.0, 109.0)\",\"(188.0, 196.0)\",\"(159.0, 166.0)\",\"(197.0, 204.0)\",\"(135.0, 142.0)\",\"(179.0, 186.0)\",\"(124.0, 131.0)\",\"(172.0, 179.0)\",\"(86.0, 93.0)\",\"(67.0, 74.0)\",\"(102.0, 108.0), multiplicity: 2\",\"(94.0, 100.0)\",\"(143.0, 149.0)\",\"(170.0, 176.0)\",\"(102.0, 108.0), multiplicity: 2\",\"(104.0, 110.0)\",\"(80.0, 86.0)\",\"(90.0, 96.0)\",\"(129.0, 135.0)\",\"(99.0, 105.0)\",\"(140.0, 146.0)\",\"(92.0, 97.0)\",\"(185.0, 190.0)\",\"(136.0, 141.0)\",\"(90.0, 95.0)\",\"(112.0, 117.0)\",\"(124.0, 129.0)\",\"(150.0, 155.0)\",\"(102.0, 107.0)\",\"(134.0, 139.0)\",\"(133.0, 138.0), multiplicity: 2\",\"(133.0, 138.0), multiplicity: 2\",\"(122.0, 127.0)\",\"(131.0, 136.0)\",\"(128.0, 133.0)\",\"(99.0, 104.0)\",\"(119.0, 124.0)\",\"(116.0, 121.0)\",\"(107.0, 112.0)\",\"(157.0, 161.0)\",\"(123.0, 127.0)\",\"(155.0, 159.0)\",\"(57.0, 61.0)\",\"(60.0, 64.0)\",\"(142.0, 146.0)\",\"(112.0, 116.0)\",\"(188.0, 192.0)\",\"(103.0, 107.0)\",\"(159.0, 163.0)\",\"(135.0, 139.0)\",\"(134.0, 138.0), multiplicity: 2\",\"(118.0, 122.0)\",\"(192.0, 196.0)\",\"(134.0, 138.0), multiplicity: 2\",\"(129.0, 133.0), multiplicity: 2\",\"(129.0, 133.0), multiplicity: 2\",\"(81.0, 85.0), multiplicity: 2\",\"(81.0, 85.0), multiplicity: 2\",\"(131.0, 135.0), multiplicity: 2\",\"(131.0, 135.0), multiplicity: 2\",\"(116.0, 119.0)\",\"(77.0, 80.0)\",\"(85.0, 88.0)\",\"(135.0, 138.0)\",\"(121.0, 124.0)\",\"(128.0, 131.0), multiplicity: 2\",\"(114.0, 117.0), multiplicity: 2\",\"(179.0, 182.0), multiplicity: 2\",\"(72.0, 75.0)\",\"(87.0, 90.0)\",\"(114.0, 117.0), multiplicity: 2\",\"(179.0, 182.0), multiplicity: 2\",\"(141.0, 144.0)\",\"(173.0, 176.0)\",\"(142.0, 145.0)\",\"(176.0, 179.0)\",\"(89.0, 92.0)\",\"(92.0, 95.0)\",\"(187.0, 190.0)\",\"(111.0, 114.0)\",\"(102.0, 105.0), multiplicity: 2\",\"(147.0, 150.0)\",\"(102.0, 105.0), multiplicity: 2\",\"(128.0, 131.0), multiplicity: 2\",\"(112.0, 114.0)\",\"(91.0, 93.0)\",\"(83.0, 85.0)\",\"(84.0, 86.0)\",\"(120.0, 122.0)\",\"(105.0, 107.0)\",\"(122.0, 124.0)\",\"(109.0, 111.0)\",\"(130.0, 132.0)\",\"(76.0, 78.0)\",\"(118.0, 120.0), multiplicity: 2\",\"(126.0, 128.0)\",\"(118.0, 120.0), multiplicity: 2\",\"(177.0, 179.0)\",\"(136.0, 138.0)\",\"(72.0, 74.0)\",\"(159.0, 161.0)\",\"(125.0, 127.0), multiplicity: 2\",\"(107.0, 109.0)\",\"(62.0, 64.0)\",\"(140.0, 142.0)\",\"(145.0, 147.0)\",\"(144.0, 146.0), multiplicity: 2\",\"(144.0, 146.0), multiplicity: 2\",\"(67.0, 69.0)\",\"(173.0, 175.0)\",\"(143.0, 145.0)\",\"(125.0, 127.0), multiplicity: 2\",\"(100.0, 102.0)\",\"(143.0, 144.0)\",\"(142.0, 143.0)\",\"(116.0, 117.0)\",\"(141.0, 142.0)\",\"(97.0, 98.0), multiplicity: 2\",\"(114.0, 115.0), multiplicity: 2\",\"(69.0, 70.0)\",\"(114.0, 115.0), multiplicity: 2\",\"(89.0, 90.0), multiplicity: 2\",\"(89.0, 90.0), multiplicity: 2\",\"(108.0, 109.0)\",\"(117.0, 118.0), multiplicity: 2\",\"(117.0, 118.0), multiplicity: 2\",\"(62.0, 63.0)\",\"(130.0, 131.0)\",\"(57.0, 58.0)\",\"(138.0, 139.0)\",\"(88.0, 89.0), multiplicity: 2\",\"(113.0, 114.0), multiplicity: 3\",\"(88.0, 89.0), multiplicity: 2\",\"(113.0, 114.0), multiplicity: 3\",\"(113.0, 114.0), multiplicity: 3\",\"(76.0, 77.0)\",\"(131.0, 132.0)\",\"(137.0, 138.0)\",\"(175.0, 176.0)\",\"(110.0, 111.0)\",\"(124.0, 125.0)\",\"(103.0, 104.0)\",\"(55.0, 56.0)\",\"(135.0, 136.0)\",\"(79.0, 80.0)\",\"(121.0, 122.0)\",\"(111.0, 112.0)\",\"(155.0, 156.0)\",\"(97.0, 98.0), multiplicity: 2\",\"(122.0, 123.0)\",\"(158.0, 159.0)\",\"(134.0, 135.0)\",\"(81.0, 82.0)\",\"(133.0, 134.0)\"],\"mode\":\"markers\",\"name\":\"H1\",\"x\":[137.0,157.0,114.0,128.0,120.0,174.0,174.0,87.0,131.0,151.0,160.0,112.0,159.0,85.0,89.0,166.0,141.0,138.0,183.0,94.0,138.0,134.0,66.0,135.0,80.0,145.0,85.0,182.0,104.0,183.0,133.0,193.0,189.0,176.0,110.0,132.0,147.0,156.0,118.0,55.0,132.0,106.0,166.0,135.0,107.0,80.0,132.0,122.0,160.0,116.0,209.0,105.0,138.0,107.0,172.0,57.0,77.0,124.0,93.0,96.0,125.0,104.0,196.0,86.0,141.0,202.0,186.0,97.0,140.0,139.0,183.0,73.0,131.0,89.0,141.0,157.0,140.0,67.0,118.0,180.0,123.0,101.0,188.0,159.0,197.0,135.0,179.0,124.0,172.0,86.0,67.0,102.0,94.0,143.0,170.0,102.0,104.0,80.0,90.0,129.0,99.0,140.0,92.0,185.0,136.0,90.0,112.0,124.0,150.0,102.0,134.0,133.0,133.0,122.0,131.0,128.0,99.0,119.0,116.0,107.0,157.0,123.0,155.0,57.0,60.0,142.0,112.0,188.0,103.0,159.0,135.0,134.0,118.0,192.0,134.0,129.0,129.0,81.0,81.0,131.0,131.0,116.0,77.0,85.0,135.0,121.0,128.0,114.0,179.0,72.0,87.0,114.0,179.0,141.0,173.0,142.0,176.0,89.0,92.0,187.0,111.0,102.0,147.0,102.0,128.0,112.0,91.0,83.0,84.0,120.0,105.0,122.0,109.0,130.0,76.0,118.0,126.0,118.0,177.0,136.0,72.0,159.0,125.0,107.0,62.0,140.0,145.0,144.0,144.0,67.0,173.0,143.0,125.0,100.0,143.0,142.0,116.0,141.0,97.0,114.0,69.0,114.0,89.0,89.0,108.0,117.0,117.0,62.0,130.0,57.0,138.0,88.0,113.0,88.0,113.0,113.0,76.0,131.0,137.0,175.0,110.0,124.0,103.0,55.0,135.0,79.0,121.0,111.0,155.0,97.0,122.0,158.0,134.0,81.0,133.0],\"y\":[210.0,230.0,171.0,184.0,173.0,224.0,223.0,129.0,172.0,190.0,199.0,149.0,194.0,118.0,122.0,198.0,173.0,169.0,214.0,124.0,168.0,164.0,96.0,164.0,109.0,173.0,113.0,210.0,130.0,209.0,158.0,218.0,214.0,200.0,133.0,155.0,169.0,178.0,140.0,76.0,153.0,127.0,186.0,153.0,125.0,98.0,150.0,139.0,177.0,133.0,225.0,121.0,154.0,122.0,187.0,72.0,92.0,138.0,107.0,109.0,138.0,117.0,209.0,99.0,153.0,214.0,198.0,108.0,151.0,150.0,193.0,83.0,141.0,98.0,150.0,166.0,149.0,76.0,127.0,188.0,131.0,109.0,196.0,166.0,204.0,142.0,186.0,131.0,179.0,93.0,74.0,108.0,100.0,149.0,176.0,108.0,110.0,86.0,96.0,135.0,105.0,146.0,97.0,190.0,141.0,95.0,117.0,129.0,155.0,107.0,139.0,138.0,138.0,127.0,136.0,133.0,104.0,124.0,121.0,112.0,161.0,127.0,159.0,61.0,64.0,146.0,116.0,192.0,107.0,163.0,139.0,138.0,122.0,196.0,138.0,133.0,133.0,85.0,85.0,135.0,135.0,119.0,80.0,88.0,138.0,124.0,131.0,117.0,182.0,75.0,90.0,117.0,182.0,144.0,176.0,145.0,179.0,92.0,95.0,190.0,114.0,105.0,150.0,105.0,131.0,114.0,93.0,85.0,86.0,122.0,107.0,124.0,111.0,132.0,78.0,120.0,128.0,120.0,179.0,138.0,74.0,161.0,127.0,109.0,64.0,142.0,147.0,146.0,146.0,69.0,175.0,145.0,127.0,102.0,144.0,143.0,117.0,142.0,98.0,115.0,70.0,115.0,90.0,90.0,109.0,118.0,118.0,63.0,131.0,58.0,139.0,89.0,114.0,89.0,114.0,114.0,77.0,132.0,138.0,176.0,111.0,125.0,104.0,56.0,136.0,80.0,122.0,112.0,156.0,98.0,123.0,159.0,135.0,82.0,134.0],\"type\":\"scatter\"}],                        {\"template\":{\"data\":{\"histogram2dcontour\":[{\"type\":\"histogram2dcontour\",\"colorbar\":{\"outlinewidth\":0,\"ticks\":\"\"},\"colorscale\":[[0.0,\"#0d0887\"],[0.1111111111111111,\"#46039f\"],[0.2222222222222222,\"#7201a8\"],[0.3333333333333333,\"#9c179e\"],[0.4444444444444444,\"#bd3786\"],[0.5555555555555556,\"#d8576b\"],[0.6666666666666666,\"#ed7953\"],[0.7777777777777778,\"#fb9f3a\"],[0.8888888888888888,\"#fdca26\"],[1.0,\"#f0f921\"]]}],\"choropleth\":[{\"type\":\"choropleth\",\"colorbar\":{\"outlinewidth\":0,\"ticks\":\"\"}}],\"histogram2d\":[{\"type\":\"histogram2d\",\"colorbar\":{\"outlinewidth\":0,\"ticks\":\"\"},\"colorscale\":[[0.0,\"#0d0887\"],[0.1111111111111111,\"#46039f\"],[0.2222222222222222,\"#7201a8\"],[0.3333333333333333,\"#9c179e\"],[0.4444444444444444,\"#bd3786\"],[0.5555555555555556,\"#d8576b\"],[0.6666666666666666,\"#ed7953\"],[0.7777777777777778,\"#fb9f3a\"],[0.8888888888888888,\"#fdca26\"],[1.0,\"#f0f921\"]]}],\"heatmap\":[{\"type\":\"heatmap\",\"colorbar\":{\"outlinewidth\":0,\"ticks\":\"\"},\"colorscale\":[[0.0,\"#0d0887\"],[0.1111111111111111,\"#46039f\"],[0.2222222222222222,\"#7201a8\"],[0.3333333333333333,\"#9c179e\"],[0.4444444444444444,\"#bd3786\"],[0.5555555555555556,\"#d8576b\"],[0.6666666666666666,\"#ed7953\"],[0.7777777777777778,\"#fb9f3a\"],[0.8888888888888888,\"#fdca26\"],[1.0,\"#f0f921\"]]}],\"heatmapgl\":[{\"type\":\"heatmapgl\",\"colorbar\":{\"outlinewidth\":0,\"ticks\":\"\"},\"colorscale\":[[0.0,\"#0d0887\"],[0.1111111111111111,\"#46039f\"],[0.2222222222222222,\"#7201a8\"],[0.3333333333333333,\"#9c179e\"],[0.4444444444444444,\"#bd3786\"],[0.5555555555555556,\"#d8576b\"],[0.6666666666666666,\"#ed7953\"],[0.7777777777777778,\"#fb9f3a\"],[0.8888888888888888,\"#fdca26\"],[1.0,\"#f0f921\"]]}],\"contourcarpet\":[{\"type\":\"contourcarpet\",\"colorbar\":{\"outlinewidth\":0,\"ticks\":\"\"}}],\"contour\":[{\"type\":\"contour\",\"colorbar\":{\"outlinewidth\":0,\"ticks\":\"\"},\"colorscale\":[[0.0,\"#0d0887\"],[0.1111111111111111,\"#46039f\"],[0.2222222222222222,\"#7201a8\"],[0.3333333333333333,\"#9c179e\"],[0.4444444444444444,\"#bd3786\"],[0.5555555555555556,\"#d8576b\"],[0.6666666666666666,\"#ed7953\"],[0.7777777777777778,\"#fb9f3a\"],[0.8888888888888888,\"#fdca26\"],[1.0,\"#f0f921\"]]}],\"surface\":[{\"type\":\"surface\",\"colorbar\":{\"outlinewidth\":0,\"ticks\":\"\"},\"colorscale\":[[0.0,\"#0d0887\"],[0.1111111111111111,\"#46039f\"],[0.2222222222222222,\"#7201a8\"],[0.3333333333333333,\"#9c179e\"],[0.4444444444444444,\"#bd3786\"],[0.5555555555555556,\"#d8576b\"],[0.6666666666666666,\"#ed7953\"],[0.7777777777777778,\"#fb9f3a\"],[0.8888888888888888,\"#fdca26\"],[1.0,\"#f0f921\"]]}],\"mesh3d\":[{\"type\":\"mesh3d\",\"colorbar\":{\"outlinewidth\":0,\"ticks\":\"\"}}],\"scatter\":[{\"fillpattern\":{\"fillmode\":\"overlay\",\"size\":10,\"solidity\":0.2},\"type\":\"scatter\"}],\"parcoords\":[{\"type\":\"parcoords\",\"line\":{\"colorbar\":{\"outlinewidth\":0,\"ticks\":\"\"}}}],\"scatterpolargl\":[{\"type\":\"scatterpolargl\",\"marker\":{\"colorbar\":{\"outlinewidth\":0,\"ticks\":\"\"}}}],\"bar\":[{\"error_x\":{\"color\":\"#2a3f5f\"},\"error_y\":{\"color\":\"#2a3f5f\"},\"marker\":{\"line\":{\"color\":\"#E5ECF6\",\"width\":0.5},\"pattern\":{\"fillmode\":\"overlay\",\"size\":10,\"solidity\":0.2}},\"type\":\"bar\"}],\"scattergeo\":[{\"type\":\"scattergeo\",\"marker\":{\"colorbar\":{\"outlinewidth\":0,\"ticks\":\"\"}}}],\"scatterpolar\":[{\"type\":\"scatterpolar\",\"marker\":{\"colorbar\":{\"outlinewidth\":0,\"ticks\":\"\"}}}],\"histogram\":[{\"marker\":{\"pattern\":{\"fillmode\":\"overlay\",\"size\":10,\"solidity\":0.2}},\"type\":\"histogram\"}],\"scattergl\":[{\"type\":\"scattergl\",\"marker\":{\"colorbar\":{\"outlinewidth\":0,\"ticks\":\"\"}}}],\"scatter3d\":[{\"type\":\"scatter3d\",\"line\":{\"colorbar\":{\"outlinewidth\":0,\"ticks\":\"\"}},\"marker\":{\"colorbar\":{\"outlinewidth\":0,\"ticks\":\"\"}}}],\"scattermapbox\":[{\"type\":\"scattermapbox\",\"marker\":{\"colorbar\":{\"outlinewidth\":0,\"ticks\":\"\"}}}],\"scatterternary\":[{\"type\":\"scatterternary\",\"marker\":{\"colorbar\":{\"outlinewidth\":0,\"ticks\":\"\"}}}],\"scattercarpet\":[{\"type\":\"scattercarpet\",\"marker\":{\"colorbar\":{\"outlinewidth\":0,\"ticks\":\"\"}}}],\"carpet\":[{\"aaxis\":{\"endlinecolor\":\"#2a3f5f\",\"gridcolor\":\"white\",\"linecolor\":\"white\",\"minorgridcolor\":\"white\",\"startlinecolor\":\"#2a3f5f\"},\"baxis\":{\"endlinecolor\":\"#2a3f5f\",\"gridcolor\":\"white\",\"linecolor\":\"white\",\"minorgridcolor\":\"white\",\"startlinecolor\":\"#2a3f5f\"},\"type\":\"carpet\"}],\"table\":[{\"cells\":{\"fill\":{\"color\":\"#EBF0F8\"},\"line\":{\"color\":\"white\"}},\"header\":{\"fill\":{\"color\":\"#C8D4E3\"},\"line\":{\"color\":\"white\"}},\"type\":\"table\"}],\"barpolar\":[{\"marker\":{\"line\":{\"color\":\"#E5ECF6\",\"width\":0.5},\"pattern\":{\"fillmode\":\"overlay\",\"size\":10,\"solidity\":0.2}},\"type\":\"barpolar\"}],\"pie\":[{\"automargin\":true,\"type\":\"pie\"}]},\"layout\":{\"autotypenumbers\":\"strict\",\"colorway\":[\"#636efa\",\"#EF553B\",\"#00cc96\",\"#ab63fa\",\"#FFA15A\",\"#19d3f3\",\"#FF6692\",\"#B6E880\",\"#FF97FF\",\"#FECB52\"],\"font\":{\"color\":\"#2a3f5f\"},\"hovermode\":\"closest\",\"hoverlabel\":{\"align\":\"left\"},\"paper_bgcolor\":\"white\",\"plot_bgcolor\":\"#E5ECF6\",\"polar\":{\"bgcolor\":\"#E5ECF6\",\"angularaxis\":{\"gridcolor\":\"white\",\"linecolor\":\"white\",\"ticks\":\"\"},\"radialaxis\":{\"gridcolor\":\"white\",\"linecolor\":\"white\",\"ticks\":\"\"}},\"ternary\":{\"bgcolor\":\"#E5ECF6\",\"aaxis\":{\"gridcolor\":\"white\",\"linecolor\":\"white\",\"ticks\":\"\"},\"baxis\":{\"gridcolor\":\"white\",\"linecolor\":\"white\",\"ticks\":\"\"},\"caxis\":{\"gridcolor\":\"white\",\"linecolor\":\"white\",\"ticks\":\"\"}},\"coloraxis\":{\"colorbar\":{\"outlinewidth\":0,\"ticks\":\"\"}},\"colorscale\":{\"sequential\":[[0.0,\"#0d0887\"],[0.1111111111111111,\"#46039f\"],[0.2222222222222222,\"#7201a8\"],[0.3333333333333333,\"#9c179e\"],[0.4444444444444444,\"#bd3786\"],[0.5555555555555556,\"#d8576b\"],[0.6666666666666666,\"#ed7953\"],[0.7777777777777778,\"#fb9f3a\"],[0.8888888888888888,\"#fdca26\"],[1.0,\"#f0f921\"]],\"sequentialminus\":[[0.0,\"#0d0887\"],[0.1111111111111111,\"#46039f\"],[0.2222222222222222,\"#7201a8\"],[0.3333333333333333,\"#9c179e\"],[0.4444444444444444,\"#bd3786\"],[0.5555555555555556,\"#d8576b\"],[0.6666666666666666,\"#ed7953\"],[0.7777777777777778,\"#fb9f3a\"],[0.8888888888888888,\"#fdca26\"],[1.0,\"#f0f921\"]],\"diverging\":[[0,\"#8e0152\"],[0.1,\"#c51b7d\"],[0.2,\"#de77ae\"],[0.3,\"#f1b6da\"],[0.4,\"#fde0ef\"],[0.5,\"#f7f7f7\"],[0.6,\"#e6f5d0\"],[0.7,\"#b8e186\"],[0.8,\"#7fbc41\"],[0.9,\"#4d9221\"],[1,\"#276419\"]]},\"xaxis\":{\"gridcolor\":\"white\",\"linecolor\":\"white\",\"ticks\":\"\",\"title\":{\"standoff\":15},\"zerolinecolor\":\"white\",\"automargin\":true,\"zerolinewidth\":2},\"yaxis\":{\"gridcolor\":\"white\",\"linecolor\":\"white\",\"ticks\":\"\",\"title\":{\"standoff\":15},\"zerolinecolor\":\"white\",\"automargin\":true,\"zerolinewidth\":2},\"scene\":{\"xaxis\":{\"backgroundcolor\":\"#E5ECF6\",\"gridcolor\":\"white\",\"linecolor\":\"white\",\"showbackground\":true,\"ticks\":\"\",\"zerolinecolor\":\"white\",\"gridwidth\":2},\"yaxis\":{\"backgroundcolor\":\"#E5ECF6\",\"gridcolor\":\"white\",\"linecolor\":\"white\",\"showbackground\":true,\"ticks\":\"\",\"zerolinecolor\":\"white\",\"gridwidth\":2},\"zaxis\":{\"backgroundcolor\":\"#E5ECF6\",\"gridcolor\":\"white\",\"linecolor\":\"white\",\"showbackground\":true,\"ticks\":\"\",\"zerolinecolor\":\"white\",\"gridwidth\":2}},\"shapedefaults\":{\"line\":{\"color\":\"#2a3f5f\"}},\"annotationdefaults\":{\"arrowcolor\":\"#2a3f5f\",\"arrowhead\":0,\"arrowwidth\":1},\"geo\":{\"bgcolor\":\"white\",\"landcolor\":\"#E5ECF6\",\"subunitcolor\":\"white\",\"showland\":true,\"showlakes\":true,\"lakecolor\":\"white\"},\"title\":{\"x\":0.05},\"mapbox\":{\"style\":\"light\"}}},\"xaxis\":{\"title\":{\"text\":\"Birth\"},\"side\":\"bottom\",\"type\":\"linear\",\"range\":[23.96,234.04],\"autorange\":false,\"ticks\":\"outside\",\"showline\":true,\"zeroline\":true,\"linewidth\":1,\"linecolor\":\"black\",\"mirror\":false,\"showexponent\":\"all\",\"exponentformat\":\"e\"},\"yaxis\":{\"title\":{\"text\":\"Death\"},\"side\":\"left\",\"type\":\"linear\",\"range\":[23.96,234.04],\"autorange\":false,\"scaleanchor\":\"x\",\"scaleratio\":1,\"ticks\":\"outside\",\"showline\":true,\"zeroline\":true,\"linewidth\":1,\"linecolor\":\"black\",\"mirror\":false,\"showexponent\":\"all\",\"exponentformat\":\"e\"},\"width\":500,\"height\":500,\"plot_bgcolor\":\"white\"},                        {\"responsive\": true}                    ).then(function(){\n",
       "                            \n",
       "var gd = document.getElementById('03522c73-4788-4222-90bd-766653c533d7');\n",
       "var x = new MutationObserver(function (mutations, observer) {{\n",
       "        var display = window.getComputedStyle(gd).display;\n",
       "        if (!display || display === 'none') {{\n",
       "            console.log([gd, 'removed!']);\n",
       "            Plotly.purge(gd);\n",
       "            observer.disconnect();\n",
       "        }}\n",
       "}});\n",
       "\n",
       "// Listen for the removal of the full notebook cells\n",
       "var notebookContainer = gd.closest('#notebook-container');\n",
       "if (notebookContainer) {{\n",
       "    x.observe(notebookContainer, {childList: true});\n",
       "}}\n",
       "\n",
       "// Listen for the clearing of the current output cell\n",
       "var outputEl = gd.closest('.output');\n",
       "if (outputEl) {{\n",
       "    x.observe(outputEl, {childList: true});\n",
       "}}\n",
       "\n",
       "                        })                };                });            </script>        </div>"
      ]
     },
     "metadata": {},
     "output_type": "display_data"
    },
    {
     "data": {
      "application/vnd.plotly.v1+json": {
       "config": {
        "plotlyServerURL": "https://plot.ly"
       },
       "data": [
        {
         "hoverinfo": "none",
         "line": {
          "color": "black",
          "dash": "dash",
          "width": 1
         },
         "mode": "lines",
         "showlegend": false,
         "type": "scatter",
         "x": [
          23.96,
          234.04
         ],
         "y": [
          23.96,
          234.04
         ]
        },
        {
         "hoverinfo": "text",
         "hovertext": [
          "(73.0, 128.0)",
          "(92.0, 140.0)",
          "(46.0, 91.0)",
          "(87.0, 122.0)",
          "(91.0, 125.0)",
          "(101.0, 132.0)",
          "(115.0, 145.0)",
          "(103.0, 133.0)",
          "(49.0, 77.0), multiplicity: 2",
          "(49.0, 77.0), multiplicity: 2",
          "(57.0, 82.0)",
          "(57.0, 80.0)",
          "(37.0, 57.0)",
          "(76.0, 93.0)",
          "(63.0, 80.0)",
          "(122.0, 137.0)",
          "(168.0, 183.0)",
          "(103.0, 118.0)",
          "(156.0, 170.0)",
          "(144.0, 158.0)",
          "(106.0, 119.0)",
          "(105.0, 118.0)",
          "(114.0, 127.0)",
          "(162.0, 174.0)",
          "(53.0, 65.0)",
          "(118.0, 129.0)",
          "(105.0, 116.0)",
          "(59.0, 70.0)",
          "(106.0, 117.0)",
          "(98.0, 109.0)",
          "(104.0, 115.0)",
          "(78.0, 88.0)",
          "(163.0, 173.0)",
          "(122.0, 132.0)",
          "(101.0, 110.0)",
          "(100.0, 109.0)",
          "(103.0, 112.0)",
          "(102.0, 111.0)",
          "(69.0, 78.0)",
          "(118.0, 127.0)",
          "(72.0, 81.0)",
          "(170.0, 179.0)",
          "(102.0, 110.0), multiplicity: 2",
          "(68.0, 76.0)",
          "(59.0, 67.0)",
          "(78.0, 86.0)",
          "(102.0, 110.0), multiplicity: 2",
          "(104.0, 112.0)",
          "(97.0, 104.0)",
          "(96.0, 103.0)",
          "(105.0, 112.0)",
          "(115.0, 122.0)",
          "(103.0, 110.0)",
          "(63.0, 70.0)",
          "(79.0, 86.0)",
          "(105.0, 111.0)",
          "(122.0, 128.0)",
          "(104.0, 110.0)",
          "(87.0, 93.0)",
          "(81.0, 87.0)",
          "(120.0, 126.0)",
          "(56.0, 62.0)",
          "(109.0, 115.0)",
          "(67.0, 73.0)",
          "(48.0, 54.0)",
          "(97.0, 103.0)",
          "(159.0, 165.0)",
          "(124.0, 130.0)",
          "(115.0, 120.0), multiplicity: 2",
          "(107.0, 112.0)",
          "(134.0, 139.0)",
          "(115.0, 120.0), multiplicity: 2",
          "(89.0, 94.0)",
          "(33.0, 38.0)",
          "(51.0, 56.0), multiplicity: 2",
          "(51.0, 56.0), multiplicity: 2",
          "(164.0, 169.0)",
          "(127.0, 132.0)",
          "(104.0, 109.0)",
          "(131.0, 136.0)",
          "(66.0, 71.0)",
          "(105.0, 110.0)",
          "(104.0, 108.0), multiplicity: 3",
          "(114.0, 118.0), multiplicity: 2",
          "(30.0, 34.0)",
          "(104.0, 108.0), multiplicity: 3",
          "(116.0, 120.0)",
          "(104.0, 108.0), multiplicity: 3",
          "(74.0, 78.0)",
          "(102.0, 106.0)",
          "(115.0, 119.0)",
          "(56.0, 60.0)",
          "(73.0, 77.0)",
          "(112.0, 116.0), multiplicity: 2",
          "(112.0, 116.0), multiplicity: 2",
          "(114.0, 118.0), multiplicity: 2",
          "(128.0, 132.0)",
          "(124.0, 127.0), multiplicity: 3",
          "(102.0, 105.0), multiplicity: 3",
          "(102.0, 105.0), multiplicity: 3",
          "(59.0, 62.0)",
          "(66.0, 69.0)",
          "(102.0, 105.0), multiplicity: 3",
          "(149.0, 152.0)",
          "(109.0, 112.0)",
          "(124.0, 127.0), multiplicity: 3",
          "(104.0, 107.0)",
          "(118.0, 121.0)",
          "(124.0, 127.0), multiplicity: 3",
          "(47.0, 50.0)",
          "(128.0, 131.0)",
          "(127.0, 130.0)",
          "(69.0, 72.0)",
          "(119.0, 122.0)",
          "(74.0, 77.0)",
          "(121.0, 124.0)",
          "(158.0, 160.0)",
          "(41.0, 43.0)",
          "(58.0, 60.0)",
          "(133.0, 135.0)",
          "(61.0, 63.0)",
          "(129.0, 131.0), multiplicity: 2",
          "(129.0, 131.0), multiplicity: 2",
          "(69.0, 71.0)",
          "(127.0, 129.0)",
          "(70.0, 72.0)",
          "(77.0, 79.0)",
          "(122.0, 124.0)",
          "(79.0, 81.0)",
          "(80.0, 82.0)",
          "(90.0, 92.0), multiplicity: 2",
          "(170.0, 172.0)",
          "(90.0, 92.0), multiplicity: 2",
          "(101.0, 103.0)",
          "(117.0, 119.0)",
          "(107.0, 109.0)",
          "(178.0, 180.0)",
          "(109.0, 111.0), multiplicity: 2",
          "(109.0, 111.0), multiplicity: 2",
          "(112.0, 114.0), multiplicity: 2",
          "(112.0, 114.0), multiplicity: 2",
          "(115.0, 116.0)",
          "(113.0, 114.0)",
          "(116.0, 117.0), multiplicity: 4",
          "(111.0, 112.0)",
          "(116.0, 117.0), multiplicity: 4",
          "(116.0, 117.0), multiplicity: 4",
          "(110.0, 111.0)",
          "(116.0, 117.0), multiplicity: 4",
          "(109.0, 110.0), multiplicity: 2",
          "(109.0, 110.0), multiplicity: 2",
          "(117.0, 118.0)",
          "(107.0, 108.0)",
          "(105.0, 106.0)",
          "(104.0, 105.0)",
          "(121.0, 122.0), multiplicity: 2",
          "(100.0, 101.0)",
          "(99.0, 100.0)",
          "(97.0, 98.0)",
          "(96.0, 97.0)",
          "(121.0, 122.0), multiplicity: 2",
          "(122.0, 123.0)",
          "(89.0, 90.0)",
          "(88.0, 89.0)",
          "(83.0, 84.0)",
          "(170.0, 171.0)",
          "(123.0, 124.0), multiplicity: 2",
          "(123.0, 124.0), multiplicity: 2",
          "(78.0, 79.0)",
          "(76.0, 77.0)",
          "(126.0, 127.0)",
          "(129.0, 130.0)",
          "(69.0, 70.0)",
          "(67.0, 68.0)",
          "(66.0, 67.0)",
          "(132.0, 133.0)",
          "(61.0, 62.0)",
          "(139.0, 140.0), multiplicity: 2",
          "(54.0, 55.0)",
          "(51.0, 52.0)",
          "(46.0, 47.0)",
          "(139.0, 140.0), multiplicity: 2",
          "(28.0, 29.0)"
         ],
         "mode": "markers",
         "name": "H0",
         "type": "scatter",
         "x": [
          73,
          92,
          46,
          87,
          91,
          101,
          115,
          103,
          49,
          49,
          57,
          57,
          37,
          76,
          63,
          122,
          168,
          103,
          156,
          144,
          106,
          105,
          114,
          162,
          53,
          118,
          105,
          59,
          106,
          98,
          104,
          78,
          163,
          122,
          101,
          100,
          103,
          102,
          69,
          118,
          72,
          170,
          102,
          68,
          59,
          78,
          102,
          104,
          97,
          96,
          105,
          115,
          103,
          63,
          79,
          105,
          122,
          104,
          87,
          81,
          120,
          56,
          109,
          67,
          48,
          97,
          159,
          124,
          115,
          107,
          134,
          115,
          89,
          33,
          51,
          51,
          164,
          127,
          104,
          131,
          66,
          105,
          104,
          114,
          30,
          104,
          116,
          104,
          74,
          102,
          115,
          56,
          73,
          112,
          112,
          114,
          128,
          124,
          102,
          102,
          59,
          66,
          102,
          149,
          109,
          124,
          104,
          118,
          124,
          47,
          128,
          127,
          69,
          119,
          74,
          121,
          158,
          41,
          58,
          133,
          61,
          129,
          129,
          69,
          127,
          70,
          77,
          122,
          79,
          80,
          90,
          170,
          90,
          101,
          117,
          107,
          178,
          109,
          109,
          112,
          112,
          115,
          113,
          116,
          111,
          116,
          116,
          110,
          116,
          109,
          109,
          117,
          107,
          105,
          104,
          121,
          100,
          99,
          97,
          96,
          121,
          122,
          89,
          88,
          83,
          170,
          123,
          123,
          78,
          76,
          126,
          129,
          69,
          67,
          66,
          132,
          61,
          139,
          54,
          51,
          46,
          139,
          28
         ],
         "y": [
          128,
          140,
          91,
          122,
          125,
          132,
          145,
          133,
          77,
          77,
          82,
          80,
          57,
          93,
          80,
          137,
          183,
          118,
          170,
          158,
          119,
          118,
          127,
          174,
          65,
          129,
          116,
          70,
          117,
          109,
          115,
          88,
          173,
          132,
          110,
          109,
          112,
          111,
          78,
          127,
          81,
          179,
          110,
          76,
          67,
          86,
          110,
          112,
          104,
          103,
          112,
          122,
          110,
          70,
          86,
          111,
          128,
          110,
          93,
          87,
          126,
          62,
          115,
          73,
          54,
          103,
          165,
          130,
          120,
          112,
          139,
          120,
          94,
          38,
          56,
          56,
          169,
          132,
          109,
          136,
          71,
          110,
          108,
          118,
          34,
          108,
          120,
          108,
          78,
          106,
          119,
          60,
          77,
          116,
          116,
          118,
          132,
          127,
          105,
          105,
          62,
          69,
          105,
          152,
          112,
          127,
          107,
          121,
          127,
          50,
          131,
          130,
          72,
          122,
          77,
          124,
          160,
          43,
          60,
          135,
          63,
          131,
          131,
          71,
          129,
          72,
          79,
          124,
          81,
          82,
          92,
          172,
          92,
          103,
          119,
          109,
          180,
          111,
          111,
          114,
          114,
          116,
          114,
          117,
          112,
          117,
          117,
          111,
          117,
          110,
          110,
          118,
          108,
          106,
          105,
          122,
          101,
          100,
          98,
          97,
          122,
          123,
          90,
          89,
          84,
          171,
          124,
          124,
          79,
          77,
          127,
          130,
          70,
          68,
          67,
          133,
          62,
          140,
          55,
          52,
          47,
          140,
          29
         ]
        },
        {
         "hoverinfo": "text",
         "hovertext": [
          "(137.0, 210.0)",
          "(157.0, 230.0)",
          "(114.0, 171.0)",
          "(128.0, 184.0)",
          "(120.0, 173.0)",
          "(174.0, 224.0)",
          "(174.0, 223.0)",
          "(87.0, 129.0)",
          "(131.0, 172.0)",
          "(151.0, 190.0)",
          "(160.0, 199.0)",
          "(112.0, 149.0)",
          "(159.0, 194.0)",
          "(85.0, 118.0)",
          "(89.0, 122.0)",
          "(166.0, 198.0)",
          "(141.0, 173.0)",
          "(138.0, 169.0)",
          "(183.0, 214.0)",
          "(94.0, 124.0)",
          "(138.0, 168.0)",
          "(134.0, 164.0)",
          "(66.0, 96.0)",
          "(135.0, 164.0)",
          "(80.0, 109.0)",
          "(145.0, 173.0)",
          "(85.0, 113.0)",
          "(182.0, 210.0)",
          "(104.0, 130.0)",
          "(183.0, 209.0)",
          "(133.0, 158.0)",
          "(193.0, 218.0)",
          "(189.0, 214.0)",
          "(176.0, 200.0)",
          "(110.0, 133.0)",
          "(132.0, 155.0)",
          "(147.0, 169.0)",
          "(156.0, 178.0)",
          "(118.0, 140.0)",
          "(55.0, 76.0)",
          "(132.0, 153.0)",
          "(106.0, 127.0)",
          "(166.0, 186.0)",
          "(135.0, 153.0)",
          "(107.0, 125.0)",
          "(80.0, 98.0)",
          "(132.0, 150.0)",
          "(122.0, 139.0)",
          "(160.0, 177.0)",
          "(116.0, 133.0)",
          "(209.0, 225.0)",
          "(105.0, 121.0)",
          "(138.0, 154.0)",
          "(107.0, 122.0)",
          "(172.0, 187.0)",
          "(57.0, 72.0)",
          "(77.0, 92.0)",
          "(124.0, 138.0)",
          "(93.0, 107.0)",
          "(96.0, 109.0)",
          "(125.0, 138.0)",
          "(104.0, 117.0)",
          "(196.0, 209.0)",
          "(86.0, 99.0)",
          "(141.0, 153.0)",
          "(202.0, 214.0)",
          "(186.0, 198.0)",
          "(97.0, 108.0)",
          "(140.0, 151.0)",
          "(139.0, 150.0)",
          "(183.0, 193.0)",
          "(73.0, 83.0)",
          "(131.0, 141.0)",
          "(89.0, 98.0)",
          "(141.0, 150.0)",
          "(157.0, 166.0)",
          "(140.0, 149.0)",
          "(67.0, 76.0)",
          "(118.0, 127.0)",
          "(180.0, 188.0)",
          "(123.0, 131.0)",
          "(101.0, 109.0)",
          "(188.0, 196.0)",
          "(159.0, 166.0)",
          "(197.0, 204.0)",
          "(135.0, 142.0)",
          "(179.0, 186.0)",
          "(124.0, 131.0)",
          "(172.0, 179.0)",
          "(86.0, 93.0)",
          "(67.0, 74.0)",
          "(102.0, 108.0), multiplicity: 2",
          "(94.0, 100.0)",
          "(143.0, 149.0)",
          "(170.0, 176.0)",
          "(102.0, 108.0), multiplicity: 2",
          "(104.0, 110.0)",
          "(80.0, 86.0)",
          "(90.0, 96.0)",
          "(129.0, 135.0)",
          "(99.0, 105.0)",
          "(140.0, 146.0)",
          "(92.0, 97.0)",
          "(185.0, 190.0)",
          "(136.0, 141.0)",
          "(90.0, 95.0)",
          "(112.0, 117.0)",
          "(124.0, 129.0)",
          "(150.0, 155.0)",
          "(102.0, 107.0)",
          "(134.0, 139.0)",
          "(133.0, 138.0), multiplicity: 2",
          "(133.0, 138.0), multiplicity: 2",
          "(122.0, 127.0)",
          "(131.0, 136.0)",
          "(128.0, 133.0)",
          "(99.0, 104.0)",
          "(119.0, 124.0)",
          "(116.0, 121.0)",
          "(107.0, 112.0)",
          "(157.0, 161.0)",
          "(123.0, 127.0)",
          "(155.0, 159.0)",
          "(57.0, 61.0)",
          "(60.0, 64.0)",
          "(142.0, 146.0)",
          "(112.0, 116.0)",
          "(188.0, 192.0)",
          "(103.0, 107.0)",
          "(159.0, 163.0)",
          "(135.0, 139.0)",
          "(134.0, 138.0), multiplicity: 2",
          "(118.0, 122.0)",
          "(192.0, 196.0)",
          "(134.0, 138.0), multiplicity: 2",
          "(129.0, 133.0), multiplicity: 2",
          "(129.0, 133.0), multiplicity: 2",
          "(81.0, 85.0), multiplicity: 2",
          "(81.0, 85.0), multiplicity: 2",
          "(131.0, 135.0), multiplicity: 2",
          "(131.0, 135.0), multiplicity: 2",
          "(116.0, 119.0)",
          "(77.0, 80.0)",
          "(85.0, 88.0)",
          "(135.0, 138.0)",
          "(121.0, 124.0)",
          "(128.0, 131.0), multiplicity: 2",
          "(114.0, 117.0), multiplicity: 2",
          "(179.0, 182.0), multiplicity: 2",
          "(72.0, 75.0)",
          "(87.0, 90.0)",
          "(114.0, 117.0), multiplicity: 2",
          "(179.0, 182.0), multiplicity: 2",
          "(141.0, 144.0)",
          "(173.0, 176.0)",
          "(142.0, 145.0)",
          "(176.0, 179.0)",
          "(89.0, 92.0)",
          "(92.0, 95.0)",
          "(187.0, 190.0)",
          "(111.0, 114.0)",
          "(102.0, 105.0), multiplicity: 2",
          "(147.0, 150.0)",
          "(102.0, 105.0), multiplicity: 2",
          "(128.0, 131.0), multiplicity: 2",
          "(112.0, 114.0)",
          "(91.0, 93.0)",
          "(83.0, 85.0)",
          "(84.0, 86.0)",
          "(120.0, 122.0)",
          "(105.0, 107.0)",
          "(122.0, 124.0)",
          "(109.0, 111.0)",
          "(130.0, 132.0)",
          "(76.0, 78.0)",
          "(118.0, 120.0), multiplicity: 2",
          "(126.0, 128.0)",
          "(118.0, 120.0), multiplicity: 2",
          "(177.0, 179.0)",
          "(136.0, 138.0)",
          "(72.0, 74.0)",
          "(159.0, 161.0)",
          "(125.0, 127.0), multiplicity: 2",
          "(107.0, 109.0)",
          "(62.0, 64.0)",
          "(140.0, 142.0)",
          "(145.0, 147.0)",
          "(144.0, 146.0), multiplicity: 2",
          "(144.0, 146.0), multiplicity: 2",
          "(67.0, 69.0)",
          "(173.0, 175.0)",
          "(143.0, 145.0)",
          "(125.0, 127.0), multiplicity: 2",
          "(100.0, 102.0)",
          "(143.0, 144.0)",
          "(142.0, 143.0)",
          "(116.0, 117.0)",
          "(141.0, 142.0)",
          "(97.0, 98.0), multiplicity: 2",
          "(114.0, 115.0), multiplicity: 2",
          "(69.0, 70.0)",
          "(114.0, 115.0), multiplicity: 2",
          "(89.0, 90.0), multiplicity: 2",
          "(89.0, 90.0), multiplicity: 2",
          "(108.0, 109.0)",
          "(117.0, 118.0), multiplicity: 2",
          "(117.0, 118.0), multiplicity: 2",
          "(62.0, 63.0)",
          "(130.0, 131.0)",
          "(57.0, 58.0)",
          "(138.0, 139.0)",
          "(88.0, 89.0), multiplicity: 2",
          "(113.0, 114.0), multiplicity: 3",
          "(88.0, 89.0), multiplicity: 2",
          "(113.0, 114.0), multiplicity: 3",
          "(113.0, 114.0), multiplicity: 3",
          "(76.0, 77.0)",
          "(131.0, 132.0)",
          "(137.0, 138.0)",
          "(175.0, 176.0)",
          "(110.0, 111.0)",
          "(124.0, 125.0)",
          "(103.0, 104.0)",
          "(55.0, 56.0)",
          "(135.0, 136.0)",
          "(79.0, 80.0)",
          "(121.0, 122.0)",
          "(111.0, 112.0)",
          "(155.0, 156.0)",
          "(97.0, 98.0), multiplicity: 2",
          "(122.0, 123.0)",
          "(158.0, 159.0)",
          "(134.0, 135.0)",
          "(81.0, 82.0)",
          "(133.0, 134.0)"
         ],
         "mode": "markers",
         "name": "H1",
         "type": "scatter",
         "x": [
          137,
          157,
          114,
          128,
          120,
          174,
          174,
          87,
          131,
          151,
          160,
          112,
          159,
          85,
          89,
          166,
          141,
          138,
          183,
          94,
          138,
          134,
          66,
          135,
          80,
          145,
          85,
          182,
          104,
          183,
          133,
          193,
          189,
          176,
          110,
          132,
          147,
          156,
          118,
          55,
          132,
          106,
          166,
          135,
          107,
          80,
          132,
          122,
          160,
          116,
          209,
          105,
          138,
          107,
          172,
          57,
          77,
          124,
          93,
          96,
          125,
          104,
          196,
          86,
          141,
          202,
          186,
          97,
          140,
          139,
          183,
          73,
          131,
          89,
          141,
          157,
          140,
          67,
          118,
          180,
          123,
          101,
          188,
          159,
          197,
          135,
          179,
          124,
          172,
          86,
          67,
          102,
          94,
          143,
          170,
          102,
          104,
          80,
          90,
          129,
          99,
          140,
          92,
          185,
          136,
          90,
          112,
          124,
          150,
          102,
          134,
          133,
          133,
          122,
          131,
          128,
          99,
          119,
          116,
          107,
          157,
          123,
          155,
          57,
          60,
          142,
          112,
          188,
          103,
          159,
          135,
          134,
          118,
          192,
          134,
          129,
          129,
          81,
          81,
          131,
          131,
          116,
          77,
          85,
          135,
          121,
          128,
          114,
          179,
          72,
          87,
          114,
          179,
          141,
          173,
          142,
          176,
          89,
          92,
          187,
          111,
          102,
          147,
          102,
          128,
          112,
          91,
          83,
          84,
          120,
          105,
          122,
          109,
          130,
          76,
          118,
          126,
          118,
          177,
          136,
          72,
          159,
          125,
          107,
          62,
          140,
          145,
          144,
          144,
          67,
          173,
          143,
          125,
          100,
          143,
          142,
          116,
          141,
          97,
          114,
          69,
          114,
          89,
          89,
          108,
          117,
          117,
          62,
          130,
          57,
          138,
          88,
          113,
          88,
          113,
          113,
          76,
          131,
          137,
          175,
          110,
          124,
          103,
          55,
          135,
          79,
          121,
          111,
          155,
          97,
          122,
          158,
          134,
          81,
          133
         ],
         "y": [
          210,
          230,
          171,
          184,
          173,
          224,
          223,
          129,
          172,
          190,
          199,
          149,
          194,
          118,
          122,
          198,
          173,
          169,
          214,
          124,
          168,
          164,
          96,
          164,
          109,
          173,
          113,
          210,
          130,
          209,
          158,
          218,
          214,
          200,
          133,
          155,
          169,
          178,
          140,
          76,
          153,
          127,
          186,
          153,
          125,
          98,
          150,
          139,
          177,
          133,
          225,
          121,
          154,
          122,
          187,
          72,
          92,
          138,
          107,
          109,
          138,
          117,
          209,
          99,
          153,
          214,
          198,
          108,
          151,
          150,
          193,
          83,
          141,
          98,
          150,
          166,
          149,
          76,
          127,
          188,
          131,
          109,
          196,
          166,
          204,
          142,
          186,
          131,
          179,
          93,
          74,
          108,
          100,
          149,
          176,
          108,
          110,
          86,
          96,
          135,
          105,
          146,
          97,
          190,
          141,
          95,
          117,
          129,
          155,
          107,
          139,
          138,
          138,
          127,
          136,
          133,
          104,
          124,
          121,
          112,
          161,
          127,
          159,
          61,
          64,
          146,
          116,
          192,
          107,
          163,
          139,
          138,
          122,
          196,
          138,
          133,
          133,
          85,
          85,
          135,
          135,
          119,
          80,
          88,
          138,
          124,
          131,
          117,
          182,
          75,
          90,
          117,
          182,
          144,
          176,
          145,
          179,
          92,
          95,
          190,
          114,
          105,
          150,
          105,
          131,
          114,
          93,
          85,
          86,
          122,
          107,
          124,
          111,
          132,
          78,
          120,
          128,
          120,
          179,
          138,
          74,
          161,
          127,
          109,
          64,
          142,
          147,
          146,
          146,
          69,
          175,
          145,
          127,
          102,
          144,
          143,
          117,
          142,
          98,
          115,
          70,
          115,
          90,
          90,
          109,
          118,
          118,
          63,
          131,
          58,
          139,
          89,
          114,
          89,
          114,
          114,
          77,
          132,
          138,
          176,
          111,
          125,
          104,
          56,
          136,
          80,
          122,
          112,
          156,
          98,
          123,
          159,
          135,
          82,
          134
         ]
        }
       ],
       "layout": {
        "height": 500,
        "plot_bgcolor": "white",
        "template": {
         "data": {
          "bar": [
           {
            "error_x": {
             "color": "#2a3f5f"
            },
            "error_y": {
             "color": "#2a3f5f"
            },
            "marker": {
             "line": {
              "color": "#E5ECF6",
              "width": 0.5
             },
             "pattern": {
              "fillmode": "overlay",
              "size": 10,
              "solidity": 0.2
             }
            },
            "type": "bar"
           }
          ],
          "barpolar": [
           {
            "marker": {
             "line": {
              "color": "#E5ECF6",
              "width": 0.5
             },
             "pattern": {
              "fillmode": "overlay",
              "size": 10,
              "solidity": 0.2
             }
            },
            "type": "barpolar"
           }
          ],
          "carpet": [
           {
            "aaxis": {
             "endlinecolor": "#2a3f5f",
             "gridcolor": "white",
             "linecolor": "white",
             "minorgridcolor": "white",
             "startlinecolor": "#2a3f5f"
            },
            "baxis": {
             "endlinecolor": "#2a3f5f",
             "gridcolor": "white",
             "linecolor": "white",
             "minorgridcolor": "white",
             "startlinecolor": "#2a3f5f"
            },
            "type": "carpet"
           }
          ],
          "choropleth": [
           {
            "colorbar": {
             "outlinewidth": 0,
             "ticks": ""
            },
            "type": "choropleth"
           }
          ],
          "contour": [
           {
            "colorbar": {
             "outlinewidth": 0,
             "ticks": ""
            },
            "colorscale": [
             [
              0,
              "#0d0887"
             ],
             [
              0.1111111111111111,
              "#46039f"
             ],
             [
              0.2222222222222222,
              "#7201a8"
             ],
             [
              0.3333333333333333,
              "#9c179e"
             ],
             [
              0.4444444444444444,
              "#bd3786"
             ],
             [
              0.5555555555555556,
              "#d8576b"
             ],
             [
              0.6666666666666666,
              "#ed7953"
             ],
             [
              0.7777777777777778,
              "#fb9f3a"
             ],
             [
              0.8888888888888888,
              "#fdca26"
             ],
             [
              1,
              "#f0f921"
             ]
            ],
            "type": "contour"
           }
          ],
          "contourcarpet": [
           {
            "colorbar": {
             "outlinewidth": 0,
             "ticks": ""
            },
            "type": "contourcarpet"
           }
          ],
          "heatmap": [
           {
            "colorbar": {
             "outlinewidth": 0,
             "ticks": ""
            },
            "colorscale": [
             [
              0,
              "#0d0887"
             ],
             [
              0.1111111111111111,
              "#46039f"
             ],
             [
              0.2222222222222222,
              "#7201a8"
             ],
             [
              0.3333333333333333,
              "#9c179e"
             ],
             [
              0.4444444444444444,
              "#bd3786"
             ],
             [
              0.5555555555555556,
              "#d8576b"
             ],
             [
              0.6666666666666666,
              "#ed7953"
             ],
             [
              0.7777777777777778,
              "#fb9f3a"
             ],
             [
              0.8888888888888888,
              "#fdca26"
             ],
             [
              1,
              "#f0f921"
             ]
            ],
            "type": "heatmap"
           }
          ],
          "heatmapgl": [
           {
            "colorbar": {
             "outlinewidth": 0,
             "ticks": ""
            },
            "colorscale": [
             [
              0,
              "#0d0887"
             ],
             [
              0.1111111111111111,
              "#46039f"
             ],
             [
              0.2222222222222222,
              "#7201a8"
             ],
             [
              0.3333333333333333,
              "#9c179e"
             ],
             [
              0.4444444444444444,
              "#bd3786"
             ],
             [
              0.5555555555555556,
              "#d8576b"
             ],
             [
              0.6666666666666666,
              "#ed7953"
             ],
             [
              0.7777777777777778,
              "#fb9f3a"
             ],
             [
              0.8888888888888888,
              "#fdca26"
             ],
             [
              1,
              "#f0f921"
             ]
            ],
            "type": "heatmapgl"
           }
          ],
          "histogram": [
           {
            "marker": {
             "pattern": {
              "fillmode": "overlay",
              "size": 10,
              "solidity": 0.2
             }
            },
            "type": "histogram"
           }
          ],
          "histogram2d": [
           {
            "colorbar": {
             "outlinewidth": 0,
             "ticks": ""
            },
            "colorscale": [
             [
              0,
              "#0d0887"
             ],
             [
              0.1111111111111111,
              "#46039f"
             ],
             [
              0.2222222222222222,
              "#7201a8"
             ],
             [
              0.3333333333333333,
              "#9c179e"
             ],
             [
              0.4444444444444444,
              "#bd3786"
             ],
             [
              0.5555555555555556,
              "#d8576b"
             ],
             [
              0.6666666666666666,
              "#ed7953"
             ],
             [
              0.7777777777777778,
              "#fb9f3a"
             ],
             [
              0.8888888888888888,
              "#fdca26"
             ],
             [
              1,
              "#f0f921"
             ]
            ],
            "type": "histogram2d"
           }
          ],
          "histogram2dcontour": [
           {
            "colorbar": {
             "outlinewidth": 0,
             "ticks": ""
            },
            "colorscale": [
             [
              0,
              "#0d0887"
             ],
             [
              0.1111111111111111,
              "#46039f"
             ],
             [
              0.2222222222222222,
              "#7201a8"
             ],
             [
              0.3333333333333333,
              "#9c179e"
             ],
             [
              0.4444444444444444,
              "#bd3786"
             ],
             [
              0.5555555555555556,
              "#d8576b"
             ],
             [
              0.6666666666666666,
              "#ed7953"
             ],
             [
              0.7777777777777778,
              "#fb9f3a"
             ],
             [
              0.8888888888888888,
              "#fdca26"
             ],
             [
              1,
              "#f0f921"
             ]
            ],
            "type": "histogram2dcontour"
           }
          ],
          "mesh3d": [
           {
            "colorbar": {
             "outlinewidth": 0,
             "ticks": ""
            },
            "type": "mesh3d"
           }
          ],
          "parcoords": [
           {
            "line": {
             "colorbar": {
              "outlinewidth": 0,
              "ticks": ""
             }
            },
            "type": "parcoords"
           }
          ],
          "pie": [
           {
            "automargin": true,
            "type": "pie"
           }
          ],
          "scatter": [
           {
            "fillpattern": {
             "fillmode": "overlay",
             "size": 10,
             "solidity": 0.2
            },
            "type": "scatter"
           }
          ],
          "scatter3d": [
           {
            "line": {
             "colorbar": {
              "outlinewidth": 0,
              "ticks": ""
             }
            },
            "marker": {
             "colorbar": {
              "outlinewidth": 0,
              "ticks": ""
             }
            },
            "type": "scatter3d"
           }
          ],
          "scattercarpet": [
           {
            "marker": {
             "colorbar": {
              "outlinewidth": 0,
              "ticks": ""
             }
            },
            "type": "scattercarpet"
           }
          ],
          "scattergeo": [
           {
            "marker": {
             "colorbar": {
              "outlinewidth": 0,
              "ticks": ""
             }
            },
            "type": "scattergeo"
           }
          ],
          "scattergl": [
           {
            "marker": {
             "colorbar": {
              "outlinewidth": 0,
              "ticks": ""
             }
            },
            "type": "scattergl"
           }
          ],
          "scattermapbox": [
           {
            "marker": {
             "colorbar": {
              "outlinewidth": 0,
              "ticks": ""
             }
            },
            "type": "scattermapbox"
           }
          ],
          "scatterpolar": [
           {
            "marker": {
             "colorbar": {
              "outlinewidth": 0,
              "ticks": ""
             }
            },
            "type": "scatterpolar"
           }
          ],
          "scatterpolargl": [
           {
            "marker": {
             "colorbar": {
              "outlinewidth": 0,
              "ticks": ""
             }
            },
            "type": "scatterpolargl"
           }
          ],
          "scatterternary": [
           {
            "marker": {
             "colorbar": {
              "outlinewidth": 0,
              "ticks": ""
             }
            },
            "type": "scatterternary"
           }
          ],
          "surface": [
           {
            "colorbar": {
             "outlinewidth": 0,
             "ticks": ""
            },
            "colorscale": [
             [
              0,
              "#0d0887"
             ],
             [
              0.1111111111111111,
              "#46039f"
             ],
             [
              0.2222222222222222,
              "#7201a8"
             ],
             [
              0.3333333333333333,
              "#9c179e"
             ],
             [
              0.4444444444444444,
              "#bd3786"
             ],
             [
              0.5555555555555556,
              "#d8576b"
             ],
             [
              0.6666666666666666,
              "#ed7953"
             ],
             [
              0.7777777777777778,
              "#fb9f3a"
             ],
             [
              0.8888888888888888,
              "#fdca26"
             ],
             [
              1,
              "#f0f921"
             ]
            ],
            "type": "surface"
           }
          ],
          "table": [
           {
            "cells": {
             "fill": {
              "color": "#EBF0F8"
             },
             "line": {
              "color": "white"
             }
            },
            "header": {
             "fill": {
              "color": "#C8D4E3"
             },
             "line": {
              "color": "white"
             }
            },
            "type": "table"
           }
          ]
         },
         "layout": {
          "annotationdefaults": {
           "arrowcolor": "#2a3f5f",
           "arrowhead": 0,
           "arrowwidth": 1
          },
          "autotypenumbers": "strict",
          "coloraxis": {
           "colorbar": {
            "outlinewidth": 0,
            "ticks": ""
           }
          },
          "colorscale": {
           "diverging": [
            [
             0,
             "#8e0152"
            ],
            [
             0.1,
             "#c51b7d"
            ],
            [
             0.2,
             "#de77ae"
            ],
            [
             0.3,
             "#f1b6da"
            ],
            [
             0.4,
             "#fde0ef"
            ],
            [
             0.5,
             "#f7f7f7"
            ],
            [
             0.6,
             "#e6f5d0"
            ],
            [
             0.7,
             "#b8e186"
            ],
            [
             0.8,
             "#7fbc41"
            ],
            [
             0.9,
             "#4d9221"
            ],
            [
             1,
             "#276419"
            ]
           ],
           "sequential": [
            [
             0,
             "#0d0887"
            ],
            [
             0.1111111111111111,
             "#46039f"
            ],
            [
             0.2222222222222222,
             "#7201a8"
            ],
            [
             0.3333333333333333,
             "#9c179e"
            ],
            [
             0.4444444444444444,
             "#bd3786"
            ],
            [
             0.5555555555555556,
             "#d8576b"
            ],
            [
             0.6666666666666666,
             "#ed7953"
            ],
            [
             0.7777777777777778,
             "#fb9f3a"
            ],
            [
             0.8888888888888888,
             "#fdca26"
            ],
            [
             1,
             "#f0f921"
            ]
           ],
           "sequentialminus": [
            [
             0,
             "#0d0887"
            ],
            [
             0.1111111111111111,
             "#46039f"
            ],
            [
             0.2222222222222222,
             "#7201a8"
            ],
            [
             0.3333333333333333,
             "#9c179e"
            ],
            [
             0.4444444444444444,
             "#bd3786"
            ],
            [
             0.5555555555555556,
             "#d8576b"
            ],
            [
             0.6666666666666666,
             "#ed7953"
            ],
            [
             0.7777777777777778,
             "#fb9f3a"
            ],
            [
             0.8888888888888888,
             "#fdca26"
            ],
            [
             1,
             "#f0f921"
            ]
           ]
          },
          "colorway": [
           "#636efa",
           "#EF553B",
           "#00cc96",
           "#ab63fa",
           "#FFA15A",
           "#19d3f3",
           "#FF6692",
           "#B6E880",
           "#FF97FF",
           "#FECB52"
          ],
          "font": {
           "color": "#2a3f5f"
          },
          "geo": {
           "bgcolor": "white",
           "lakecolor": "white",
           "landcolor": "#E5ECF6",
           "showlakes": true,
           "showland": true,
           "subunitcolor": "white"
          },
          "hoverlabel": {
           "align": "left"
          },
          "hovermode": "closest",
          "mapbox": {
           "style": "light"
          },
          "paper_bgcolor": "white",
          "plot_bgcolor": "#E5ECF6",
          "polar": {
           "angularaxis": {
            "gridcolor": "white",
            "linecolor": "white",
            "ticks": ""
           },
           "bgcolor": "#E5ECF6",
           "radialaxis": {
            "gridcolor": "white",
            "linecolor": "white",
            "ticks": ""
           }
          },
          "scene": {
           "xaxis": {
            "backgroundcolor": "#E5ECF6",
            "gridcolor": "white",
            "gridwidth": 2,
            "linecolor": "white",
            "showbackground": true,
            "ticks": "",
            "zerolinecolor": "white"
           },
           "yaxis": {
            "backgroundcolor": "#E5ECF6",
            "gridcolor": "white",
            "gridwidth": 2,
            "linecolor": "white",
            "showbackground": true,
            "ticks": "",
            "zerolinecolor": "white"
           },
           "zaxis": {
            "backgroundcolor": "#E5ECF6",
            "gridcolor": "white",
            "gridwidth": 2,
            "linecolor": "white",
            "showbackground": true,
            "ticks": "",
            "zerolinecolor": "white"
           }
          },
          "shapedefaults": {
           "line": {
            "color": "#2a3f5f"
           }
          },
          "ternary": {
           "aaxis": {
            "gridcolor": "white",
            "linecolor": "white",
            "ticks": ""
           },
           "baxis": {
            "gridcolor": "white",
            "linecolor": "white",
            "ticks": ""
           },
           "bgcolor": "#E5ECF6",
           "caxis": {
            "gridcolor": "white",
            "linecolor": "white",
            "ticks": ""
           }
          },
          "title": {
           "x": 0.05
          },
          "xaxis": {
           "automargin": true,
           "gridcolor": "white",
           "linecolor": "white",
           "ticks": "",
           "title": {
            "standoff": 15
           },
           "zerolinecolor": "white",
           "zerolinewidth": 2
          },
          "yaxis": {
           "automargin": true,
           "gridcolor": "white",
           "linecolor": "white",
           "ticks": "",
           "title": {
            "standoff": 15
           },
           "zerolinecolor": "white",
           "zerolinewidth": 2
          }
         }
        },
        "width": 500,
        "xaxis": {
         "autorange": false,
         "domain": [
          0,
          1
         ],
         "exponentformat": "e",
         "linecolor": "black",
         "linewidth": 1,
         "mirror": false,
         "range": [
          17.723249999999993,
          240.27675
         ],
         "showexponent": "all",
         "showline": true,
         "side": "bottom",
         "ticks": "outside",
         "title": {
          "text": "Birth"
         },
         "type": "linear",
         "zeroline": true
        },
        "yaxis": {
         "autorange": false,
         "domain": [
          0,
          1
         ],
         "exponentformat": "e",
         "linecolor": "black",
         "linewidth": 1,
         "mirror": false,
         "range": [
          23.96,
          234.04
         ],
         "scaleanchor": "x",
         "scaleratio": 1,
         "showexponent": "all",
         "showline": true,
         "side": "left",
         "ticks": "outside",
         "title": {
          "text": "Death"
         },
         "type": "linear",
         "zeroline": true
        }
       }
      },
      "image/png": "[encoded data removed]",
      "text/html": [
       "<div>                            <div id=\"33f7de97-0604-4c6b-ac41-b7c47a63ffa7\" class=\"plotly-graph-div\" style=\"height:500px; width:500px;\"></div>            <script type=\"text/javascript\">                require([\"plotly\"], function(Plotly) {                    window.PLOTLYENV=window.PLOTLYENV || {};                                    if (document.getElementById(\"33f7de97-0604-4c6b-ac41-b7c47a63ffa7\")) {                    Plotly.newPlot(                        \"33f7de97-0604-4c6b-ac41-b7c47a63ffa7\",                        [{\"hoverinfo\":\"none\",\"line\":{\"color\":\"black\",\"dash\":\"dash\",\"width\":1},\"mode\":\"lines\",\"showlegend\":false,\"x\":[23.96,234.04],\"y\":[23.96,234.04],\"type\":\"scatter\"},{\"hoverinfo\":\"text\",\"hovertext\":[\"(73.0, 128.0)\",\"(92.0, 140.0)\",\"(46.0, 91.0)\",\"(87.0, 122.0)\",\"(91.0, 125.0)\",\"(101.0, 132.0)\",\"(115.0, 145.0)\",\"(103.0, 133.0)\",\"(49.0, 77.0), multiplicity: 2\",\"(49.0, 77.0), multiplicity: 2\",\"(57.0, 82.0)\",\"(57.0, 80.0)\",\"(37.0, 57.0)\",\"(76.0, 93.0)\",\"(63.0, 80.0)\",\"(122.0, 137.0)\",\"(168.0, 183.0)\",\"(103.0, 118.0)\",\"(156.0, 170.0)\",\"(144.0, 158.0)\",\"(106.0, 119.0)\",\"(105.0, 118.0)\",\"(114.0, 127.0)\",\"(162.0, 174.0)\",\"(53.0, 65.0)\",\"(118.0, 129.0)\",\"(105.0, 116.0)\",\"(59.0, 70.0)\",\"(106.0, 117.0)\",\"(98.0, 109.0)\",\"(104.0, 115.0)\",\"(78.0, 88.0)\",\"(163.0, 173.0)\",\"(122.0, 132.0)\",\"(101.0, 110.0)\",\"(100.0, 109.0)\",\"(103.0, 112.0)\",\"(102.0, 111.0)\",\"(69.0, 78.0)\",\"(118.0, 127.0)\",\"(72.0, 81.0)\",\"(170.0, 179.0)\",\"(102.0, 110.0), multiplicity: 2\",\"(68.0, 76.0)\",\"(59.0, 67.0)\",\"(78.0, 86.0)\",\"(102.0, 110.0), multiplicity: 2\",\"(104.0, 112.0)\",\"(97.0, 104.0)\",\"(96.0, 103.0)\",\"(105.0, 112.0)\",\"(115.0, 122.0)\",\"(103.0, 110.0)\",\"(63.0, 70.0)\",\"(79.0, 86.0)\",\"(105.0, 111.0)\",\"(122.0, 128.0)\",\"(104.0, 110.0)\",\"(87.0, 93.0)\",\"(81.0, 87.0)\",\"(120.0, 126.0)\",\"(56.0, 62.0)\",\"(109.0, 115.0)\",\"(67.0, 73.0)\",\"(48.0, 54.0)\",\"(97.0, 103.0)\",\"(159.0, 165.0)\",\"(124.0, 130.0)\",\"(115.0, 120.0), multiplicity: 2\",\"(107.0, 112.0)\",\"(134.0, 139.0)\",\"(115.0, 120.0), multiplicity: 2\",\"(89.0, 94.0)\",\"(33.0, 38.0)\",\"(51.0, 56.0), multiplicity: 2\",\"(51.0, 56.0), multiplicity: 2\",\"(164.0, 169.0)\",\"(127.0, 132.0)\",\"(104.0, 109.0)\",\"(131.0, 136.0)\",\"(66.0, 71.0)\",\"(105.0, 110.0)\",\"(104.0, 108.0), multiplicity: 3\",\"(114.0, 118.0), multiplicity: 2\",\"(30.0, 34.0)\",\"(104.0, 108.0), multiplicity: 3\",\"(116.0, 120.0)\",\"(104.0, 108.0), multiplicity: 3\",\"(74.0, 78.0)\",\"(102.0, 106.0)\",\"(115.0, 119.0)\",\"(56.0, 60.0)\",\"(73.0, 77.0)\",\"(112.0, 116.0), multiplicity: 2\",\"(112.0, 116.0), multiplicity: 2\",\"(114.0, 118.0), multiplicity: 2\",\"(128.0, 132.0)\",\"(124.0, 127.0), multiplicity: 3\",\"(102.0, 105.0), multiplicity: 3\",\"(102.0, 105.0), multiplicity: 3\",\"(59.0, 62.0)\",\"(66.0, 69.0)\",\"(102.0, 105.0), multiplicity: 3\",\"(149.0, 152.0)\",\"(109.0, 112.0)\",\"(124.0, 127.0), multiplicity: 3\",\"(104.0, 107.0)\",\"(118.0, 121.0)\",\"(124.0, 127.0), multiplicity: 3\",\"(47.0, 50.0)\",\"(128.0, 131.0)\",\"(127.0, 130.0)\",\"(69.0, 72.0)\",\"(119.0, 122.0)\",\"(74.0, 77.0)\",\"(121.0, 124.0)\",\"(158.0, 160.0)\",\"(41.0, 43.0)\",\"(58.0, 60.0)\",\"(133.0, 135.0)\",\"(61.0, 63.0)\",\"(129.0, 131.0), multiplicity: 2\",\"(129.0, 131.0), multiplicity: 2\",\"(69.0, 71.0)\",\"(127.0, 129.0)\",\"(70.0, 72.0)\",\"(77.0, 79.0)\",\"(122.0, 124.0)\",\"(79.0, 81.0)\",\"(80.0, 82.0)\",\"(90.0, 92.0), multiplicity: 2\",\"(170.0, 172.0)\",\"(90.0, 92.0), multiplicity: 2\",\"(101.0, 103.0)\",\"(117.0, 119.0)\",\"(107.0, 109.0)\",\"(178.0, 180.0)\",\"(109.0, 111.0), multiplicity: 2\",\"(109.0, 111.0), multiplicity: 2\",\"(112.0, 114.0), multiplicity: 2\",\"(112.0, 114.0), multiplicity: 2\",\"(115.0, 116.0)\",\"(113.0, 114.0)\",\"(116.0, 117.0), multiplicity: 4\",\"(111.0, 112.0)\",\"(116.0, 117.0), multiplicity: 4\",\"(116.0, 117.0), multiplicity: 4\",\"(110.0, 111.0)\",\"(116.0, 117.0), multiplicity: 4\",\"(109.0, 110.0), multiplicity: 2\",\"(109.0, 110.0), multiplicity: 2\",\"(117.0, 118.0)\",\"(107.0, 108.0)\",\"(105.0, 106.0)\",\"(104.0, 105.0)\",\"(121.0, 122.0), multiplicity: 2\",\"(100.0, 101.0)\",\"(99.0, 100.0)\",\"(97.0, 98.0)\",\"(96.0, 97.0)\",\"(121.0, 122.0), multiplicity: 2\",\"(122.0, 123.0)\",\"(89.0, 90.0)\",\"(88.0, 89.0)\",\"(83.0, 84.0)\",\"(170.0, 171.0)\",\"(123.0, 124.0), multiplicity: 2\",\"(123.0, 124.0), multiplicity: 2\",\"(78.0, 79.0)\",\"(76.0, 77.0)\",\"(126.0, 127.0)\",\"(129.0, 130.0)\",\"(69.0, 70.0)\",\"(67.0, 68.0)\",\"(66.0, 67.0)\",\"(132.0, 133.0)\",\"(61.0, 62.0)\",\"(139.0, 140.0), multiplicity: 2\",\"(54.0, 55.0)\",\"(51.0, 52.0)\",\"(46.0, 47.0)\",\"(139.0, 140.0), multiplicity: 2\",\"(28.0, 29.0)\"],\"mode\":\"markers\",\"name\":\"H0\",\"x\":[73.0,92.0,46.0,87.0,91.0,101.0,115.0,103.0,49.0,49.0,57.0,57.0,37.0,76.0,63.0,122.0,168.0,103.0,156.0,144.0,106.0,105.0,114.0,162.0,53.0,118.0,105.0,59.0,106.0,98.0,104.0,78.0,163.0,122.0,101.0,100.0,103.0,102.0,69.0,118.0,72.0,170.0,102.0,68.0,59.0,78.0,102.0,104.0,97.0,96.0,105.0,115.0,103.0,63.0,79.0,105.0,122.0,104.0,87.0,81.0,120.0,56.0,109.0,67.0,48.0,97.0,159.0,124.0,115.0,107.0,134.0,115.0,89.0,33.0,51.0,51.0,164.0,127.0,104.0,131.0,66.0,105.0,104.0,114.0,30.0,104.0,116.0,104.0,74.0,102.0,115.0,56.0,73.0,112.0,112.0,114.0,128.0,124.0,102.0,102.0,59.0,66.0,102.0,149.0,109.0,124.0,104.0,118.0,124.0,47.0,128.0,127.0,69.0,119.0,74.0,121.0,158.0,41.0,58.0,133.0,61.0,129.0,129.0,69.0,127.0,70.0,77.0,122.0,79.0,80.0,90.0,170.0,90.0,101.0,117.0,107.0,178.0,109.0,109.0,112.0,112.0,115.0,113.0,116.0,111.0,116.0,116.0,110.0,116.0,109.0,109.0,117.0,107.0,105.0,104.0,121.0,100.0,99.0,97.0,96.0,121.0,122.0,89.0,88.0,83.0,170.0,123.0,123.0,78.0,76.0,126.0,129.0,69.0,67.0,66.0,132.0,61.0,139.0,54.0,51.0,46.0,139.0,28.0],\"y\":[128.0,140.0,91.0,122.0,125.0,132.0,145.0,133.0,77.0,77.0,82.0,80.0,57.0,93.0,80.0,137.0,183.0,118.0,170.0,158.0,119.0,118.0,127.0,174.0,65.0,129.0,116.0,70.0,117.0,109.0,115.0,88.0,173.0,132.0,110.0,109.0,112.0,111.0,78.0,127.0,81.0,179.0,110.0,76.0,67.0,86.0,110.0,112.0,104.0,103.0,112.0,122.0,110.0,70.0,86.0,111.0,128.0,110.0,93.0,87.0,126.0,62.0,115.0,73.0,54.0,103.0,165.0,130.0,120.0,112.0,139.0,120.0,94.0,38.0,56.0,56.0,169.0,132.0,109.0,136.0,71.0,110.0,108.0,118.0,34.0,108.0,120.0,108.0,78.0,106.0,119.0,60.0,77.0,116.0,116.0,118.0,132.0,127.0,105.0,105.0,62.0,69.0,105.0,152.0,112.0,127.0,107.0,121.0,127.0,50.0,131.0,130.0,72.0,122.0,77.0,124.0,160.0,43.0,60.0,135.0,63.0,131.0,131.0,71.0,129.0,72.0,79.0,124.0,81.0,82.0,92.0,172.0,92.0,103.0,119.0,109.0,180.0,111.0,111.0,114.0,114.0,116.0,114.0,117.0,112.0,117.0,117.0,111.0,117.0,110.0,110.0,118.0,108.0,106.0,105.0,122.0,101.0,100.0,98.0,97.0,122.0,123.0,90.0,89.0,84.0,171.0,124.0,124.0,79.0,77.0,127.0,130.0,70.0,68.0,67.0,133.0,62.0,140.0,55.0,52.0,47.0,140.0,29.0],\"type\":\"scatter\"},{\"hoverinfo\":\"text\",\"hovertext\":[\"(137.0, 210.0)\",\"(157.0, 230.0)\",\"(114.0, 171.0)\",\"(128.0, 184.0)\",\"(120.0, 173.0)\",\"(174.0, 224.0)\",\"(174.0, 223.0)\",\"(87.0, 129.0)\",\"(131.0, 172.0)\",\"(151.0, 190.0)\",\"(160.0, 199.0)\",\"(112.0, 149.0)\",\"(159.0, 194.0)\",\"(85.0, 118.0)\",\"(89.0, 122.0)\",\"(166.0, 198.0)\",\"(141.0, 173.0)\",\"(138.0, 169.0)\",\"(183.0, 214.0)\",\"(94.0, 124.0)\",\"(138.0, 168.0)\",\"(134.0, 164.0)\",\"(66.0, 96.0)\",\"(135.0, 164.0)\",\"(80.0, 109.0)\",\"(145.0, 173.0)\",\"(85.0, 113.0)\",\"(182.0, 210.0)\",\"(104.0, 130.0)\",\"(183.0, 209.0)\",\"(133.0, 158.0)\",\"(193.0, 218.0)\",\"(189.0, 214.0)\",\"(176.0, 200.0)\",\"(110.0, 133.0)\",\"(132.0, 155.0)\",\"(147.0, 169.0)\",\"(156.0, 178.0)\",\"(118.0, 140.0)\",\"(55.0, 76.0)\",\"(132.0, 153.0)\",\"(106.0, 127.0)\",\"(166.0, 186.0)\",\"(135.0, 153.0)\",\"(107.0, 125.0)\",\"(80.0, 98.0)\",\"(132.0, 150.0)\",\"(122.0, 139.0)\",\"(160.0, 177.0)\",\"(116.0, 133.0)\",\"(209.0, 225.0)\",\"(105.0, 121.0)\",\"(138.0, 154.0)\",\"(107.0, 122.0)\",\"(172.0, 187.0)\",\"(57.0, 72.0)\",\"(77.0, 92.0)\",\"(124.0, 138.0)\",\"(93.0, 107.0)\",\"(96.0, 109.0)\",\"(125.0, 138.0)\",\"(104.0, 117.0)\",\"(196.0, 209.0)\",\"(86.0, 99.0)\",\"(141.0, 153.0)\",\"(202.0, 214.0)\",\"(186.0, 198.0)\",\"(97.0, 108.0)\",\"(140.0, 151.0)\",\"(139.0, 150.0)\",\"(183.0, 193.0)\",\"(73.0, 83.0)\",\"(131.0, 141.0)\",\"(89.0, 98.0)\",\"(141.0, 150.0)\",\"(157.0, 166.0)\",\"(140.0, 149.0)\",\"(67.0, 76.0)\",\"(118.0, 127.0)\",\"(180.0, 188.0)\",\"(123.0, 131.0)\",\"(101.0, 109.0)\",\"(188.0, 196.0)\",\"(159.0, 166.0)\",\"(197.0, 204.0)\",\"(135.0, 142.0)\",\"(179.0, 186.0)\",\"(124.0, 131.0)\",\"(172.0, 179.0)\",\"(86.0, 93.0)\",\"(67.0, 74.0)\",\"(102.0, 108.0), multiplicity: 2\",\"(94.0, 100.0)\",\"(143.0, 149.0)\",\"(170.0, 176.0)\",\"(102.0, 108.0), multiplicity: 2\",\"(104.0, 110.0)\",\"(80.0, 86.0)\",\"(90.0, 96.0)\",\"(129.0, 135.0)\",\"(99.0, 105.0)\",\"(140.0, 146.0)\",\"(92.0, 97.0)\",\"(185.0, 190.0)\",\"(136.0, 141.0)\",\"(90.0, 95.0)\",\"(112.0, 117.0)\",\"(124.0, 129.0)\",\"(150.0, 155.0)\",\"(102.0, 107.0)\",\"(134.0, 139.0)\",\"(133.0, 138.0), multiplicity: 2\",\"(133.0, 138.0), multiplicity: 2\",\"(122.0, 127.0)\",\"(131.0, 136.0)\",\"(128.0, 133.0)\",\"(99.0, 104.0)\",\"(119.0, 124.0)\",\"(116.0, 121.0)\",\"(107.0, 112.0)\",\"(157.0, 161.0)\",\"(123.0, 127.0)\",\"(155.0, 159.0)\",\"(57.0, 61.0)\",\"(60.0, 64.0)\",\"(142.0, 146.0)\",\"(112.0, 116.0)\",\"(188.0, 192.0)\",\"(103.0, 107.0)\",\"(159.0, 163.0)\",\"(135.0, 139.0)\",\"(134.0, 138.0), multiplicity: 2\",\"(118.0, 122.0)\",\"(192.0, 196.0)\",\"(134.0, 138.0), multiplicity: 2\",\"(129.0, 133.0), multiplicity: 2\",\"(129.0, 133.0), multiplicity: 2\",\"(81.0, 85.0), multiplicity: 2\",\"(81.0, 85.0), multiplicity: 2\",\"(131.0, 135.0), multiplicity: 2\",\"(131.0, 135.0), multiplicity: 2\",\"(116.0, 119.0)\",\"(77.0, 80.0)\",\"(85.0, 88.0)\",\"(135.0, 138.0)\",\"(121.0, 124.0)\",\"(128.0, 131.0), multiplicity: 2\",\"(114.0, 117.0), multiplicity: 2\",\"(179.0, 182.0), multiplicity: 2\",\"(72.0, 75.0)\",\"(87.0, 90.0)\",\"(114.0, 117.0), multiplicity: 2\",\"(179.0, 182.0), multiplicity: 2\",\"(141.0, 144.0)\",\"(173.0, 176.0)\",\"(142.0, 145.0)\",\"(176.0, 179.0)\",\"(89.0, 92.0)\",\"(92.0, 95.0)\",\"(187.0, 190.0)\",\"(111.0, 114.0)\",\"(102.0, 105.0), multiplicity: 2\",\"(147.0, 150.0)\",\"(102.0, 105.0), multiplicity: 2\",\"(128.0, 131.0), multiplicity: 2\",\"(112.0, 114.0)\",\"(91.0, 93.0)\",\"(83.0, 85.0)\",\"(84.0, 86.0)\",\"(120.0, 122.0)\",\"(105.0, 107.0)\",\"(122.0, 124.0)\",\"(109.0, 111.0)\",\"(130.0, 132.0)\",\"(76.0, 78.0)\",\"(118.0, 120.0), multiplicity: 2\",\"(126.0, 128.0)\",\"(118.0, 120.0), multiplicity: 2\",\"(177.0, 179.0)\",\"(136.0, 138.0)\",\"(72.0, 74.0)\",\"(159.0, 161.0)\",\"(125.0, 127.0), multiplicity: 2\",\"(107.0, 109.0)\",\"(62.0, 64.0)\",\"(140.0, 142.0)\",\"(145.0, 147.0)\",\"(144.0, 146.0), multiplicity: 2\",\"(144.0, 146.0), multiplicity: 2\",\"(67.0, 69.0)\",\"(173.0, 175.0)\",\"(143.0, 145.0)\",\"(125.0, 127.0), multiplicity: 2\",\"(100.0, 102.0)\",\"(143.0, 144.0)\",\"(142.0, 143.0)\",\"(116.0, 117.0)\",\"(141.0, 142.0)\",\"(97.0, 98.0), multiplicity: 2\",\"(114.0, 115.0), multiplicity: 2\",\"(69.0, 70.0)\",\"(114.0, 115.0), multiplicity: 2\",\"(89.0, 90.0), multiplicity: 2\",\"(89.0, 90.0), multiplicity: 2\",\"(108.0, 109.0)\",\"(117.0, 118.0), multiplicity: 2\",\"(117.0, 118.0), multiplicity: 2\",\"(62.0, 63.0)\",\"(130.0, 131.0)\",\"(57.0, 58.0)\",\"(138.0, 139.0)\",\"(88.0, 89.0), multiplicity: 2\",\"(113.0, 114.0), multiplicity: 3\",\"(88.0, 89.0), multiplicity: 2\",\"(113.0, 114.0), multiplicity: 3\",\"(113.0, 114.0), multiplicity: 3\",\"(76.0, 77.0)\",\"(131.0, 132.0)\",\"(137.0, 138.0)\",\"(175.0, 176.0)\",\"(110.0, 111.0)\",\"(124.0, 125.0)\",\"(103.0, 104.0)\",\"(55.0, 56.0)\",\"(135.0, 136.0)\",\"(79.0, 80.0)\",\"(121.0, 122.0)\",\"(111.0, 112.0)\",\"(155.0, 156.0)\",\"(97.0, 98.0), multiplicity: 2\",\"(122.0, 123.0)\",\"(158.0, 159.0)\",\"(134.0, 135.0)\",\"(81.0, 82.0)\",\"(133.0, 134.0)\"],\"mode\":\"markers\",\"name\":\"H1\",\"x\":[137.0,157.0,114.0,128.0,120.0,174.0,174.0,87.0,131.0,151.0,160.0,112.0,159.0,85.0,89.0,166.0,141.0,138.0,183.0,94.0,138.0,134.0,66.0,135.0,80.0,145.0,85.0,182.0,104.0,183.0,133.0,193.0,189.0,176.0,110.0,132.0,147.0,156.0,118.0,55.0,132.0,106.0,166.0,135.0,107.0,80.0,132.0,122.0,160.0,116.0,209.0,105.0,138.0,107.0,172.0,57.0,77.0,124.0,93.0,96.0,125.0,104.0,196.0,86.0,141.0,202.0,186.0,97.0,140.0,139.0,183.0,73.0,131.0,89.0,141.0,157.0,140.0,67.0,118.0,180.0,123.0,101.0,188.0,159.0,197.0,135.0,179.0,124.0,172.0,86.0,67.0,102.0,94.0,143.0,170.0,102.0,104.0,80.0,90.0,129.0,99.0,140.0,92.0,185.0,136.0,90.0,112.0,124.0,150.0,102.0,134.0,133.0,133.0,122.0,131.0,128.0,99.0,119.0,116.0,107.0,157.0,123.0,155.0,57.0,60.0,142.0,112.0,188.0,103.0,159.0,135.0,134.0,118.0,192.0,134.0,129.0,129.0,81.0,81.0,131.0,131.0,116.0,77.0,85.0,135.0,121.0,128.0,114.0,179.0,72.0,87.0,114.0,179.0,141.0,173.0,142.0,176.0,89.0,92.0,187.0,111.0,102.0,147.0,102.0,128.0,112.0,91.0,83.0,84.0,120.0,105.0,122.0,109.0,130.0,76.0,118.0,126.0,118.0,177.0,136.0,72.0,159.0,125.0,107.0,62.0,140.0,145.0,144.0,144.0,67.0,173.0,143.0,125.0,100.0,143.0,142.0,116.0,141.0,97.0,114.0,69.0,114.0,89.0,89.0,108.0,117.0,117.0,62.0,130.0,57.0,138.0,88.0,113.0,88.0,113.0,113.0,76.0,131.0,137.0,175.0,110.0,124.0,103.0,55.0,135.0,79.0,121.0,111.0,155.0,97.0,122.0,158.0,134.0,81.0,133.0],\"y\":[210.0,230.0,171.0,184.0,173.0,224.0,223.0,129.0,172.0,190.0,199.0,149.0,194.0,118.0,122.0,198.0,173.0,169.0,214.0,124.0,168.0,164.0,96.0,164.0,109.0,173.0,113.0,210.0,130.0,209.0,158.0,218.0,214.0,200.0,133.0,155.0,169.0,178.0,140.0,76.0,153.0,127.0,186.0,153.0,125.0,98.0,150.0,139.0,177.0,133.0,225.0,121.0,154.0,122.0,187.0,72.0,92.0,138.0,107.0,109.0,138.0,117.0,209.0,99.0,153.0,214.0,198.0,108.0,151.0,150.0,193.0,83.0,141.0,98.0,150.0,166.0,149.0,76.0,127.0,188.0,131.0,109.0,196.0,166.0,204.0,142.0,186.0,131.0,179.0,93.0,74.0,108.0,100.0,149.0,176.0,108.0,110.0,86.0,96.0,135.0,105.0,146.0,97.0,190.0,141.0,95.0,117.0,129.0,155.0,107.0,139.0,138.0,138.0,127.0,136.0,133.0,104.0,124.0,121.0,112.0,161.0,127.0,159.0,61.0,64.0,146.0,116.0,192.0,107.0,163.0,139.0,138.0,122.0,196.0,138.0,133.0,133.0,85.0,85.0,135.0,135.0,119.0,80.0,88.0,138.0,124.0,131.0,117.0,182.0,75.0,90.0,117.0,182.0,144.0,176.0,145.0,179.0,92.0,95.0,190.0,114.0,105.0,150.0,105.0,131.0,114.0,93.0,85.0,86.0,122.0,107.0,124.0,111.0,132.0,78.0,120.0,128.0,120.0,179.0,138.0,74.0,161.0,127.0,109.0,64.0,142.0,147.0,146.0,146.0,69.0,175.0,145.0,127.0,102.0,144.0,143.0,117.0,142.0,98.0,115.0,70.0,115.0,90.0,90.0,109.0,118.0,118.0,63.0,131.0,58.0,139.0,89.0,114.0,89.0,114.0,114.0,77.0,132.0,138.0,176.0,111.0,125.0,104.0,56.0,136.0,80.0,122.0,112.0,156.0,98.0,123.0,159.0,135.0,82.0,134.0],\"type\":\"scatter\"}],                        {\"template\":{\"data\":{\"histogram2dcontour\":[{\"type\":\"histogram2dcontour\",\"colorbar\":{\"outlinewidth\":0,\"ticks\":\"\"},\"colorscale\":[[0.0,\"#0d0887\"],[0.1111111111111111,\"#46039f\"],[0.2222222222222222,\"#7201a8\"],[0.3333333333333333,\"#9c179e\"],[0.4444444444444444,\"#bd3786\"],[0.5555555555555556,\"#d8576b\"],[0.6666666666666666,\"#ed7953\"],[0.7777777777777778,\"#fb9f3a\"],[0.8888888888888888,\"#fdca26\"],[1.0,\"#f0f921\"]]}],\"choropleth\":[{\"type\":\"choropleth\",\"colorbar\":{\"outlinewidth\":0,\"ticks\":\"\"}}],\"histogram2d\":[{\"type\":\"histogram2d\",\"colorbar\":{\"outlinewidth\":0,\"ticks\":\"\"},\"colorscale\":[[0.0,\"#0d0887\"],[0.1111111111111111,\"#46039f\"],[0.2222222222222222,\"#7201a8\"],[0.3333333333333333,\"#9c179e\"],[0.4444444444444444,\"#bd3786\"],[0.5555555555555556,\"#d8576b\"],[0.6666666666666666,\"#ed7953\"],[0.7777777777777778,\"#fb9f3a\"],[0.8888888888888888,\"#fdca26\"],[1.0,\"#f0f921\"]]}],\"heatmap\":[{\"type\":\"heatmap\",\"colorbar\":{\"outlinewidth\":0,\"ticks\":\"\"},\"colorscale\":[[0.0,\"#0d0887\"],[0.1111111111111111,\"#46039f\"],[0.2222222222222222,\"#7201a8\"],[0.3333333333333333,\"#9c179e\"],[0.4444444444444444,\"#bd3786\"],[0.5555555555555556,\"#d8576b\"],[0.6666666666666666,\"#ed7953\"],[0.7777777777777778,\"#fb9f3a\"],[0.8888888888888888,\"#fdca26\"],[1.0,\"#f0f921\"]]}],\"heatmapgl\":[{\"type\":\"heatmapgl\",\"colorbar\":{\"outlinewidth\":0,\"ticks\":\"\"},\"colorscale\":[[0.0,\"#0d0887\"],[0.1111111111111111,\"#46039f\"],[0.2222222222222222,\"#7201a8\"],[0.3333333333333333,\"#9c179e\"],[0.4444444444444444,\"#bd3786\"],[0.5555555555555556,\"#d8576b\"],[0.6666666666666666,\"#ed7953\"],[0.7777777777777778,\"#fb9f3a\"],[0.8888888888888888,\"#fdca26\"],[1.0,\"#f0f921\"]]}],\"contourcarpet\":[{\"type\":\"contourcarpet\",\"colorbar\":{\"outlinewidth\":0,\"ticks\":\"\"}}],\"contour\":[{\"type\":\"contour\",\"colorbar\":{\"outlinewidth\":0,\"ticks\":\"\"},\"colorscale\":[[0.0,\"#0d0887\"],[0.1111111111111111,\"#46039f\"],[0.2222222222222222,\"#7201a8\"],[0.3333333333333333,\"#9c179e\"],[0.4444444444444444,\"#bd3786\"],[0.5555555555555556,\"#d8576b\"],[0.6666666666666666,\"#ed7953\"],[0.7777777777777778,\"#fb9f3a\"],[0.8888888888888888,\"#fdca26\"],[1.0,\"#f0f921\"]]}],\"surface\":[{\"type\":\"surface\",\"colorbar\":{\"outlinewidth\":0,\"ticks\":\"\"},\"colorscale\":[[0.0,\"#0d0887\"],[0.1111111111111111,\"#46039f\"],[0.2222222222222222,\"#7201a8\"],[0.3333333333333333,\"#9c179e\"],[0.4444444444444444,\"#bd3786\"],[0.5555555555555556,\"#d8576b\"],[0.6666666666666666,\"#ed7953\"],[0.7777777777777778,\"#fb9f3a\"],[0.8888888888888888,\"#fdca26\"],[1.0,\"#f0f921\"]]}],\"mesh3d\":[{\"type\":\"mesh3d\",\"colorbar\":{\"outlinewidth\":0,\"ticks\":\"\"}}],\"scatter\":[{\"fillpattern\":{\"fillmode\":\"overlay\",\"size\":10,\"solidity\":0.2},\"type\":\"scatter\"}],\"parcoords\":[{\"type\":\"parcoords\",\"line\":{\"colorbar\":{\"outlinewidth\":0,\"ticks\":\"\"}}}],\"scatterpolargl\":[{\"type\":\"scatterpolargl\",\"marker\":{\"colorbar\":{\"outlinewidth\":0,\"ticks\":\"\"}}}],\"bar\":[{\"error_x\":{\"color\":\"#2a3f5f\"},\"error_y\":{\"color\":\"#2a3f5f\"},\"marker\":{\"line\":{\"color\":\"#E5ECF6\",\"width\":0.5},\"pattern\":{\"fillmode\":\"overlay\",\"size\":10,\"solidity\":0.2}},\"type\":\"bar\"}],\"scattergeo\":[{\"type\":\"scattergeo\",\"marker\":{\"colorbar\":{\"outlinewidth\":0,\"ticks\":\"\"}}}],\"scatterpolar\":[{\"type\":\"scatterpolar\",\"marker\":{\"colorbar\":{\"outlinewidth\":0,\"ticks\":\"\"}}}],\"histogram\":[{\"marker\":{\"pattern\":{\"fillmode\":\"overlay\",\"size\":10,\"solidity\":0.2}},\"type\":\"histogram\"}],\"scattergl\":[{\"type\":\"scattergl\",\"marker\":{\"colorbar\":{\"outlinewidth\":0,\"ticks\":\"\"}}}],\"scatter3d\":[{\"type\":\"scatter3d\",\"line\":{\"colorbar\":{\"outlinewidth\":0,\"ticks\":\"\"}},\"marker\":{\"colorbar\":{\"outlinewidth\":0,\"ticks\":\"\"}}}],\"scattermapbox\":[{\"type\":\"scattermapbox\",\"marker\":{\"colorbar\":{\"outlinewidth\":0,\"ticks\":\"\"}}}],\"scatterternary\":[{\"type\":\"scatterternary\",\"marker\":{\"colorbar\":{\"outlinewidth\":0,\"ticks\":\"\"}}}],\"scattercarpet\":[{\"type\":\"scattercarpet\",\"marker\":{\"colorbar\":{\"outlinewidth\":0,\"ticks\":\"\"}}}],\"carpet\":[{\"aaxis\":{\"endlinecolor\":\"#2a3f5f\",\"gridcolor\":\"white\",\"linecolor\":\"white\",\"minorgridcolor\":\"white\",\"startlinecolor\":\"#2a3f5f\"},\"baxis\":{\"endlinecolor\":\"#2a3f5f\",\"gridcolor\":\"white\",\"linecolor\":\"white\",\"minorgridcolor\":\"white\",\"startlinecolor\":\"#2a3f5f\"},\"type\":\"carpet\"}],\"table\":[{\"cells\":{\"fill\":{\"color\":\"#EBF0F8\"},\"line\":{\"color\":\"white\"}},\"header\":{\"fill\":{\"color\":\"#C8D4E3\"},\"line\":{\"color\":\"white\"}},\"type\":\"table\"}],\"barpolar\":[{\"marker\":{\"line\":{\"color\":\"#E5ECF6\",\"width\":0.5},\"pattern\":{\"fillmode\":\"overlay\",\"size\":10,\"solidity\":0.2}},\"type\":\"barpolar\"}],\"pie\":[{\"automargin\":true,\"type\":\"pie\"}]},\"layout\":{\"autotypenumbers\":\"strict\",\"colorway\":[\"#636efa\",\"#EF553B\",\"#00cc96\",\"#ab63fa\",\"#FFA15A\",\"#19d3f3\",\"#FF6692\",\"#B6E880\",\"#FF97FF\",\"#FECB52\"],\"font\":{\"color\":\"#2a3f5f\"},\"hovermode\":\"closest\",\"hoverlabel\":{\"align\":\"left\"},\"paper_bgcolor\":\"white\",\"plot_bgcolor\":\"#E5ECF6\",\"polar\":{\"bgcolor\":\"#E5ECF6\",\"angularaxis\":{\"gridcolor\":\"white\",\"linecolor\":\"white\",\"ticks\":\"\"},\"radialaxis\":{\"gridcolor\":\"white\",\"linecolor\":\"white\",\"ticks\":\"\"}},\"ternary\":{\"bgcolor\":\"#E5ECF6\",\"aaxis\":{\"gridcolor\":\"white\",\"linecolor\":\"white\",\"ticks\":\"\"},\"baxis\":{\"gridcolor\":\"white\",\"linecolor\":\"white\",\"ticks\":\"\"},\"caxis\":{\"gridcolor\":\"white\",\"linecolor\":\"white\",\"ticks\":\"\"}},\"coloraxis\":{\"colorbar\":{\"outlinewidth\":0,\"ticks\":\"\"}},\"colorscale\":{\"sequential\":[[0.0,\"#0d0887\"],[0.1111111111111111,\"#46039f\"],[0.2222222222222222,\"#7201a8\"],[0.3333333333333333,\"#9c179e\"],[0.4444444444444444,\"#bd3786\"],[0.5555555555555556,\"#d8576b\"],[0.6666666666666666,\"#ed7953\"],[0.7777777777777778,\"#fb9f3a\"],[0.8888888888888888,\"#fdca26\"],[1.0,\"#f0f921\"]],\"sequentialminus\":[[0.0,\"#0d0887\"],[0.1111111111111111,\"#46039f\"],[0.2222222222222222,\"#7201a8\"],[0.3333333333333333,\"#9c179e\"],[0.4444444444444444,\"#bd3786\"],[0.5555555555555556,\"#d8576b\"],[0.6666666666666666,\"#ed7953\"],[0.7777777777777778,\"#fb9f3a\"],[0.8888888888888888,\"#fdca26\"],[1.0,\"#f0f921\"]],\"diverging\":[[0,\"#8e0152\"],[0.1,\"#c51b7d\"],[0.2,\"#de77ae\"],[0.3,\"#f1b6da\"],[0.4,\"#fde0ef\"],[0.5,\"#f7f7f7\"],[0.6,\"#e6f5d0\"],[0.7,\"#b8e186\"],[0.8,\"#7fbc41\"],[0.9,\"#4d9221\"],[1,\"#276419\"]]},\"xaxis\":{\"gridcolor\":\"white\",\"linecolor\":\"white\",\"ticks\":\"\",\"title\":{\"standoff\":15},\"zerolinecolor\":\"white\",\"automargin\":true,\"zerolinewidth\":2},\"yaxis\":{\"gridcolor\":\"white\",\"linecolor\":\"white\",\"ticks\":\"\",\"title\":{\"standoff\":15},\"zerolinecolor\":\"white\",\"automargin\":true,\"zerolinewidth\":2},\"scene\":{\"xaxis\":{\"backgroundcolor\":\"#E5ECF6\",\"gridcolor\":\"white\",\"linecolor\":\"white\",\"showbackground\":true,\"ticks\":\"\",\"zerolinecolor\":\"white\",\"gridwidth\":2},\"yaxis\":{\"backgroundcolor\":\"#E5ECF6\",\"gridcolor\":\"white\",\"linecolor\":\"white\",\"showbackground\":true,\"ticks\":\"\",\"zerolinecolor\":\"white\",\"gridwidth\":2},\"zaxis\":{\"backgroundcolor\":\"#E5ECF6\",\"gridcolor\":\"white\",\"linecolor\":\"white\",\"showbackground\":true,\"ticks\":\"\",\"zerolinecolor\":\"white\",\"gridwidth\":2}},\"shapedefaults\":{\"line\":{\"color\":\"#2a3f5f\"}},\"annotationdefaults\":{\"arrowcolor\":\"#2a3f5f\",\"arrowhead\":0,\"arrowwidth\":1},\"geo\":{\"bgcolor\":\"white\",\"landcolor\":\"#E5ECF6\",\"subunitcolor\":\"white\",\"showland\":true,\"showlakes\":true,\"lakecolor\":\"white\"},\"title\":{\"x\":0.05},\"mapbox\":{\"style\":\"light\"}}},\"xaxis\":{\"title\":{\"text\":\"Birth\"},\"side\":\"bottom\",\"type\":\"linear\",\"range\":[23.96,234.04],\"autorange\":false,\"ticks\":\"outside\",\"showline\":true,\"zeroline\":true,\"linewidth\":1,\"linecolor\":\"black\",\"mirror\":false,\"showexponent\":\"all\",\"exponentformat\":\"e\"},\"yaxis\":{\"title\":{\"text\":\"Death\"},\"side\":\"left\",\"type\":\"linear\",\"range\":[23.96,234.04],\"autorange\":false,\"scaleanchor\":\"x\",\"scaleratio\":1,\"ticks\":\"outside\",\"showline\":true,\"zeroline\":true,\"linewidth\":1,\"linecolor\":\"black\",\"mirror\":false,\"showexponent\":\"all\",\"exponentformat\":\"e\"},\"width\":500,\"height\":500,\"plot_bgcolor\":\"white\"},                        {\"responsive\": true}                    ).then(function(){\n",
       "                            \n",
       "var gd = document.getElementById('33f7de97-0604-4c6b-ac41-b7c47a63ffa7');\n",
       "var x = new MutationObserver(function (mutations, observer) {{\n",
       "        var display = window.getComputedStyle(gd).display;\n",
       "        if (!display || display === 'none') {{\n",
       "            console.log([gd, 'removed!']);\n",
       "            Plotly.purge(gd);\n",
       "            observer.disconnect();\n",
       "        }}\n",
       "}});\n",
       "\n",
       "// Listen for the removal of the full notebook cells\n",
       "var notebookContainer = gd.closest('#notebook-container');\n",
       "if (notebookContainer) {{\n",
       "    x.observe(notebookContainer, {childList: true});\n",
       "}}\n",
       "\n",
       "// Listen for the clearing of the current output cell\n",
       "var outputEl = gd.closest('.output');\n",
       "if (outputEl) {{\n",
       "    x.observe(outputEl, {childList: true});\n",
       "}}\n",
       "\n",
       "                        })                };                });            </script>        </div>"
      ]
     },
     "metadata": {},
     "output_type": "display_data"
    }
   ],
   "source": [
    "fig1 = plot_diagram(diagram0_train[0]) \n",
    "fig1.show()\n",
    "\n",
    "fig2 = plot_diagram(diagram1_train[0])\n",
    "fig2.show()\n",
    "\n",
    "fig3 = plot_diagram(diagrams_train[0])\n",
    "fig3.show()\n",
    "\n",
    "fig4 = plot_diagram(diagram_sample[0])\n",
    "fig4.show()"
   ]
  },
  {
   "cell_type": "code",
   "execution_count": 120,
   "id": "970a4298-0116-44f0-8089-f785d7c876c2",
   "metadata": {},
   "outputs": [
    {
     "name": "stdout",
     "output_type": "stream",
     "text": [
      "(436, 1, 50)\n",
      "(436, 1, 50)\n",
      "(436, 2, 50)\n",
      "(1, 2, 50)\n",
      "(110, 2, 50)\n"
     ]
    }
   ],
   "source": [
    "bc = BettiCurve(n_bins = 50)\n",
    "\n",
    "betti0_curves = bc.fit_transform(diagram0_train)\n",
    "betti1_curves = bc.fit_transform(diagram1_train)\n",
    "print(betti0_curves.shape)  \n",
    "print(betti1_curves.shape) \n",
    "\n",
    "betti_curves = bc.fit_transform(diagrams_train)\n",
    "print(betti_curves.shape)\n",
    "\n",
    "betti_curve_sample = bc.fit_transform(diagram_sample)\n",
    "print(betti_curve_sample.shape)\n",
    "\n",
    "betti_curve_test =bc.fit_transform(diagrams_test)\n",
    "print(betti_curve_test.shape)\n",
    "\n",
    "#betti_curve_val = bc.fit_transform(diagrams_val)\n",
    "#print(betti_curve_val.shape)"
   ]
  },
  {
   "cell_type": "code",
   "execution_count": 121,
   "id": "cd7306ea-4766-49d4-b7b0-43bc56f3bb2a",
   "metadata": {},
   "outputs": [
    {
     "data": {
      "image/png": "[encoded data removed]",
      "text/plain": [
       "<Figure size 600x400 with 1 Axes>"
      ]
     },
     "metadata": {},
     "output_type": "display_data"
    },
    {
     "data": {
      "image/png": "[encoded data removed]",
      "text/plain": [
       "<Figure size 600x400 with 1 Axes>"
      ]
     },
     "metadata": {},
     "output_type": "display_data"
    },
    {
     "data": {
      "image/png": "[encoded data removed]",
      "text/plain": [
       "<Figure size 600x400 with 1 Axes>"
      ]
     },
     "metadata": {},
     "output_type": "display_data"
    }
   ],
   "source": [
    "betti0 = betti0_curves[0, 0, :]   # first sample, H0 dimension\n",
    "betti1 = betti_curves[0, 1, :]\n",
    "betti0_sample = betti_curve_sample[0, 0, :]\n",
    "\n",
    "plt.figure(figsize=(6,4))\n",
    "plt.plot(np.linspace(0, 255, len(betti0)), betti0, label=\"Betti-0 curve\")\n",
    "plt.xlabel(\"Filtration value (pixel intensity)\")\n",
    "plt.ylabel(\"Betti-0\")\n",
    "plt.title(\"Betti-0 Curve of Sample\")\n",
    "plt.legend()\n",
    "plt.show()\n",
    "\n",
    "plt.figure(figsize=(6,4))\n",
    "plt.plot(np.linspace(0, 255, len(betti1)), betti1, label=\"Betti-1 curves\")\n",
    "plt.xlabel(\"Filtration value (pixel intensity)\")\n",
    "plt.ylabel(\"Betti\")\n",
    "plt.title(\"Betti Curves of Sample\")\n",
    "plt.legend()\n",
    "plt.show()\n",
    "\n",
    "plt.figure(figsize=(6,4))\n",
    "plt.plot(np.linspace(0, 255, len(betti0_sample)), betti0_sample, label=\"Betti curves\")\n",
    "plt.xlabel(\"Filtration value (pixel intensity)\")\n",
    "plt.ylabel(\"Betti\")\n",
    "plt.title(\"Betti-0 Curve of Sample\")\n",
    "plt.legend()\n",
    "plt.show()"
   ]
  },
  {
   "cell_type": "code",
   "execution_count": 122,
   "id": "8e13f487-f202-4014-bfde-f69ec6749de9",
   "metadata": {},
   "outputs": [
    {
     "name": "stderr",
     "output_type": "stream",
     "text": [
      "python(181) MallocStackLogging: can't turn off malloc stack logging because it was not enabled.\n",
      "python(182) MallocStackLogging: can't turn off malloc stack logging because it was not enabled.\n",
      "python(183) MallocStackLogging: can't turn off malloc stack logging because it was not enabled.\n",
      "python(184) MallocStackLogging: can't turn off malloc stack logging because it was not enabled.\n",
      "python(185) MallocStackLogging: can't turn off malloc stack logging because it was not enabled.\n",
      "python(186) MallocStackLogging: can't turn off malloc stack logging because it was not enabled.\n",
      "python(187) MallocStackLogging: can't turn off malloc stack logging because it was not enabled.\n",
      "python(188) MallocStackLogging: can't turn off malloc stack logging because it was not enabled.\n"
     ]
    },
    {
     "name": "stdout",
     "output_type": "stream",
     "text": [
      "PI feature shape: (436, 2, 20, 20)\n",
      "PI feature shape: (110, 2, 20, 20)\n",
      "Flattened Train shape: (436, 800)\n",
      "Flattened Test shape: (110, 800)\n",
      "Shape of one sample: (2, 20, 20)\n"
     ]
    },
    {
     "data": {
      "image/png": "[encoded data removed]",
      "text/plain": [
       "<Figure size 640x480 with 2 Axes>"
      ]
     },
     "metadata": {},
     "output_type": "display_data"
    },
    {
     "data": {
      "image/png": "[encoded data removed]",
      "text/plain": [
       "<Figure size 640x480 with 2 Axes>"
      ]
     },
     "metadata": {},
     "output_type": "display_data"
    }
   ],
   "source": [
    "# Convert diagrams into persistence images\n",
    "\n",
    "# Initialize Persistence Image Transformer\n",
    "pi = PersistenceImage(n_bins=20, sigma=0.8, n_jobs=-1) # Change sigma later  \n",
    "\n",
    "# Fit and transform PDs into PIs (returns vector for each image)\n",
    "x_train_pi = pi.fit_transform(diagrams_train)\n",
    "x_test_pi = pi.fit_transform(diagrams_test)\n",
    "\n",
    "print(\"PI feature shape:\", x_train_pi.shape) # (n_samples, hom_dim, n_bins, n_bins)\n",
    "print(\"PI feature shape:\", x_test_pi.shape)\n",
    "\n",
    "# Flatten PI images for ML integration\n",
    "x_train_flat = x_train_pi.reshape(len(x_train_pi), -1)\n",
    "x_test_flat = x_test_pi.reshape(len(x_test_pi), -1)\n",
    "\n",
    "print(\"Flattened Train shape:\", x_train_flat.shape) # (n_samples, 2*20*20)\n",
    "print(\"Flattened Test shape:\", x_test_flat.shape)\n",
    "\n",
    "# Visualize one sample (H0 and H1 PIs)\n",
    "\n",
    "pi_sample = x_train_pi[0]\n",
    "\n",
    "print(\"Shape of one sample:\", x_train_pi[0].shape) \n",
    "\n",
    "# H0\n",
    "plt.imshow(pi_sample[0], cmap=\"hot\")\n",
    "plt.colorbar()\n",
    "plt.title(\"Persistence Image - H0\")\n",
    "plt.show()\n",
    "\n",
    "# H1\n",
    "plt.imshow(pi_sample[1], cmap=\"hot\")\n",
    "plt.colorbar()\n",
    "plt.title(\"Persistence Image - H1\")\n",
    "plt.show()"
   ]
  },
  {
   "cell_type": "code",
   "execution_count": 123,
   "id": "04ac83ae-779d-4523-8ede-3f6047356c72",
   "metadata": {},
   "outputs": [
    {
     "name": "stdout",
     "output_type": "stream",
     "text": [
      "(436, 2, 50)\n",
      "(436, 1)\n",
      "(436, 64, 64)\n",
      "(436,)\n",
      "(110,)\n"
     ]
    }
   ],
   "source": [
    "print(betti_curves.shape)\n",
    "print(y_train.shape)\n",
    "\n",
    "y_train_m = y_train.ravel() # (n_samples,)\n",
    "y_test_m = y_test.ravel()\n",
    "\n",
    "\n",
    "print(X_train.shape)\n",
    "print(y_train_m.shape)\n",
    "print(y_test_m.shape)\n"
   ]
  },
  {
   "cell_type": "code",
   "execution_count": 124,
   "id": "116c6d66-e0b2-40a1-a2a4-67ddbd9907c6",
   "metadata": {},
   "outputs": [],
   "source": [
    "betti0_curves = betti_curves[:, 0, :]  # H0\n",
    "betti1_curves = betti_curves[:, 1, :]  # H1\n",
    "\n",
    "betti0_normal = betti0_curves[y_train_m==0]\n",
    "betti0_pneumonia = betti0_curves[y_train_m==1]\n",
    "betti1_normal = betti1_curves[y_train_m==0]\n",
    "betti1_pneumonia = betti1_curves[y_train_m==1]"
   ]
  },
  {
   "cell_type": "code",
   "execution_count": 125,
   "id": "9869a77e-9eae-4f3c-8c31-7f1d7c733651",
   "metadata": {},
   "outputs": [
    {
     "data": {
      "image/png": "[encoded data removed]",
      "text/plain": [
       "<Figure size 800x500 with 1 Axes>"
      ]
     },
     "metadata": {},
     "output_type": "display_data"
    }
   ],
   "source": [
    "# Function to compute median and 40% confidence band\n",
    "def median_and_band(curves, lower=20, upper=60):  # 40% band\n",
    "    median = np.median(curves, axis=0)\n",
    "    lb = np.percentile(curves, lower, axis=0)\n",
    "    ub = np.percentile(curves, upper, axis=0)\n",
    "    return median, lb, ub\n",
    "\n",
    "# Compute median + 40% band for each class (H0 only)\n",
    "median0_n, lb0_n, ub0_n = median_and_band(betti0_normal)\n",
    "median0_p, lb0_p, ub0_p = median_and_band(betti0_pneumonia)\n",
    "\n",
    "bins = np.linspace(0, 1, betti0_normal.shape[1])  # Filtration axis\n",
    "\n",
    "plt.figure(figsize=(8,5))\n",
    "\n",
    "# Plot Normal\n",
    "plt.plot(bins, median0_n, color=\"blue\", label=\"Median - Normal\")\n",
    "plt.fill_between(bins, lb0_n, ub0_n, color=\"blue\", alpha=0.2, label=\"40% CI - Normal\")\n",
    "\n",
    "# Plot Pneumonia\n",
    "plt.plot(bins, median0_p, color=\"red\", label=\"Median - Pneumonia\")\n",
    "plt.fill_between(bins, lb0_p, ub0_p, color=\"red\", alpha=0.2, label=\"40% CI - Pneumonia\")\n",
    "\n",
    "plt.xlabel(\"Filtration value\")\n",
    "plt.ylabel(\"Betti-0\")\n",
    "plt.title(\"Median Betti-0 Curves with 40% Confidence Bands\")\n",
    "plt.legend(loc=\"upper right\")\n",
    "plt.show()"
   ]
  },
  {
   "cell_type": "code",
   "execution_count": 126,
   "id": "d70b0b4b-43e1-4e6c-b154-ee540df1e0c1",
   "metadata": {},
   "outputs": [],
   "source": [
    "#### Training Classification Models #####"
   ]
  },
  {
   "cell_type": "code",
   "execution_count": 127,
   "id": "e4c660f6-c253-495d-b49b-a2c7549514cd",
   "metadata": {},
   "outputs": [
    {
     "name": "stdout",
     "output_type": "stream",
     "text": [
      "Flattened train shape: (436, 100)\n",
      "Flattened test shape: (110, 100)\n",
      "Flattened train label shape: (436,)\n",
      "Flattened test label shape: (110,)\n",
      "Test: (110, 100) (110,)\n",
      "Train: (436, 100) (436,)\n"
     ]
    }
   ],
   "source": [
    "# Initializers\n",
    "\n",
    "y_train_m = y_train.ravel() # (n_samples,)\n",
    "y_test_m = y_test.ravel()\n",
    "\n",
    "\n",
    "X_train_vec = betti_curves.reshape(betti_curves.shape[0], -1)\n",
    "X_test_vec = betti_curve_test.reshape(betti_curve_test.shape[0], -1)\n",
    "print(\"Flattened train shape:\", X_train_vec.shape)\n",
    "print(\"Flattened test shape:\", X_test_vec.shape)\n",
    "print(\"Flattened train label shape:\", y_train_m.shape)\n",
    "print(\"Flattened test label shape:\", y_test_m.shape)\n",
    "\n",
    "\n",
    "print(\"Test:\", X_test_vec.shape, y_test_m.shape)\n",
    "\n",
    "print(\"Train:\", X_train_vec.shape, y_train_m.shape)"
   ]
  },
  {
   "cell_type": "code",
   "execution_count": 128,
   "id": "e80482e0-214c-4167-a35b-a3a62b1bdb20",
   "metadata": {},
   "outputs": [
    {
     "name": "stdout",
     "output_type": "stream",
     "text": [
      "[0]\tvalidation_0-logloss:0.58402\n",
      "[10]\tvalidation_0-logloss:0.46105\n",
      "[20]\tvalidation_0-logloss:0.44465\n",
      "[30]\tvalidation_0-logloss:0.44289\n",
      "[40]\tvalidation_0-logloss:0.44866\n",
      "[50]\tvalidation_0-logloss:0.45194\n",
      "[51]\tvalidation_0-logloss:0.45411\n",
      "XGBoost Accuracy: 0.8181818181818182\n",
      "              precision    recall  f1-score   support\n",
      "\n",
      "           0       1.00      0.33      0.50        30\n",
      "           1       0.80      1.00      0.89        80\n",
      "\n",
      "    accuracy                           0.82       110\n",
      "   macro avg       0.90      0.67      0.69       110\n",
      "weighted avg       0.85      0.82      0.78       110\n",
      "\n",
      "XGBoost ROC AUC: 0.8425\n"
     ]
    },
    {
     "data": {
      "image/png": "[encoded data removed]",
      "text/plain": [
       "<Figure size 640x480 with 2 Axes>"
      ]
     },
     "metadata": {},
     "output_type": "display_data"
    }
   ],
   "source": [
    "# Train XGBoost model on BreastMNIST dataset to predict pneumonia with the original Betti feature vector (100-dim)\n",
    "\n",
    "xgb_model = XGBClassifier(\n",
    "    n_estimators=300,        # number of trees (boosting rounds)\n",
    "    learning_rate=0.1,       # step size shrinkage\n",
    "    max_depth=5,             # maximum depth of trees\n",
    "    subsample=0.8,           # fraction of training samples used per tree\n",
    "    colsample_bytree=0.8,    # fraction of features used per tree\n",
    "    random_state=42,\n",
    "    use_label_encoder=False,\n",
    "    early_stopping_rounds=20,\n",
    "    eval_metric=\"logloss\"\n",
    ")\n",
    "\n",
    "# Fit model \n",
    "xgb_model.fit(X_train_vec, y_train_m, eval_set=[(X_test_vec, y_test_m)], verbose=10)\n",
    "\n",
    "# Predict\n",
    "y_train_pred = xgb_model.predict(X_train_vec)\n",
    "y_train_proba = xgb_model.predict_proba(X_train_vec)[:, 1] \n",
    "\n",
    "y_pred_xgb = xgb_model.predict(X_test_vec)\n",
    "y_proba_xgb = xgb_model.predict_proba(X_test_vec)[:, 1]\n",
    "\n",
    "# Evaluate\n",
    "print(\"XGBoost Accuracy:\", accuracy_score(y_test_m, y_pred_xgb))\n",
    "print(classification_report(y_test_m, y_pred_xgb))\n",
    "print(\"XGBoost ROC AUC:\", roc_auc_score(y_test_m, y_proba_xgb))\n",
    "\n",
    "# Confusion Matrix\n",
    "ConfusionMatrixDisplay.from_predictions(y_test_m, y_pred_xgb)\n",
    "plt.show()"
   ]
  },
  {
   "cell_type": "code",
   "execution_count": 129,
   "id": "df850d03-796f-4a8b-a752-9bb4bd8097d2",
   "metadata": {},
   "outputs": [],
   "source": [
    "## Feature Selection ##"
   ]
  },
  {
   "cell_type": "code",
   "execution_count": 130,
   "id": "bfab6296-b01a-403c-b0cc-8277706144b3",
   "metadata": {},
   "outputs": [],
   "source": [
    "# XGBoost Feature Importance \n",
    "\n",
    "selector = SelectFromModel(xgb_model, prefit=True)\n",
    "X_vec_selected = selector.transform(X_train_vec)\n",
    "X_test_vec_selected = selector.transform(X_test_vec)"
   ]
  },
  {
   "cell_type": "code",
   "execution_count": 131,
   "id": "67a9c4d6-515b-4018-be76-c9b219bb1800",
   "metadata": {},
   "outputs": [
    {
     "name": "stdout",
     "output_type": "stream",
     "text": [
      "[0]\tvalidation_0-logloss:0.57009\n",
      "[10]\tvalidation_0-logloss:0.48061\n",
      "[20]\tvalidation_0-logloss:0.46163\n",
      "[30]\tvalidation_0-logloss:0.46714\n",
      "[37]\tvalidation_0-logloss:0.46125\n"
     ]
    },
    {
     "data": {
      "text/html": [
       "<style>#sk-container-id-3 {color: black;}#sk-container-id-3 pre{padding: 0;}#sk-container-id-3 div.sk-toggleable {background-color: white;}#sk-container-id-3 label.sk-toggleable__label {cursor: pointer;display: block;width: 100%;margin-bottom: 0;padding: 0.3em;box-sizing: border-box;text-align: center;}#sk-container-id-3 label.sk-toggleable__label-arrow:before {content: \"▸\";float: left;margin-right: 0.25em;color: #696969;}#sk-container-id-3 label.sk-toggleable__label-arrow:hover:before {color: black;}#sk-container-id-3 div.sk-estimator:hover label.sk-toggleable__label-arrow:before {color: black;}#sk-container-id-3 div.sk-toggleable__content {max-height: 0;max-width: 0;overflow: hidden;text-align: left;background-color: #f0f8ff;}#sk-container-id-3 div.sk-toggleable__content pre {margin: 0.2em;color: black;border-radius: 0.25em;background-color: #f0f8ff;}#sk-container-id-3 input.sk-toggleable__control:checked~div.sk-toggleable__content {max-height: 200px;max-width: 100%;overflow: auto;}#sk-container-id-3 input.sk-toggleable__control:checked~label.sk-toggleable__label-arrow:before {content: \"▾\";}#sk-container-id-3 div.sk-estimator input.sk-toggleable__control:checked~label.sk-toggleable__label {background-color: #d4ebff;}#sk-container-id-3 div.sk-label input.sk-toggleable__control:checked~label.sk-toggleable__label {background-color: #d4ebff;}#sk-container-id-3 input.sk-hidden--visually {border: 0;clip: rect(1px 1px 1px 1px);clip: rect(1px, 1px, 1px, 1px);height: 1px;margin: -1px;overflow: hidden;padding: 0;position: absolute;width: 1px;}#sk-container-id-3 div.sk-estimator {font-family: monospace;background-color: #f0f8ff;border: 1px dotted black;border-radius: 0.25em;box-sizing: border-box;margin-bottom: 0.5em;}#sk-container-id-3 div.sk-estimator:hover {background-color: #d4ebff;}#sk-container-id-3 div.sk-parallel-item::after {content: \"\";width: 100%;border-bottom: 1px solid gray;flex-grow: 1;}#sk-container-id-3 div.sk-label:hover label.sk-toggleable__label {background-color: #d4ebff;}#sk-container-id-3 div.sk-serial::before {content: \"\";position: absolute;border-left: 1px solid gray;box-sizing: border-box;top: 0;bottom: 0;left: 50%;z-index: 0;}#sk-container-id-3 div.sk-serial {display: flex;flex-direction: column;align-items: center;background-color: white;padding-right: 0.2em;padding-left: 0.2em;position: relative;}#sk-container-id-3 div.sk-item {position: relative;z-index: 1;}#sk-container-id-3 div.sk-parallel {display: flex;align-items: stretch;justify-content: center;background-color: white;position: relative;}#sk-container-id-3 div.sk-item::before, #sk-container-id-3 div.sk-parallel-item::before {content: \"\";position: absolute;border-left: 1px solid gray;box-sizing: border-box;top: 0;bottom: 0;left: 50%;z-index: -1;}#sk-container-id-3 div.sk-parallel-item {display: flex;flex-direction: column;z-index: 1;position: relative;background-color: white;}#sk-container-id-3 div.sk-parallel-item:first-child::after {align-self: flex-end;width: 50%;}#sk-container-id-3 div.sk-parallel-item:last-child::after {align-self: flex-start;width: 50%;}#sk-container-id-3 div.sk-parallel-item:only-child::after {width: 0;}#sk-container-id-3 div.sk-dashed-wrapped {border: 1px dashed gray;margin: 0 0.4em 0.5em 0.4em;box-sizing: border-box;padding-bottom: 0.4em;background-color: white;}#sk-container-id-3 div.sk-label label {font-family: monospace;font-weight: bold;display: inline-block;line-height: 1.2em;}#sk-container-id-3 div.sk-label-container {text-align: center;}#sk-container-id-3 div.sk-container {/* jupyter's `normalize.less` sets `[hidden] { display: none; }` but bootstrap.min.css set `[hidden] { display: none !important; }` so we also need the `!important` here to be able to override the default hidden behavior on the sphinx rendered scikit-learn.org. See: https://github.com/scikit-learn/scikit-learn/issues/21755 */display: inline-block !important;position: relative;}#sk-container-id-3 div.sk-text-repr-fallback {display: none;}</style><div id=\"sk-container-id-3\" class=\"sk-top-container\"><div class=\"sk-text-repr-fallback\"><pre>XGBClassifier(base_score=None, booster=None, callbacks=None,\n",
       "              colsample_bylevel=None, colsample_bynode=None,\n",
       "              colsample_bytree=0.8, device=None, early_stopping_rounds=20,\n",
       "              enable_categorical=False, eval_metric=&#x27;logloss&#x27;,\n",
       "              feature_types=None, gamma=None, grow_policy=None,\n",
       "              importance_type=None, interaction_constraints=None,\n",
       "              learning_rate=0.1, max_bin=None, max_cat_threshold=None,\n",
       "              max_cat_to_onehot=None, max_delta_step=None, max_depth=5,\n",
       "              max_leaves=None, min_child_weight=None, missing=nan,\n",
       "              monotone_constraints=None, multi_strategy=None, n_estimators=300,\n",
       "              n_jobs=None, num_parallel_tree=None, random_state=42, ...)</pre><b>In a Jupyter environment, please rerun this cell to show the HTML representation or trust the notebook. <br />On GitHub, the HTML representation is unable to render, please try loading this page with nbviewer.org.</b></div><div class=\"sk-container\" hidden><div class=\"sk-item\"><div class=\"sk-estimator sk-toggleable\"><input class=\"sk-toggleable__control sk-hidden--visually\" id=\"sk-estimator-id-3\" type=\"checkbox\" checked><label for=\"sk-estimator-id-3\" class=\"sk-toggleable__label sk-toggleable__label-arrow\">XGBClassifier</label><div class=\"sk-toggleable__content\"><pre>XGBClassifier(base_score=None, booster=None, callbacks=None,\n",
       "              colsample_bylevel=None, colsample_bynode=None,\n",
       "              colsample_bytree=0.8, device=None, early_stopping_rounds=20,\n",
       "              enable_categorical=False, eval_metric=&#x27;logloss&#x27;,\n",
       "              feature_types=None, gamma=None, grow_policy=None,\n",
       "              importance_type=None, interaction_constraints=None,\n",
       "              learning_rate=0.1, max_bin=None, max_cat_threshold=None,\n",
       "              max_cat_to_onehot=None, max_delta_step=None, max_depth=5,\n",
       "              max_leaves=None, min_child_weight=None, missing=nan,\n",
       "              monotone_constraints=None, multi_strategy=None, n_estimators=300,\n",
       "              n_jobs=None, num_parallel_tree=None, random_state=42, ...)</pre></div></div></div></div></div>"
      ],
      "text/plain": [
       "XGBClassifier(base_score=None, booster=None, callbacks=None,\n",
       "              colsample_bylevel=None, colsample_bynode=None,\n",
       "              colsample_bytree=0.8, device=None, early_stopping_rounds=20,\n",
       "              enable_categorical=False, eval_metric='logloss',\n",
       "              feature_types=None, gamma=None, grow_policy=None,\n",
       "              importance_type=None, interaction_constraints=None,\n",
       "              learning_rate=0.1, max_bin=None, max_cat_threshold=None,\n",
       "              max_cat_to_onehot=None, max_delta_step=None, max_depth=5,\n",
       "              max_leaves=None, min_child_weight=None, missing=nan,\n",
       "              monotone_constraints=None, multi_strategy=None, n_estimators=300,\n",
       "              n_jobs=None, num_parallel_tree=None, random_state=42, ...)"
      ]
     },
     "execution_count": 131,
     "metadata": {},
     "output_type": "execute_result"
    }
   ],
   "source": [
    "selected_model = XGBClassifier(\n",
    "    n_estimators=300,        # number of trees (boosting rounds)\n",
    "    learning_rate=0.1,       # step size shrinkage\n",
    "    max_depth=5,             # maximum depth of trees\n",
    "    subsample=0.8,           # fraction of training samples used per tree\n",
    "    colsample_bytree=0.8,    # fraction of features used per tree\n",
    "    random_state=42,\n",
    "    use_label_encoder=False,\n",
    "    early_stopping_rounds=20,\n",
    "    eval_metric=\"logloss\"\n",
    ")\n",
    "\n",
    "selected_model.fit(X_vec_selected, y_train_m, eval_set=[(X_test_vec_selected, y_test_m)], verbose=10)"
   ]
  },
  {
   "cell_type": "code",
   "execution_count": 132,
   "id": "61c9aa6e-4207-40f0-b6b6-9dc72fd6b85d",
   "metadata": {},
   "outputs": [
    {
     "name": "stdout",
     "output_type": "stream",
     "text": [
      "Selected XGBoost Accuracy: 0.8\n",
      "              precision    recall  f1-score   support\n",
      "\n",
      "           0       0.83      0.33      0.48        30\n",
      "           1       0.80      0.97      0.88        80\n",
      "\n",
      "    accuracy                           0.80       110\n",
      "   macro avg       0.81      0.65      0.68       110\n",
      "weighted avg       0.81      0.80      0.77       110\n",
      "\n",
      "Selected XGBoost ROC AUC: 0.8245833333333333\n"
     ]
    },
    {
     "data": {
      "image/png": "[encoded data removed]",
      "text/plain": [
       "<Figure size 640x480 with 2 Axes>"
      ]
     },
     "metadata": {},
     "output_type": "display_data"
    }
   ],
   "source": [
    "y_pred_selected = selected_model.predict(X_test_vec_selected)\n",
    "y_proba_selected = selected_model.predict_proba(X_test_vec_selected)[:, 1]\n",
    "\n",
    "print(\"Selected XGBoost Accuracy:\", accuracy_score(y_test_m, y_pred_selected))\n",
    "print(classification_report(y_test_m, y_pred_selected))\n",
    "print(\"Selected XGBoost ROC AUC:\", roc_auc_score(y_test_m, y_proba_selected))\n",
    "\n",
    "# Confusion Matrix\n",
    "ConfusionMatrixDisplay.from_predictions(y_test_m, y_pred_selected)\n",
    "plt.show()"
   ]
  },
  {
   "cell_type": "markdown",
   "id": "b4b07b9c-5288-4183-b18f-f5736b05813a",
   "metadata": {},
   "source": [
    "## 1. Feature Importance by Gain\n",
    "\n",
    "# Get importance dictionary\n",
    "importance_dict = xgb_model.get_booster().get_score(importance_type='gain')\n",
    "\n",
    "# Convert to DataFrame for better handling\n",
    "importance_df = pd.DataFrame({\n",
    "    'Feature': list(importance_dict.keys()),\n",
    "    'Gain': list(importance_dict.values())\n",
    "}).sort_values(by=\"Gain\", ascending=False)\n",
    "\n",
    "print(\"\\nTop 20 Features by Gain:\")\n",
    "print(importance_df.head(20))\n",
    "\n",
    "# --- Plotting ---\n",
    "plt.figure(figsize=(20, 6))\n",
    "xgb.plot_importance(xgb_model, importance_type='gain', max_num_features=15)\n",
    "plt.title(\"XGBoost Feature Importance (Gain)\")\n",
    "plt.show()"
   ]
  },
  {
   "cell_type": "markdown",
   "id": "945dc1e4-e282-43b4-843a-e34f7eca2e26",
   "metadata": {},
   "source": [
    "# Train XGBoost Model on the reduced data obtained by GAIN feature importance\n",
    "\n",
    "top_features = importance_df['Feature'].head(20).tolist()\n",
    "feature_names = [f\"f{i}\" for i in range(X_train_vec.shape[1])]\n",
    "\n",
    "X_train_df = pd.DataFrame(X_train_vec, columns=feature_names)\n",
    "X_test_df = pd.DataFrame(X_test_vec, columns=feature_names)\n",
    "\n",
    "\n",
    "X_train_top = X_train_df[top_features]\n",
    "X_test_top = X_test_df[top_features]\n",
    "\n",
    "\n",
    "xgb_model_reduced_g = XGBClassifier(\n",
    "    n_estimators=200,\n",
    "    max_depth=5,\n",
    "    learning_rate=0.1,\n",
    "    subsample=0.8,\n",
    "    colsample_bytree=0.8,\n",
    "    random_state=42,\n",
    "    eval_metric=\"logloss\",\n",
    "    early_stopping_rounds=20\n",
    ")\n",
    "\n",
    "# Fit model\n",
    "xgb_model_reduced_g.fit(X_train_top, y_train_m, eval_set=[(X_test_top, y_test_m)], verbose=10)\n",
    "\n",
    "# Predict\n",
    "y_train_pred = xgb_model_reduced_g.predict(X_train_top)\n",
    "y_train_proba = xgb_model_reduced_g.predict_proba(X_train_top)[:, 1] \n",
    "\n",
    "y_pred_xgb = xgb_model_reduced_g.predict(X_test_top)\n",
    "y_proba_xgb = xgb_model_reduced_g.predict_proba(X_test_top)[:, 1]\n",
    "\n",
    "# Evaluate\n",
    "\n",
    "\n",
    "print(\"GAIN-XGBoost Model Accuracy:\", accuracy_score(y_test_m, y_pred_xgb))\n",
    "\n",
    "print(classification_report(y_test_m, y_pred_xgb))\n",
    "\n",
    "print(\"GAIN-XGBoost ROC AUC:\", roc_auc_score(y_test_m, y_proba_xgb))\n",
    "\n",
    "# Confusion Matrix\n",
    "ConfusionMatrixDisplay.from_predictions(y_test_m, y_pred_xgb)\n",
    "plt.show()"
   ]
  },
  {
   "cell_type": "markdown",
   "id": "499a1698-8ffa-4d7f-b5d4-f20b0b968e1a",
   "metadata": {},
   "source": [
    "## 2. Try more feature Importance with SHAP\n",
    "\n",
    "# Create TreeExplainer\n",
    "explainer = shap.TreeExplainer(xgb_model)\n",
    "\n",
    "# Calculate SHAP values for a sample (to save time, use only test set or subset of train)\n",
    "shap_values = explainer.shap_values(X_train_vec)\n",
    "\n",
    "shap.summary_plot(shap_values, X_train_vec, plot_type=\"bar\")\n",
    "shap.summary_plot(shap_values, X_train_vec)"
   ]
  },
  {
   "cell_type": "markdown",
   "id": "7da923b3-1eea-4903-88ed-609ad5feb73a",
   "metadata": {},
   "source": [
    "feature_importances = np.abs(shap_values).mean(axis=0)\n",
    "top_features_idx = np.argsort(feature_importances)[-50:]\n",
    "\n",
    "# Reduce original dataset\n",
    "X_train_reduced = X_train_vec[:, top_features_idx]\n",
    "X_test_reduced  = X_test_vec[:, top_features_idx]\n",
    "\n",
    "# Fit model\n",
    "xgb_model_reduced_s = XGBClassifier(\n",
    "    n_estimators=300,\n",
    "    max_depth=5,\n",
    "    learning_rate=0.1,\n",
    "    subsample=0.8,\n",
    "    colsample_bytree=0.7,\n",
    "    min_child_weight=3,\n",
    "    gamma=1,\n",
    "    random_state=42,\n",
    "    use_label_encoder=False,\n",
    "    eval_metric=\"logloss\",\n",
    "    early_stopping_rounds=20\n",
    ")\n",
    "xgb_model_reduced_s.fit(X_train_reduced, y_train_m, eval_set=[(X_test_reduced, y_test_m)], verbose=10)\n",
    "\n",
    "# Predict\n",
    "y_train_pred = xgb_model_reduced_s.predict(X_train_reduced)\n",
    "y_train_proba = xgb_model_reduced_s.predict_proba(X_train_reduced)[:, 1] \n",
    "\n",
    "y_pred_xgb = xgb_model_reduced_s.predict(X_test_reduced)\n",
    "y_proba_xgb = xgb_model_reduced_s.predict_proba(X_test_reduced)[:, 1]\n",
    "\n",
    "# Evaluate\n",
    "\n",
    "\n",
    "print(\"Reduced XGBoost Model Accuracy:\", accuracy_score(y_test_m, y_pred_xgb))\n",
    "\n",
    "print(classification_report(y_test_m, y_pred_xgb))\n",
    "\n",
    "print(\"Reduced XGBoost ROC AUC:\", roc_auc_score(y_test_m, y_proba_xgb))\n",
    "\n",
    "# Confusion Matrix\n",
    "ConfusionMatrixDisplay.from_predictions(y_test_m, y_pred_xgb)\n",
    "plt.show()\n"
   ]
  },
  {
   "cell_type": "markdown",
   "id": "058b7805-0f7b-4132-b13c-5796b0ea6393",
   "metadata": {},
   "source": [
    "# Check if overfitting occurs\n",
    "\n",
    "print(\"Train Accuracy:\", accuracy_score(y_train_m, y_train_pred))\n",
    "print(\"Test Accuracy:\", accuracy_score(y_test_m, y_pred_xgb))\n",
    "print(\"Train ROC AUC:\", roc_auc_score(y_train_m, y_train_proba))\n",
    "print(\"Test ROC AUC:\", roc_auc_score(y_test_m, y_proba_xgb))"
   ]
  },
  {
   "cell_type": "code",
   "execution_count": 134,
   "id": "debd1129-02d5-4b67-a289-447bd3174e82",
   "metadata": {},
   "outputs": [
    {
     "name": "stdout",
     "output_type": "stream",
     "text": [
      "✅ Evaluation results with confusion matrix images saved to evaluation_results_with_png.xlsx\n"
     ]
    }
   ],
   "source": [
    "from openpyxl import load_workbook\n",
    "from openpyxl.drawing.image import Image as XLImage\n",
    "\n",
    "accuracy_xgb = accuracy_score(y_test_m, y_pred_xgb)\n",
    "report_xgb = classification_report(y_test_m, y_pred_xgb, output_dict=True)\n",
    "conf_matrix_xgb = confusion_matrix(y_test_m, y_pred_xgb)\n",
    "auc_macro_xgb = roc_auc_score(y_test_m, y_proba_xgb, multi_class=\"ovo\", average=\"macro\")\n",
    "auc_weighted_xgb = roc_auc_score(y_test_m, y_proba_xgb, multi_class=\"ovo\", average=\"weighted\")\n",
    "\n",
    "metrics_df_xgb = pd.DataFrame(report_xgb).transpose().round(2)\n",
    "metrics_df_xgb.loc[\"accuracy_xgb\"] = [round(accuracy_xgb,2)] + [np.nan]*(metrics_df_xgb.shape[1]-1)\n",
    "\n",
    "# --- Selected XGBoost ---\n",
    "accuracy_selected = accuracy_score(y_test_m, y_pred_selected)\n",
    "report_selected = classification_report(y_test_m, y_pred_selected, output_dict=True)\n",
    "conf_matrix_selected = confusion_matrix(y_test_m, y_pred_selected)\n",
    "auc_selected = roc_auc_score(y_test_m, y_proba_selected, multi_class=\"ovo\", average=\"macro\")\n",
    "\n",
    "metrics_df_selected = pd.DataFrame(report_selected).transpose().round(2)\n",
    "metrics_df_selected.loc[\"accuracy_selected\"] = [round(accuracy_selected,2)] + [np.nan]*(metrics_df_selected.shape[1]-1)\n",
    "# --- 1. Save confusion matrices as PNG ---\n",
    "# Original XGBoost\n",
    "fig, ax = plt.subplots(figsize=(6,5))\n",
    "ConfusionMatrixDisplay.from_predictions(y_test_m, y_pred_xgb, ax=ax)\n",
    "plt.title(\"XGBoost Confusion Matrix\")\n",
    "plt.savefig(\"conf_matrix_xgb.png\")\n",
    "plt.close(fig)\n",
    "\n",
    "# Selected XGBoost\n",
    "fig, ax = plt.subplots(figsize=(6,5))\n",
    "ConfusionMatrixDisplay.from_predictions(y_test_m, y_pred_selected, ax=ax)\n",
    "plt.title(\"Selected XGBoost Confusion Matrix\")\n",
    "plt.savefig(\"conf_matrix_selected.png\")\n",
    "plt.close(fig)\n",
    "\n",
    "# --- 2. Save metrics and AUC in Excel ---\n",
    "metrics_df_xgb = pd.DataFrame(report_xgb).transpose().round(2)\n",
    "metrics_df_xgb.loc[\"accuracy_xgb\"] = [round(accuracy_xgb,2)] + [None]*(metrics_df_xgb.shape[1]-1)\n",
    "\n",
    "metrics_df_selected = pd.DataFrame(report_selected).transpose().round(2)\n",
    "metrics_df_selected.loc[\"accuracy_selected\"] = [round(accuracy_selected,2)] + [None]*(metrics_df_selected.shape[1]-1)\n",
    "\n",
    "with pd.ExcelWriter(\"evaluation_results_with_png.xlsx\", engine=\"openpyxl\") as writer:\n",
    "    metrics_df_xgb.to_excel(writer, sheet_name=\"All_Results\", startrow=0)\n",
    "    metrics_df_selected.to_excel(writer, sheet_name=\"All_Results\", startrow=len(metrics_df_xgb)+5)\n",
    "    \n",
    "    # Save AUC values\n",
    "    pd.DataFrame({\"AUC_macro_xgb\": [round(auc_macro_xgb,2)], \"AUC_weighted_xgb\": [round(auc_weighted_xgb,2)]})\\\n",
    "        .to_excel(writer, sheet_name=\"All_Results\", startrow=len(metrics_df_xgb)+len(metrics_df_selected)+10, index=False)\n",
    "    pd.DataFrame({\"AUC_selected\": [round(auc_selected,2)]})\\\n",
    "        .to_excel(writer, sheet_name=\"All_Results\", startrow=len(metrics_df_xgb)+len(metrics_df_selected)+14, index=False)\n",
    "\n",
    "# --- 3. Insert PNG images into Excel ---\n",
    "wb = load_workbook(\"evaluation_results_with_png.xlsx\")\n",
    "ws = wb[\"All_Results\"]\n",
    "\n",
    "# Insert original XGBoost confusion matrix\n",
    "img1 = XLImage(\"conf_matrix_xgb.png\")\n",
    "img1.anchor = f\"A{len(metrics_df_xgb)+len(metrics_df_selected)+20}\"\n",
    "ws.add_image(img1)\n",
    "\n",
    "# Insert selected XGBoost confusion matrix\n",
    "img2 = XLImage(\"conf_matrix_selected.png\")\n",
    "img2.anchor = f\"A{len(metrics_df_xgb)+len(metrics_df_selected)+50}\"\n",
    "ws.add_image(img2)\n",
    "\n",
    "wb.save(\"evaluation_results_with_png.xlsx\")\n",
    "print(\"✅ Evaluation results with confusion matrix images saved to evaluation_results_with_png.xlsx\")"
   ]
  },
  {
   "cell_type": "code",
   "execution_count": null,
   "id": "de32a5e6-4484-4390-bfcf-d7dd0ec42444",
   "metadata": {},
   "outputs": [],
   "source": []
  }
 ],
 "metadata": {
  "kernelspec": {
   "display_name": "Python 3 (ipykernel)",
   "language": "python",
   "name": "python3"
  },
  "language_info": {
   "codemirror_mode": {
    "name": "ipython",
    "version": 3
   },
   "file_extension": ".py",
   "mimetype": "text/x-python",
   "name": "python",
   "nbconvert_exporter": "python",
   "pygments_lexer": "ipython3",
   "version": "3.11.7"
  }
 },
 "nbformat": 4,
 "nbformat_minor": 5
}
